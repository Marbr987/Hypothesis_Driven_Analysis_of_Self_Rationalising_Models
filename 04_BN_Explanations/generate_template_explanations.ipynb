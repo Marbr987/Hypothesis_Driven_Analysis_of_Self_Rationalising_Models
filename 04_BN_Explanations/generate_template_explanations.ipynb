{
 "cells": [
  {
   "cell_type": "code",
   "execution_count": 1,
   "outputs": [],
   "source": [
    "import pandas as pd\n",
    "import datetime\n",
    "import numpy as np\n",
    "from sklearn.neural_network import MLPClassifier\n",
    "import matplotlib.pyplot as plt\n",
    "from sklearn.metrics import confusion_matrix, f1_score, accuracy_score\n",
    "import pickle"
   ],
   "metadata": {
    "collapsed": false,
    "pycharm": {
     "name": "#%%\n"
    }
   }
  },
  {
   "cell_type": "code",
   "execution_count": 2,
   "outputs": [],
   "source": [
    "directory = 'MLP_Classifiers_480k_training_60_iter_NN_size_200_200_200_50_30_30'"
   ],
   "metadata": {
    "collapsed": false,
    "pycharm": {
     "name": "#%%\n"
    }
   }
  },
  {
   "cell_type": "code",
   "execution_count": 3,
   "outputs": [],
   "source": [
    "train1 = pd.read_csv('../Input_Data/e-SNLI/dataset/esnli_train_1.csv')\n",
    "train2 = pd.read_csv('../Input_Data/e-SNLI/dataset/esnli_train_2.csv')\n",
    "train = pd.concat([train1, train2])\n",
    "train = train[train.notnull().apply(all, axis=1)]\n",
    "dev = pd.read_csv('../Input_Data/e-SNLI/dataset/esnli_dev.csv')\n",
    "dev = dev[dev.notnull().apply(all, axis=1)]\n",
    "test = pd.read_csv('../Input_Data/e-SNLI/dataset/esnli_test.csv')\n",
    "test = test[test.notnull().apply(all, axis=1)]\n",
    "\n",
    "dev_prepared = pd.read_csv('../02_Extract_Subphrases/prepared_data/subphrase_vectors_dev.csv', sep=';')\n",
    "dev_prepared = dev_prepared.drop(columns='Unnamed: 0')\n",
    "dev = dev.set_index('pairID')\n",
    "rel_pairIDs = dev_prepared.iloc[:,0]\n",
    "y_hat = dev.loc[rel_pairIDs].gold_label\n",
    "dev_prepared = dev_prepared.iloc[:,1:].to_numpy()"
   ],
   "metadata": {
    "collapsed": false,
    "pycharm": {
     "name": "#%%\n"
    }
   }
  },
  {
   "cell_type": "code",
   "execution_count": 4,
   "outputs": [],
   "source": [
    "dev_subphrases = pd.read_csv('../02_Extract_Subphrases/prepared_data/subphrases_dev.csv', sep=',')\n",
    "dev_subphrases = dev_subphrases.set_index('pairID')\n",
    "dev_subphrases = dev_subphrases.loc[rel_pairIDs]"
   ],
   "metadata": {
    "collapsed": false,
    "pycharm": {
     "name": "#%%\n"
    }
   }
  },
  {
   "cell_type": "code",
   "execution_count": 5,
   "outputs": [
    {
     "data": {
      "text/plain": "'Two women'"
     },
     "execution_count": 5,
     "metadata": {},
     "output_type": "execute_result"
    }
   ],
   "source": [
    "dev_subphrases.iloc[0]['string_subj_s1']"
   ],
   "metadata": {
    "collapsed": false,
    "pycharm": {
     "name": "#%%\n"
    }
   }
  },
  {
   "cell_type": "code",
   "execution_count": 6,
   "outputs": [],
   "source": [
    "def evaluate_performance(preds, actual):\n",
    "    labels = ['contradiction', 'entailment', 'neutral']\n",
    "    print('Confusion Matrix')\n",
    "    print(confusion_matrix(actual, preds, labels=labels))\n",
    "    print(f'F1-Score: {f1_score(actual, preds, labels=labels, average=\"macro\")}')\n",
    "    print(f'Accuracy: {accuracy_score(actual, preds)}')"
   ],
   "metadata": {
    "collapsed": false,
    "pycharm": {
     "name": "#%%\n"
    }
   }
  },
  {
   "cell_type": "code",
   "execution_count": 7,
   "outputs": [],
   "source": [
    "def predict_y_from_z(z):\n",
    "    if len(z.shape) > 1:\n",
    "        z = pd.DataFrame(z)\n",
    "        res = z.apply(predict_y_from_z, axis=1)\n",
    "        return res.to_numpy()\n",
    "    else:\n",
    "        if all([z[i] == 'nan' or pd.isnull(z[i]) or z[i] == 'entailment' for i in range(25)]):\n",
    "            return 'entailment'\n",
    "        elif any(z == 'contradiction'):\n",
    "            return 'contradiction'\n",
    "        elif any(z == 'neutral') and all(z != 'contradiction'):\n",
    "            return 'neutral'\n",
    "        else:\n",
    "            raise ValueError(f\"z can only have values 'entailment', 'contradiction', or 'neutral' but is {z}\")"
   ],
   "metadata": {
    "collapsed": false,
    "pycharm": {
     "name": "#%%\n"
    }
   }
  },
  {
   "cell_type": "code",
   "execution_count": 8,
   "outputs": [],
   "source": [
    "clf = list()\n",
    "for i in range(25):\n",
    "    with open(\"../03_Bayesian_Network/\" + directory + \"/MLP_Classifier\" + str(i) + \".pkl\", \"rb\") as f:\n",
    "        clf += [pickle.load(f), ]"
   ],
   "metadata": {
    "collapsed": false,
    "pycharm": {
     "name": "#%%\n"
    }
   }
  },
  {
   "cell_type": "code",
   "execution_count": 9,
   "outputs": [
    {
     "name": "stdout",
     "output_type": "stream",
     "text": [
      "2023-03-09 09:49:24.762499\n",
      "Initialise column indices and 'nan' values\n"
     ]
    }
   ],
   "source": [
    "# Prepare colum indices\n",
    "indices = [[0,1500], [0,1800], [0,2100], [0,2400], [0,2700],\n",
    "           [300,1500], [300,1800], [300,2100], [300,2400], [300,2700],\n",
    "           [600,1500], [600,1800], [600,2100], [600,2400], [600,2700],\n",
    "           [900,1500], [900,1800], [900,2100], [900,2400], [900,2700],\n",
    "           [1200,1500], [1200,1800], [1200,2100], [1200,2400], [1200,2700]]\n",
    "\n",
    "# Initialise colulmn indices and \"nan\" values if information (e.g. location of sentence) is not detected\n",
    "print(datetime.datetime.now())\n",
    "print(\"Initialise column indices and 'nan' values\")\n",
    "not_nan = [None, ] * 25\n",
    "cols = [None, ] * 25\n",
    "for i in range(25):\n",
    "    cols[i] = list(range(indices[i][0], indices[i][0]+300)) + list(range(indices[i][1],indices[i][1]+300))\n",
    "    not_nan[i] = pd.Series([not x for x in pd.DataFrame(np.isnan(dev_prepared[:,cols[i]])).apply(any, axis=1)])\n",
    "not_nan = np.array(not_nan).T"
   ],
   "metadata": {
    "collapsed": false,
    "pycharm": {
     "name": "#%%\n"
    }
   }
  },
  {
   "cell_type": "code",
   "execution_count": 10,
   "outputs": [],
   "source": [
    "z = np.empty((y_hat.shape[0], 25), dtype=np.dtype('U100'))\n",
    "\n",
    "z[:,:] = np.nan\n",
    "\n",
    "for i in range(25):\n",
    "    z[not_nan[:,i], i] = clf[i].predict(dev_prepared[not_nan[:,i],:][:, cols[i]])\n",
    "\n",
    "y_hat_pred = predict_y_from_z(z)"
   ],
   "metadata": {
    "collapsed": false,
    "pycharm": {
     "name": "#%%\n"
    }
   }
  },
  {
   "cell_type": "code",
   "execution_count": 96,
   "outputs": [],
   "source": [
    "def generate_explanation(Z, subphrases):\n",
    "    y_hat_pred = predict_y_from_z(Z)\n",
    "    pairs = [['subj_s1', 'subj_s2'], ['subj_s1', 'verb_s2'], ['subj_s1', 'obj_s2'], ['subj_s1', 'loc_s2'], ['subj_s1', 'clo_s2'],\n",
    "             ['verb_s1', 'subj_s2'], ['verb_s1', 'verb_s2'], ['verb_s1', 'obj_s2'], ['verb_s1', 'loc_s2'], ['verb_s1', 'clo_s2'],\n",
    "             ['obj_s1', 'subj_s2'], ['obj_s1', 'verb_s2'], ['obj_s1', 'obj_s2'], ['obj_s1', 'loc_s2'], ['obj_s1', 'clo_s2'],\n",
    "             ['loc_s1', 'subj_s2'], ['loc_s1', 'verb_s2'], ['loc_s1', 'obj_s2'], ['loc_s1', 'loc_s2'], ['loc_s1', 'clo_s2'],\n",
    "             ['clo_s1', 'subj_s2'], ['clo_s1', 'verb_s2'], ['clo_s1', 'obj_s2'], ['clo_s1', 'loc_s2'], ['clo_s1', 'clo_s2']]\n",
    "    pairs_map = {'subj_s1': 'the subject of sentence 1',\n",
    "                 'verb_s1': 'the verb of sentence 1',\n",
    "                 'obj_s1': 'the object of sentence 1',\n",
    "                 'loc_s1': 'the location of sentence 1',\n",
    "                 'clo_s1': 'the clothing described in sentence 1',\n",
    "                 'subj_s2': 'the subject of sentence 2',\n",
    "                 'verb_s2': 'the verb of sentence 2',\n",
    "                 'obj_s2': 'the object of sentence 2',\n",
    "                 'loc_s2': 'the location of sentence 2',\n",
    "                 'clo_s2': 'the clothing described in sentence 2',}\n",
    "    reasons = list()\n",
    "    if y_hat_pred == 'neutral':\n",
    "        return 'The sentences are neutral'\n",
    "    else:\n",
    "        for i,z in enumerate(Z):\n",
    "            if z == 'contradiction':\n",
    "                if i in (0, 6, 12, 18, 24):\n",
    "                    reasons += [f'{subphrases[\"string_\" + pairs[i][0]].lower()} is not the same as {subphrases[\"string_\" + pairs[i][1]].lower()}', ]\n",
    "                else:\n",
    "                    reasons += [f'if {pairs_map[pairs[i][0]]} is {subphrases[\"string_\" + pairs[i][0]].lower()}, {pairs_map[pairs[i][1]]} cannot be {subphrases[\"string_\" + pairs[i][1]].lower()}', ]\n",
    "        if len(reasons) == 0:\n",
    "            for i,z in enumerate(Z):\n",
    "                if z == 'entailment':\n",
    "                    if i in (0, 6, 12, 18, 24):\n",
    "                        reasons += [f'{subphrases[\"string_\" + pairs[i][0]].lower()} is the same as {subphrases[\"string_\" + pairs[i][1]].lower()}', ]\n",
    "                    else:\n",
    "                        reasons += [f'if {pairs_map[pairs[i][0]]} is {subphrases[\"string_\" + pairs[i][0]].lower()}, then {pairs_map[pairs[i][1]]} has to be {subphrases[\"string_\" + pairs[i][1]].lower()}', ]\n",
    "        return \" and \".join(reasons)"
   ],
   "metadata": {
    "collapsed": false,
    "pycharm": {
     "name": "#%%\n"
    }
   }
  },
  {
   "cell_type": "code",
   "execution_count": 97,
   "outputs": [
    {
     "name": "stdout",
     "output_type": "stream",
     "text": [
      "TRUE: The sentences are neutral\n",
      "WRONG: The sentences are neutral\n",
      "WRONG: two women is the same as the men and if the subject of sentence 1 is two women, then the verb of sentence 2 has to be fighting and if the verb of sentence 1 is embracing, then the subject of sentence 2 has to be the men and embracing is the same as fighting\n",
      "TRUE: a woman is the same as a woman and if the subject of sentence 1 is a woman, then the verb of sentence 2 has to be doing and if the subject of sentence 1 is a woman, then the object of sentence 2 has to be a cartwheel and if the verb of sentence 1 is doing, then the subject of sentence 2 has to be a woman and doing is the same as doing and if the verb of sentence 1 is doing, then the object of sentence 2 has to be a cartwheel and if the object of sentence 1 is a cartwheel, then the subject of sentence 2 has to be a woman and if the object of sentence 1 is a cartwheel, then the verb of sentence 2 has to be doing and a cartwheel is the same as a cartwheel and if the location of sentence 1 is in the sand, then the subject of sentence 2 has to be a woman and if the location of sentence 1 is in the sand, then the verb of sentence 2 has to be doing and if the location of sentence 1 is in the sand, then the object of sentence 2 has to be a cartwheel and if the clothing described in sentence 1 is bikini, then the subject of sentence 2 has to be a woman and if the clothing described in sentence 1 is bikini, then the verb of sentence 2 has to be doing and if the clothing described in sentence 1 is bikini, then the object of sentence 2 has to be a cartwheel\n",
      "WRONG: The sentences are neutral\n",
      "TRUE: if the subject of sentence 1 is a woman, the location of sentence 2 cannot be on her head\n",
      "TRUE: if the verb of sentence 1 is perform, the object of sentence 2 cannot be lunch\n",
      "TRUE: two doctors is the same as doctors and if the subject of sentence 1 is two doctors, then the verb of sentence 2 has to be performing and if the subject of sentence 1 is two doctors, then the object of sentence 2 has to be surgery and if the verb of sentence 1 is perform, then the subject of sentence 2 has to be doctors and perform is the same as performing and if the verb of sentence 1 is perform, then the object of sentence 2 has to be surgery and if the object of sentence 1 is surgery on patient, then the subject of sentence 2 has to be doctors and if the object of sentence 1 is surgery on patient, then the verb of sentence 2 has to be performing and surgery on patient is the same as surgery and if the location of sentence 1 is on patient, then the subject of sentence 2 has to be doctors and if the location of sentence 1 is on patient, then the verb of sentence 2 has to be performing and if the location of sentence 1 is on patient, then the object of sentence 2 has to be surgery\n",
      "WRONG: if the subject of sentence 1 is two doctors, the location of sentence 2 cannot be on a man\n",
      "WRONG: a white dog with long hair is the same as a white dog with long hair and if the subject of sentence 1 is a white dog with long hair, then the verb of sentence 2 has to be swimming and if the verb of sentence 1 is catch, then the subject of sentence 2 has to be a white dog with long hair and catch is the same as swimming and if the object of sentence 1 is a red toy, then the subject of sentence 2 has to be a white dog with long hair and if the object of sentence 1 is a red toy, then the verb of sentence 2 has to be swimming\n",
      "TRUE: a white dog with long hair is the same as an animal and if the subject of sentence 1 is a white dog with long hair, then the verb of sentence 2 has to be catch and if the subject of sentence 1 is a white dog with long hair, then the object of sentence 2 has to be an object and if the verb of sentence 1 is catch, then the subject of sentence 2 has to be an animal and catch is the same as catch and if the verb of sentence 1 is catch, then the object of sentence 2 has to be an object and if the object of sentence 1 is a red toy, then the subject of sentence 2 has to be an animal and if the object of sentence 1 is a red toy, then the verb of sentence 2 has to be catch and a red toy is the same as an object\n",
      "WRONG: a white dog with long hair is the same as a chihuahua mix with long curly hair and if the subject of sentence 1 is a white dog with long hair, then the verb of sentence 2 has to be catch and if the subject of sentence 1 is a white dog with long hair, then the object of sentence 2 has to be a red toy bone and if the verb of sentence 1 is catch, then the subject of sentence 2 has to be a chihuahua mix with long curly hair and catch is the same as catch and if the verb of sentence 1 is catch, then the object of sentence 2 has to be a red toy bone and if the object of sentence 1 is a red toy, then the subject of sentence 2 has to be a chihuahua mix with long curly hair and if the object of sentence 1 is a red toy, then the verb of sentence 2 has to be catch and a red toy is the same as a red toy bone\n",
      "TRUE: The sentences are neutral\n",
      "TRUE: if the verb of sentence 1 is are, the object of sentence 2 cannot be a car\n",
      "TRUE: kids is the same as kids and if the subject of sentence 1 is kids, then the verb of sentence 2 has to be ride and if the subject of sentence 1 is kids, then the object of sentence 2 has to be an amusement ride and if the verb of sentence 1 is are, then the subject of sentence 2 has to be kids and are is the same as ride and if the verb of sentence 1 is are, then the object of sentence 2 has to be an amusement ride and if the location of sentence 1 is on a amusement ride, then the subject of sentence 2 has to be kids and if the location of sentence 1 is on a amusement ride, then the verb of sentence 2 has to be ride and if the location of sentence 1 is on a amusement ride, then the object of sentence 2 has to be an amusement ride\n",
      "TRUE: black shirt is not the same as black shirt\n",
      "TRUE: if the verb of sentence 1 is stumbles, the object of sentence 2 cannot be cars\n",
      "TRUE: The sentences are neutral\n",
      "TRUE: a man in is the same as the man and if the subject of sentence 1 is a man in, then the verb of sentence 2 has to be stumbles and if the subject of sentence 1 is a man in, then the location of sentence 2 has to be in rollerskates and if the verb of sentence 1 is stumbles, then the subject of sentence 2 has to be the man and stumbles is the same as stumbles and if the verb of sentence 1 is stumbles, then the location of sentence 2 has to be in rollerskates and if the location of sentence 1 is in a green jersey and rollerskates, then the subject of sentence 2 has to be the man and if the location of sentence 1 is in a green jersey and rollerskates, then the verb of sentence 2 has to be stumbles and in a green jersey and rollerskates is the same as in rollerskates\n",
      "TRUE: white t shirt is not the same as black shirt\n",
      "WRONG: white t shirt is not the same as white shirt\n",
      "TRUE: The sentences are neutral\n",
      "WRONG: The sentences are neutral\n",
      "TRUE: the two farmers is the same as two farmers and if the subject of sentence 1 is the two farmers, then the verb of sentence 2 has to be work and if the subject of sentence 1 is the two farmers, then the object of sentence 2 has to be deere equipment and if the verb of sentence 1 is working, then the subject of sentence 2 has to be two farmers and working is the same as work and if the verb of sentence 1 is working, then the object of sentence 2 has to be deere equipment and if the location of sentence 1 is on a piece of john deere equipment, then the subject of sentence 2 has to be two farmers and if the location of sentence 1 is on a piece of john deere equipment, then the verb of sentence 2 has to be work and if the location of sentence 1 is on a piece of john deere equipment, then the object of sentence 2 has to be deere equipment\n",
      "TRUE: if the verb of sentence 1 is working, the subject of sentence 2 cannot be 2 men\n",
      "TRUE: The sentences are neutral\n",
      "TRUE: if the subject of sentence 1 is a girl, the location of sentence 2 cannot be in the pool\n",
      "WRONG: if the subject of sentence 1 is a girl, the location of sentence 2 cannot be on a swing\n",
      "WRONG: a man with a shopping cart is the same as the man and if the subject of sentence 1 is a man with a shopping cart, then the verb of sentence 2 has to be trying and if the verb of sentence 1 is studying, then the subject of sentence 2 has to be the man and studying is the same as trying and if the object of sentence 1 is the shelves, then the subject of sentence 2 has to be the man and if the object of sentence 1 is the shelves, then the verb of sentence 2 has to be trying and if the location of sentence 1 is in a supermarket aisle, then the subject of sentence 2 has to be the man and if the location of sentence 1 is in a supermarket aisle, then the verb of sentence 2 has to be trying\n",
      "TRUE: if the subject of sentence 1 is a man with a shopping cart, the location of sentence 2 cannot be in a theater and if the verb of sentence 1 is studying, the object of sentence 2 cannot be a movie\n",
      "TRUE: a man with a shopping cart is the same as there and if the subject of sentence 1 is a man with a shopping cart, then the verb of sentence 2 has to be is and if the subject of sentence 1 is a man with a shopping cart, then the object of sentence 2 has to be a man inside a supermarket and if the verb of sentence 1 is studying, then the subject of sentence 2 has to be there and studying is the same as is and if the verb of sentence 1 is studying, then the object of sentence 2 has to be a man inside a supermarket and if the object of sentence 1 is the shelves, then the subject of sentence 2 has to be there and if the object of sentence 1 is the shelves, then the verb of sentence 2 has to be is and the shelves is the same as a man inside a supermarket and if the location of sentence 1 is in a supermarket aisle, then the subject of sentence 2 has to be there and if the location of sentence 1 is in a supermarket aisle, then the verb of sentence 2 has to be is and if the location of sentence 1 is in a supermarket aisle, then the object of sentence 2 has to be a man inside a supermarket\n",
      "WRONG: a person is the same as a person and if the subject of sentence 1 is a person, then the verb of sentence 2 has to be falling and if the verb of sentence 1 is rides, then the subject of sentence 2 has to be a person and rides is the same as falling and if the object of sentence 1 is his bicycle, then the subject of sentence 2 has to be a person and if the object of sentence 1 is his bicycle, then the verb of sentence 2 has to be falling and if the location of sentence 1 is in the sand, then the subject of sentence 2 has to be a person and if the location of sentence 1 is in the sand, then the verb of sentence 2 has to be falling\n",
      "TRUE: if the subject of sentence 1 is a person, the location of sentence 2 cannot be on a boat\n",
      "WRONG: if the subject of sentence 1 is a person, the location of sentence 2 cannot be on a beach\n",
      "TRUE: two black little boys is the same as children and if the subject of sentence 1 is two black little boys, then the verb of sentence 2 has to be looking and if the verb of sentence 1 is hanging, then the subject of sentence 2 has to be children and hanging is the same as looking\n",
      "TRUE: The sentences are neutral\n",
      "TRUE: if the verb of sentence 1 is hanging, the object of sentence 2 cannot be a bike\n",
      "TRUE: a group of people is the same as a group of people and if the subject of sentence 1 is a group of people, then the verb of sentence 2 has to be are and if the verb of sentence 1 is prepare, then the subject of sentence 2 has to be a group of people and prepare is the same as are and if the object of sentence 1 is hot air balloons for takeoff, then the subject of sentence 2 has to be a group of people and if the object of sentence 1 is hot air balloons for takeoff, then the verb of sentence 2 has to be are\n",
      "TRUE: if the verb of sentence 1 is prepare, the object of sentence 2 cannot be cars\n",
      "WRONG: a group of people is the same as there and if the subject of sentence 1 is a group of people, then the verb of sentence 2 has to be are and if the subject of sentence 1 is a group of people, then the object of sentence 2 has to be hot air balloons on the ground and if the subject of sentence 1 is a group of people, then the location of sentence 2 has to be on the ground and air and if the verb of sentence 1 is prepare, then the subject of sentence 2 has to be there and prepare is the same as are and if the verb of sentence 1 is prepare, then the object of sentence 2 has to be hot air balloons on the ground and if the verb of sentence 1 is prepare, then the location of sentence 2 has to be on the ground and air and if the object of sentence 1 is hot air balloons for takeoff, then the subject of sentence 2 has to be there and if the object of sentence 1 is hot air balloons for takeoff, then the verb of sentence 2 has to be are and hot air balloons for takeoff is the same as hot air balloons on the ground and if the object of sentence 1 is hot air balloons for takeoff, then the location of sentence 2 has to be on the ground and air\n"
     ]
    }
   ],
   "source": [
    "for i in range(40):\n",
    "    if y_hat[i] != y_hat_pred[i]:\n",
    "        suffix = 'WRONG: '\n",
    "    else:\n",
    "        suffix = 'TRUE: '\n",
    "    print(suffix + generate_explanation(z[i,:], dev_subphrases.iloc[i]))"
   ],
   "metadata": {
    "collapsed": false,
    "pycharm": {
     "name": "#%%\n"
    }
   }
  },
  {
   "cell_type": "code",
   "execution_count": 77,
   "outputs": [],
   "source": [
    "human_z = pd.read_csv(\"manual_z_values.csv\", sep=\";\").to_numpy()\n",
    "for i in range(human_z.shape[0]):\n",
    "    for j in range(human_z.shape[1]):\n",
    "        if human_z[i,j] == \"n\":\n",
    "            human_z[i,j] = \"neutral\"\n",
    "        elif human_z[i,j] == \"e\":\n",
    "            human_z[i,j] = \"entailment\"\n",
    "        elif human_z[i,j] == \"c\":\n",
    "            human_z[i,j] = \"contradiction\"\n",
    "\n",
    "y_hat_human_pred = predict_y_from_z(human_z)"
   ],
   "metadata": {
    "collapsed": false,
    "pycharm": {
     "name": "#%%\n"
    }
   }
  },
  {
   "cell_type": "code",
   "execution_count": 91,
   "outputs": [
    {
     "data": {
      "text/plain": "array(['neutral', 'neutral', 'neutral', 'neutral', 'neutral', 'neutral',\n       'neutral', 'neutral', 'neutral', 'neutral', 'neutral', 'neutral'],\n      dtype=object)"
     },
     "execution_count": 91,
     "metadata": {},
     "output_type": "execute_result"
    }
   ],
   "source": [
    "y_hat_human_pred[np.where(y_hat[:30] != y_hat_human_pred)]"
   ],
   "metadata": {
    "collapsed": false,
    "pycharm": {
     "name": "#%%\n"
    }
   }
  },
  {
   "cell_type": "code",
   "execution_count": 94,
   "outputs": [
    {
     "data": {
      "text/plain": "array(['entailment', 'neutral', nan, 'neutral', nan, 'neutral',\n       'entailment', nan, 'neutral', nan, nan, nan, nan, nan, nan,\n       'neutral', 'neutral', nan, 'entailment', nan, nan, nan, nan, nan,\n       nan], dtype=object)"
     },
     "execution_count": 94,
     "metadata": {},
     "output_type": "execute_result"
    }
   ],
   "source": [
    "human_z[18,:]"
   ],
   "metadata": {
    "collapsed": false,
    "pycharm": {
     "name": "#%%\n"
    }
   }
  },
  {
   "cell_type": "code",
   "execution_count": 88,
   "outputs": [
    {
     "data": {
      "text/plain": "                     Unnamed: 0              string_subj_s1 string_verb_s1  \\\npairID                                                                       \n4705552913.jpg#2r1e           1                   Two women      embracing   \n3948003394.jpg#1r1e          18                     A woman          doing   \n3948003394.jpg#1r1c          19                     A woman          doing   \n5436250638.jpg#4r1e          43                 Two doctors        perform   \n485054073.jpg#0r1e           46  A white dog with long hair          catch   \n7391785714.jpg#4r1e          50                        Kids            are   \n6291644661.jpg#2r1e          62                    A man in       stumbles   \n2447052614.jpg#0r1e          75  A man in a white t - shirt          takes   \n5777129645.jpg#2r1n          86             The two farmers        working   \n5777129645.jpg#2r1e          87             The two farmers        working   \n5777129645.jpg#2r1c          88             The two farmers        working   \n3670918456.jpg#3r1e         100                      A girl         swings   \n\n                          string_obj_s1                       string_loc_s1  \\\npairID                                                                        \n4705552913.jpg#2r1e                 NaN                                 NaN   \n3948003394.jpg#1r1e         a cartwheel                         in the sand   \n3948003394.jpg#1r1c         a cartwheel                         in the sand   \n5436250638.jpg#4r1e  surgery on patient                          on patient   \n485054073.jpg#0r1e            a red toy                                 NaN   \n7391785714.jpg#4r1e                 NaN                 on a amusement ride   \n6291644661.jpg#2r1e                 NaN  in a green jersey and rollerskates   \n2447052614.jpg#0r1e           a picture                in a white t - shirt   \n5777129645.jpg#2r1n                 NaN  on a piece of John Deere equipment   \n5777129645.jpg#2r1e                 NaN  on a piece of John Deere equipment   \n5777129645.jpg#2r1c                 NaN  on a piece of John Deere equipment   \n3670918456.jpg#3r1e                 NaN                          in the air   \n\n                     string_clo_s1 string_subj_s2 string_verb_s2  \\\npairID                                                             \n4705552913.jpg#2r1e            NaN      Two woman        holding   \n3948003394.jpg#1r1e         bikini        A woman          doing   \n3948003394.jpg#1r1c         bikini        A woman         fixing   \n5436250638.jpg#4r1e            NaN        Doctors     performing   \n485054073.jpg#0r1e             NaN      An animal          catch   \n7391785714.jpg#4r1e            NaN           Kids           ride   \n6291644661.jpg#2r1e            NaN        The man       stumbles   \n2447052614.jpg#0r1e  white t shirt          A man        wearing   \n5777129645.jpg#2r1n            NaN            Men        working   \n5777129645.jpg#2r1e            NaN    two farmers           work   \n5777129645.jpg#2r1c            NaN          2 Men         making   \n3670918456.jpg#3r1e            NaN         A girl             is   \n\n                         string_obj_s2            string_loc_s2 string_clo_s2  \npairID                                                                         \n4705552913.jpg#2r1e           packages                      NaN           NaN  \n3948003394.jpg#1r1e        a cartwheel                      NaN           NaN  \n3948003394.jpg#1r1c           her home                      NaN           NaN  \n5436250638.jpg#4r1e            surgery                      NaN           NaN  \n485054073.jpg#0r1e           an object                      NaN           NaN  \n7391785714.jpg#4r1e  an amusement ride                      NaN           NaN  \n6291644661.jpg#2r1e                NaN          in rollerskates           NaN  \n2447052614.jpg#0r1e      a white shirt                      NaN   white shirt  \n5777129645.jpg#2r1n                NaN  on John Deere equipment           NaN  \n5777129645.jpg#2r1e    Deere equipment                      NaN           NaN  \n5777129645.jpg#2r1c             a pool                      NaN           NaN  \n3670918456.jpg#3r1e                NaN               on a swing           NaN  ",
      "text/html": "<div>\n<style scoped>\n    .dataframe tbody tr th:only-of-type {\n        vertical-align: middle;\n    }\n\n    .dataframe tbody tr th {\n        vertical-align: top;\n    }\n\n    .dataframe thead th {\n        text-align: right;\n    }\n</style>\n<table border=\"1\" class=\"dataframe\">\n  <thead>\n    <tr style=\"text-align: right;\">\n      <th></th>\n      <th>Unnamed: 0</th>\n      <th>string_subj_s1</th>\n      <th>string_verb_s1</th>\n      <th>string_obj_s1</th>\n      <th>string_loc_s1</th>\n      <th>string_clo_s1</th>\n      <th>string_subj_s2</th>\n      <th>string_verb_s2</th>\n      <th>string_obj_s2</th>\n      <th>string_loc_s2</th>\n      <th>string_clo_s2</th>\n    </tr>\n    <tr>\n      <th>pairID</th>\n      <th></th>\n      <th></th>\n      <th></th>\n      <th></th>\n      <th></th>\n      <th></th>\n      <th></th>\n      <th></th>\n      <th></th>\n      <th></th>\n      <th></th>\n    </tr>\n  </thead>\n  <tbody>\n    <tr>\n      <th>4705552913.jpg#2r1e</th>\n      <td>1</td>\n      <td>Two women</td>\n      <td>embracing</td>\n      <td>NaN</td>\n      <td>NaN</td>\n      <td>NaN</td>\n      <td>Two woman</td>\n      <td>holding</td>\n      <td>packages</td>\n      <td>NaN</td>\n      <td>NaN</td>\n    </tr>\n    <tr>\n      <th>3948003394.jpg#1r1e</th>\n      <td>18</td>\n      <td>A woman</td>\n      <td>doing</td>\n      <td>a cartwheel</td>\n      <td>in the sand</td>\n      <td>bikini</td>\n      <td>A woman</td>\n      <td>doing</td>\n      <td>a cartwheel</td>\n      <td>NaN</td>\n      <td>NaN</td>\n    </tr>\n    <tr>\n      <th>3948003394.jpg#1r1c</th>\n      <td>19</td>\n      <td>A woman</td>\n      <td>doing</td>\n      <td>a cartwheel</td>\n      <td>in the sand</td>\n      <td>bikini</td>\n      <td>A woman</td>\n      <td>fixing</td>\n      <td>her home</td>\n      <td>NaN</td>\n      <td>NaN</td>\n    </tr>\n    <tr>\n      <th>5436250638.jpg#4r1e</th>\n      <td>43</td>\n      <td>Two doctors</td>\n      <td>perform</td>\n      <td>surgery on patient</td>\n      <td>on patient</td>\n      <td>NaN</td>\n      <td>Doctors</td>\n      <td>performing</td>\n      <td>surgery</td>\n      <td>NaN</td>\n      <td>NaN</td>\n    </tr>\n    <tr>\n      <th>485054073.jpg#0r1e</th>\n      <td>46</td>\n      <td>A white dog with long hair</td>\n      <td>catch</td>\n      <td>a red toy</td>\n      <td>NaN</td>\n      <td>NaN</td>\n      <td>An animal</td>\n      <td>catch</td>\n      <td>an object</td>\n      <td>NaN</td>\n      <td>NaN</td>\n    </tr>\n    <tr>\n      <th>7391785714.jpg#4r1e</th>\n      <td>50</td>\n      <td>Kids</td>\n      <td>are</td>\n      <td>NaN</td>\n      <td>on a amusement ride</td>\n      <td>NaN</td>\n      <td>Kids</td>\n      <td>ride</td>\n      <td>an amusement ride</td>\n      <td>NaN</td>\n      <td>NaN</td>\n    </tr>\n    <tr>\n      <th>6291644661.jpg#2r1e</th>\n      <td>62</td>\n      <td>A man in</td>\n      <td>stumbles</td>\n      <td>NaN</td>\n      <td>in a green jersey and rollerskates</td>\n      <td>NaN</td>\n      <td>The man</td>\n      <td>stumbles</td>\n      <td>NaN</td>\n      <td>in rollerskates</td>\n      <td>NaN</td>\n    </tr>\n    <tr>\n      <th>2447052614.jpg#0r1e</th>\n      <td>75</td>\n      <td>A man in a white t - shirt</td>\n      <td>takes</td>\n      <td>a picture</td>\n      <td>in a white t - shirt</td>\n      <td>white t shirt</td>\n      <td>A man</td>\n      <td>wearing</td>\n      <td>a white shirt</td>\n      <td>NaN</td>\n      <td>white shirt</td>\n    </tr>\n    <tr>\n      <th>5777129645.jpg#2r1n</th>\n      <td>86</td>\n      <td>The two farmers</td>\n      <td>working</td>\n      <td>NaN</td>\n      <td>on a piece of John Deere equipment</td>\n      <td>NaN</td>\n      <td>Men</td>\n      <td>working</td>\n      <td>NaN</td>\n      <td>on John Deere equipment</td>\n      <td>NaN</td>\n    </tr>\n    <tr>\n      <th>5777129645.jpg#2r1e</th>\n      <td>87</td>\n      <td>The two farmers</td>\n      <td>working</td>\n      <td>NaN</td>\n      <td>on a piece of John Deere equipment</td>\n      <td>NaN</td>\n      <td>two farmers</td>\n      <td>work</td>\n      <td>Deere equipment</td>\n      <td>NaN</td>\n      <td>NaN</td>\n    </tr>\n    <tr>\n      <th>5777129645.jpg#2r1c</th>\n      <td>88</td>\n      <td>The two farmers</td>\n      <td>working</td>\n      <td>NaN</td>\n      <td>on a piece of John Deere equipment</td>\n      <td>NaN</td>\n      <td>2 Men</td>\n      <td>making</td>\n      <td>a pool</td>\n      <td>NaN</td>\n      <td>NaN</td>\n    </tr>\n    <tr>\n      <th>3670918456.jpg#3r1e</th>\n      <td>100</td>\n      <td>A girl</td>\n      <td>swings</td>\n      <td>NaN</td>\n      <td>in the air</td>\n      <td>NaN</td>\n      <td>A girl</td>\n      <td>is</td>\n      <td>NaN</td>\n      <td>on a swing</td>\n      <td>NaN</td>\n    </tr>\n  </tbody>\n</table>\n</div>"
     },
     "execution_count": 88,
     "metadata": {},
     "output_type": "execute_result"
    }
   ],
   "source": [
    "dev_subphrases.iloc[np.where(y_hat[:30] != y_hat_human_pred)]"
   ],
   "metadata": {
    "collapsed": false,
    "pycharm": {
     "name": "#%%\n"
    }
   }
  },
  {
   "cell_type": "code",
   "execution_count": 84,
   "outputs": [
    {
     "data": {
      "text/plain": "0.5333333333333333"
     },
     "execution_count": 84,
     "metadata": {},
     "output_type": "execute_result"
    }
   ],
   "source": [
    "np.mean(y_hat_pred[:30] == y_hat_human_pred)"
   ],
   "metadata": {
    "collapsed": false,
    "pycharm": {
     "name": "#%%\n"
    }
   }
  },
  {
   "cell_type": "code",
   "execution_count": 85,
   "outputs": [
    {
     "data": {
      "text/plain": "0.6"
     },
     "execution_count": 85,
     "metadata": {},
     "output_type": "execute_result"
    }
   ],
   "source": [
    "np.mean(y_hat[:30] == y_hat_human_pred)"
   ],
   "metadata": {
    "collapsed": false,
    "pycharm": {
     "name": "#%%\n"
    }
   }
  },
  {
   "cell_type": "code",
   "execution_count": 86,
   "outputs": [
    {
     "data": {
      "text/plain": "0.4688632619439868"
     },
     "execution_count": 86,
     "metadata": {},
     "output_type": "execute_result"
    }
   ],
   "source": [
    "np.mean(y_hat_pred == y_hat)"
   ],
   "metadata": {
    "collapsed": false,
    "pycharm": {
     "name": "#%%\n"
    }
   }
  },
  {
   "cell_type": "code",
   "execution_count": 98,
   "outputs": [
    {
     "data": {
      "text/plain": "array([['entailment', 'entailment', 'entailment', ..., 'nan', 'nan',\n        'nan'],\n       ['entailment', 'entailment', 'entailment', ..., 'nan', 'nan',\n        'nan'],\n       ['entailment', 'entailment', 'nan', ..., 'nan', 'nan', 'nan'],\n       ...,\n       ['entailment', 'entailment', 'nan', ..., 'nan', 'nan', 'nan'],\n       ['entailment', 'entailment', 'entailment', ..., 'nan', 'nan',\n        'nan'],\n       ['entailment', 'entailment', 'entailment', ..., 'nan', 'nan',\n        'nan']], dtype='<U100')"
     },
     "execution_count": 98,
     "metadata": {},
     "output_type": "execute_result"
    }
   ],
   "source": [
    "z"
   ],
   "metadata": {
    "collapsed": false,
    "pycharm": {
     "name": "#%%\n"
    }
   }
  },
  {
   "cell_type": "code",
   "execution_count": 105,
   "outputs": [
    {
     "data": {
      "text/plain": "array(['entailment', 'entailment', 'neutral', 'nan', 'nan', 'neutral',\n       'neutral', 'neutral', 'nan', 'nan', 'neutral', 'neutral',\n       'neutral', 'nan', 'nan', 'neutral', 'neutral', 'neutral', 'nan',\n       'nan', 'nan', 'nan', 'nan', 'nan', 'nan'], dtype='<U100')"
     },
     "execution_count": 105,
     "metadata": {},
     "output_type": "execute_result"
    }
   ],
   "source": [
    "z[39,:]"
   ],
   "metadata": {
    "collapsed": false,
    "pycharm": {
     "name": "#%%\n"
    }
   }
  },
  {
   "cell_type": "code",
   "execution_count": 104,
   "outputs": [
    {
     "data": {
      "text/plain": "Unnamed: 0                        43\nstring_subj_s1           Two doctors\nstring_verb_s1               perform\nstring_obj_s1     surgery on patient\nstring_loc_s1             on patient\nstring_clo_s1                    NaN\nstring_subj_s2               Doctors\nstring_verb_s2            performing\nstring_obj_s2                surgery\nstring_loc_s2                    NaN\nstring_clo_s2                    NaN\nName: 5436250638.jpg#4r1e, dtype: object"
     },
     "execution_count": 104,
     "metadata": {},
     "output_type": "execute_result"
    }
   ],
   "source": [
    "dev_subphrases.iloc[39]"
   ],
   "metadata": {
    "collapsed": false,
    "pycharm": {
     "name": "#%%\n"
    }
   }
  }
 ],
 "metadata": {
  "kernelspec": {
   "display_name": "Python 3",
   "language": "python",
   "name": "python3"
  },
  "language_info": {
   "codemirror_mode": {
    "name": "ipython",
    "version": 2
   },
   "file_extension": ".py",
   "mimetype": "text/x-python",
   "name": "python",
   "nbconvert_exporter": "python",
   "pygments_lexer": "ipython2",
   "version": "2.7.6"
  }
 },
 "nbformat": 4,
 "nbformat_minor": 0
}