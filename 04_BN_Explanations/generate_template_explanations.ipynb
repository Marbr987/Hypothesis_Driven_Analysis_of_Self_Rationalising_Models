{
 "cells": [
  {
   "cell_type": "code",
   "execution_count": 1,
   "outputs": [],
   "source": [
    "import pandas as pd\n",
    "import datetime\n",
    "import numpy as np\n",
    "from sklearn.metrics import confusion_matrix, f1_score, accuracy_score\n",
    "import pickle"
   ],
   "metadata": {
    "collapsed": false,
    "pycharm": {
     "name": "#%%\n"
    }
   }
  },
  {
   "cell_type": "code",
   "execution_count": 2,
   "outputs": [],
   "source": [
    "#directory = 'vers43/MLP_Classifiers_480k_training_15_iter_NN_size_200_50_30'\n",
    "directory = 'vers33/MLP_Classifiers_480k_training_15_iter_NN_size_200_50_30'\n",
    "#use_z_values = tuple(range(25))\n",
    "#use_z_values = (0,6,12,18,24)\n",
    "use_z_values = (0,3,4,6,8,9,12,13,14,15,16,17,18,19,20,21,22,23,24)\n",
    "\n",
    "# Indices in terms of z for all hidden variables that are not mixed, e.g. Subject1-Subject2, Verb1-Verb2, etc.\n",
    "non_mixed_pairs_indices = [i for i in range(len(use_z_values)) if use_z_values[i] in (0,6,12,18,24)]"
   ],
   "metadata": {
    "collapsed": false,
    "pycharm": {
     "name": "#%%\n"
    }
   }
  },
  {
   "cell_type": "code",
   "execution_count": 3,
   "outputs": [],
   "source": [
    "# Indices for all z variables influenced by Subject2 (Verb2, Object2 etc. respectively) (e.g. Subject1-Subject2)\n",
    "Subj2_indices = [i for i in range(len(use_z_values)) if use_z_values[i] in (0, 5, 10, 15, 20)]\n",
    "Verb2_indices = [i for i in range(len(use_z_values)) if use_z_values[i] in (1, 6, 11, 16, 21)]\n",
    "Obj2_indices = [i for i in range(len(use_z_values)) if use_z_values[i] in (2, 7, 12, 17, 22)]\n",
    "Loc2_indices = [i for i in range(len(use_z_values)) if use_z_values[i] in (3, 8, 13, 18, 23)]\n",
    "Clo2_indices = [i for i in range(len(use_z_values)) if use_z_values[i] in (4, 9, 14, 19, 24)]\n",
    "Sentence2_indices = [Subj2_indices, Verb2_indices, Obj2_indices, Loc2_indices, Clo2_indices]"
   ],
   "metadata": {
    "collapsed": false,
    "pycharm": {
     "name": "#%%\n"
    }
   }
  },
  {
   "cell_type": "code",
   "execution_count": 4,
   "outputs": [],
   "source": [
    "train1 = pd.read_csv('../Input_Data/e-SNLI/dataset/esnli_train_1.csv')\n",
    "train2 = pd.read_csv('../Input_Data/e-SNLI/dataset/esnli_train_2.csv')\n",
    "train = pd.concat([train1, train2])\n",
    "train = train[train.notnull().apply(all, axis=1)]\n",
    "dev = pd.read_csv('../Input_Data/e-SNLI/dataset/esnli_dev.csv')\n",
    "dev = dev[dev.notnull().apply(all, axis=1)]\n",
    "test = pd.read_csv('../Input_Data/e-SNLI/dataset/esnli_test.csv')\n",
    "test = test[test.notnull().apply(all, axis=1)]\n",
    "\n",
    "dev_prepared = pd.read_csv('../02_Extract_Subphrases/prepared_data/subphrase_vectors_dev.csv', sep=';')\n",
    "dev_prepared = dev_prepared.drop(columns='Unnamed: 0')\n",
    "dev = dev.set_index('pairID')\n",
    "rel_pairIDs = dev_prepared.iloc[:,0]\n",
    "y_hat = dev.loc[rel_pairIDs].gold_label\n",
    "dev_prepared = dev_prepared.iloc[:,1:].to_numpy()"
   ],
   "metadata": {
    "collapsed": false,
    "pycharm": {
     "name": "#%%\n"
    }
   }
  },
  {
   "cell_type": "code",
   "execution_count": 5,
   "outputs": [
    {
     "data": {
      "text/plain": "-0.34114"
     },
     "execution_count": 5,
     "metadata": {},
     "output_type": "execute_result"
    }
   ],
   "source": [
    "dev_prepared[2,300]"
   ],
   "metadata": {
    "collapsed": false,
    "pycharm": {
     "name": "#%%\n"
    }
   }
  },
  {
   "cell_type": "code",
   "execution_count": 55,
   "outputs": [],
   "source": [
    "np.random.seed(12345)\n",
    "n = dev_prepared.shape[0]\n",
    "eval_indices = np.random.choice(range(dev_prepared.shape[0]), n, replace=False)"
   ],
   "metadata": {
    "collapsed": false,
    "pycharm": {
     "name": "#%%\n"
    }
   }
  },
  {
   "cell_type": "code",
   "execution_count": 56,
   "outputs": [],
   "source": [
    "dev_subphrases = pd.read_csv('../02_Extract_Subphrases/prepared_data/subphrases_dev.csv', sep=',')\n",
    "dev_subphrases = dev_subphrases.set_index('pairID')\n",
    "dev_subphrases = dev_subphrases.loc[rel_pairIDs]"
   ],
   "metadata": {
    "collapsed": false,
    "pycharm": {
     "name": "#%%\n"
    }
   }
  },
  {
   "cell_type": "code",
   "execution_count": 57,
   "outputs": [],
   "source": [
    "def evaluate_performance(preds, actual):\n",
    "    labels = ['contradiction', 'entailment', 'neutral']\n",
    "    print('Confusion Matrix')\n",
    "    print(confusion_matrix(actual, preds, labels=labels))\n",
    "    print(f'F1-Score: {f1_score(actual, preds, labels=labels, average=\"macro\")}')\n",
    "    print(f'Accuracy: {accuracy_score(actual, preds)}')"
   ],
   "metadata": {
    "collapsed": false,
    "pycharm": {
     "name": "#%%\n"
    }
   }
  },
  {
   "cell_type": "code",
   "execution_count": 58,
   "outputs": [],
   "source": [
    "def predict_y_from_z(z):\n",
    "    if len(z.shape) > 1:\n",
    "        z = pd.DataFrame(z)\n",
    "        res = z.apply(predict_y_from_z, axis=1)\n",
    "        return res.to_numpy()\n",
    "    else:\n",
    "        if all([z[i] == 'nan' or pd.isnull(z[i]) or z[i] == 'entailment' for i in range(25)]):\n",
    "            return 'entailment'\n",
    "        elif any(z == 'contradiction'):\n",
    "            return 'contradiction'\n",
    "        elif any(z == 'neutral') and all(z != 'contradiction'):\n",
    "            return 'neutral'\n",
    "        else:\n",
    "            raise ValueError(f\"z can only have values 'entailment', 'contradiction', or 'neutral' but is {z}\")"
   ],
   "metadata": {
    "collapsed": false,
    "pycharm": {
     "name": "#%%\n"
    }
   }
  },
  {
   "cell_type": "code",
   "execution_count": 59,
   "outputs": [],
   "source": [
    "def predict_y_from_z(z):\n",
    "    if len(z.shape) > 1:\n",
    "        z = pd.DataFrame(z)\n",
    "        res = z.apply(predict_y_from_z, axis=1)\n",
    "        return res.to_numpy()\n",
    "    else:\n",
    "        if any(z == 'contradiction'):\n",
    "            return 'contradiction'\n",
    "        elif all([z[i] == 'nan' or pd.isnull(z[i]) or z[i] == 'entailment' for i in (0,6,12,18,24)]) and all(z != 'contradiction'):\n",
    "            return 'entailment'\n",
    "        elif any(z == 'neutral') and all(z != 'contradiction'):\n",
    "            return 'neutral'\n",
    "        else:\n",
    "            raise ValueError(f\"z can only have values 'entailment', 'contradiction', or 'neutral' but is {z}\")"
   ],
   "metadata": {
    "collapsed": false,
    "pycharm": {
     "name": "#%%\n"
    }
   }
  },
  {
   "cell_type": "code",
   "execution_count": 60,
   "outputs": [],
   "source": [
    "def predict_y_from_z(z):\n",
    "\n",
    "    # Iterate through each row if z is a matrix\n",
    "    if len(z.shape) > 1:\n",
    "        z = pd.DataFrame(z)\n",
    "        res = z.apply(predict_y_from_z, axis=1)\n",
    "        return res.to_numpy()\n",
    "\n",
    "    # For each single line perform the following:\n",
    "    else:\n",
    "        # If any z is 'contradiction' -> output class 'contradiction'\n",
    "        if any(z == 'contradiction'):\n",
    "            return 'contradiction'\n",
    "        # Else if all subphrases of sentence 2 are entailed by any subphrase of sentence 1 -> output class 'entailment'\n",
    "        elif all([any([z[i] == 'entailment' for i in subphrase_indices]) or all([z[i] == 'nan' or pd.isnull(z[i]) for i in subphrase_indices]) for subphrase_indices in Sentence2_indices]):\n",
    "            return 'entailment'\n",
    "        # Else output class 'neutral'\n",
    "        else:\n",
    "            return 'neutral'"
   ],
   "metadata": {
    "collapsed": false,
    "pycharm": {
     "name": "#%%\n"
    }
   }
  },
  {
   "cell_type": "code",
   "execution_count": 61,
   "outputs": [
    {
     "data": {
      "text/plain": "False"
     },
     "execution_count": 61,
     "metadata": {},
     "output_type": "execute_result"
    }
   ],
   "source": [
    "directory[4] == \"4\""
   ],
   "metadata": {
    "collapsed": false,
    "pycharm": {
     "name": "#%%\n"
    }
   }
  },
  {
   "cell_type": "code",
   "execution_count": 68,
   "outputs": [],
   "source": [
    "clf = list()\n",
    "for i in range(len(use_z_values)):\n",
    "    if directory[4] == \"4\":\n",
    "        with open(\"../03_Bayesian_Network/\" + directory + \"/MLP_Classifier.pkl\", \"rb\") as f:\n",
    "            clf += [pickle.load(f), ]\n",
    "    else:\n",
    "        with open(\"../03_Bayesian_Network/\" + directory + \"/MLP_Classifier\" + str(i) + \".pkl\", \"rb\") as f:\n",
    "            clf += [pickle.load(f), ]"
   ],
   "metadata": {
    "collapsed": false,
    "pycharm": {
     "name": "#%%\n"
    }
   }
  },
  {
   "cell_type": "code",
   "execution_count": 69,
   "outputs": [
    {
     "name": "stdout",
     "output_type": "stream",
     "text": [
      "2023-04-14 18:13:46.174249\n",
      "Initialise column indices and 'nan' values\n"
     ]
    }
   ],
   "source": [
    "# Prepare colum indices\n",
    "indices = np.array([[0,1500], [0,1800], [0,2100], [0,2400], [0,2700],\n",
    "           [300,1500], [300,1800], [300,2100], [300,2400], [300,2700],\n",
    "           [600,1500], [600,1800], [600,2100], [600,2400], [600,2700],\n",
    "           [900,1500], [900,1800], [900,2100], [900,2400], [900,2700],\n",
    "           [1200,1500], [1200,1800], [1200,2100], [1200,2400], [1200,2700]])\n",
    "indices = indices[use_z_values,:].tolist()\n",
    "# Initialise colulmn indices and \"nan\" values if information (e.g. location of sentence) is not detected\n",
    "print(datetime.datetime.now())\n",
    "print(\"Initialise column indices and 'nan' values\")\n",
    "not_nan = [None, ] * len(use_z_values)\n",
    "cols = [None, ] * len(use_z_values)\n",
    "for i in range(len(use_z_values)):\n",
    "    cols[i] = list(range(indices[i][0], indices[i][0]+300)) + list(range(indices[i][1],indices[i][1]+300))\n",
    "    not_nan[i] = pd.Series([not x for x in pd.DataFrame(np.isnan(dev_prepared[:,cols[i]])).apply(any, axis=1)])\n",
    "not_nan = np.array(not_nan).T"
   ],
   "metadata": {
    "collapsed": false,
    "pycharm": {
     "name": "#%%\n"
    }
   }
  },
  {
   "cell_type": "code",
   "execution_count": 70,
   "outputs": [],
   "source": [
    "z = np.empty((y_hat.shape[0], len(use_z_values)), dtype=np.dtype('U25'))\n",
    "\n",
    "z[:,:] = np.nan\n",
    "\n",
    "for i in range(len(use_z_values)):\n",
    "    z[not_nan[:,i], i] = clf[i].predict(dev_prepared[not_nan[:,i],:][:, cols[i]])\n",
    "\n",
    "y_hat_pred = predict_y_from_z(z)"
   ],
   "metadata": {
    "collapsed": false,
    "pycharm": {
     "name": "#%%\n"
    }
   }
  },
  {
   "cell_type": "code",
   "execution_count": 94,
   "outputs": [
    {
     "data": {
      "text/plain": "-0.34114"
     },
     "execution_count": 94,
     "metadata": {},
     "output_type": "execute_result"
    }
   ],
   "source": [
    "dev_prepared[2,300]"
   ],
   "metadata": {
    "collapsed": false,
    "pycharm": {
     "name": "#%%\n"
    }
   }
  },
  {
   "cell_type": "code",
   "execution_count": null,
   "outputs": [],
   "source": [],
   "metadata": {
    "collapsed": false,
    "pycharm": {
     "name": "#%%\n"
    }
   }
  },
  {
   "cell_type": "code",
   "execution_count": 90,
   "outputs": [
    {
     "data": {
      "text/plain": "array([-0.34114 ,  1.8302  , -1.2819  , -0.68531 ,  1.4097  ,  1.1497  ,\n        1.2149  ,  2.4162  , -1.7527  , -0.48473 ,  4.7288  , -0.63148 ,\n       -3.3169  ,  0.66609 ,  0.51267 ,  1.9944  ,  0.039047,  0.76714 ,\n        0.43841 ,  0.68323 ,  1.4168  , -0.97327 ,  0.39883 , -2.1973  ,\n       -1.5624  ,  0.071067,  0.22937 , -1.1873  ,  1.1492  ,  0.89653 ,\n        1.6517  , -1.9858  , -0.42576 , -4.3539  , -2.9152  ,  0.96523 ,\n        0.36299 ,  2.0725  , -0.2193  , -2.3966  , -0.43503 ,  0.9489  ,\n       -2.9642  , -0.042613, -2.9092  ,  3.1395  , -0.54681 ,  0.3696  ,\n        2.4368  ,  2.1714  , -0.60498 ,  2.5014  , -1.1331  , -2.7252  ,\n        0.48904 , -0.5962  ,  0.60745 ,  2.2476  ,  0.41694 ,  2.21    ,\n        4.007   , -0.61606 ,  2.7582  ,  0.18717 ,  0.25045 ,  2.5558  ,\n       -2.9604  , -2.4065  ,  1.7549  ,  0.42254 , -0.072413, -1.7321  ,\n       -1.014   ,  0.7443  , -1.2722  ,  0.48024 , -1.8297  ,  1.7826  ,\n       -3.413   , -0.2949  , -3.8567  ,  0.52171 ,  1.3567  ,  0.24025 ,\n        1.6974  ,  1.0977  ,  1.4359  , -4.5091  , -1.659   , -0.25331 ,\n        0.36345 ,  1.0996  ,  0.30401 , -3.9777  , -1.3927  , -0.87541 ,\n        0.46388 , -2.1826  , -0.33636 ,  0.68682 ,  2.1632  ,  0.26787 ,\n        3.5626  ,  2.7838  , -0.45848 ,  1.0624  ,  1.2975  ,  0.22139 ,\n       -1.8627  , -1.6463  ,  0.35577 ,  1.1062  , -3.2061  ,  2.056   ,\n        1.3313  ,  2.1216  , -2.3096  , -1.8531  , -2.9752  , -0.45518 ,\n       -3.2616  , -1.5956  ,  1.8148  , -0.63261 , -2.2902  , -0.18512 ,\n       -1.2189  , -4.3142  ,  2.9481  , -3.4624  , -2.4479  , -0.22954 ,\n        1.5348  , -1.2471  , -1.14    ,  0.33281 , -1.785   , -0.83379 ,\n        2.7411  , -0.44517 ,  0.64666 ,  0.9079  , -2.0192  ,  2.3464  ,\n       -1.789   , -1.3903  , -5.221   , -0.53725 , -0.84324 ,  2.9618  ,\n        1.2692  ,  0.21012 ,  1.2042  ,  1.5833  , -1.4723  ,  1.533   ,\n        1.2834  ,  0.45364 ,  0.42851 , -1.7427  ,  1.823   , -1.6508  ,\n       -1.2291  ,  1.3894  , -1.9543  , -1.728   , -1.4462  , -1.0991  ,\n       -0.68404 , -0.72676 ,  1.5729  ,  0.70521 ,  2.4791  , -0.31582 ,\n       -0.046604,  0.72457 ,  0.8684  ,  1.7787  , -0.84893 , -1.0699  ,\n       -0.030212,  0.40657 ,  3.8709  ,  0.97617 , -1.2382  ,  1.7478  ,\n       -0.18482 ,  0.60085 , -0.068399,  0.58078 ,  0.55836 ,  0.58891 ,\n        1.0217  , -1.3171  , -2.2796  , -2.2726  , -3.5737  ,  0.22364 ,\n       -1.6768  , -2.849   ,  1.096   , -1.0252  , -0.60571 , -1.3548  ,\n       -2.0577  ,  1.0338  , -4.4319  ,  1.2476  ,  1.1845  ,  0.33371 ,\n        0.68817 ,  1.9512  , -1.7121  , -0.64073 ,  2.1384  ,  2.9776  ,\n        0.15941 ,  0.18107 , -0.53105 , -0.57375 , -1.606   ,  3.3691  ,\n       -1.1989  ,  1.0247  , -0.80665 ,  0.53391 ,  0.044559,  1.0686  ,\n        3.0213  , -0.59639 ,  2.2008  , -0.67012 ,  0.48542 ,  0.71324 ,\n       -0.10448 ,  0.24564 , -2.4528  ,  2.111   ,  1.3544  , -0.021029,\n        0.24981 , -0.56756 , -0.37362 , -0.95069 , -1.0283  , -1.6035  ,\n       -4.4512  , -2.5171  ,  0.27531 ,  0.81893 , -0.44042 ,  1.3114  ,\n       -2.3121  ,  1.0398  ,  1.1527  , -0.93562 ,  0.43027 ,  0.47311 ,\n       -0.62441 ,  0.92597 , -1.8187  ,  3.1279  ,  3.2804  ,  1.4121  ,\n        0.83458 ,  0.37452 , -3.2465  , -0.492   , -0.022222, -0.5063  ,\n        1.1317  , -1.9312  ,  1.3525  , -1.8545  ,  2.0059  ,  0.26293 ,\n        1.0569  , -0.79917 ,  0.24303 ,  1.5988  ,  1.2483  ,  0.61355 ,\n       -0.17964 , -0.79994 , -0.13962 , -0.74506 ,  1.0768  ,  1.3395  ,\n       -0.52531 ,  0.42857 ,  1.5373  ,  1.4183  , -2.0208  , -3.7266  ,\n        1.0098  ,  0.14124 , -1.304   ,  0.55711 , -3.1372  ,  0.7569  ,\n       -2.0371  , -0.22684 , -3.4695  ,  1.0258  ,  2.5989  ,  1.7772  ,\n        1.5915  ,  4.4776  , -0.066984, -0.69591 ,  4.1444  ,  3.4637  ,\n       -3.2321  ,  3.1546  ,  3.8173  ,  3.2204  ,  4.0434  , -2.5793  ,\n       -0.65674 ,  0.21654 ,  0.64682 ,  2.1309  , -0.24542 ,  0.3488  ,\n        2.738   , -0.18561 , -2.9724  , -3.8331  ,  0.96964 , -0.23696 ,\n        7.3108  , -0.091192,  1.4427  , -4.3212  ,  1.0007  , -2.9568  ,\n        0.74952 ,  3.4854  , -1.0093  , -0.35114 ,  0.8323  , -1.1719  ,\n        0.22712 , -0.57299 , -1.794   ,  2.5824  , -2.3564  , -5.6175  ,\n       -0.19406 ,  1.2862  , -1.801   ,  4.1475  ,  3.9186  , -4.776   ,\n        0.54508 ,  1.4492  ,  1.3904  ,  0.53727 ,  1.3487  , -0.20664 ,\n        1.1639  , -1.2095  , -2.0774  , -3.364   ,  3.6659  ,  1.7506  ,\n       -5.0909  , -0.82845 ,  2.2289  ,  1.3185  ,  3.0753  , -1.7617  ,\n       -5.3159  ,  1.8708  ,  1.0497  , -0.5752  , -2.5459  ,  5.6533  ,\n       -0.94044 , -0.91956 , -7.6168  , -3.8794  ,  0.34302 ,  5.7609  ,\n        2.3968  , -0.23675 ,  0.091162, -6.1067  , -2.401   ,  0.11321 ,\n        0.43241 ,  1.5114  , -0.26222 , -3.4798  , -1.134   , -4.4288  ,\n       -0.96103 , -1.8557  ,  0.16555 ,  2.1801  ,  1.3828  , -0.94372 ,\n        8.8328  ,  1.1691  , -4.436   ,  3.6193  ,  0.91135 , -0.49991 ,\n        0.19981 , -4.6223  , -0.27517 , -1.6913  , -1.927   ,  1.7498  ,\n        2.8195  ,  1.1517  , -2.106   , -0.34395 ,  2.0847  ,  1.4311  ,\n       -1.5435  , -2.1361  , -0.30019 , -4.2001  , -3.3269  , -3.1814  ,\n        4.0364  , -5.957   , -0.54986 , -2.4153  , -1.583   , -2.6915  ,\n        3.6118  ,  1.5742  , -0.98378 ,  2.4947  , -1.6885  ,  0.64188 ,\n        4.2196  , -2.556   , -0.27273 , -1.1381  , -4.0313  ,  5.3294  ,\n        2.888   ,  0.55068 , -8.2342  , -2.4149  ,  3.0621  , -0.10764 ,\n        0.77313 ,  0.20755 , -1.9754  ,  3.9995  , -1.0476  ,  1.0463  ,\n        3.1203  , -1.2106  , -2.9056  , -4.1142  , -2.6305  , -1.5835  ,\n        1.2216  ,  1.6425  , -1.9769  , -4.9139  , -2.0739  , -0.77485 ,\n       -0.77443 ,  2.1097  ,  0.26024 ,  4.0258  ,  2.4142  , -4.1398  ,\n        0.17746 , -1.6176  , -0.03876 ,  2.2688  , -0.21841 , -2.0149  ,\n       -3.9908  , -0.97103 ,  0.36225 ,  1.4139  , -0.53436 ,  3.0187  ,\n       -0.43834 ,  2.522   ,  0.18515 , -1.4973  ,  2.926   ,  0.16702 ,\n        0.37186 , -1.3393  ,  1.9287  , -4.2165  , -4.1321  ,  2.2782  ,\n       -2.2636  ,  2.4745  ,  0.30521 , -1.7366  , -1.3195  , -0.9397  ,\n        1.405   ,  1.7428  , -3.3099  ,  0.35911 , -0.98037 ,  0.84864 ,\n        0.70129 ,  2.7248  , -3.9451  , -0.92712 , -1.8617  ,  4.323   ,\n        4.1714  ,  0.50674 , -0.38739 , -0.94021 , -3.1002  ,  3.3944  ,\n       -0.20829 ,  1.4075  , -1.4694  , -0.38563 ,  0.69348 , -0.38309 ,\n        1.1553  ,  1.6221  ,  3.3923  , -0.6443  , -1.4633  ,  3.9807  ,\n        0.60917 , -0.47337 , -1.8124  ,  1.697   , -1.2544  , -1.7321  ,\n        1.2175  ,  1.1156  ,  0.70272 ,  0.91265 , -4.7949  ,  1.1341  ,\n       -4.5138  , -0.41929 ,  1.4833  ,  2.9823  ,  0.75749 , -4.4012  ,\n       -4.1849  ,  1.0857  ,  0.18316 , -2.3508  ,  0.8581  , -2.7464  ,\n        0.38728 ,  4.0061  , -2.5173  ,  1.0549  ,  4.9928  ,  0.40105 ,\n        2.2116  , -0.8681  , -0.48983 ,  0.38617 , -0.072836,  0.85061 ,\n        1.3034  , -1.0988  , -2.0836  ,  0.25877 ,  1.6562  ,  0.58463 ,\n        1.0454  , -3.5184  ,  2.1848  ,  5.2245  , -1.0019  , -0.13876 ,\n        2.0127  , -0.2168  ,  1.4252  , -1.1176  , -1.5931  ,  1.4447  ,\n       -3.2396  ,  2.4342  ,  1.5778  ,  1.1307  , -0.77205 , -0.41181 ,\n       -2.4827  ,  0.40494 , -1.0155  , -2.4341  , -2.3889  , -0.073444])"
     },
     "execution_count": 90,
     "metadata": {},
     "output_type": "execute_result"
    }
   ],
   "source": [
    "dev_prepared[not_nan[:,3],:][:, cols[3]][2,:]"
   ],
   "metadata": {
    "collapsed": false,
    "pycharm": {
     "name": "#%%\n"
    }
   }
  },
  {
   "cell_type": "code",
   "execution_count": 84,
   "outputs": [
    {
     "data": {
      "text/plain": "(3035, 11)"
     },
     "execution_count": 84,
     "metadata": {},
     "output_type": "execute_result"
    }
   ],
   "source": [
    "dev_subphrases.shape"
   ],
   "metadata": {
    "collapsed": false,
    "pycharm": {
     "name": "#%%\n"
    }
   }
  },
  {
   "cell_type": "code",
   "execution_count": 80,
   "outputs": [
    {
     "data": {
      "text/plain": "array(['entailment', 'entailment', 'contradiction', ..., 'entailment',\n       'entailment', 'entailment'], dtype='<U13')"
     },
     "execution_count": 80,
     "metadata": {},
     "output_type": "execute_result"
    }
   ],
   "source": [
    "clf[3].predict(dev_prepared[not_nan[:,3],:][:, cols[3]])"
   ],
   "metadata": {
    "collapsed": false,
    "pycharm": {
     "name": "#%%\n"
    }
   }
  },
  {
   "cell_type": "code",
   "execution_count": 71,
   "outputs": [],
   "source": [
    "def generate_explanation(Z, subphrases):\n",
    "    y_hat_pred = predict_y_from_z(Z)\n",
    "    pairs = [['subj_s1', 'subj_s2'], ['subj_s1', 'verb_s2'], ['subj_s1', 'obj_s2'], ['subj_s1', 'loc_s2'], ['subj_s1', 'clo_s2'],\n",
    "             ['verb_s1', 'subj_s2'], ['verb_s1', 'verb_s2'], ['verb_s1', 'obj_s2'], ['verb_s1', 'loc_s2'], ['verb_s1', 'clo_s2'],\n",
    "             ['obj_s1', 'subj_s2'], ['obj_s1', 'verb_s2'], ['obj_s1', 'obj_s2'], ['obj_s1', 'loc_s2'], ['obj_s1', 'clo_s2'],\n",
    "             ['loc_s1', 'subj_s2'], ['loc_s1', 'verb_s2'], ['loc_s1', 'obj_s2'], ['loc_s1', 'loc_s2'], ['loc_s1', 'clo_s2'],\n",
    "             ['clo_s1', 'subj_s2'], ['clo_s1', 'verb_s2'], ['clo_s1', 'obj_s2'], ['clo_s1', 'loc_s2'], ['clo_s1', 'clo_s2']]\n",
    "    pairs_map = {'subj_s1': 'the subject of sentence 1',\n",
    "                 'verb_s1': 'the verb of sentence 1',\n",
    "                 'obj_s1': 'the object of sentence 1',\n",
    "                 'loc_s1': 'the location of sentence 1',\n",
    "                 'clo_s1': 'the clothing described in sentence 1',\n",
    "                 'subj_s2': 'the subject of sentence 2',\n",
    "                 'verb_s2': 'the verb of sentence 2',\n",
    "                 'obj_s2': 'the object of sentence 2',\n",
    "                 'loc_s2': 'the location of sentence 2',\n",
    "                 'clo_s2': 'the clothing described in sentence 2',}\n",
    "    Sentence2_indices_map = ['subj_s2', 'verb_s2', 'obj_s2', 'loc_s2', 'clo_s2']\n",
    "    reasons = list()\n",
    "    if y_hat_pred == 'neutral':\n",
    "        for i, subphrase_indices in enumerate(Sentence2_indices):\n",
    "            if all([Z[k] == 'neutral' or Z[k] == 'nan' or pd.isnull(Z[k]) for k in subphrase_indices]) and any([Z[k] == 'neutral' for k in subphrase_indices]):\n",
    "                reasons += [f'there is no indication that {pairs_map[Sentence2_indices_map[i]]} is {subphrases[\"string_\" + Sentence2_indices_map[i]].lower()}']\n",
    "    elif y_hat_pred == 'contradiction':\n",
    "        for i,z in enumerate(Z):\n",
    "            if z == 'contradiction':\n",
    "                if i in non_mixed_pairs_indices:\n",
    "                    reasons += [f'{subphrases[\"string_\" + pairs[use_z_values[i]][0]].lower()} is not the same as {subphrases[\"string_\" + pairs[use_z_values[i]][1]].lower()}', ]\n",
    "                else:\n",
    "                    reasons += [f'if {pairs_map[pairs[use_z_values[i]][0]]} is {subphrases[\"string_\" + pairs[use_z_values[i]][0]].lower()}, {pairs_map[pairs[use_z_values[i]][1]]} cannot be {subphrases[\"string_\" + pairs[use_z_values[i]][1]].lower()}', ]\n",
    "    elif y_hat_pred == 'entailment':\n",
    "            for i,z in enumerate(Z):\n",
    "                if z == 'entailment':\n",
    "                    if i in non_mixed_pairs_indices:\n",
    "                        reasons += [f'{subphrases[\"string_\" + pairs[use_z_values[i]][0]].lower()} is the same as {subphrases[\"string_\" + pairs[use_z_values[i]][1]].lower()}', ]\n",
    "                    else:\n",
    "                        reasons += [f'if {pairs_map[pairs[use_z_values[i]][0]]} is {subphrases[\"string_\" + pairs[use_z_values[i]][0]].lower()}, then {pairs_map[pairs[use_z_values[i]][1]]} has to be {subphrases[\"string_\" + pairs[use_z_values[i]][1]].lower()}', ]\n",
    "    return \" and \".join(reasons)"
   ],
   "metadata": {
    "collapsed": false,
    "pycharm": {
     "name": "#%%\n"
    }
   }
  },
  {
   "cell_type": "code",
   "execution_count": 72,
   "outputs": [
    {
     "data": {
      "text/plain": "0.6105436573311367"
     },
     "execution_count": 72,
     "metadata": {},
     "output_type": "execute_result"
    }
   ],
   "source": [
    "np.mean(y_hat_pred == y_hat)"
   ],
   "metadata": {
    "collapsed": false,
    "pycharm": {
     "name": "#%%\n"
    }
   }
  },
  {
   "cell_type": "code",
   "execution_count": 73,
   "outputs": [
    {
     "data": {
      "text/plain": "0.6096486180105392"
     },
     "execution_count": 73,
     "metadata": {},
     "output_type": "execute_result"
    }
   ],
   "source": [
    "f1_score(y_hat, y_hat_pred, average='macro')"
   ],
   "metadata": {
    "collapsed": false,
    "pycharm": {
     "name": "#%%\n"
    }
   }
  },
  {
   "cell_type": "code",
   "execution_count": 77,
   "outputs": [
    {
     "data": {
      "text/plain": "'two women is not the same as the men and embracing is not the same as fighting'"
     },
     "execution_count": 77,
     "metadata": {},
     "output_type": "execute_result"
    }
   ],
   "source": [
    "generate_explanation(z[2,:], dev_subphrases.iloc[2])"
   ],
   "metadata": {
    "collapsed": false,
    "pycharm": {
     "name": "#%%\n"
    }
   }
  },
  {
   "cell_type": "code",
   "execution_count": 79,
   "outputs": [
    {
     "data": {
      "text/plain": "array(['contradiction', 'nan', 'nan', 'contradiction', 'nan', 'nan',\n       'nan', 'nan', 'nan', 'nan', 'nan', 'nan', 'nan', 'nan', 'nan',\n       'nan', 'nan', 'nan', 'nan'], dtype='<U25')"
     },
     "execution_count": 79,
     "metadata": {},
     "output_type": "execute_result"
    }
   ],
   "source": [
    "z[2,:]"
   ],
   "metadata": {
    "collapsed": false,
    "pycharm": {
     "name": "#%%\n"
    }
   }
  },
  {
   "cell_type": "code",
   "execution_count": 74,
   "outputs": [],
   "source": [
    "output = np.empty((eval_indices.shape[0], 4), dtype=object)\n",
    "j = 0\n",
    "for i in eval_indices:\n",
    "    output[j, :] = (i, y_hat[i], y_hat_pred[i], generate_explanation(z[i,:], dev_subphrases.iloc[i]))\n",
    "    j += 1"
   ],
   "metadata": {
    "collapsed": false,
    "pycharm": {
     "name": "#%%\n"
    }
   }
  },
  {
   "cell_type": "code",
   "execution_count": 75,
   "outputs": [
    {
     "data": {
      "text/plain": "array([[638, 'contradiction', 'contradiction',\n        'grass is not the same as couch'],\n       [2703, 'entailment', 'neutral',\n        'there is no indication that the subject of sentence 2 is man'],\n       [1457, 'neutral', 'contradiction',\n        'has is not the same as sitting'],\n       ...,\n       [382, 'neutral', 'neutral',\n        'there is no indication that the subject of sentence 2 is they'],\n       [2177, 'neutral', 'neutral',\n        'there is no indication that the subject of sentence 2 is they and there is no indication that the verb of sentence 2 is preparing and there is no indication that the object of sentence 2 is dinner for their parents'],\n       [482, 'entailment', 'neutral',\n        'there is no indication that the verb of sentence 2 is going']],\n      dtype=object)"
     },
     "execution_count": 75,
     "metadata": {},
     "output_type": "execute_result"
    }
   ],
   "source": [
    "output"
   ],
   "metadata": {
    "collapsed": false,
    "pycharm": {
     "name": "#%%\n"
    }
   }
  },
  {
   "cell_type": "code",
   "execution_count": 24,
   "outputs": [],
   "source": [
    "pd.DataFrame(output, columns=(\"i\", \"y\", \"y_hat_BN\", \"BN_expl\")).to_csv(\"BN_explanations_large_model.csv\", sep=\";\")"
   ],
   "metadata": {
    "collapsed": false,
    "pycharm": {
     "name": "#%%\n"
    }
   }
  },
  {
   "cell_type": "code",
   "execution_count": 35,
   "outputs": [
    {
     "data": {
      "text/plain": "'a group of young people with instruments is the same as people and if the location of sentence 1 is stage, then the subject of sentence 2 has to be people and if the location of sentence 1 is stage, then the verb of sentence 2 has to be playing and if the location of sentence 1 is stage, then the object of sentence 2 has to be music'"
     },
     "execution_count": 35,
     "metadata": {},
     "output_type": "execute_result"
    }
   ],
   "source": [
    "pd.DataFrame(output, columns=(\"i\", \"y\", \"y_hat_BN\", \"BN_expl\")).BN_expl.iloc[83]"
   ],
   "metadata": {
    "collapsed": false,
    "pycharm": {
     "name": "#%%\n"
    }
   }
  },
  {
   "cell_type": "code",
   "execution_count": 23,
   "outputs": [],
   "source": [
    "human_z = pd.read_csv(\"manual_z_values.csv\", sep=\";\").to_numpy()\n",
    "for i in range(human_z.shape[0]):\n",
    "    for j in range(human_z.shape[1]):\n",
    "        if human_z[i,j] == \"n\":\n",
    "            human_z[i,j] = \"neutral\"\n",
    "        elif human_z[i,j] == \"e\":\n",
    "            human_z[i,j] = \"entailment\"\n",
    "        elif human_z[i,j] == \"c\":\n",
    "            human_z[i,j] = \"contradiction\"\n",
    "\n",
    "y_hat_human_pred = predict_y_from_z(human_z)"
   ],
   "metadata": {
    "collapsed": false,
    "pycharm": {
     "name": "#%%\n"
    }
   }
  },
  {
   "cell_type": "code",
   "execution_count": 54,
   "outputs": [
    {
     "data": {
      "text/plain": "array([['neutral', 'neutral', 'neutral', nan, nan, 'neutral',\n        'entailment', 'neutral', nan, nan, nan, nan, nan, nan, nan, nan,\n        nan, nan, nan, nan, nan, nan, nan, nan, nan],\n       ['entailment', 'neutral', 'neutral', nan, nan, 'neutral',\n        'neutral', 'neutral', nan, nan, nan, nan, nan, nan, nan, nan,\n        nan, nan, nan, nan, nan, nan, nan, nan, nan],\n       ['contradiction', 'neutral', 'neutral', nan, nan, 'neutral',\n        'contradiction', nan, nan, nan, nan, nan, nan, nan, nan, nan,\n        nan, nan, nan, nan, nan, nan, nan, nan, nan],\n       ['entailment', 'neutral', 'neutral', nan, nan, 'neutral',\n        'entailment', 'neutral', nan, nan, 'neutral', 'neutral',\n        'entailment', nan, nan, 'neutral', 'neutral', 'neutral', nan,\n        nan, 'entailment', 'neutral', 'neutral', nan, nan],\n       ['entailment', 'neutral', 'neutral', nan, nan, 'neutral',\n        'neutral', 'neutral', nan, nan, 'neutral', 'neutral', 'neutral',\n        nan, nan, 'neutral', 'neutral', 'neutral', nan, nan,\n        'entailment', 'neutral', 'neutral', nan, nan],\n       ['entailment', 'neutral', 'neutral', 'neutral', nan, 'neutral',\n        'entailment', 'neutral', 'neutral', nan, 'neutral', 'neutral',\n        'neutral', 'contradiction', nan, 'neutral', 'neutral', 'neutral',\n        'contradiction', nan, 'entailment', 'neutral', 'neutral',\n        'neutral', nan],\n       ['neutral', 'neutral', 'neutral', nan, nan, 'neutral', 'neutral',\n        'neutral', nan, nan, 'neutral', 'neutral', 'contradiction', nan,\n        nan, 'neutral', 'neutral', 'neutral', nan, nan, nan, nan, nan,\n        nan, nan],\n       ['entailment', 'neutral', 'neutral', nan, nan, 'neutral',\n        'entailment', 'neutral', nan, nan, 'neutral', 'neutral',\n        'entailment', nan, nan, 'neutral', 'neutral', 'neutral', nan,\n        nan, nan, nan, nan, nan, nan],\n       ['entailment', 'neutral', 'neutral', 'neutral', nan, 'neutral',\n        'entailment', 'neutral', 'neutral', nan, 'neutral', 'neutral',\n        'entailment', 'neutral', nan, 'neutral', 'neutral', 'neutral',\n        'neutral', nan, nan, nan, nan, nan, nan],\n       ['entailment', 'neutral', nan, nan, nan, 'neutral',\n        'contradiction', nan, nan, nan, 'neutral', 'neutral', nan, nan,\n        nan, nan, nan, nan, nan, nan, nan, nan, nan, nan, nan],\n       ['entailment', 'neutral', 'neutral', nan, nan, 'neutral',\n        'entailment', 'neutral', nan, nan, 'neutral', 'neutral',\n        'entailment', nan, nan, nan, nan, nan, nan, nan, nan, nan, nan,\n        nan, nan],\n       ['neutral', 'neutral', 'neutral', nan, nan, 'neutral',\n        'entailment', 'neutral', nan, nan, 'neutral', 'neutral',\n        'neutral', nan, nan, nan, nan, nan, nan, nan, nan, nan, nan, nan,\n        nan],\n       ['entailment', 'neutral', 'neutral', nan, nan, 'neutral',\n        'neutral', 'neutral', nan, nan, nan, nan, nan, nan, nan,\n        'neutral', 'neutral', 'neutral', nan, nan, nan, nan, nan, nan,\n        nan],\n       ['contradiction', 'neutral', 'neutral', 'neutral', nan, 'neutral',\n        'neutral', 'neutral', 'neutral', nan, nan, nan, nan, nan, nan,\n        'neutral', 'neutral', 'neutral', 'contradiction', nan, nan, nan,\n        nan, nan, nan],\n       ['entailment', 'neutral', 'neutral', nan, nan, 'neutral',\n        'neutral', 'neutral', nan, nan, nan, nan, nan, nan, nan,\n        'neutral', 'neutral', 'neutral', nan, nan, nan, nan, nan, nan,\n        nan],\n       ['entailment', 'neutral', 'neutral', 'neutral', 'neutral',\n        'neutral', 'contradiction', 'neutral', 'neutral', 'neutral',\n        'neutral', 'neutral', 'contradiction', nan, 'neutral', nan, nan,\n        nan, nan, nan, 'neutral', 'neutral', 'neutral', nan,\n        'entailment'],\n       ['entailment', 'neutral', 'neutral', nan, nan, 'neutral',\n        'contradiction', 'contradiction', nan, nan, nan, nan, nan, nan,\n        nan, 'neutral', 'neutral', 'neutral', nan, nan, nan, nan, nan,\n        nan, nan],\n       ['entailment', 'neutral', nan, nan, nan, 'neutral', 'neutral',\n        nan, nan, nan, nan, nan, nan, nan, nan, 'neutral', 'neutral',\n        nan, nan, nan, nan, nan, nan, nan, nan],\n       ['entailment', 'neutral', nan, 'neutral', nan, 'neutral',\n        'entailment', nan, 'neutral', nan, nan, nan, nan, nan, nan,\n        'neutral', 'neutral', nan, 'entailment', nan, nan, nan, nan, nan,\n        nan],\n       ['entailment', 'neutral', 'neutral', nan, 'neutral', 'neutral',\n        'neutral', 'neutral', nan, 'neutral', 'neutral', 'neutral', nan,\n        nan, 'neutral', nan, nan, nan, nan, nan, 'neutral', 'neutral',\n        'neutral', nan, 'contradiction'],\n       ['entailment', 'neutral', 'neutral', nan, 'neutral', 'neutral',\n        'neutral', 'neutral', nan, 'neutral', 'neutral', 'neutral',\n        'entailment', nan, 'neutral', nan, nan, nan, nan, nan, 'neutral',\n        'entailment', 'neutral', nan, 'entailment'],\n       ['entailment', 'neutral', 'neutral', 'neutral', nan, 'neutral',\n        'entailment', 'neutral', 'neutral', nan, 'neutral', 'neutral',\n        nan, 'neutral', nan, nan, nan, nan, nan, nan, 'neutral',\n        'neutral', 'neutral', 'neutral', nan],\n       ['neutral', 'neutral', nan, 'neutral', nan, 'neutral',\n        'entailment', nan, 'neutral', nan, nan, nan, nan, nan, nan,\n        'neutral', 'neutral', nan, 'entailment', nan, nan, nan, nan, nan,\n        nan],\n       ['entailment', 'neutral', 'neutral', nan, nan, 'neutral',\n        'entailment', 'neutral', nan, nan, nan, nan, nan, nan, nan,\n        'neutral', 'neutral', 'neutral', nan, nan, nan, nan, nan, nan,\n        nan],\n       ['neutral', 'neutral', 'neutral', nan, nan, 'neutral', 'neutral',\n        'neutral', nan, nan, nan, nan, nan, nan, nan, 'neutral',\n        'neutral', 'neutral', nan, nan, nan, nan, nan, nan, nan],\n       ['entailment', 'neutral', 'neutral', nan, nan, 'neutral',\n        'neutral', 'neutral', nan, nan, nan, nan, nan, nan, nan,\n        'neutral', 'neutral', 'neutral', nan, nan, nan, nan, nan, nan,\n        nan],\n       ['entailment', 'neutral', nan, 'neutral', nan, 'neutral',\n        'contradiction', nan, 'neutral', nan, nan, nan, nan, nan, nan,\n        'neutral', 'neutral', nan, 'contradiction', nan, nan, nan, nan,\n        nan, nan],\n       ['entailment', 'neutral', nan, 'neutral', nan, 'neutral',\n        'entailment', nan, 'entailment', nan, nan, nan, nan, nan, nan,\n        'neutral', 'neutral', nan, 'neutral', nan, nan, nan, nan, nan,\n        nan],\n       ['entailment', 'neutral', nan, nan, nan, 'neutral', 'neutral',\n        nan, nan, nan, 'neutral', 'neutral', nan, nan, nan, 'neutral',\n        'neutral', nan, nan, nan, nan, nan, nan, nan, nan],\n       ['entailment', 'neutral', 'neutral', 'neutral', nan, 'neutral',\n        'neutral', 'neutral', 'contradiction', nan, 'neutral', 'neutral',\n        'neutral', 'neutral', nan, 'neutral', 'neutral', 'neutral',\n        'contradiction', nan, nan, nan, nan, nan, nan]], dtype=object)"
     },
     "execution_count": 54,
     "metadata": {},
     "output_type": "execute_result"
    }
   ],
   "source": [
    "human_z"
   ],
   "metadata": {
    "collapsed": false,
    "pycharm": {
     "name": "#%%\n"
    }
   }
  },
  {
   "cell_type": "code",
   "execution_count": 64,
   "outputs": [
    {
     "name": "stdout",
     "output_type": "stream",
     "text": [
      "TRUE: there is no indication that the subject of sentence 2 is The sisters and there is no indication that the object of sentence 2 is goodbye\n",
      "WRONG: there is no indication that the verb of sentence 2 is holding and there is no indication that the object of sentence 2 is packages\n",
      "TRUE: two women is not the same as the men and embracing is not the same as fighting\n",
      "TRUE: a woman is the same as a woman and doing is the same as doing and a cartwheel is the same as a cartwheel and if the clothing described in sentence 1 is bikini, then the subject of sentence 2 has to be a woman\n",
      "WRONG: there is no indication that the verb of sentence 2 is fixing and there is no indication that the object of sentence 2 is her home\n",
      "TRUE: if the object of sentence 1 is a cartwheel, the location of sentence 2 cannot be on her head and in the sand is not the same as on her head\n",
      "TRUE: surgery on patient is not the same as lunch\n",
      "TRUE: two doctors is the same as doctors and perform is the same as performing and surgery on patient is the same as surgery\n",
      "TRUE: there is no indication that the location of sentence 2 is on a man\n",
      "TRUE: catch is not the same as swimming\n",
      "TRUE: a white dog with long hair is the same as an animal and catch is the same as catch and a red toy is the same as an object\n",
      "TRUE: there is no indication that the subject of sentence 2 is A chihuahua mix with long curly hair and there is no indication that the object of sentence 2 is a red toy bone\n",
      "TRUE: there is no indication that the verb of sentence 2 is ride and there is no indication that the object of sentence 2 is their favorite amusement ride\n",
      "TRUE: kids is not the same as the side of the road and on a amusement ride is not the same as on the side of the road\n",
      "WRONG: there is no indication that the verb of sentence 2 is ride and there is no indication that the object of sentence 2 is an amusement ride\n",
      "TRUE: playing is not the same as trades and golf is not the same as pokemon cards\n",
      "TRUE: stumbles is not the same as driving and if the verb of sentence 1 is stumbles, the object of sentence 2 cannot be cars\n",
      "TRUE: there is no indication that the verb of sentence 2 is fall\n",
      "TRUE: a man in is the same as the man and stumbles is the same as stumbles and in a green jersey and rollerskates is the same as in rollerskates\n",
      "TRUE: white t shirt is not the same as black shirt\n",
      "TRUE: a man in a white t - shirt is the same as a man and a picture is the same as a white shirt and if the clothing described in sentence 1 is white t shirt, then the verb of sentence 2 has to be wearing and white t shirt is the same as white shirt\n",
      "TRUE: there is no indication that the object of sentence 2 is photos and there is no indication that the location of sentence 2 is on tour in nyc\n",
      "WRONG: there is no indication that the subject of sentence 2 is Men\n",
      "WRONG: there is no indication that the object of sentence 2 is Deere equipment\n",
      "WRONG: there is no indication that the subject of sentence 2 is 2 Men and there is no indication that the verb of sentence 2 is making and there is no indication that the object of sentence 2 is a pool\n",
      "TRUE: there is no indication that the verb of sentence 2 is gaining and there is no indication that the object of sentence 2 is momentum\n",
      "TRUE: swings is not the same as laying and in the air is not the same as in the pool\n",
      "TRUE: a girl is the same as a girl and swings is the same as is and if the verb of sentence 1 is swings, then the location of sentence 2 has to be on a swing\n",
      "TRUE: there is no indication that the verb of sentence 2 is trying\n",
      "TRUE: if the verb of sentence 1 is studying, the location of sentence 2 cannot be in a theater and in a supermarket aisle is not the same as in a theater\n"
     ]
    },
    {
     "ename": "IndexError",
     "evalue": "index 30 is out of bounds for axis 0 with size 30",
     "output_type": "error",
     "traceback": [
      "\u001B[0;31m---------------------------------------------------------------------------\u001B[0m",
      "\u001B[0;31mIndexError\u001B[0m                                Traceback (most recent call last)",
      "Cell \u001B[0;32mIn[64], line 2\u001B[0m\n\u001B[1;32m      1\u001B[0m \u001B[38;5;28;01mfor\u001B[39;00m i \u001B[38;5;129;01min\u001B[39;00m \u001B[38;5;28mrange\u001B[39m(\u001B[38;5;241m40\u001B[39m):\n\u001B[0;32m----> 2\u001B[0m     \u001B[38;5;28;01mif\u001B[39;00m y_hat[i] \u001B[38;5;241m!=\u001B[39m \u001B[43my_hat_human_pred\u001B[49m\u001B[43m[\u001B[49m\u001B[43mi\u001B[49m\u001B[43m]\u001B[49m:\n\u001B[1;32m      3\u001B[0m         suffix \u001B[38;5;241m=\u001B[39m \u001B[38;5;124m'\u001B[39m\u001B[38;5;124mWRONG: \u001B[39m\u001B[38;5;124m'\u001B[39m\n\u001B[1;32m      4\u001B[0m     \u001B[38;5;28;01melse\u001B[39;00m:\n",
      "\u001B[0;31mIndexError\u001B[0m: index 30 is out of bounds for axis 0 with size 30"
     ]
    }
   ],
   "source": [
    "for i in range(40):\n",
    "    if y_hat[i] != y_hat_human_pred[i]:\n",
    "        suffix = 'WRONG: '\n",
    "    else:\n",
    "        suffix = 'TRUE: '\n",
    "    print(suffix + generate_explanation(human_z[i,:], dev_subphrases.iloc[i]))"
   ],
   "metadata": {
    "collapsed": false,
    "pycharm": {
     "name": "#%%\n"
    }
   }
  },
  {
   "cell_type": "code",
   "execution_count": 24,
   "outputs": [
    {
     "data": {
      "text/plain": "array(['neutral', 'neutral', 'neutral', 'neutral', 'neutral', 'neutral'],\n      dtype=object)"
     },
     "execution_count": 24,
     "metadata": {},
     "output_type": "execute_result"
    }
   ],
   "source": [
    "y_hat_human_pred[np.where(y_hat[:30] != y_hat_human_pred)]"
   ],
   "metadata": {
    "collapsed": false,
    "pycharm": {
     "name": "#%%\n"
    }
   }
  },
  {
   "cell_type": "code",
   "execution_count": 25,
   "outputs": [
    {
     "data": {
      "text/plain": "pairID\n4705552913.jpg#2r1e       entailment\n3948003394.jpg#1r1c    contradiction\n7391785714.jpg#4r1e       entailment\n5777129645.jpg#2r1n       entailment\n5777129645.jpg#2r1e       entailment\n5777129645.jpg#2r1c    contradiction\nName: gold_label, dtype: object"
     },
     "execution_count": 25,
     "metadata": {},
     "output_type": "execute_result"
    }
   ],
   "source": [
    "y_hat.iloc[np.where(y_hat[:30] != y_hat_human_pred)]"
   ],
   "metadata": {
    "collapsed": false,
    "pycharm": {
     "name": "#%%\n"
    }
   }
  },
  {
   "cell_type": "code",
   "execution_count": 26,
   "outputs": [
    {
     "data": {
      "text/plain": "array([['entailment', 'neutral', 'neutral', nan, nan, 'neutral',\n        'neutral', 'neutral', nan, nan, nan, nan, nan, nan, nan, nan,\n        nan, nan, nan, nan, nan, nan, nan, nan, nan],\n       ['entailment', 'neutral', 'neutral', nan, nan, 'neutral',\n        'neutral', 'neutral', nan, nan, 'neutral', 'neutral', 'neutral',\n        nan, nan, 'neutral', 'neutral', 'neutral', nan, nan,\n        'entailment', 'neutral', 'neutral', nan, nan],\n       ['entailment', 'neutral', 'neutral', nan, nan, 'neutral',\n        'neutral', 'neutral', nan, nan, nan, nan, nan, nan, nan,\n        'neutral', 'neutral', 'neutral', nan, nan, nan, nan, nan, nan,\n        nan],\n       ['neutral', 'neutral', nan, 'neutral', nan, 'neutral',\n        'entailment', nan, 'neutral', nan, nan, nan, nan, nan, nan,\n        'neutral', 'neutral', nan, 'entailment', nan, nan, nan, nan, nan,\n        nan],\n       ['entailment', 'neutral', 'neutral', nan, nan, 'neutral',\n        'entailment', 'neutral', nan, nan, nan, nan, nan, nan, nan,\n        'neutral', 'neutral', 'neutral', nan, nan, nan, nan, nan, nan,\n        nan],\n       ['neutral', 'neutral', 'neutral', nan, nan, 'neutral', 'neutral',\n        'neutral', nan, nan, nan, nan, nan, nan, nan, 'neutral',\n        'neutral', 'neutral', nan, nan, nan, nan, nan, nan, nan]],\n      dtype=object)"
     },
     "execution_count": 26,
     "metadata": {},
     "output_type": "execute_result"
    }
   ],
   "source": [
    "human_z[y_hat[:30] != y_hat_human_pred,:]"
   ],
   "metadata": {
    "collapsed": false,
    "pycharm": {
     "name": "#%%\n"
    }
   }
  },
  {
   "cell_type": "code",
   "execution_count": 27,
   "outputs": [
    {
     "data": {
      "text/plain": "                     Unnamed: 0   string_subj_s1 string_verb_s1 string_obj_s1  \\\npairID                                                                          \n4705552913.jpg#2r1e           1        Two women      embracing           NaN   \n3948003394.jpg#1r1c          19          A woman          doing   a cartwheel   \n7391785714.jpg#4r1e          50             Kids            are           NaN   \n5777129645.jpg#2r1n          86  The two farmers        working           NaN   \n5777129645.jpg#2r1e          87  The two farmers        working           NaN   \n5777129645.jpg#2r1c          88  The two farmers        working           NaN   \n\n                                          string_loc_s1 string_clo_s1  \\\npairID                                                                  \n4705552913.jpg#2r1e                                 NaN           NaN   \n3948003394.jpg#1r1c                         in the sand        bikini   \n7391785714.jpg#4r1e                 on a amusement ride           NaN   \n5777129645.jpg#2r1n  on a piece of John Deere equipment           NaN   \n5777129645.jpg#2r1e  on a piece of John Deere equipment           NaN   \n5777129645.jpg#2r1c  on a piece of John Deere equipment           NaN   \n\n                    string_subj_s2 string_verb_s2      string_obj_s2  \\\npairID                                                                 \n4705552913.jpg#2r1e      Two woman        holding           packages   \n3948003394.jpg#1r1c        A woman         fixing           her home   \n7391785714.jpg#4r1e           Kids           ride  an amusement ride   \n5777129645.jpg#2r1n            Men        working                NaN   \n5777129645.jpg#2r1e    two farmers           work    Deere equipment   \n5777129645.jpg#2r1c          2 Men         making             a pool   \n\n                               string_loc_s2 string_clo_s2  \npairID                                                      \n4705552913.jpg#2r1e                      NaN           NaN  \n3948003394.jpg#1r1c                      NaN           NaN  \n7391785714.jpg#4r1e                      NaN           NaN  \n5777129645.jpg#2r1n  on John Deere equipment           NaN  \n5777129645.jpg#2r1e                      NaN           NaN  \n5777129645.jpg#2r1c                      NaN           NaN  ",
      "text/html": "<div>\n<style scoped>\n    .dataframe tbody tr th:only-of-type {\n        vertical-align: middle;\n    }\n\n    .dataframe tbody tr th {\n        vertical-align: top;\n    }\n\n    .dataframe thead th {\n        text-align: right;\n    }\n</style>\n<table border=\"1\" class=\"dataframe\">\n  <thead>\n    <tr style=\"text-align: right;\">\n      <th></th>\n      <th>Unnamed: 0</th>\n      <th>string_subj_s1</th>\n      <th>string_verb_s1</th>\n      <th>string_obj_s1</th>\n      <th>string_loc_s1</th>\n      <th>string_clo_s1</th>\n      <th>string_subj_s2</th>\n      <th>string_verb_s2</th>\n      <th>string_obj_s2</th>\n      <th>string_loc_s2</th>\n      <th>string_clo_s2</th>\n    </tr>\n    <tr>\n      <th>pairID</th>\n      <th></th>\n      <th></th>\n      <th></th>\n      <th></th>\n      <th></th>\n      <th></th>\n      <th></th>\n      <th></th>\n      <th></th>\n      <th></th>\n      <th></th>\n    </tr>\n  </thead>\n  <tbody>\n    <tr>\n      <th>4705552913.jpg#2r1e</th>\n      <td>1</td>\n      <td>Two women</td>\n      <td>embracing</td>\n      <td>NaN</td>\n      <td>NaN</td>\n      <td>NaN</td>\n      <td>Two woman</td>\n      <td>holding</td>\n      <td>packages</td>\n      <td>NaN</td>\n      <td>NaN</td>\n    </tr>\n    <tr>\n      <th>3948003394.jpg#1r1c</th>\n      <td>19</td>\n      <td>A woman</td>\n      <td>doing</td>\n      <td>a cartwheel</td>\n      <td>in the sand</td>\n      <td>bikini</td>\n      <td>A woman</td>\n      <td>fixing</td>\n      <td>her home</td>\n      <td>NaN</td>\n      <td>NaN</td>\n    </tr>\n    <tr>\n      <th>7391785714.jpg#4r1e</th>\n      <td>50</td>\n      <td>Kids</td>\n      <td>are</td>\n      <td>NaN</td>\n      <td>on a amusement ride</td>\n      <td>NaN</td>\n      <td>Kids</td>\n      <td>ride</td>\n      <td>an amusement ride</td>\n      <td>NaN</td>\n      <td>NaN</td>\n    </tr>\n    <tr>\n      <th>5777129645.jpg#2r1n</th>\n      <td>86</td>\n      <td>The two farmers</td>\n      <td>working</td>\n      <td>NaN</td>\n      <td>on a piece of John Deere equipment</td>\n      <td>NaN</td>\n      <td>Men</td>\n      <td>working</td>\n      <td>NaN</td>\n      <td>on John Deere equipment</td>\n      <td>NaN</td>\n    </tr>\n    <tr>\n      <th>5777129645.jpg#2r1e</th>\n      <td>87</td>\n      <td>The two farmers</td>\n      <td>working</td>\n      <td>NaN</td>\n      <td>on a piece of John Deere equipment</td>\n      <td>NaN</td>\n      <td>two farmers</td>\n      <td>work</td>\n      <td>Deere equipment</td>\n      <td>NaN</td>\n      <td>NaN</td>\n    </tr>\n    <tr>\n      <th>5777129645.jpg#2r1c</th>\n      <td>88</td>\n      <td>The two farmers</td>\n      <td>working</td>\n      <td>NaN</td>\n      <td>on a piece of John Deere equipment</td>\n      <td>NaN</td>\n      <td>2 Men</td>\n      <td>making</td>\n      <td>a pool</td>\n      <td>NaN</td>\n      <td>NaN</td>\n    </tr>\n  </tbody>\n</table>\n</div>"
     },
     "execution_count": 27,
     "metadata": {},
     "output_type": "execute_result"
    }
   ],
   "source": [
    "dev_subphrases.iloc[np.where(y_hat[:30] != y_hat_human_pred)]"
   ],
   "metadata": {
    "collapsed": false,
    "pycharm": {
     "name": "#%%\n"
    }
   }
  },
  {
   "cell_type": "code",
   "execution_count": 30,
   "outputs": [
    {
     "data": {
      "text/plain": "                     pairID     gold_label  \\\n0       3416050480.jpg#4r1n        neutral   \n1       3416050480.jpg#4r1c  contradiction   \n2       3416050480.jpg#4r1e     entailment   \n3       2267923837.jpg#2r1n        neutral   \n4       2267923837.jpg#2r1e     entailment   \n...                     ...            ...   \n289363  2267923837.jpg#3r1c  contradiction   \n289364  2267923837.jpg#3r1n        neutral   \n289365  7979219683.jpg#2r1n        neutral   \n289366  7979219683.jpg#2r1c  contradiction   \n289367  7979219683.jpg#2r1e     entailment   \n\n                                                Sentence1  \\\n0       A person on a horse jumps over a broken down a...   \n1       A person on a horse jumps over a broken down a...   \n2       A person on a horse jumps over a broken down a...   \n3                   Children smiling and waving at camera   \n4                   Children smiling and waving at camera   \n...                                                   ...   \n289363                Four dirty and barefooted children.   \n289364                Four dirty and barefooted children.   \n289365  A man is surfing in a bodysuit in beautiful bl...   \n289366  A man is surfing in a bodysuit in beautiful bl...   \n289367  A man is surfing in a bodysuit in beautiful bl...   \n\n                                                Sentence2  \\\n0       A person is training his horse for a competition.   \n1           A person is at a diner, ordering an omelette.   \n2                       A person is outdoors, on a horse.   \n3                       They are smiling at their parents   \n4                              There are children present   \n...                                                   ...   \n289363           four kids won awards for 'cleanest feet'   \n289364  four homeless children had their shoes stolen,...   \n289365  A man in a bodysuit is competing in a surfing ...   \n289366  A man in a business suit is heading to a board...   \n289367  On the beautiful blue water there is a man in ...   \n\n                                            Explanation_1        WorkerId  \\\n0        the person is not necessarily training his horse   AF0PI3RISB5Q7   \n1       One cannot be on a jumping horse cannot be a d...  A36ZT2WFIA2HMF   \n2                      a broken down airplane is outdoors  A2GK75ZQTX2RDZ   \n3       Just because they are smiling and waving at a ...  A18TOIDG32QICP   \n4       The children must be present to see them smili...   AEX0YE6TUZRHT   \n...                                                   ...             ...   \n289363  in a both sentence dirty and cleanest are not ...   A8Q7V9A0SN3SF   \n289364          the children are not necessarily homeless   AF0PI3RISB5Q7   \n289365               the man is not necessarily competing   AF0PI3RISB5Q7   \n289366        That is either a business suit or bodysuit.  A2BT0LQYMBL7LV   \n289367  The man is in a bodysuit and he is surfing on ...   AEX0YE6TUZRHT   \n\n                                       Sentence1_marked_1  \\\n0       A person on a horse jumps over a broken down a...   \n1        A person *on* *a* *horse* *jumps* over a brok...   \n2        A person on a horse jumps over *a* *broken* *...   \n3                   Children smiling and waving at camera   \n4           *Children* *smiling* *and* *waving* at camera   \n...                                                   ...   \n289363              Four *dirty* and barefooted children.   \n289364                Four dirty and barefooted children.   \n289365  A man is surfing in a bodysuit in beautiful bl...   \n289366   A man is surfing in a *bodysuit* in beautiful...   \n289367   A *man* *is* *surfing* *in* a *bodysuit* *in*...   \n\n                                       Sentence2_marked_1  \\\n0        A person is *training* *his* *horse* for a co...   \n1        A person *is* *at* *a* *diner,* *ordering* an...   \n2                     A person is *outdoors,* on a horse.   \n3                 They are smiling *at* *their* *parents*   \n4                            There are children *present*   \n...                                                   ...   \n289363         four kids won awards for *'cleanest* feet'   \n289364   four *homeless* children had their shoes stol...   \n289365   A man in a bodysuit is *competing* in a surfi...   \n289366   A man in a *business* *suit* is heading to a ...   \n289367   *On* the beautiful blue *water* there is a ma...   \n\n       Sentence1_Highlighted_1 Sentence2_Highlighted_1  \n0                           {}                   3,4,5  \n1                      4,2,3,5               2,5,4,3,6  \n2                     8,9,10,7                       3  \n3                           {}                   5,3,4  \n4                      0,1,3,2                       3  \n...                        ...                     ...  \n289363                       1                       5  \n289364                      {}                       1  \n289365                      {}                       6  \n289366                       6                     4,5  \n289367          3,6,10,7,1,2,4               11,12,0,4  \n\n[549339 rows x 10 columns]",
      "text/html": "<div>\n<style scoped>\n    .dataframe tbody tr th:only-of-type {\n        vertical-align: middle;\n    }\n\n    .dataframe tbody tr th {\n        vertical-align: top;\n    }\n\n    .dataframe thead th {\n        text-align: right;\n    }\n</style>\n<table border=\"1\" class=\"dataframe\">\n  <thead>\n    <tr style=\"text-align: right;\">\n      <th></th>\n      <th>pairID</th>\n      <th>gold_label</th>\n      <th>Sentence1</th>\n      <th>Sentence2</th>\n      <th>Explanation_1</th>\n      <th>WorkerId</th>\n      <th>Sentence1_marked_1</th>\n      <th>Sentence2_marked_1</th>\n      <th>Sentence1_Highlighted_1</th>\n      <th>Sentence2_Highlighted_1</th>\n    </tr>\n  </thead>\n  <tbody>\n    <tr>\n      <th>0</th>\n      <td>3416050480.jpg#4r1n</td>\n      <td>neutral</td>\n      <td>A person on a horse jumps over a broken down a...</td>\n      <td>A person is training his horse for a competition.</td>\n      <td>the person is not necessarily training his horse</td>\n      <td>AF0PI3RISB5Q7</td>\n      <td>A person on a horse jumps over a broken down a...</td>\n      <td>A person is *training* *his* *horse* for a co...</td>\n      <td>{}</td>\n      <td>3,4,5</td>\n    </tr>\n    <tr>\n      <th>1</th>\n      <td>3416050480.jpg#4r1c</td>\n      <td>contradiction</td>\n      <td>A person on a horse jumps over a broken down a...</td>\n      <td>A person is at a diner, ordering an omelette.</td>\n      <td>One cannot be on a jumping horse cannot be a d...</td>\n      <td>A36ZT2WFIA2HMF</td>\n      <td>A person *on* *a* *horse* *jumps* over a brok...</td>\n      <td>A person *is* *at* *a* *diner,* *ordering* an...</td>\n      <td>4,2,3,5</td>\n      <td>2,5,4,3,6</td>\n    </tr>\n    <tr>\n      <th>2</th>\n      <td>3416050480.jpg#4r1e</td>\n      <td>entailment</td>\n      <td>A person on a horse jumps over a broken down a...</td>\n      <td>A person is outdoors, on a horse.</td>\n      <td>a broken down airplane is outdoors</td>\n      <td>A2GK75ZQTX2RDZ</td>\n      <td>A person on a horse jumps over *a* *broken* *...</td>\n      <td>A person is *outdoors,* on a horse.</td>\n      <td>8,9,10,7</td>\n      <td>3</td>\n    </tr>\n    <tr>\n      <th>3</th>\n      <td>2267923837.jpg#2r1n</td>\n      <td>neutral</td>\n      <td>Children smiling and waving at camera</td>\n      <td>They are smiling at their parents</td>\n      <td>Just because they are smiling and waving at a ...</td>\n      <td>A18TOIDG32QICP</td>\n      <td>Children smiling and waving at camera</td>\n      <td>They are smiling *at* *their* *parents*</td>\n      <td>{}</td>\n      <td>5,3,4</td>\n    </tr>\n    <tr>\n      <th>4</th>\n      <td>2267923837.jpg#2r1e</td>\n      <td>entailment</td>\n      <td>Children smiling and waving at camera</td>\n      <td>There are children present</td>\n      <td>The children must be present to see them smili...</td>\n      <td>AEX0YE6TUZRHT</td>\n      <td>*Children* *smiling* *and* *waving* at camera</td>\n      <td>There are children *present*</td>\n      <td>0,1,3,2</td>\n      <td>3</td>\n    </tr>\n    <tr>\n      <th>...</th>\n      <td>...</td>\n      <td>...</td>\n      <td>...</td>\n      <td>...</td>\n      <td>...</td>\n      <td>...</td>\n      <td>...</td>\n      <td>...</td>\n      <td>...</td>\n      <td>...</td>\n    </tr>\n    <tr>\n      <th>289363</th>\n      <td>2267923837.jpg#3r1c</td>\n      <td>contradiction</td>\n      <td>Four dirty and barefooted children.</td>\n      <td>four kids won awards for 'cleanest feet'</td>\n      <td>in a both sentence dirty and cleanest are not ...</td>\n      <td>A8Q7V9A0SN3SF</td>\n      <td>Four *dirty* and barefooted children.</td>\n      <td>four kids won awards for *'cleanest* feet'</td>\n      <td>1</td>\n      <td>5</td>\n    </tr>\n    <tr>\n      <th>289364</th>\n      <td>2267923837.jpg#3r1n</td>\n      <td>neutral</td>\n      <td>Four dirty and barefooted children.</td>\n      <td>four homeless children had their shoes stolen,...</td>\n      <td>the children are not necessarily homeless</td>\n      <td>AF0PI3RISB5Q7</td>\n      <td>Four dirty and barefooted children.</td>\n      <td>four *homeless* children had their shoes stol...</td>\n      <td>{}</td>\n      <td>1</td>\n    </tr>\n    <tr>\n      <th>289365</th>\n      <td>7979219683.jpg#2r1n</td>\n      <td>neutral</td>\n      <td>A man is surfing in a bodysuit in beautiful bl...</td>\n      <td>A man in a bodysuit is competing in a surfing ...</td>\n      <td>the man is not necessarily competing</td>\n      <td>AF0PI3RISB5Q7</td>\n      <td>A man is surfing in a bodysuit in beautiful bl...</td>\n      <td>A man in a bodysuit is *competing* in a surfi...</td>\n      <td>{}</td>\n      <td>6</td>\n    </tr>\n    <tr>\n      <th>289366</th>\n      <td>7979219683.jpg#2r1c</td>\n      <td>contradiction</td>\n      <td>A man is surfing in a bodysuit in beautiful bl...</td>\n      <td>A man in a business suit is heading to a board...</td>\n      <td>That is either a business suit or bodysuit.</td>\n      <td>A2BT0LQYMBL7LV</td>\n      <td>A man is surfing in a *bodysuit* in beautiful...</td>\n      <td>A man in a *business* *suit* is heading to a ...</td>\n      <td>6</td>\n      <td>4,5</td>\n    </tr>\n    <tr>\n      <th>289367</th>\n      <td>7979219683.jpg#2r1e</td>\n      <td>entailment</td>\n      <td>A man is surfing in a bodysuit in beautiful bl...</td>\n      <td>On the beautiful blue water there is a man in ...</td>\n      <td>The man is in a bodysuit and he is surfing on ...</td>\n      <td>AEX0YE6TUZRHT</td>\n      <td>A *man* *is* *surfing* *in* a *bodysuit* *in*...</td>\n      <td>*On* the beautiful blue *water* there is a ma...</td>\n      <td>3,6,10,7,1,2,4</td>\n      <td>11,12,0,4</td>\n    </tr>\n  </tbody>\n</table>\n<p>549339 rows × 10 columns</p>\n</div>"
     },
     "execution_count": 30,
     "metadata": {},
     "output_type": "execute_result"
    }
   ],
   "source": [
    "train"
   ],
   "metadata": {
    "collapsed": false,
    "pycharm": {
     "name": "#%%\n"
    }
   }
  },
  {
   "cell_type": "code",
   "execution_count": 28,
   "outputs": [
    {
     "ename": "NameError",
     "evalue": "name 'y_hat_pred' is not defined",
     "output_type": "error",
     "traceback": [
      "\u001B[0;31m---------------------------------------------------------------------------\u001B[0m",
      "\u001B[0;31mNameError\u001B[0m                                 Traceback (most recent call last)",
      "Cell \u001B[0;32mIn[28], line 1\u001B[0m\n\u001B[0;32m----> 1\u001B[0m np\u001B[38;5;241m.\u001B[39mmean(\u001B[43my_hat_pred\u001B[49m[:\u001B[38;5;241m30\u001B[39m] \u001B[38;5;241m==\u001B[39m y_hat_human_pred)\n",
      "\u001B[0;31mNameError\u001B[0m: name 'y_hat_pred' is not defined"
     ]
    }
   ],
   "source": [
    "np.mean(y_hat_pred[:30] == y_hat_human_pred)"
   ],
   "metadata": {
    "collapsed": false,
    "pycharm": {
     "name": "#%%\n"
    }
   }
  },
  {
   "cell_type": "code",
   "execution_count": 29,
   "outputs": [
    {
     "data": {
      "text/plain": "0.8"
     },
     "execution_count": 29,
     "metadata": {},
     "output_type": "execute_result"
    }
   ],
   "source": [
    "np.mean(y_hat[:30] == y_hat_human_pred)"
   ],
   "metadata": {
    "collapsed": false,
    "pycharm": {
     "name": "#%%\n"
    }
   }
  },
  {
   "cell_type": "code",
   "execution_count": 83,
   "outputs": [
    {
     "data": {
      "text/plain": "0.6069192751235585"
     },
     "execution_count": 83,
     "metadata": {},
     "output_type": "execute_result"
    }
   ],
   "source": [
    "np.mean(y_hat_pred == y_hat)"
   ],
   "metadata": {
    "collapsed": false,
    "pycharm": {
     "name": "#%%\n"
    }
   }
  }
 ],
 "metadata": {
  "kernelspec": {
   "display_name": "Python 3",
   "language": "python",
   "name": "python3"
  },
  "language_info": {
   "codemirror_mode": {
    "name": "ipython",
    "version": 2
   },
   "file_extension": ".py",
   "mimetype": "text/x-python",
   "name": "python",
   "nbconvert_exporter": "python",
   "pygments_lexer": "ipython2",
   "version": "2.7.6"
  }
 },
 "nbformat": 4,
 "nbformat_minor": 0
}