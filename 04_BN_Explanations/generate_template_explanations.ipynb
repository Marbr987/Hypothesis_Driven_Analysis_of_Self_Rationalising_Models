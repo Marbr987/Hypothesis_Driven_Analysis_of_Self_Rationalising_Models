{
 "cells": [
  {
   "cell_type": "code",
   "execution_count": 1,
   "outputs": [],
   "source": [
    "import pandas as pd\n",
    "import datetime\n",
    "import numpy as np\n",
    "from sklearn.neural_network import MLPClassifier\n",
    "import matplotlib.pyplot as plt\n",
    "from sklearn.metrics import confusion_matrix, f1_score, accuracy_score\n",
    "import pickle"
   ],
   "metadata": {
    "collapsed": false,
    "pycharm": {
     "name": "#%%\n"
    }
   }
  },
  {
   "cell_type": "code",
   "execution_count": 96,
   "outputs": [],
   "source": [
    "directory = 'MLP_Classifiers_200k_training_10_iter_NN_size_200_200_50_30'"
   ],
   "metadata": {
    "collapsed": false,
    "pycharm": {
     "name": "#%%\n"
    }
   }
  },
  {
   "cell_type": "code",
   "execution_count": 57,
   "outputs": [],
   "source": [
    "train1 = pd.read_csv('../Input_Data/e-SNLI/dataset/esnli_train_1.csv')\n",
    "train2 = pd.read_csv('../Input_Data/e-SNLI/dataset/esnli_train_2.csv')\n",
    "train = pd.concat([train1, train2])\n",
    "train = train[train.notnull().apply(all, axis=1)]\n",
    "dev = pd.read_csv('../Input_Data/e-SNLI/dataset/esnli_dev.csv')\n",
    "dev = dev[dev.notnull().apply(all, axis=1)]\n",
    "test = pd.read_csv('../Input_Data/e-SNLI/dataset/esnli_test.csv')\n",
    "test = test[test.notnull().apply(all, axis=1)]\n",
    "\n",
    "dev_prepared = pd.read_csv('../02_Extract_Subphrases/prepared_data/subphrase_vectors_dev.csv', sep=';')\n",
    "dev_prepared = dev_prepared.drop(columns='Unnamed: 0')\n",
    "dev = dev.set_index('pairID')\n",
    "rel_pairIDs = dev_prepared.iloc[:,0]\n",
    "y_hat = dev.loc[rel_pairIDs].gold_label\n",
    "dev_prepared = dev_prepared.iloc[:,1:].to_numpy()"
   ],
   "metadata": {
    "collapsed": false,
    "pycharm": {
     "name": "#%%\n"
    }
   }
  },
  {
   "cell_type": "code",
   "execution_count": 58,
   "outputs": [],
   "source": [
    "dev_subphrases = pd.read_csv('../02_Extract_Subphrases/prepared_data/subphrases_dev.csv', sep=',')\n",
    "dev_subphrases = dev_subphrases.set_index('pairID')\n",
    "dev_subphrases = dev_subphrases.loc[rel_pairIDs]"
   ],
   "metadata": {
    "collapsed": false,
    "pycharm": {
     "name": "#%%\n"
    }
   }
  },
  {
   "cell_type": "code",
   "execution_count": 36,
   "outputs": [
    {
     "data": {
      "text/plain": "'Two women'"
     },
     "execution_count": 36,
     "metadata": {},
     "output_type": "execute_result"
    }
   ],
   "source": [
    "dev_subphrases.iloc[0]['string_subj_s1']"
   ],
   "metadata": {
    "collapsed": false,
    "pycharm": {
     "name": "#%%\n"
    }
   }
  },
  {
   "cell_type": "code",
   "execution_count": 3,
   "outputs": [],
   "source": [
    "def evaluate_performance(preds, actual):\n",
    "    labels = ['contradiction', 'entailment', 'neutral']\n",
    "    print('Confusion Matrix')\n",
    "    print(confusion_matrix(actual, preds, labels=labels))\n",
    "    print(f'F1-Score: {f1_score(actual, preds, labels=labels, average=\"macro\")}')\n",
    "    print(f'Accuracy: {accuracy_score(actual, preds)}')"
   ],
   "metadata": {
    "collapsed": false,
    "pycharm": {
     "name": "#%%\n"
    }
   }
  },
  {
   "cell_type": "code",
   "execution_count": 99,
   "outputs": [],
   "source": [
    "def predict_y_from_z(z):\n",
    "    if len(z.shape) > 1:\n",
    "        z = pd.DataFrame(z)\n",
    "        res = z.apply(predict_y_from_z, axis=1)\n",
    "        return res.to_numpy()\n",
    "    else:\n",
    "        if all([z[i] == 'nan' or z[i] == 'neutral' for i in range(25)]):\n",
    "            return 'neutral'\n",
    "        elif any(z == 'contradiction'):\n",
    "            return 'contradiction'\n",
    "        else:\n",
    "            return 'entailment'"
   ],
   "metadata": {
    "collapsed": false,
    "pycharm": {
     "name": "#%%\n"
    }
   }
  },
  {
   "cell_type": "code",
   "execution_count": 97,
   "outputs": [],
   "source": [
    "clf = list()\n",
    "for i in range(25):\n",
    "    with open(\"../03_Bayesian_Network/\" + directory + \"/MLP_Classifier\" + str(i) + \".pkl\", \"rb\") as f:\n",
    "        clf += [pickle.load(f), ]"
   ],
   "metadata": {
    "collapsed": false,
    "pycharm": {
     "name": "#%%\n"
    }
   }
  },
  {
   "cell_type": "code",
   "execution_count": 98,
   "outputs": [
    {
     "name": "stdout",
     "output_type": "stream",
     "text": [
      "2023-02-27 16:26:52.628504\n",
      "Initialise column indices and 'nan' values\n"
     ]
    }
   ],
   "source": [
    "# Prepare colum indices\n",
    "indices = [[0,1500], [0,1800], [0,2100], [0,2400], [0,2700],\n",
    "           [300,1500], [300,1800], [300,2100], [300,2400], [300,2700],\n",
    "           [600,1500], [600,1800], [600,2100], [600,2400], [600,2700],\n",
    "           [900,1500], [900,1800], [900,2100], [900,2400], [900,2700],\n",
    "           [1200,1500], [1200,1800], [1200,2100], [1200,2400], [1200,2700]]\n",
    "\n",
    "# Initialise colulmn indices and \"nan\" values if information (e.g. location of sentence) is not detected\n",
    "print(datetime.datetime.now())\n",
    "print(\"Initialise column indices and 'nan' values\")\n",
    "not_nan = [None, ] * 25\n",
    "cols = [None, ] * 25\n",
    "for i in range(25):\n",
    "    cols[i] = list(range(indices[i][0], indices[i][0]+300)) + list(range(indices[i][1],indices[i][1]+300))\n",
    "    not_nan[i] = pd.Series([not x for x in pd.DataFrame(np.isnan(dev_prepared[:,cols[i]])).apply(any, axis=1)])\n",
    "not_nan = np.array(not_nan).T"
   ],
   "metadata": {
    "collapsed": false,
    "pycharm": {
     "name": "#%%\n"
    }
   }
  },
  {
   "cell_type": "code",
   "execution_count": 100,
   "outputs": [],
   "source": [
    "z = np.empty((y_hat.shape[0], 25), dtype=np.dtype('U100'))\n",
    "\n",
    "for i in range(25):\n",
    "    z[not_nan[:,i], i] = clf[i].predict(dev_prepared[not_nan[:,i],:][:, cols[i]])\n",
    "\n",
    "for j in range(y_hat.shape[0]):\n",
    "    for i in range(25):\n",
    "        if z[j,i] == '':\n",
    "            z[j,i] = np.nan\n",
    "\n",
    "y_hat_pred = predict_y_from_z(z)"
   ],
   "metadata": {
    "collapsed": false,
    "pycharm": {
     "name": "#%%\n"
    }
   }
  },
  {
   "cell_type": "code",
   "execution_count": 106,
   "outputs": [],
   "source": [
    "def generate_explanation(Z, subphrases):\n",
    "    pairs = [['subj_s1', 'subj_s2'], ['subj_s1', 'verb_s2'], ['subj_s1', 'obj_s2'], ['subj_s1', 'loc_s2'], ['subj_s1', 'clo_s2'],\n",
    "             ['verb_s1', 'subj_s2'], ['verb_s1', 'verb_s2'], ['verb_s1', 'obj_s2'], ['verb_s1', 'loc_s2'], ['verb_s1', 'clo_s2'],\n",
    "             ['obj_s1', 'subj_s2'], ['obj_s1', 'verb_s2'], ['obj_s1', 'obj_s2'], ['obj_s1', 'loc_s2'], ['obj_s1', 'clo_s2'],\n",
    "             ['loc_s1', 'subj_s2'], ['loc_s1', 'verb_s2'], ['loc_s1', 'obj_s2'], ['loc_s1', 'loc_s2'], ['loc_s1', 'clo_s2'],\n",
    "             ['clo_s1', 'subj_s2'], ['clo_s1', 'verb_s2'], ['clo_s1', 'obj_s2'], ['clo_s1', 'loc_s2'], ['clo_s1', 'clo_s2']]\n",
    "    pairs_map = {'subj_s1': 'the subject of sentence 1',\n",
    "                 'verb_s1': 'the verb of sentence 1',\n",
    "                 'obj_s1': 'the object of sentence 1',\n",
    "                 'loc_s1': 'the location of sentence 1',\n",
    "                 'clo_s1': 'the clothing described in sentence 1',\n",
    "                 'subj_s2': 'the subject of sentence 2',\n",
    "                 'verb_s2': 'the verb of sentence 2',\n",
    "                 'obj_s2': 'the object of sentence 2',\n",
    "                 'loc_s2': 'the location of sentence 2',\n",
    "                 'clo_s2': 'the clothing described in sentence 2',}\n",
    "    reasons = list()\n",
    "    if all([Z[i] in ['neutral', 'nan'] for i in range(25)]):\n",
    "        return 'The sentences are neutral'\n",
    "    else:\n",
    "        for i,z in enumerate(Z):\n",
    "            if z == 'contradiction':\n",
    "                if i in (0, 6, 12, 18, 24):\n",
    "                    reasons += [f'{subphrases[\"string_\" + pairs[i][0]]} is not the same as {subphrases[\"string_\" + pairs[i][1]]}', ]\n",
    "                else:\n",
    "                    reasons += [f'if {pairs_map[pairs[i][0]]} is {subphrases[\"string_\" + pairs[i][0]]}, {pairs_map[pairs[i][1]]} cannot be {subphrases[\"string_\" + pairs[i][1]]}', ]\n",
    "        if len(reasons) == 0:\n",
    "            for i,z in enumerate(Z):\n",
    "                if z == 'entailment':\n",
    "                    if i in (0, 6, 12, 18, 24):\n",
    "                        reasons += [f'{subphrases[\"string_\" + pairs[i][0]]} is the same as {subphrases[\"string_\" + pairs[i][1]]}', ]\n",
    "                    else:\n",
    "                        reasons += [f'if {pairs_map[pairs[i][0]]} is {subphrases[\"string_\" + pairs[i][0]]}, then {pairs_map[pairs[i][1]]} has to be {subphrases[\"string_\" + pairs[i][1]]}', ]\n",
    "        return \" and \".join(reasons)"
   ],
   "metadata": {
    "collapsed": false,
    "pycharm": {
     "name": "#%%\n"
    }
   }
  },
  {
   "cell_type": "code",
   "execution_count": 107,
   "outputs": [
    {
     "name": "stdout",
     "output_type": "stream",
     "text": [
      "TRUE: The sentences are neutral\n",
      "TRUE: embracing is the same as holding and if the verb of sentence 1 is embracing, then the object of sentence 2 has to be packages\n",
      "WRONG: The sentences are neutral\n",
      "TRUE: if the verb of sentence 1 is standing, then the subject of sentence 2 has to be Two kids in numbered jerseys and if the verb of sentence 1 is standing, then the object of sentence 2 has to be their hands\n",
      "WRONG: if the verb of sentence 1 is standing, then the object of sentence 2 has to be their hands\n",
      "TRUE: in blue jerseys is not the same as in jackets\n",
      "TRUE: A man is not the same as A woman and if the subject of sentence 1 is A man, the verb of sentence 2 cannot be drinks and if the subject of sentence 1 is A man, the object of sentence 2 cannot be her coffee and if the subject of sentence 1 is A man, the location of sentence 2 cannot be in a small cafe and if the object of sentence 1 is donuts, the location of sentence 2 cannot be in a small cafe and if the location of sentence 1 is in the city of Angeles, the verb of sentence 2 cannot be drinks and if the location of sentence 1 is in the city of Angeles, the object of sentence 2 cannot be her coffee and in the city of Angeles is not the same as in a small cafe\n",
      "WRONG: if the location of sentence 1 is in the city of Angeles, the object of sentence 2 cannot be donuts\n",
      "WRONG: if the location of sentence 1 is in the city of Angeles, the object of sentence 2 cannot be donuts\n",
      "WRONG: if the verb of sentence 1 is opposing, the object of sentence 2 cannot be football and if the clothing described in sentence 1 is full protection helmets uniforms, the verb of sentence 2 cannot be play\n",
      "TRUE: teams is not the same as dog and if the verb of sentence 1 is opposing, the subject of sentence 2 cannot be dog and opposing is not the same as eats and if the clothing described in sentence 1 is full protection helmets uniforms, the verb of sentence 2 cannot be eats\n",
      "WRONG: if the verb of sentence 1 is opposing, the object of sentence 2 cannot be a touchdown and if the clothing described in sentence 1 is full protection helmets uniforms, the verb of sentence 2 cannot be scoring\n",
      "WRONG: if the verb of sentence 1 is standing, the object of sentence 2 cannot be a garage\n",
      "TRUE: if the subject of sentence 1 is A man in a blue shirt, then the object of sentence 2 has to be a blue shirt and if the verb of sentence 1 is standing, then the object of sentence 2 has to be a blue shirt and if the location of sentence 1 is in a blue shirt, then the object of sentence 2 has to be a blue shirt\n",
      "TRUE: if the location of sentence 1 is in a blue shirt, the object of sentence 2 cannot be a black shirt and if the location of sentence 1 is in a blue shirt, the clothing described in sentence 2 cannot be black shirt and if the clothing described in sentence 1 is blue shirt, the object of sentence 2 cannot be a black shirt\n",
      "TRUE: if the subject of sentence 1 is a child, then the verb of sentence 2 has to be touch and if the verb of sentence 1 is reaches, then the object of sentence 2 has to be the propeller of a plane\n",
      "WRONG: if the subject of sentence 1 is a child, then the verb of sentence 2 has to be touch and if the verb of sentence 1 is reaches, then the object of sentence 2 has to be the propeller\n",
      "WRONG: The sentences are neutral\n",
      "WRONG: The sentences are neutral\n",
      "TRUE: if the location of sentence 1 is in the sand, the object of sentence 2 cannot be her home and if the clothing described in sentence 1 is bikini, the object of sentence 2 cannot be her home\n",
      "WRONG: if the clothing described in sentence 1 is bikini, then the location of sentence 2 has to be on her head\n",
      "WRONG: competing is not the same as riding\n",
      "WRONG: if the subject of sentence 1 is bicycles, the object of sentence 2 cannot be bicycles and competing is not the same as riding\n",
      "WRONG: if the subject of sentence 1 is bicycles, then the verb of sentence 2 has to be catching and if the verb of sentence 1 is competing, then the object of sentence 2 has to be fish and if the location of sentence 1 is on bicycles competing in a race, then the verb of sentence 2 has to be catching and if the location of sentence 1 is on bicycles competing in a race, then the object of sentence 2 has to be fish\n",
      "WRONG: flowers is not the same as boy and if the subject of sentence 1 is flowers, the object of sentence 2 cannot be baseball game\n",
      "WRONG: The sentences are neutral\n",
      "WRONG: if the location of sentence 1 is in line, then the subject of sentence 2 has to be People\n",
      "TRUE: if the subject of sentence 1 is Families, the object of sentence 2 cannot be a movie and if the location of sentence 1 is in line, the object of sentence 2 cannot be a movie\n",
      "WRONG: if the subject of sentence 1 is A senior, the verb of sentence 2 cannot be serve\n",
      "WRONG: The sentences are neutral\n",
      "WRONG: if the verb of sentence 1 is waiting, the object of sentence 2 cannot be a sandwich\n",
      "TRUE: if the subject of sentence 1 is white shirt, the clothing described in sentence 2 cannot be suit and if the verb of sentence 1 is playing, the subject of sentence 2 cannot be Nobody and if the object of sentence 1 is an instrument, the subject of sentence 2 cannot be Nobody and if the location of sentence 1 is in a black suit, the subject of sentence 2 cannot be Nobody\n",
      "WRONG: The sentences are neutral\n",
      "WRONG: The sentences are neutral\n",
      "WRONG: if the object of sentence 1 is drinks, then the subject of sentence 2 has to be Women and if the object of sentence 1 is drinks, then the verb of sentence 2 has to be celebrating\n",
      "WRONG: The sentences are neutral\n",
      "WRONG: if the verb of sentence 1 is themed, then the subject of sentence 2 has to be A crowd and if the location of sentence 1 is in an Asian - themed area, then the verb of sentence 2 has to be dancing\n",
      "WRONG: if the verb of sentence 1 is themed, then the subject of sentence 2 has to be A crowd and if the verb of sentence 1 is themed, then the location of sentence 2 has to be in front of a camera and in an Asian - themed area is the same as in front of a camera\n",
      "TRUE: if the subject of sentence 1 is Two doctors, the object of sentence 2 cannot be lunch and surgery on patient is not the same as lunch\n",
      "TRUE: Two doctors is the same as Doctors and if the subject of sentence 1 is Two doctors, then the verb of sentence 2 has to be performing\n"
     ]
    }
   ],
   "source": [
    "for i in range(40):\n",
    "    if y_hat[i] != y_hat_pred[i]:\n",
    "        suffix = 'WRONG: '\n",
    "    else:\n",
    "        suffix = 'TRUE: '\n",
    "    print(suffix + generate_explanation(z[i,:], dev_subphrases.iloc[i]))"
   ],
   "metadata": {
    "collapsed": false,
    "pycharm": {
     "name": "#%%\n"
    }
   }
  },
  {
   "cell_type": "code",
   "execution_count": 105,
   "outputs": [
    {
     "data": {
      "text/plain": "array(['entailment', 'entailment', 'neutral', 'nan', 'nan', 'neutral',\n       'neutral', 'neutral', 'nan', 'nan', 'neutral', 'neutral',\n       'neutral', 'nan', 'nan', 'neutral', 'neutral', 'neutral', 'nan',\n       'nan', 'nan', 'nan', 'nan', 'nan', 'nan'], dtype='<U100')"
     },
     "execution_count": 105,
     "metadata": {},
     "output_type": "execute_result"
    }
   ],
   "source": [
    "z[39,:]"
   ],
   "metadata": {
    "collapsed": false,
    "pycharm": {
     "name": "#%%\n"
    }
   }
  },
  {
   "cell_type": "code",
   "execution_count": 104,
   "outputs": [
    {
     "data": {
      "text/plain": "Unnamed: 0                        43\nstring_subj_s1           Two doctors\nstring_verb_s1               perform\nstring_obj_s1     surgery on patient\nstring_loc_s1             on patient\nstring_clo_s1                    NaN\nstring_subj_s2               Doctors\nstring_verb_s2            performing\nstring_obj_s2                surgery\nstring_loc_s2                    NaN\nstring_clo_s2                    NaN\nName: 5436250638.jpg#4r1e, dtype: object"
     },
     "execution_count": 104,
     "metadata": {},
     "output_type": "execute_result"
    }
   ],
   "source": [
    "dev_subphrases.iloc[39]"
   ],
   "metadata": {
    "collapsed": false,
    "pycharm": {
     "name": "#%%\n"
    }
   }
  }
 ],
 "metadata": {
  "kernelspec": {
   "display_name": "Python 3",
   "language": "python",
   "name": "python3"
  },
  "language_info": {
   "codemirror_mode": {
    "name": "ipython",
    "version": 2
   },
   "file_extension": ".py",
   "mimetype": "text/x-python",
   "name": "python",
   "nbconvert_exporter": "python",
   "pygments_lexer": "ipython2",
   "version": "2.7.6"
  }
 },
 "nbformat": 4,
 "nbformat_minor": 0
}