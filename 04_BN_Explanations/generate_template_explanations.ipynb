{
 "cells": [
  {
   "cell_type": "code",
   "execution_count": 36,
   "outputs": [],
   "source": [
    "import pandas as pd\n",
    "import datetime\n",
    "import numpy as np\n",
    "from sklearn.neural_network import MLPClassifier\n",
    "import matplotlib.pyplot as plt\n",
    "from sklearn.metrics import confusion_matrix, f1_score, accuracy_score\n",
    "import pickle"
   ],
   "metadata": {
    "collapsed": false,
    "pycharm": {
     "name": "#%%\n"
    }
   }
  },
  {
   "cell_type": "code",
   "execution_count": 37,
   "outputs": [],
   "source": [
    "directory = 'vers23/MLP_Classifiers_480k_training_200_iter_NN_size_200_200_50_50_30'\n",
    "#directory = 'vers33/MLP_Classifiers_300k_training_10_iter_NN_size_200_200_50_50_30'\n",
    "#use_z_values = tuple(range(25))\n",
    "#use_z_values = (0,6,12,18,24)\n",
    "use_z_values = (0,3,4,6,8,9,12,13,14,15,16,17,18,19,20,21,22,23,24)\n",
    "\n",
    "# Indices in terms of z for all hidden variables that are not mixed, e.g. Subject1-Subject2, Verb1-Verb2, etc.\n",
    "non_mixed_pairs_indices = [i for i in range(len(use_z_values)) if use_z_values[i] in (0,6,12,18,24)]"
   ],
   "metadata": {
    "collapsed": false,
    "pycharm": {
     "name": "#%%\n"
    }
   }
  },
  {
   "cell_type": "code",
   "execution_count": 38,
   "outputs": [],
   "source": [
    "# Indices for all z variables influenced by Subject2 (Verb2, Object2 etc. respectively) (e.g. Subject1-Subject2)\n",
    "Subj2_indices = [i for i in range(len(use_z_values)) if use_z_values[i] in (0, 5, 10, 15, 20)]\n",
    "Verb2_indices = [i for i in range(len(use_z_values)) if use_z_values[i] in (1, 6, 11, 16, 21)]\n",
    "Obj2_indices = [i for i in range(len(use_z_values)) if use_z_values[i] in (2, 7, 12, 17, 22)]\n",
    "Loc2_indices = [i for i in range(len(use_z_values)) if use_z_values[i] in (3, 8, 13, 18, 23)]\n",
    "Clo2_indices = [i for i in range(len(use_z_values)) if use_z_values[i] in (4, 9, 14, 19, 24)]\n",
    "Sentence2_indices = [Subj2_indices, Verb2_indices, Obj2_indices, Loc2_indices, Clo2_indices]"
   ],
   "metadata": {
    "collapsed": false,
    "pycharm": {
     "name": "#%%\n"
    }
   }
  },
  {
   "cell_type": "code",
   "execution_count": 39,
   "outputs": [],
   "source": [
    "train1 = pd.read_csv('../Input_Data/e-SNLI/dataset/esnli_train_1.csv')\n",
    "train2 = pd.read_csv('../Input_Data/e-SNLI/dataset/esnli_train_2.csv')\n",
    "train = pd.concat([train1, train2])\n",
    "train = train[train.notnull().apply(all, axis=1)]\n",
    "dev = pd.read_csv('../Input_Data/e-SNLI/dataset/esnli_dev.csv')\n",
    "dev = dev[dev.notnull().apply(all, axis=1)]\n",
    "test = pd.read_csv('../Input_Data/e-SNLI/dataset/esnli_test.csv')\n",
    "test = test[test.notnull().apply(all, axis=1)]\n",
    "\n",
    "dev_prepared = pd.read_csv('../02_Extract_Subphrases/prepared_data/subphrase_vectors_dev.csv', sep=';')\n",
    "dev_prepared = dev_prepared.drop(columns='Unnamed: 0')\n",
    "dev = dev.set_index('pairID')\n",
    "rel_pairIDs = dev_prepared.iloc[:,0]\n",
    "y_hat = dev.loc[rel_pairIDs].gold_label\n",
    "dev_prepared = dev_prepared.iloc[:,1:].to_numpy()"
   ],
   "metadata": {
    "collapsed": false,
    "pycharm": {
     "name": "#%%\n"
    }
   }
  },
  {
   "cell_type": "code",
   "execution_count": 40,
   "outputs": [
    {
     "data": {
      "text/plain": "0.3083722820564926"
     },
     "execution_count": 40,
     "metadata": {},
     "output_type": "execute_result"
    }
   ],
   "source": [
    "dev_prepared.shape[0] / dev.shape[0]"
   ],
   "metadata": {
    "collapsed": false,
    "pycharm": {
     "name": "#%%\n"
    }
   }
  },
  {
   "cell_type": "code",
   "execution_count": 41,
   "outputs": [
    {
     "data": {
      "text/plain": "3035"
     },
     "execution_count": 41,
     "metadata": {},
     "output_type": "execute_result"
    }
   ],
   "source": [
    "dev_prepared.shape[0]"
   ],
   "metadata": {
    "collapsed": false,
    "pycharm": {
     "name": "#%%\n"
    }
   }
  },
  {
   "cell_type": "code",
   "execution_count": 42,
   "outputs": [],
   "source": [
    "dev_subphrases = pd.read_csv('../02_Extract_Subphrases/prepared_data/subphrases_dev.csv', sep=',')\n",
    "dev_subphrases = dev_subphrases.set_index('pairID')\n",
    "dev_subphrases = dev_subphrases.loc[rel_pairIDs]"
   ],
   "metadata": {
    "collapsed": false,
    "pycharm": {
     "name": "#%%\n"
    }
   }
  },
  {
   "cell_type": "code",
   "execution_count": 43,
   "outputs": [],
   "source": [
    "def evaluate_performance(preds, actual):\n",
    "    labels = ['contradiction', 'entailment', 'neutral']\n",
    "    print('Confusion Matrix')\n",
    "    print(confusion_matrix(actual, preds, labels=labels))\n",
    "    print(f'F1-Score: {f1_score(actual, preds, labels=labels, average=\"macro\")}')\n",
    "    print(f'Accuracy: {accuracy_score(actual, preds)}')"
   ],
   "metadata": {
    "collapsed": false,
    "pycharm": {
     "name": "#%%\n"
    }
   }
  },
  {
   "cell_type": "code",
   "execution_count": 44,
   "outputs": [],
   "source": [
    "def predict_y_from_z(z):\n",
    "    if len(z.shape) > 1:\n",
    "        z = pd.DataFrame(z)\n",
    "        res = z.apply(predict_y_from_z, axis=1)\n",
    "        return res.to_numpy()\n",
    "    else:\n",
    "        if all([z[i] == 'nan' or pd.isnull(z[i]) or z[i] == 'entailment' for i in range(25)]):\n",
    "            return 'entailment'\n",
    "        elif any(z == 'contradiction'):\n",
    "            return 'contradiction'\n",
    "        elif any(z == 'neutral') and all(z != 'contradiction'):\n",
    "            return 'neutral'\n",
    "        else:\n",
    "            raise ValueError(f\"z can only have values 'entailment', 'contradiction', or 'neutral' but is {z}\")"
   ],
   "metadata": {
    "collapsed": false,
    "pycharm": {
     "name": "#%%\n"
    }
   }
  },
  {
   "cell_type": "code",
   "execution_count": 45,
   "outputs": [],
   "source": [
    "def predict_y_from_z(z):\n",
    "    if len(z.shape) > 1:\n",
    "        z = pd.DataFrame(z)\n",
    "        res = z.apply(predict_y_from_z, axis=1)\n",
    "        return res.to_numpy()\n",
    "    else:\n",
    "        if any(z == 'contradiction'):\n",
    "            return 'contradiction'\n",
    "        elif all([z[i] == 'nan' or pd.isnull(z[i]) or z[i] == 'entailment' for i in (0,6,12,18,24)]) and all(z != 'contradiction'):\n",
    "            return 'entailment'\n",
    "        elif any(z == 'neutral') and all(z != 'contradiction'):\n",
    "            return 'neutral'\n",
    "        else:\n",
    "            raise ValueError(f\"z can only have values 'entailment', 'contradiction', or 'neutral' but is {z}\")"
   ],
   "metadata": {
    "collapsed": false,
    "pycharm": {
     "name": "#%%\n"
    }
   }
  },
  {
   "cell_type": "code",
   "execution_count": 46,
   "outputs": [],
   "source": [
    "def predict_y_from_z(z):\n",
    "\n",
    "    # Iterate through each row if z is a matrix\n",
    "    if len(z.shape) > 1:\n",
    "        z = pd.DataFrame(z)\n",
    "        res = z.apply(predict_y_from_z, axis=1)\n",
    "        return res.to_numpy()\n",
    "\n",
    "    # For each single line perform the following:\n",
    "    else:\n",
    "        # If any z is 'contradiction' -> output class 'contradiction'\n",
    "        if any(z == 'contradiction'):\n",
    "            return 'contradiction'\n",
    "        # Else if all subphrases of sentence 2 are entailed by any subphrase of sentence 1 -> output class 'entailment'\n",
    "        elif all([any([z[i] == 'entailment' for i in subphrase_indices]) or all([z[i] == 'nan' or pd.isnull(z[i]) for i in subphrase_indices]) for subphrase_indices in Sentence2_indices]):\n",
    "            return 'entailment'\n",
    "        # Else output class 'neutral'\n",
    "        else:\n",
    "            return 'neutral'"
   ],
   "metadata": {
    "collapsed": false,
    "pycharm": {
     "name": "#%%\n"
    }
   }
  },
  {
   "cell_type": "code",
   "execution_count": 47,
   "outputs": [],
   "source": [
    "clf = list()\n",
    "for i in range(len(use_z_values)):\n",
    "    with open(\"../03_Bayesian_Network/\" + directory + \"/MLP_Classifier\" + str(i) + \".pkl\", \"rb\") as f:\n",
    "        clf += [pickle.load(f), ]"
   ],
   "metadata": {
    "collapsed": false,
    "pycharm": {
     "name": "#%%\n"
    }
   }
  },
  {
   "cell_type": "code",
   "execution_count": 48,
   "outputs": [
    {
     "name": "stdout",
     "output_type": "stream",
     "text": [
      "2023-03-19 12:45:21.567064\n",
      "Initialise column indices and 'nan' values\n"
     ]
    }
   ],
   "source": [
    "# Prepare colum indices\n",
    "indices = np.array([[0,1500], [0,1800], [0,2100], [0,2400], [0,2700],\n",
    "           [300,1500], [300,1800], [300,2100], [300,2400], [300,2700],\n",
    "           [600,1500], [600,1800], [600,2100], [600,2400], [600,2700],\n",
    "           [900,1500], [900,1800], [900,2100], [900,2400], [900,2700],\n",
    "           [1200,1500], [1200,1800], [1200,2100], [1200,2400], [1200,2700]])\n",
    "indices = indices[use_z_values,:].tolist()\n",
    "# Initialise colulmn indices and \"nan\" values if information (e.g. location of sentence) is not detected\n",
    "print(datetime.datetime.now())\n",
    "print(\"Initialise column indices and 'nan' values\")\n",
    "not_nan = [None, ] * len(use_z_values)\n",
    "cols = [None, ] * len(use_z_values)\n",
    "for i in range(len(use_z_values)):\n",
    "    cols[i] = list(range(indices[i][0], indices[i][0]+300)) + list(range(indices[i][1],indices[i][1]+300))\n",
    "    not_nan[i] = pd.Series([not x for x in pd.DataFrame(np.isnan(dev_prepared[:,cols[i]])).apply(any, axis=1)])\n",
    "not_nan = np.array(not_nan).T"
   ],
   "metadata": {
    "collapsed": false,
    "pycharm": {
     "name": "#%%\n"
    }
   }
  },
  {
   "cell_type": "code",
   "execution_count": 49,
   "outputs": [],
   "source": [
    "z = np.empty((y_hat.shape[0], len(use_z_values)), dtype=np.dtype('U25'))\n",
    "\n",
    "z[:,:] = np.nan\n",
    "\n",
    "for i in range(len(use_z_values)):\n",
    "    z[not_nan[:,i], i] = clf[i].predict(dev_prepared[not_nan[:,i],:][:, cols[i]])\n",
    "\n",
    "y_hat_pred = predict_y_from_z(z)"
   ],
   "metadata": {
    "collapsed": false,
    "pycharm": {
     "name": "#%%\n"
    }
   }
  },
  {
   "cell_type": "code",
   "execution_count": 50,
   "outputs": [],
   "source": [
    "def generate_explanation(Z, subphrases):\n",
    "    y_hat_pred = predict_y_from_z(Z)\n",
    "    pairs = [['subj_s1', 'subj_s2'], ['subj_s1', 'verb_s2'], ['subj_s1', 'obj_s2'], ['subj_s1', 'loc_s2'], ['subj_s1', 'clo_s2'],\n",
    "             ['verb_s1', 'subj_s2'], ['verb_s1', 'verb_s2'], ['verb_s1', 'obj_s2'], ['verb_s1', 'loc_s2'], ['verb_s1', 'clo_s2'],\n",
    "             ['obj_s1', 'subj_s2'], ['obj_s1', 'verb_s2'], ['obj_s1', 'obj_s2'], ['obj_s1', 'loc_s2'], ['obj_s1', 'clo_s2'],\n",
    "             ['loc_s1', 'subj_s2'], ['loc_s1', 'verb_s2'], ['loc_s1', 'obj_s2'], ['loc_s1', 'loc_s2'], ['loc_s1', 'clo_s2'],\n",
    "             ['clo_s1', 'subj_s2'], ['clo_s1', 'verb_s2'], ['clo_s1', 'obj_s2'], ['clo_s1', 'loc_s2'], ['clo_s1', 'clo_s2']]\n",
    "    pairs_map = {'subj_s1': 'the subject of sentence 1',\n",
    "                 'verb_s1': 'the verb of sentence 1',\n",
    "                 'obj_s1': 'the object of sentence 1',\n",
    "                 'loc_s1': 'the location of sentence 1',\n",
    "                 'clo_s1': 'the clothing described in sentence 1',\n",
    "                 'subj_s2': 'the subject of sentence 2',\n",
    "                 'verb_s2': 'the verb of sentence 2',\n",
    "                 'obj_s2': 'the object of sentence 2',\n",
    "                 'loc_s2': 'the location of sentence 2',\n",
    "                 'clo_s2': 'the clothing described in sentence 2',}\n",
    "    Sentence2_indices_map = ['subj_s2', 'verb_s2', 'obj_s2', 'loc_s2', 'clo_s2']\n",
    "    reasons = list()\n",
    "    if y_hat_pred == 'neutral':\n",
    "        for i, subphrase_indices in enumerate(Sentence2_indices):\n",
    "            if all([Z[k] == 'neutral' or Z[k] == 'nan' or pd.isnull(Z[k]) for k in subphrase_indices]) and any([Z[k] == 'neutral' for k in subphrase_indices]):\n",
    "                reasons += [f'there is no indication that {pairs_map[Sentence2_indices_map[i]]} is {subphrases[\"string_\" + Sentence2_indices_map[i]]}']\n",
    "    elif y_hat_pred == 'contradiction':\n",
    "        for i,z in enumerate(Z):\n",
    "            if z == 'contradiction':\n",
    "                if i in non_mixed_pairs_indices:\n",
    "                    reasons += [f'{subphrases[\"string_\" + pairs[use_z_values[i]][0]].lower()} is not the same as {subphrases[\"string_\" + pairs[use_z_values[i]][1]].lower()}', ]\n",
    "                else:\n",
    "                    reasons += [f'if {pairs_map[pairs[use_z_values[i]][0]]} is {subphrases[\"string_\" + pairs[use_z_values[i]][0]].lower()}, {pairs_map[pairs[use_z_values[i]][1]]} cannot be {subphrases[\"string_\" + pairs[use_z_values[i]][1]].lower()}', ]\n",
    "    elif y_hat_pred == 'entailment':\n",
    "            for i,z in enumerate(Z):\n",
    "                if z == 'entailment':\n",
    "                    if i in non_mixed_pairs_indices:\n",
    "                        reasons += [f'{subphrases[\"string_\" + pairs[use_z_values[i]][0]].lower()} is the same as {subphrases[\"string_\" + pairs[use_z_values[i]][1]].lower()}', ]\n",
    "                    else:\n",
    "                        reasons += [f'if {pairs_map[pairs[use_z_values[i]][0]]} is {subphrases[\"string_\" + pairs[use_z_values[i]][0]].lower()}, then {pairs_map[pairs[use_z_values[i]][1]]} has to be {subphrases[\"string_\" + pairs[use_z_values[i]][1]].lower()}', ]\n",
    "    return \" and \".join(reasons)"
   ],
   "metadata": {
    "collapsed": false,
    "pycharm": {
     "name": "#%%\n"
    }
   }
  },
  {
   "cell_type": "code",
   "execution_count": 51,
   "outputs": [
    {
     "data": {
      "text/plain": "0.5512355848434926"
     },
     "execution_count": 51,
     "metadata": {},
     "output_type": "execute_result"
    }
   ],
   "source": [
    "np.mean(y_hat_pred == y_hat)"
   ],
   "metadata": {
    "collapsed": false,
    "pycharm": {
     "name": "#%%\n"
    }
   }
  },
  {
   "cell_type": "code",
   "execution_count": 52,
   "outputs": [
    {
     "data": {
      "text/plain": "0.5489621098111873"
     },
     "execution_count": 52,
     "metadata": {},
     "output_type": "execute_result"
    }
   ],
   "source": [
    "f1_score(y_hat, y_hat_pred, average='macro')"
   ],
   "metadata": {
    "collapsed": false,
    "pycharm": {
     "name": "#%%\n"
    }
   }
  },
  {
   "cell_type": "code",
   "execution_count": 35,
   "outputs": [
    {
     "data": {
      "text/plain": "gold_label                                                     contradiction\nSentence1                  Two women are embracing while holding to go pa...\nSentence2                               The men are fighting outside a deli.\nExplanation_1              In the first sentence there is an action of af...\nSentence1_marked_1         Two *women* are *embracing* while holding to g...\nSentence2_marked_1                  The *men* are *fighting* outside a deli.\nSentence1_Highlighted_1                                                  1,3\nSentence2_Highlighted_1                                                  1,3\nExplanation_2              Women are different than men and embracing is ...\nSentence1_marked_2         *Two* *women* are *embracing* while holding to...\nSentence2_marked_2                  The *men* are *fighting* outside a deli.\nSentence1_Highlighted_2                                                0,1,3\nSentence2_Highlighted_2                                                  1,3\nExplanation_3              First sentence features two women and the seco...\nSentence1_marked_3         *Two* *women* are embracing while holding to g...\nSentence2_marked_3                    The *men* are fighting outside a deli.\nSentence1_Highlighted_3                                                  0,1\nSentence2_Highlighted_3                                                    1\nName: 4705552913.jpg#2r1c, dtype: object"
     },
     "execution_count": 35,
     "metadata": {},
     "output_type": "execute_result"
    }
   ],
   "source": [
    "dev.loc[dev_subphrases.index[2]]"
   ],
   "metadata": {
    "collapsed": false,
    "pycharm": {
     "name": "#%%\n"
    }
   }
  },
  {
   "cell_type": "code",
   "execution_count": 59,
   "outputs": [
    {
     "data": {
      "text/plain": "Unnamed: 0                        1235\nstring_subj_s1               Three men\nstring_verb_s1                gathered\nstring_obj_s1                      NaN\nstring_loc_s1                      NaN\nstring_clo_s1                      NaN\nstring_subj_s2    a piece of furniture\nstring_verb_s2                  gather\nstring_obj_s2        A bunch of people\nstring_loc_s2                      NaN\nstring_clo_s2                      NaN\nName: 4345676156.jpg#4r1e, dtype: object"
     },
     "execution_count": 59,
     "metadata": {},
     "output_type": "execute_result"
    }
   ],
   "source": [
    "dev_subphrases.loc['4345676156.jpg#4r1e']"
   ],
   "metadata": {
    "collapsed": false,
    "pycharm": {
     "name": "#%%\n"
    }
   }
  },
  {
   "cell_type": "code",
   "execution_count": 58,
   "outputs": [
    {
     "name": "stdout",
     "output_type": "stream",
     "text": [
      "TRUE: there is no indication that the verb of sentence 2 is smuggle\n",
      "TRUE: there is no indication that the verb of sentence 2 is carrying\n",
      "WRONG: there is no indication that the verb of sentence 2 is doing and there is no indication that the object of sentence 2 is marching\n",
      "WRONG: there is no indication that the verb of sentence 2 is gather\n",
      "WRONG: there is no indication that the verb of sentence 2 is gather\n",
      "TRUE: there is no indication that the subject of sentence 2 is their weekly meeting and there is no indication that the verb of sentence 2 is gather\n"
     ]
    }
   ],
   "source": [
    "for i in range(404,410):\n",
    "    if y_hat[i] != y_hat_pred[i]:\n",
    "        suffix = 'WRONG: '\n",
    "    else:\n",
    "        suffix = 'TRUE: '\n",
    "    print(suffix + generate_explanation(z[i,:], dev_subphrases.iloc[i]))"
   ],
   "metadata": {
    "collapsed": false,
    "pycharm": {
     "name": "#%%\n"
    }
   }
  },
  {
   "cell_type": "code",
   "execution_count": 23,
   "outputs": [],
   "source": [
    "human_z = pd.read_csv(\"manual_z_values.csv\", sep=\";\").to_numpy()\n",
    "for i in range(human_z.shape[0]):\n",
    "    for j in range(human_z.shape[1]):\n",
    "        if human_z[i,j] == \"n\":\n",
    "            human_z[i,j] = \"neutral\"\n",
    "        elif human_z[i,j] == \"e\":\n",
    "            human_z[i,j] = \"entailment\"\n",
    "        elif human_z[i,j] == \"c\":\n",
    "            human_z[i,j] = \"contradiction\"\n",
    "\n",
    "y_hat_human_pred = predict_y_from_z(human_z)"
   ],
   "metadata": {
    "collapsed": false,
    "pycharm": {
     "name": "#%%\n"
    }
   }
  },
  {
   "cell_type": "code",
   "execution_count": 54,
   "outputs": [
    {
     "data": {
      "text/plain": "array([['neutral', 'neutral', 'neutral', nan, nan, 'neutral',\n        'entailment', 'neutral', nan, nan, nan, nan, nan, nan, nan, nan,\n        nan, nan, nan, nan, nan, nan, nan, nan, nan],\n       ['entailment', 'neutral', 'neutral', nan, nan, 'neutral',\n        'neutral', 'neutral', nan, nan, nan, nan, nan, nan, nan, nan,\n        nan, nan, nan, nan, nan, nan, nan, nan, nan],\n       ['contradiction', 'neutral', 'neutral', nan, nan, 'neutral',\n        'contradiction', nan, nan, nan, nan, nan, nan, nan, nan, nan,\n        nan, nan, nan, nan, nan, nan, nan, nan, nan],\n       ['entailment', 'neutral', 'neutral', nan, nan, 'neutral',\n        'entailment', 'neutral', nan, nan, 'neutral', 'neutral',\n        'entailment', nan, nan, 'neutral', 'neutral', 'neutral', nan,\n        nan, 'entailment', 'neutral', 'neutral', nan, nan],\n       ['entailment', 'neutral', 'neutral', nan, nan, 'neutral',\n        'neutral', 'neutral', nan, nan, 'neutral', 'neutral', 'neutral',\n        nan, nan, 'neutral', 'neutral', 'neutral', nan, nan,\n        'entailment', 'neutral', 'neutral', nan, nan],\n       ['entailment', 'neutral', 'neutral', 'neutral', nan, 'neutral',\n        'entailment', 'neutral', 'neutral', nan, 'neutral', 'neutral',\n        'neutral', 'contradiction', nan, 'neutral', 'neutral', 'neutral',\n        'contradiction', nan, 'entailment', 'neutral', 'neutral',\n        'neutral', nan],\n       ['neutral', 'neutral', 'neutral', nan, nan, 'neutral', 'neutral',\n        'neutral', nan, nan, 'neutral', 'neutral', 'contradiction', nan,\n        nan, 'neutral', 'neutral', 'neutral', nan, nan, nan, nan, nan,\n        nan, nan],\n       ['entailment', 'neutral', 'neutral', nan, nan, 'neutral',\n        'entailment', 'neutral', nan, nan, 'neutral', 'neutral',\n        'entailment', nan, nan, 'neutral', 'neutral', 'neutral', nan,\n        nan, nan, nan, nan, nan, nan],\n       ['entailment', 'neutral', 'neutral', 'neutral', nan, 'neutral',\n        'entailment', 'neutral', 'neutral', nan, 'neutral', 'neutral',\n        'entailment', 'neutral', nan, 'neutral', 'neutral', 'neutral',\n        'neutral', nan, nan, nan, nan, nan, nan],\n       ['entailment', 'neutral', nan, nan, nan, 'neutral',\n        'contradiction', nan, nan, nan, 'neutral', 'neutral', nan, nan,\n        nan, nan, nan, nan, nan, nan, nan, nan, nan, nan, nan],\n       ['entailment', 'neutral', 'neutral', nan, nan, 'neutral',\n        'entailment', 'neutral', nan, nan, 'neutral', 'neutral',\n        'entailment', nan, nan, nan, nan, nan, nan, nan, nan, nan, nan,\n        nan, nan],\n       ['neutral', 'neutral', 'neutral', nan, nan, 'neutral',\n        'entailment', 'neutral', nan, nan, 'neutral', 'neutral',\n        'neutral', nan, nan, nan, nan, nan, nan, nan, nan, nan, nan, nan,\n        nan],\n       ['entailment', 'neutral', 'neutral', nan, nan, 'neutral',\n        'neutral', 'neutral', nan, nan, nan, nan, nan, nan, nan,\n        'neutral', 'neutral', 'neutral', nan, nan, nan, nan, nan, nan,\n        nan],\n       ['contradiction', 'neutral', 'neutral', 'neutral', nan, 'neutral',\n        'neutral', 'neutral', 'neutral', nan, nan, nan, nan, nan, nan,\n        'neutral', 'neutral', 'neutral', 'contradiction', nan, nan, nan,\n        nan, nan, nan],\n       ['entailment', 'neutral', 'neutral', nan, nan, 'neutral',\n        'neutral', 'neutral', nan, nan, nan, nan, nan, nan, nan,\n        'neutral', 'neutral', 'neutral', nan, nan, nan, nan, nan, nan,\n        nan],\n       ['entailment', 'neutral', 'neutral', 'neutral', 'neutral',\n        'neutral', 'contradiction', 'neutral', 'neutral', 'neutral',\n        'neutral', 'neutral', 'contradiction', nan, 'neutral', nan, nan,\n        nan, nan, nan, 'neutral', 'neutral', 'neutral', nan,\n        'entailment'],\n       ['entailment', 'neutral', 'neutral', nan, nan, 'neutral',\n        'contradiction', 'contradiction', nan, nan, nan, nan, nan, nan,\n        nan, 'neutral', 'neutral', 'neutral', nan, nan, nan, nan, nan,\n        nan, nan],\n       ['entailment', 'neutral', nan, nan, nan, 'neutral', 'neutral',\n        nan, nan, nan, nan, nan, nan, nan, nan, 'neutral', 'neutral',\n        nan, nan, nan, nan, nan, nan, nan, nan],\n       ['entailment', 'neutral', nan, 'neutral', nan, 'neutral',\n        'entailment', nan, 'neutral', nan, nan, nan, nan, nan, nan,\n        'neutral', 'neutral', nan, 'entailment', nan, nan, nan, nan, nan,\n        nan],\n       ['entailment', 'neutral', 'neutral', nan, 'neutral', 'neutral',\n        'neutral', 'neutral', nan, 'neutral', 'neutral', 'neutral', nan,\n        nan, 'neutral', nan, nan, nan, nan, nan, 'neutral', 'neutral',\n        'neutral', nan, 'contradiction'],\n       ['entailment', 'neutral', 'neutral', nan, 'neutral', 'neutral',\n        'neutral', 'neutral', nan, 'neutral', 'neutral', 'neutral',\n        'entailment', nan, 'neutral', nan, nan, nan, nan, nan, 'neutral',\n        'entailment', 'neutral', nan, 'entailment'],\n       ['entailment', 'neutral', 'neutral', 'neutral', nan, 'neutral',\n        'entailment', 'neutral', 'neutral', nan, 'neutral', 'neutral',\n        nan, 'neutral', nan, nan, nan, nan, nan, nan, 'neutral',\n        'neutral', 'neutral', 'neutral', nan],\n       ['neutral', 'neutral', nan, 'neutral', nan, 'neutral',\n        'entailment', nan, 'neutral', nan, nan, nan, nan, nan, nan,\n        'neutral', 'neutral', nan, 'entailment', nan, nan, nan, nan, nan,\n        nan],\n       ['entailment', 'neutral', 'neutral', nan, nan, 'neutral',\n        'entailment', 'neutral', nan, nan, nan, nan, nan, nan, nan,\n        'neutral', 'neutral', 'neutral', nan, nan, nan, nan, nan, nan,\n        nan],\n       ['neutral', 'neutral', 'neutral', nan, nan, 'neutral', 'neutral',\n        'neutral', nan, nan, nan, nan, nan, nan, nan, 'neutral',\n        'neutral', 'neutral', nan, nan, nan, nan, nan, nan, nan],\n       ['entailment', 'neutral', 'neutral', nan, nan, 'neutral',\n        'neutral', 'neutral', nan, nan, nan, nan, nan, nan, nan,\n        'neutral', 'neutral', 'neutral', nan, nan, nan, nan, nan, nan,\n        nan],\n       ['entailment', 'neutral', nan, 'neutral', nan, 'neutral',\n        'contradiction', nan, 'neutral', nan, nan, nan, nan, nan, nan,\n        'neutral', 'neutral', nan, 'contradiction', nan, nan, nan, nan,\n        nan, nan],\n       ['entailment', 'neutral', nan, 'neutral', nan, 'neutral',\n        'entailment', nan, 'entailment', nan, nan, nan, nan, nan, nan,\n        'neutral', 'neutral', nan, 'neutral', nan, nan, nan, nan, nan,\n        nan],\n       ['entailment', 'neutral', nan, nan, nan, 'neutral', 'neutral',\n        nan, nan, nan, 'neutral', 'neutral', nan, nan, nan, 'neutral',\n        'neutral', nan, nan, nan, nan, nan, nan, nan, nan],\n       ['entailment', 'neutral', 'neutral', 'neutral', nan, 'neutral',\n        'neutral', 'neutral', 'contradiction', nan, 'neutral', 'neutral',\n        'neutral', 'neutral', nan, 'neutral', 'neutral', 'neutral',\n        'contradiction', nan, nan, nan, nan, nan, nan]], dtype=object)"
     },
     "execution_count": 54,
     "metadata": {},
     "output_type": "execute_result"
    }
   ],
   "source": [
    "human_z"
   ],
   "metadata": {
    "collapsed": false,
    "pycharm": {
     "name": "#%%\n"
    }
   }
  },
  {
   "cell_type": "code",
   "execution_count": 64,
   "outputs": [
    {
     "name": "stdout",
     "output_type": "stream",
     "text": [
      "TRUE: there is no indication that the subject of sentence 2 is The sisters and there is no indication that the object of sentence 2 is goodbye\n",
      "WRONG: there is no indication that the verb of sentence 2 is holding and there is no indication that the object of sentence 2 is packages\n",
      "TRUE: two women is not the same as the men and embracing is not the same as fighting\n",
      "TRUE: a woman is the same as a woman and doing is the same as doing and a cartwheel is the same as a cartwheel and if the clothing described in sentence 1 is bikini, then the subject of sentence 2 has to be a woman\n",
      "WRONG: there is no indication that the verb of sentence 2 is fixing and there is no indication that the object of sentence 2 is her home\n",
      "TRUE: if the object of sentence 1 is a cartwheel, the location of sentence 2 cannot be on her head and in the sand is not the same as on her head\n",
      "TRUE: surgery on patient is not the same as lunch\n",
      "TRUE: two doctors is the same as doctors and perform is the same as performing and surgery on patient is the same as surgery\n",
      "TRUE: there is no indication that the location of sentence 2 is on a man\n",
      "TRUE: catch is not the same as swimming\n",
      "TRUE: a white dog with long hair is the same as an animal and catch is the same as catch and a red toy is the same as an object\n",
      "TRUE: there is no indication that the subject of sentence 2 is A chihuahua mix with long curly hair and there is no indication that the object of sentence 2 is a red toy bone\n",
      "TRUE: there is no indication that the verb of sentence 2 is ride and there is no indication that the object of sentence 2 is their favorite amusement ride\n",
      "TRUE: kids is not the same as the side of the road and on a amusement ride is not the same as on the side of the road\n",
      "WRONG: there is no indication that the verb of sentence 2 is ride and there is no indication that the object of sentence 2 is an amusement ride\n",
      "TRUE: playing is not the same as trades and golf is not the same as pokemon cards\n",
      "TRUE: stumbles is not the same as driving and if the verb of sentence 1 is stumbles, the object of sentence 2 cannot be cars\n",
      "TRUE: there is no indication that the verb of sentence 2 is fall\n",
      "TRUE: a man in is the same as the man and stumbles is the same as stumbles and in a green jersey and rollerskates is the same as in rollerskates\n",
      "TRUE: white t shirt is not the same as black shirt\n",
      "TRUE: a man in a white t - shirt is the same as a man and a picture is the same as a white shirt and if the clothing described in sentence 1 is white t shirt, then the verb of sentence 2 has to be wearing and white t shirt is the same as white shirt\n",
      "TRUE: there is no indication that the object of sentence 2 is photos and there is no indication that the location of sentence 2 is on tour in nyc\n",
      "WRONG: there is no indication that the subject of sentence 2 is Men\n",
      "WRONG: there is no indication that the object of sentence 2 is Deere equipment\n",
      "WRONG: there is no indication that the subject of sentence 2 is 2 Men and there is no indication that the verb of sentence 2 is making and there is no indication that the object of sentence 2 is a pool\n",
      "TRUE: there is no indication that the verb of sentence 2 is gaining and there is no indication that the object of sentence 2 is momentum\n",
      "TRUE: swings is not the same as laying and in the air is not the same as in the pool\n",
      "TRUE: a girl is the same as a girl and swings is the same as is and if the verb of sentence 1 is swings, then the location of sentence 2 has to be on a swing\n",
      "TRUE: there is no indication that the verb of sentence 2 is trying\n",
      "TRUE: if the verb of sentence 1 is studying, the location of sentence 2 cannot be in a theater and in a supermarket aisle is not the same as in a theater\n"
     ]
    },
    {
     "ename": "IndexError",
     "evalue": "index 30 is out of bounds for axis 0 with size 30",
     "output_type": "error",
     "traceback": [
      "\u001B[0;31m---------------------------------------------------------------------------\u001B[0m",
      "\u001B[0;31mIndexError\u001B[0m                                Traceback (most recent call last)",
      "Cell \u001B[0;32mIn[64], line 2\u001B[0m\n\u001B[1;32m      1\u001B[0m \u001B[38;5;28;01mfor\u001B[39;00m i \u001B[38;5;129;01min\u001B[39;00m \u001B[38;5;28mrange\u001B[39m(\u001B[38;5;241m40\u001B[39m):\n\u001B[0;32m----> 2\u001B[0m     \u001B[38;5;28;01mif\u001B[39;00m y_hat[i] \u001B[38;5;241m!=\u001B[39m \u001B[43my_hat_human_pred\u001B[49m\u001B[43m[\u001B[49m\u001B[43mi\u001B[49m\u001B[43m]\u001B[49m:\n\u001B[1;32m      3\u001B[0m         suffix \u001B[38;5;241m=\u001B[39m \u001B[38;5;124m'\u001B[39m\u001B[38;5;124mWRONG: \u001B[39m\u001B[38;5;124m'\u001B[39m\n\u001B[1;32m      4\u001B[0m     \u001B[38;5;28;01melse\u001B[39;00m:\n",
      "\u001B[0;31mIndexError\u001B[0m: index 30 is out of bounds for axis 0 with size 30"
     ]
    }
   ],
   "source": [
    "for i in range(40):\n",
    "    if y_hat[i] != y_hat_human_pred[i]:\n",
    "        suffix = 'WRONG: '\n",
    "    else:\n",
    "        suffix = 'TRUE: '\n",
    "    print(suffix + generate_explanation(human_z[i,:], dev_subphrases.iloc[i]))"
   ],
   "metadata": {
    "collapsed": false,
    "pycharm": {
     "name": "#%%\n"
    }
   }
  },
  {
   "cell_type": "code",
   "execution_count": 24,
   "outputs": [
    {
     "data": {
      "text/plain": "array(['neutral', 'neutral', 'neutral', 'neutral', 'neutral', 'neutral'],\n      dtype=object)"
     },
     "execution_count": 24,
     "metadata": {},
     "output_type": "execute_result"
    }
   ],
   "source": [
    "y_hat_human_pred[np.where(y_hat[:30] != y_hat_human_pred)]"
   ],
   "metadata": {
    "collapsed": false,
    "pycharm": {
     "name": "#%%\n"
    }
   }
  },
  {
   "cell_type": "code",
   "execution_count": 25,
   "outputs": [
    {
     "data": {
      "text/plain": "pairID\n4705552913.jpg#2r1e       entailment\n3948003394.jpg#1r1c    contradiction\n7391785714.jpg#4r1e       entailment\n5777129645.jpg#2r1n       entailment\n5777129645.jpg#2r1e       entailment\n5777129645.jpg#2r1c    contradiction\nName: gold_label, dtype: object"
     },
     "execution_count": 25,
     "metadata": {},
     "output_type": "execute_result"
    }
   ],
   "source": [
    "y_hat.iloc[np.where(y_hat[:30] != y_hat_human_pred)]"
   ],
   "metadata": {
    "collapsed": false,
    "pycharm": {
     "name": "#%%\n"
    }
   }
  },
  {
   "cell_type": "code",
   "execution_count": 26,
   "outputs": [
    {
     "data": {
      "text/plain": "array([['entailment', 'neutral', 'neutral', nan, nan, 'neutral',\n        'neutral', 'neutral', nan, nan, nan, nan, nan, nan, nan, nan,\n        nan, nan, nan, nan, nan, nan, nan, nan, nan],\n       ['entailment', 'neutral', 'neutral', nan, nan, 'neutral',\n        'neutral', 'neutral', nan, nan, 'neutral', 'neutral', 'neutral',\n        nan, nan, 'neutral', 'neutral', 'neutral', nan, nan,\n        'entailment', 'neutral', 'neutral', nan, nan],\n       ['entailment', 'neutral', 'neutral', nan, nan, 'neutral',\n        'neutral', 'neutral', nan, nan, nan, nan, nan, nan, nan,\n        'neutral', 'neutral', 'neutral', nan, nan, nan, nan, nan, nan,\n        nan],\n       ['neutral', 'neutral', nan, 'neutral', nan, 'neutral',\n        'entailment', nan, 'neutral', nan, nan, nan, nan, nan, nan,\n        'neutral', 'neutral', nan, 'entailment', nan, nan, nan, nan, nan,\n        nan],\n       ['entailment', 'neutral', 'neutral', nan, nan, 'neutral',\n        'entailment', 'neutral', nan, nan, nan, nan, nan, nan, nan,\n        'neutral', 'neutral', 'neutral', nan, nan, nan, nan, nan, nan,\n        nan],\n       ['neutral', 'neutral', 'neutral', nan, nan, 'neutral', 'neutral',\n        'neutral', nan, nan, nan, nan, nan, nan, nan, 'neutral',\n        'neutral', 'neutral', nan, nan, nan, nan, nan, nan, nan]],\n      dtype=object)"
     },
     "execution_count": 26,
     "metadata": {},
     "output_type": "execute_result"
    }
   ],
   "source": [
    "human_z[y_hat[:30] != y_hat_human_pred,:]"
   ],
   "metadata": {
    "collapsed": false,
    "pycharm": {
     "name": "#%%\n"
    }
   }
  },
  {
   "cell_type": "code",
   "execution_count": 27,
   "outputs": [
    {
     "data": {
      "text/plain": "                     Unnamed: 0   string_subj_s1 string_verb_s1 string_obj_s1  \\\npairID                                                                          \n4705552913.jpg#2r1e           1        Two women      embracing           NaN   \n3948003394.jpg#1r1c          19          A woman          doing   a cartwheel   \n7391785714.jpg#4r1e          50             Kids            are           NaN   \n5777129645.jpg#2r1n          86  The two farmers        working           NaN   \n5777129645.jpg#2r1e          87  The two farmers        working           NaN   \n5777129645.jpg#2r1c          88  The two farmers        working           NaN   \n\n                                          string_loc_s1 string_clo_s1  \\\npairID                                                                  \n4705552913.jpg#2r1e                                 NaN           NaN   \n3948003394.jpg#1r1c                         in the sand        bikini   \n7391785714.jpg#4r1e                 on a amusement ride           NaN   \n5777129645.jpg#2r1n  on a piece of John Deere equipment           NaN   \n5777129645.jpg#2r1e  on a piece of John Deere equipment           NaN   \n5777129645.jpg#2r1c  on a piece of John Deere equipment           NaN   \n\n                    string_subj_s2 string_verb_s2      string_obj_s2  \\\npairID                                                                 \n4705552913.jpg#2r1e      Two woman        holding           packages   \n3948003394.jpg#1r1c        A woman         fixing           her home   \n7391785714.jpg#4r1e           Kids           ride  an amusement ride   \n5777129645.jpg#2r1n            Men        working                NaN   \n5777129645.jpg#2r1e    two farmers           work    Deere equipment   \n5777129645.jpg#2r1c          2 Men         making             a pool   \n\n                               string_loc_s2 string_clo_s2  \npairID                                                      \n4705552913.jpg#2r1e                      NaN           NaN  \n3948003394.jpg#1r1c                      NaN           NaN  \n7391785714.jpg#4r1e                      NaN           NaN  \n5777129645.jpg#2r1n  on John Deere equipment           NaN  \n5777129645.jpg#2r1e                      NaN           NaN  \n5777129645.jpg#2r1c                      NaN           NaN  ",
      "text/html": "<div>\n<style scoped>\n    .dataframe tbody tr th:only-of-type {\n        vertical-align: middle;\n    }\n\n    .dataframe tbody tr th {\n        vertical-align: top;\n    }\n\n    .dataframe thead th {\n        text-align: right;\n    }\n</style>\n<table border=\"1\" class=\"dataframe\">\n  <thead>\n    <tr style=\"text-align: right;\">\n      <th></th>\n      <th>Unnamed: 0</th>\n      <th>string_subj_s1</th>\n      <th>string_verb_s1</th>\n      <th>string_obj_s1</th>\n      <th>string_loc_s1</th>\n      <th>string_clo_s1</th>\n      <th>string_subj_s2</th>\n      <th>string_verb_s2</th>\n      <th>string_obj_s2</th>\n      <th>string_loc_s2</th>\n      <th>string_clo_s2</th>\n    </tr>\n    <tr>\n      <th>pairID</th>\n      <th></th>\n      <th></th>\n      <th></th>\n      <th></th>\n      <th></th>\n      <th></th>\n      <th></th>\n      <th></th>\n      <th></th>\n      <th></th>\n      <th></th>\n    </tr>\n  </thead>\n  <tbody>\n    <tr>\n      <th>4705552913.jpg#2r1e</th>\n      <td>1</td>\n      <td>Two women</td>\n      <td>embracing</td>\n      <td>NaN</td>\n      <td>NaN</td>\n      <td>NaN</td>\n      <td>Two woman</td>\n      <td>holding</td>\n      <td>packages</td>\n      <td>NaN</td>\n      <td>NaN</td>\n    </tr>\n    <tr>\n      <th>3948003394.jpg#1r1c</th>\n      <td>19</td>\n      <td>A woman</td>\n      <td>doing</td>\n      <td>a cartwheel</td>\n      <td>in the sand</td>\n      <td>bikini</td>\n      <td>A woman</td>\n      <td>fixing</td>\n      <td>her home</td>\n      <td>NaN</td>\n      <td>NaN</td>\n    </tr>\n    <tr>\n      <th>7391785714.jpg#4r1e</th>\n      <td>50</td>\n      <td>Kids</td>\n      <td>are</td>\n      <td>NaN</td>\n      <td>on a amusement ride</td>\n      <td>NaN</td>\n      <td>Kids</td>\n      <td>ride</td>\n      <td>an amusement ride</td>\n      <td>NaN</td>\n      <td>NaN</td>\n    </tr>\n    <tr>\n      <th>5777129645.jpg#2r1n</th>\n      <td>86</td>\n      <td>The two farmers</td>\n      <td>working</td>\n      <td>NaN</td>\n      <td>on a piece of John Deere equipment</td>\n      <td>NaN</td>\n      <td>Men</td>\n      <td>working</td>\n      <td>NaN</td>\n      <td>on John Deere equipment</td>\n      <td>NaN</td>\n    </tr>\n    <tr>\n      <th>5777129645.jpg#2r1e</th>\n      <td>87</td>\n      <td>The two farmers</td>\n      <td>working</td>\n      <td>NaN</td>\n      <td>on a piece of John Deere equipment</td>\n      <td>NaN</td>\n      <td>two farmers</td>\n      <td>work</td>\n      <td>Deere equipment</td>\n      <td>NaN</td>\n      <td>NaN</td>\n    </tr>\n    <tr>\n      <th>5777129645.jpg#2r1c</th>\n      <td>88</td>\n      <td>The two farmers</td>\n      <td>working</td>\n      <td>NaN</td>\n      <td>on a piece of John Deere equipment</td>\n      <td>NaN</td>\n      <td>2 Men</td>\n      <td>making</td>\n      <td>a pool</td>\n      <td>NaN</td>\n      <td>NaN</td>\n    </tr>\n  </tbody>\n</table>\n</div>"
     },
     "execution_count": 27,
     "metadata": {},
     "output_type": "execute_result"
    }
   ],
   "source": [
    "dev_subphrases.iloc[np.where(y_hat[:30] != y_hat_human_pred)]"
   ],
   "metadata": {
    "collapsed": false,
    "pycharm": {
     "name": "#%%\n"
    }
   }
  },
  {
   "cell_type": "code",
   "execution_count": 30,
   "outputs": [
    {
     "data": {
      "text/plain": "                     pairID     gold_label  \\\n0       3416050480.jpg#4r1n        neutral   \n1       3416050480.jpg#4r1c  contradiction   \n2       3416050480.jpg#4r1e     entailment   \n3       2267923837.jpg#2r1n        neutral   \n4       2267923837.jpg#2r1e     entailment   \n...                     ...            ...   \n289363  2267923837.jpg#3r1c  contradiction   \n289364  2267923837.jpg#3r1n        neutral   \n289365  7979219683.jpg#2r1n        neutral   \n289366  7979219683.jpg#2r1c  contradiction   \n289367  7979219683.jpg#2r1e     entailment   \n\n                                                Sentence1  \\\n0       A person on a horse jumps over a broken down a...   \n1       A person on a horse jumps over a broken down a...   \n2       A person on a horse jumps over a broken down a...   \n3                   Children smiling and waving at camera   \n4                   Children smiling and waving at camera   \n...                                                   ...   \n289363                Four dirty and barefooted children.   \n289364                Four dirty and barefooted children.   \n289365  A man is surfing in a bodysuit in beautiful bl...   \n289366  A man is surfing in a bodysuit in beautiful bl...   \n289367  A man is surfing in a bodysuit in beautiful bl...   \n\n                                                Sentence2  \\\n0       A person is training his horse for a competition.   \n1           A person is at a diner, ordering an omelette.   \n2                       A person is outdoors, on a horse.   \n3                       They are smiling at their parents   \n4                              There are children present   \n...                                                   ...   \n289363           four kids won awards for 'cleanest feet'   \n289364  four homeless children had their shoes stolen,...   \n289365  A man in a bodysuit is competing in a surfing ...   \n289366  A man in a business suit is heading to a board...   \n289367  On the beautiful blue water there is a man in ...   \n\n                                            Explanation_1        WorkerId  \\\n0        the person is not necessarily training his horse   AF0PI3RISB5Q7   \n1       One cannot be on a jumping horse cannot be a d...  A36ZT2WFIA2HMF   \n2                      a broken down airplane is outdoors  A2GK75ZQTX2RDZ   \n3       Just because they are smiling and waving at a ...  A18TOIDG32QICP   \n4       The children must be present to see them smili...   AEX0YE6TUZRHT   \n...                                                   ...             ...   \n289363  in a both sentence dirty and cleanest are not ...   A8Q7V9A0SN3SF   \n289364          the children are not necessarily homeless   AF0PI3RISB5Q7   \n289365               the man is not necessarily competing   AF0PI3RISB5Q7   \n289366        That is either a business suit or bodysuit.  A2BT0LQYMBL7LV   \n289367  The man is in a bodysuit and he is surfing on ...   AEX0YE6TUZRHT   \n\n                                       Sentence1_marked_1  \\\n0       A person on a horse jumps over a broken down a...   \n1        A person *on* *a* *horse* *jumps* over a brok...   \n2        A person on a horse jumps over *a* *broken* *...   \n3                   Children smiling and waving at camera   \n4           *Children* *smiling* *and* *waving* at camera   \n...                                                   ...   \n289363              Four *dirty* and barefooted children.   \n289364                Four dirty and barefooted children.   \n289365  A man is surfing in a bodysuit in beautiful bl...   \n289366   A man is surfing in a *bodysuit* in beautiful...   \n289367   A *man* *is* *surfing* *in* a *bodysuit* *in*...   \n\n                                       Sentence2_marked_1  \\\n0        A person is *training* *his* *horse* for a co...   \n1        A person *is* *at* *a* *diner,* *ordering* an...   \n2                     A person is *outdoors,* on a horse.   \n3                 They are smiling *at* *their* *parents*   \n4                            There are children *present*   \n...                                                   ...   \n289363         four kids won awards for *'cleanest* feet'   \n289364   four *homeless* children had their shoes stol...   \n289365   A man in a bodysuit is *competing* in a surfi...   \n289366   A man in a *business* *suit* is heading to a ...   \n289367   *On* the beautiful blue *water* there is a ma...   \n\n       Sentence1_Highlighted_1 Sentence2_Highlighted_1  \n0                           {}                   3,4,5  \n1                      4,2,3,5               2,5,4,3,6  \n2                     8,9,10,7                       3  \n3                           {}                   5,3,4  \n4                      0,1,3,2                       3  \n...                        ...                     ...  \n289363                       1                       5  \n289364                      {}                       1  \n289365                      {}                       6  \n289366                       6                     4,5  \n289367          3,6,10,7,1,2,4               11,12,0,4  \n\n[549339 rows x 10 columns]",
      "text/html": "<div>\n<style scoped>\n    .dataframe tbody tr th:only-of-type {\n        vertical-align: middle;\n    }\n\n    .dataframe tbody tr th {\n        vertical-align: top;\n    }\n\n    .dataframe thead th {\n        text-align: right;\n    }\n</style>\n<table border=\"1\" class=\"dataframe\">\n  <thead>\n    <tr style=\"text-align: right;\">\n      <th></th>\n      <th>pairID</th>\n      <th>gold_label</th>\n      <th>Sentence1</th>\n      <th>Sentence2</th>\n      <th>Explanation_1</th>\n      <th>WorkerId</th>\n      <th>Sentence1_marked_1</th>\n      <th>Sentence2_marked_1</th>\n      <th>Sentence1_Highlighted_1</th>\n      <th>Sentence2_Highlighted_1</th>\n    </tr>\n  </thead>\n  <tbody>\n    <tr>\n      <th>0</th>\n      <td>3416050480.jpg#4r1n</td>\n      <td>neutral</td>\n      <td>A person on a horse jumps over a broken down a...</td>\n      <td>A person is training his horse for a competition.</td>\n      <td>the person is not necessarily training his horse</td>\n      <td>AF0PI3RISB5Q7</td>\n      <td>A person on a horse jumps over a broken down a...</td>\n      <td>A person is *training* *his* *horse* for a co...</td>\n      <td>{}</td>\n      <td>3,4,5</td>\n    </tr>\n    <tr>\n      <th>1</th>\n      <td>3416050480.jpg#4r1c</td>\n      <td>contradiction</td>\n      <td>A person on a horse jumps over a broken down a...</td>\n      <td>A person is at a diner, ordering an omelette.</td>\n      <td>One cannot be on a jumping horse cannot be a d...</td>\n      <td>A36ZT2WFIA2HMF</td>\n      <td>A person *on* *a* *horse* *jumps* over a brok...</td>\n      <td>A person *is* *at* *a* *diner,* *ordering* an...</td>\n      <td>4,2,3,5</td>\n      <td>2,5,4,3,6</td>\n    </tr>\n    <tr>\n      <th>2</th>\n      <td>3416050480.jpg#4r1e</td>\n      <td>entailment</td>\n      <td>A person on a horse jumps over a broken down a...</td>\n      <td>A person is outdoors, on a horse.</td>\n      <td>a broken down airplane is outdoors</td>\n      <td>A2GK75ZQTX2RDZ</td>\n      <td>A person on a horse jumps over *a* *broken* *...</td>\n      <td>A person is *outdoors,* on a horse.</td>\n      <td>8,9,10,7</td>\n      <td>3</td>\n    </tr>\n    <tr>\n      <th>3</th>\n      <td>2267923837.jpg#2r1n</td>\n      <td>neutral</td>\n      <td>Children smiling and waving at camera</td>\n      <td>They are smiling at their parents</td>\n      <td>Just because they are smiling and waving at a ...</td>\n      <td>A18TOIDG32QICP</td>\n      <td>Children smiling and waving at camera</td>\n      <td>They are smiling *at* *their* *parents*</td>\n      <td>{}</td>\n      <td>5,3,4</td>\n    </tr>\n    <tr>\n      <th>4</th>\n      <td>2267923837.jpg#2r1e</td>\n      <td>entailment</td>\n      <td>Children smiling and waving at camera</td>\n      <td>There are children present</td>\n      <td>The children must be present to see them smili...</td>\n      <td>AEX0YE6TUZRHT</td>\n      <td>*Children* *smiling* *and* *waving* at camera</td>\n      <td>There are children *present*</td>\n      <td>0,1,3,2</td>\n      <td>3</td>\n    </tr>\n    <tr>\n      <th>...</th>\n      <td>...</td>\n      <td>...</td>\n      <td>...</td>\n      <td>...</td>\n      <td>...</td>\n      <td>...</td>\n      <td>...</td>\n      <td>...</td>\n      <td>...</td>\n      <td>...</td>\n    </tr>\n    <tr>\n      <th>289363</th>\n      <td>2267923837.jpg#3r1c</td>\n      <td>contradiction</td>\n      <td>Four dirty and barefooted children.</td>\n      <td>four kids won awards for 'cleanest feet'</td>\n      <td>in a both sentence dirty and cleanest are not ...</td>\n      <td>A8Q7V9A0SN3SF</td>\n      <td>Four *dirty* and barefooted children.</td>\n      <td>four kids won awards for *'cleanest* feet'</td>\n      <td>1</td>\n      <td>5</td>\n    </tr>\n    <tr>\n      <th>289364</th>\n      <td>2267923837.jpg#3r1n</td>\n      <td>neutral</td>\n      <td>Four dirty and barefooted children.</td>\n      <td>four homeless children had their shoes stolen,...</td>\n      <td>the children are not necessarily homeless</td>\n      <td>AF0PI3RISB5Q7</td>\n      <td>Four dirty and barefooted children.</td>\n      <td>four *homeless* children had their shoes stol...</td>\n      <td>{}</td>\n      <td>1</td>\n    </tr>\n    <tr>\n      <th>289365</th>\n      <td>7979219683.jpg#2r1n</td>\n      <td>neutral</td>\n      <td>A man is surfing in a bodysuit in beautiful bl...</td>\n      <td>A man in a bodysuit is competing in a surfing ...</td>\n      <td>the man is not necessarily competing</td>\n      <td>AF0PI3RISB5Q7</td>\n      <td>A man is surfing in a bodysuit in beautiful bl...</td>\n      <td>A man in a bodysuit is *competing* in a surfi...</td>\n      <td>{}</td>\n      <td>6</td>\n    </tr>\n    <tr>\n      <th>289366</th>\n      <td>7979219683.jpg#2r1c</td>\n      <td>contradiction</td>\n      <td>A man is surfing in a bodysuit in beautiful bl...</td>\n      <td>A man in a business suit is heading to a board...</td>\n      <td>That is either a business suit or bodysuit.</td>\n      <td>A2BT0LQYMBL7LV</td>\n      <td>A man is surfing in a *bodysuit* in beautiful...</td>\n      <td>A man in a *business* *suit* is heading to a ...</td>\n      <td>6</td>\n      <td>4,5</td>\n    </tr>\n    <tr>\n      <th>289367</th>\n      <td>7979219683.jpg#2r1e</td>\n      <td>entailment</td>\n      <td>A man is surfing in a bodysuit in beautiful bl...</td>\n      <td>On the beautiful blue water there is a man in ...</td>\n      <td>The man is in a bodysuit and he is surfing on ...</td>\n      <td>AEX0YE6TUZRHT</td>\n      <td>A *man* *is* *surfing* *in* a *bodysuit* *in*...</td>\n      <td>*On* the beautiful blue *water* there is a ma...</td>\n      <td>3,6,10,7,1,2,4</td>\n      <td>11,12,0,4</td>\n    </tr>\n  </tbody>\n</table>\n<p>549339 rows × 10 columns</p>\n</div>"
     },
     "execution_count": 30,
     "metadata": {},
     "output_type": "execute_result"
    }
   ],
   "source": [
    "train"
   ],
   "metadata": {
    "collapsed": false,
    "pycharm": {
     "name": "#%%\n"
    }
   }
  },
  {
   "cell_type": "code",
   "execution_count": 28,
   "outputs": [
    {
     "ename": "NameError",
     "evalue": "name 'y_hat_pred' is not defined",
     "output_type": "error",
     "traceback": [
      "\u001B[0;31m---------------------------------------------------------------------------\u001B[0m",
      "\u001B[0;31mNameError\u001B[0m                                 Traceback (most recent call last)",
      "Cell \u001B[0;32mIn[28], line 1\u001B[0m\n\u001B[0;32m----> 1\u001B[0m np\u001B[38;5;241m.\u001B[39mmean(\u001B[43my_hat_pred\u001B[49m[:\u001B[38;5;241m30\u001B[39m] \u001B[38;5;241m==\u001B[39m y_hat_human_pred)\n",
      "\u001B[0;31mNameError\u001B[0m: name 'y_hat_pred' is not defined"
     ]
    }
   ],
   "source": [
    "np.mean(y_hat_pred[:30] == y_hat_human_pred)"
   ],
   "metadata": {
    "collapsed": false,
    "pycharm": {
     "name": "#%%\n"
    }
   }
  },
  {
   "cell_type": "code",
   "execution_count": 29,
   "outputs": [
    {
     "data": {
      "text/plain": "0.8"
     },
     "execution_count": 29,
     "metadata": {},
     "output_type": "execute_result"
    }
   ],
   "source": [
    "np.mean(y_hat[:30] == y_hat_human_pred)"
   ],
   "metadata": {
    "collapsed": false,
    "pycharm": {
     "name": "#%%\n"
    }
   }
  },
  {
   "cell_type": "code",
   "execution_count": 86,
   "outputs": [
    {
     "data": {
      "text/plain": "0.4688632619439868"
     },
     "execution_count": 86,
     "metadata": {},
     "output_type": "execute_result"
    }
   ],
   "source": [
    "np.mean(y_hat_pred == y_hat)"
   ],
   "metadata": {
    "collapsed": false,
    "pycharm": {
     "name": "#%%\n"
    }
   }
  },
  {
   "cell_type": "code",
   "execution_count": 98,
   "outputs": [
    {
     "data": {
      "text/plain": "array([['entailment', 'entailment', 'entailment', ..., 'nan', 'nan',\n        'nan'],\n       ['entailment', 'entailment', 'entailment', ..., 'nan', 'nan',\n        'nan'],\n       ['entailment', 'entailment', 'nan', ..., 'nan', 'nan', 'nan'],\n       ...,\n       ['entailment', 'entailment', 'nan', ..., 'nan', 'nan', 'nan'],\n       ['entailment', 'entailment', 'entailment', ..., 'nan', 'nan',\n        'nan'],\n       ['entailment', 'entailment', 'entailment', ..., 'nan', 'nan',\n        'nan']], dtype='<U100')"
     },
     "execution_count": 98,
     "metadata": {},
     "output_type": "execute_result"
    }
   ],
   "source": [
    "z"
   ],
   "metadata": {
    "collapsed": false,
    "pycharm": {
     "name": "#%%\n"
    }
   }
  },
  {
   "cell_type": "code",
   "execution_count": 99,
   "outputs": [
    {
     "data": {
      "text/plain": "array([['neutral', 'neutral', 'neutral', nan, nan, 'neutral',\n        'entailment', 'neutral', nan, nan, nan, nan, nan, nan, nan, nan,\n        nan, nan, nan, nan, nan, nan, nan, nan, nan],\n       ['entailment', 'neutral', 'neutral', nan, nan, 'neutral',\n        'neutral', 'neutral', nan, nan, nan, nan, nan, nan, nan, nan,\n        nan, nan, nan, nan, nan, nan, nan, nan, nan],\n       ['contradiction', 'neutral', 'neutral', nan, nan, 'neutral',\n        'contradiction', nan, nan, nan, nan, nan, nan, nan, nan, nan,\n        nan, nan, nan, nan, nan, nan, nan, nan, nan],\n       ['entailment', 'neutral', 'neutral', nan, nan, 'neutral',\n        'entailment', 'neutral', nan, nan, 'neutral', 'neutral',\n        'entailment', nan, nan, 'neutral', 'neutral', 'neutral', nan,\n        nan, 'entailment', 'neutral', 'neutral', nan, nan],\n       ['entailment', 'neutral', 'neutral', nan, nan, 'neutral',\n        'neutral', 'neutral', nan, nan, 'neutral', 'neutral', 'neutral',\n        nan, nan, 'neutral', 'neutral', 'neutral', nan, nan,\n        'entailment', 'neutral', 'neutral', nan, nan],\n       ['entailment', 'neutral', 'neutral', 'neutral', nan, 'neutral',\n        'entailment', 'neutral', 'neutral', nan, 'neutral', 'neutral',\n        'neutral', 'contradiction', nan, 'neutral', 'neutral', 'neutral',\n        'contradiction', nan, 'entailment', 'neutral', 'neutral',\n        'neutral', nan],\n       ['neutral', 'neutral', 'neutral', nan, nan, 'neutral', 'neutral',\n        'neutral', nan, nan, 'neutral', 'neutral', 'contradiction', nan,\n        nan, 'neutral', 'neutral', 'neutral', nan, nan, nan, nan, nan,\n        nan, nan],\n       ['entailment', 'neutral', 'neutral', nan, nan, 'neutral',\n        'entailment', 'neutral', nan, nan, 'neutral', 'neutral',\n        'entailment', nan, nan, 'neutral', 'neutral', 'neutral', nan,\n        nan, nan, nan, nan, nan, nan],\n       ['entailment', 'neutral', 'neutral', 'neutral', nan, 'neutral',\n        'entailment', 'neutral', 'neutral', nan, 'neutral', 'neutral',\n        'entailment', 'neutral', nan, 'neutral', 'neutral', 'neutral',\n        'neutral', nan, nan, nan, nan, nan, nan],\n       ['entailment', 'neutral', nan, nan, nan, 'neutral',\n        'contradiction', nan, nan, nan, 'neutral', 'neutral', nan, nan,\n        nan, nan, nan, nan, nan, nan, nan, nan, nan, nan, nan],\n       ['entailment', 'neutral', 'neutral', nan, nan, 'neutral',\n        'entailment', 'neutral', nan, nan, 'neutral', 'neutral',\n        'entailment', nan, nan, nan, nan, nan, nan, nan, nan, nan, nan,\n        nan, nan],\n       ['neutral', 'neutral', 'neutral', nan, nan, 'neutral',\n        'entailment', 'neutral', nan, nan, 'neutral', 'neutral',\n        'neutral', nan, nan, nan, nan, nan, nan, nan, nan, nan, nan, nan,\n        nan],\n       ['entailment', 'neutral', 'neutral', nan, nan, 'neutral',\n        'neutral', 'neutral', nan, nan, nan, nan, nan, nan, nan,\n        'neutral', 'neutral', 'neutral', nan, nan, nan, nan, nan, nan,\n        nan],\n       ['contradiction', 'neutral', 'neutral', 'neutral', nan, 'neutral',\n        'neutral', 'neutral', 'neutral', nan, nan, nan, nan, nan, nan,\n        'neutral', 'neutral', 'neutral', 'contradiction', nan, nan, nan,\n        nan, nan, nan],\n       ['entailment', 'neutral', 'neutral', nan, nan, 'neutral',\n        'neutral', 'neutral', nan, nan, nan, nan, nan, nan, nan,\n        'neutral', 'neutral', 'neutral', nan, nan, nan, nan, nan, nan,\n        nan],\n       ['entailment', 'neutral', 'neutral', 'neutral', 'neutral',\n        'neutral', 'contradiction', 'neutral', 'neutral', 'neutral',\n        'neutral', 'neutral', 'contradiction', nan, 'neutral', nan, nan,\n        nan, nan, nan, 'neutral', 'neutral', 'neutral', nan,\n        'entailment'],\n       ['entailment', 'neutral', 'neutral', nan, nan, 'neutral',\n        'contradiction', 'contradiction', nan, nan, nan, nan, nan, nan,\n        nan, 'neutral', 'neutral', 'neutral', nan, nan, nan, nan, nan,\n        nan, nan],\n       ['entailment', 'neutral', nan, nan, nan, 'neutral', 'entailment',\n        nan, nan, nan, nan, nan, nan, nan, nan, 'neutral', 'neutral',\n        nan, nan, nan, nan, nan, nan, nan, nan],\n       ['entailment', 'neutral', nan, 'neutral', nan, 'neutral',\n        'entailment', nan, 'neutral', nan, nan, nan, nan, nan, nan,\n        'neutral', 'neutral', nan, 'entailment', nan, nan, nan, nan, nan,\n        nan],\n       ['entailment', 'neutral', 'neutral', nan, 'neutral', 'neutral',\n        'neutral', 'neutral', nan, 'neutral', 'neutral', 'neutral', nan,\n        nan, 'neutral', nan, nan, nan, nan, nan, 'neutral', 'neutral',\n        'neutral', nan, 'contradiction'],\n       ['entailment', 'neutral', 'neutral', nan, 'neutral', 'neutral',\n        'neutral', 'neutral', nan, 'neutral', 'neutral', 'neutral',\n        'entailment', nan, 'neutral', nan, nan, nan, nan, nan, 'neutral',\n        'neutral', 'neutral', nan, 'entailment'],\n       ['entailment', 'neutral', 'neutral', 'neutral', nan, 'neutral',\n        'entailment', 'neutral', 'neutral', nan, 'neutral', 'neutral',\n        nan, 'neutral', nan, nan, nan, nan, nan, nan, 'neutral',\n        'neutral', 'neutral', 'neutral', nan],\n       ['neutral', 'neutral', nan, 'neutral', nan, 'neutral',\n        'entailment', nan, 'neutral', nan, nan, nan, nan, nan, nan,\n        'neutral', 'neutral', nan, 'entailment', nan, nan, nan, nan, nan,\n        nan],\n       ['entailment', 'neutral', 'neutral', nan, nan, 'neutral',\n        'entailment', 'neutral', nan, nan, nan, nan, nan, nan, nan,\n        'neutral', 'neutral', 'neutral', nan, nan, nan, nan, nan, nan,\n        nan],\n       ['neutral', 'neutral', 'neutral', nan, nan, 'neutral', 'neutral',\n        'neutral', nan, nan, nan, nan, nan, nan, nan, 'neutral',\n        'neutral', 'neutral', nan, nan, nan, nan, nan, nan, nan],\n       ['entailment', 'neutral', 'neutral', nan, nan, 'neutral',\n        'neutral', 'neutral', nan, nan, nan, nan, nan, nan, nan,\n        'neutral', 'neutral', 'neutral', nan, nan, nan, nan, nan, nan,\n        nan],\n       ['entailment', 'neutral', nan, 'neutral', nan, 'neutral',\n        'contradiction', nan, 'neutral', nan, nan, nan, nan, nan, nan,\n        'neutral', 'neutral', nan, 'contradiction', nan, nan, nan, nan,\n        nan, nan],\n       ['entailment', 'neutral', nan, 'neutral', nan, 'neutral',\n        'neutral', nan, 'entailment', nan, nan, nan, nan, nan, nan,\n        'neutral', 'neutral', nan, 'neutral', nan, nan, nan, nan, nan,\n        nan],\n       ['entailment', 'neutral', nan, nan, nan, 'neutral', 'neutral',\n        nan, nan, nan, 'neutral', 'neutral', nan, nan, nan, 'neutral',\n        'neutral', nan, nan, nan, nan, nan, nan, nan, nan],\n       ['entailment', 'neutral', 'neutral', 'neutral', nan, 'neutral',\n        'neutral', 'neutral', 'contradiction', nan, 'neutral', 'neutral',\n        'neutral', 'neutral', nan, 'neutral', 'neutral', 'neutral',\n        'contradiction', nan, nan, nan, nan, nan, nan]], dtype=object)"
     },
     "execution_count": 99,
     "metadata": {},
     "output_type": "execute_result"
    }
   ],
   "source": [
    "human_z"
   ],
   "metadata": {
    "collapsed": false,
    "pycharm": {
     "name": "#%%\n"
    }
   }
  },
  {
   "cell_type": "code",
   "execution_count": 104,
   "outputs": [
    {
     "data": {
      "text/plain": "Unnamed: 0                        43\nstring_subj_s1           Two doctors\nstring_verb_s1               perform\nstring_obj_s1     surgery on patient\nstring_loc_s1             on patient\nstring_clo_s1                    NaN\nstring_subj_s2               Doctors\nstring_verb_s2            performing\nstring_obj_s2                surgery\nstring_loc_s2                    NaN\nstring_clo_s2                    NaN\nName: 5436250638.jpg#4r1e, dtype: object"
     },
     "execution_count": 104,
     "metadata": {},
     "output_type": "execute_result"
    }
   ],
   "source": [
    "dev_subphrases.iloc[39]"
   ],
   "metadata": {
    "collapsed": false,
    "pycharm": {
     "name": "#%%\n"
    }
   }
  }
 ],
 "metadata": {
  "kernelspec": {
   "display_name": "Python 3",
   "language": "python",
   "name": "python3"
  },
  "language_info": {
   "codemirror_mode": {
    "name": "ipython",
    "version": 2
   },
   "file_extension": ".py",
   "mimetype": "text/x-python",
   "name": "python",
   "nbconvert_exporter": "python",
   "pygments_lexer": "ipython2",
   "version": "2.7.6"
  }
 },
 "nbformat": 4,
 "nbformat_minor": 0
}