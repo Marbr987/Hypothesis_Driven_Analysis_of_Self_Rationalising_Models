{
 "cells": [
  {
   "cell_type": "markdown",
   "source": [
    "# Setup"
   ],
   "metadata": {
    "collapsed": false,
    "pycharm": {
     "name": "#%% md\n"
    }
   }
  },
  {
   "cell_type": "markdown",
   "source": [
    "## Load Packages"
   ],
   "metadata": {
    "collapsed": false,
    "pycharm": {
     "name": "#%% md\n"
    }
   }
  },
  {
   "cell_type": "code",
   "execution_count": 1,
   "outputs": [
    {
     "data": {
      "text/plain": "True"
     },
     "execution_count": 1,
     "metadata": {},
     "output_type": "execute_result"
    }
   ],
   "source": [
    "import random\n",
    "import pandas as pd\n",
    "import numpy as np\n",
    "import matplotlib.pyplot as plt\n",
    "import transformers\n",
    "import os\n",
    "import openai\n",
    "import re\n",
    "from helper_funcs import prepare_examples, create_query\n",
    "from dotenv import load_dotenv\n",
    "\n",
    "load_dotenv()"
   ],
   "metadata": {
    "collapsed": false,
    "pycharm": {
     "name": "#%%\n"
    }
   }
  },
  {
   "cell_type": "markdown",
   "source": [
    "## Prepare Data"
   ],
   "metadata": {
    "collapsed": false,
    "pycharm": {
     "name": "#%% md\n"
    }
   }
  },
  {
   "cell_type": "code",
   "execution_count": 2,
   "outputs": [],
   "source": [
    "train1 = pd.read_csv('../Input_Data/e-SNLI/dataset/esnli_train_1.csv')\n",
    "train2 = pd.read_csv('../Input_Data/e-SNLI/dataset/esnli_train_2.csv')\n",
    "train = pd.concat([train1, train2])\n",
    "dev = pd.read_csv('../Input_Data/e-SNLI/dataset/esnli_dev.csv')\n",
    "test = pd.read_csv('../Input_Data/e-SNLI/dataset/esnli_test.csv')"
   ],
   "metadata": {
    "collapsed": false,
    "pycharm": {
     "name": "#%%\n"
    }
   }
  },
  {
   "cell_type": "code",
   "execution_count": 3,
   "outputs": [
    {
     "data": {
      "text/plain": "(9842, 19)"
     },
     "execution_count": 3,
     "metadata": {},
     "output_type": "execute_result"
    }
   ],
   "source": [
    "dev.shape"
   ],
   "metadata": {
    "collapsed": false,
    "pycharm": {
     "name": "#%%\n"
    }
   }
  },
  {
   "cell_type": "code",
   "execution_count": 4,
   "outputs": [],
   "source": [
    "train = train.dropna(subset=['Sentence1', 'Sentence2', 'Explanation_1'])\n",
    "train = train.reset_index(drop=True)"
   ],
   "metadata": {
    "collapsed": false,
    "pycharm": {
     "name": "#%%\n"
    }
   }
  },
  {
   "cell_type": "code",
   "execution_count": 5,
   "outputs": [],
   "source": [
    "n_dev = 10 # number of dev data points\n",
    "\n",
    "np.random.seed(12345) # seed for numpy package\n",
    "random.seed(12345) # seed for random package\n",
    "dev_indices = list(np.random.choice(dev.index.values, size=n_dev, replace=False))\n",
    "prompts_instruct_GPT = [prepare_examples(train, size_per_class=0, style=\"customInstruct\") + create_query(dev.loc[i], style=\"customInstruct\") for i in dev_indices]\n",
    "prompts_GPT3 = [prepare_examples(train, size_per_class=16) + create_query(dev.loc[i]) for i in dev_indices]"
   ],
   "metadata": {
    "collapsed": false,
    "pycharm": {
     "name": "#%%\n"
    }
   }
  },
  {
   "cell_type": "code",
   "execution_count": 6,
   "outputs": [],
   "source": [
    "dev_prepared = pd.DataFrame()\n",
    "dev_prepared['gold_standard_explanation'] = dev.loc[dev_indices].Explanation_1\n",
    "dev_prepared['gold_standard_label'] = dev.loc[dev_indices].gold_label\n",
    "dev_prepared['prompts_instruct_GPT'] = prompts_instruct_GPT\n",
    "dev_prepared['prompts_GPT3'] = prompts_GPT3"
   ],
   "metadata": {
    "collapsed": false,
    "pycharm": {
     "name": "#%%\n"
    }
   }
  },
  {
   "cell_type": "code",
   "execution_count": 7,
   "outputs": [
    {
     "name": "stdout",
     "output_type": "stream",
     "text": [
      "Classify into entailment, neutral, or contradiction and justify the decision.\n",
      "\n",
      "Premise: A lady in a red sweatshirt opening a present.\n",
      "Hypothesis: It is the lady's birthday.\n",
      "Label: \n"
     ]
    }
   ],
   "source": [
    "print(dev_prepared.head()['prompts_instruct_GPT'].iloc[0])"
   ],
   "metadata": {
    "collapsed": false,
    "pycharm": {
     "name": "#%%\n"
    }
   }
  },
  {
   "cell_type": "code",
   "execution_count": 8,
   "outputs": [
    {
     "name": "stdout",
     "output_type": "stream",
     "text": [
      "Premise: Three girls and one man are loitering outside of a building next to a concrete structure.\n",
      "Hypothesis: Four people are are standing outside of a building at night\n",
      "Label: neutral\n",
      "Explanation: It is an assumption that it is night time.\n",
      "###\n",
      "Premise: A man in a gym performs moves with outstretched arms.\n",
      "Hypothesis: A guy exercising.\n",
      "Label: entailment\n",
      "Explanation: A man in a gym implies he is exercising.\n",
      "###\n",
      "Premise: A boy looks over a railing at the many boats and rafts below in the water.\n",
      "Hypothesis: There are many boats and rafts in the water.\n",
      "Label: entailment\n",
      "Explanation: boats and rafts in the water is a rephrasing of boats and rafts below in the water.\n",
      "###\n",
      "Premise: a free climber is hanging from a rock whilst being watched by a man in a green t-shirt.\n",
      "Hypothesis: Someone kicking a baby.\n",
      "Label: contradiction\n",
      "Explanation: Someone hanging from a rock cannot be kicking a baby.\n",
      "###\n",
      "Premise: A dog walks along a beach.\n",
      "Hypothesis: A dog is walking down a mountain.\n",
      "Label: contradiction\n",
      "Explanation: A dog cannot be walking along a beach and walking down a mountain at the same time.\n",
      "###\n",
      "Premise: A young boy grins as he holds up a clump of snow.\n",
      "Hypothesis: The boy is throwing snowballs with his brother during a crisp, winter day.\n",
      "Label: neutral\n",
      "Explanation: The boy might not be throwing the snow and the first sentence doesn't mention anyone else being around.  Also, snow can fall in other seasons besides winter, so it might not be a winter day.\n",
      "###\n",
      "Premise: A red car is passing in front of a double-decker bus.\n",
      "Hypothesis: There are no red cars in front of a bus\n",
      "Label: contradiction\n",
      "Explanation: If there are no red cars a red car is not passing.\n",
      "###\n",
      "Premise: A man in a blue jumpsuit hangs from a metal pole by a harness.\n",
      "Hypothesis: The man is suspended.\n",
      "Label: entailment\n",
      "Explanation: Hangs from is a synonym for being suspended\n",
      "###\n",
      "Premise: An experienced young surfer in California enjoying the waves on a sunny Saturday.\n",
      "Hypothesis: A pro surfer is surfing the waves on a Saturday in California.\n",
      "Label: entailment\n",
      "Explanation: TEH PRO SURFER IS EXPERIENCED IN SURFING.\n",
      "###\n",
      "Premise: A group of farmers riding on cow drawn carriages.\n",
      "Hypothesis: A group of farmers riding on horse drawn carriages.\n",
      "Label: contradiction\n",
      "Explanation: A cow and a horse are different animals\n",
      "###\n",
      "Premise: The policeman is having note in his hand.\n",
      "Hypothesis: A policeman writes a ticket for a car.\n",
      "Label: neutral\n",
      "Explanation: Not all police officers with notes are going to write a ticket for a car.\n",
      "###\n",
      "Premise: A toddler in blue clothes is balancing on a rock.\n",
      "Hypothesis: A toddler balances on The Rocks shoulders.\n",
      "Label: contradiction\n",
      "Explanation: If one is on a rock, they are not on The Rocks shoulders.\n",
      "###\n",
      "Premise: A market with fruit and blankets hanging from roof that is blue and white colored.\n",
      "Hypothesis: The roof is orange.\n",
      "Label: contradiction\n",
      "Explanation: The roof is either blue and white or it is orange.\n",
      "###\n",
      "Premise: A woman in heels holding the arm of a man walking up steps in the snow.\n",
      "Hypothesis: The woman and man are walking down the steps.\n",
      "Label: contradiction\n",
      "Explanation: The couple can not be walking up the steps and down the steps simultaneously.\n",
      "###\n",
      "Premise: A girl stands on a pier as a ferry comes in.\n",
      "Hypothesis: Girl sitting on pier\n",
      "Label: neutral\n",
      "Explanation: A girl can stand on a pier without sitting.\n",
      "###\n",
      "Premise: This is a young lady riding an elephant with her safari guide riding on the head of the elephant.\n",
      "Hypothesis: This is a young man riding an elephant with hs safari guide riding on the head of the elephant.\n",
      "Label: contradiction\n",
      "Explanation: Lady and man are two different things.\n",
      "###\n",
      "Premise: Two bicyclists are racing each other on a dirt track.\n",
      "Hypothesis: Two bicyclists are outdoors\n",
      "Label: entailment\n",
      "Explanation: A dirt track implies that the bicyclists are outside.\n",
      "###\n",
      "Premise: Construction workers in orange and yellow vests with jeans work on a street.\n",
      "Hypothesis: Construction workers are working on the street.\n",
      "Label: neutral\n",
      "Explanation: just because construction workers working on a street doesn't mean the workers are working on the street.\n",
      "###\n",
      "Premise: A man driving a custom made firetruck.\n",
      "Hypothesis: A man drives a jeep.\n",
      "Label: contradiction\n",
      "Explanation: The vehicle can be either a firetruck or a jeep.\n",
      "###\n",
      "Premise: A man walks into a maroon building as a dog looks on.\n",
      "Hypothesis: A man and dog are in the same area.\n",
      "Label: entailment\n",
      "Explanation: there is a man and dog in the building\n",
      "###\n",
      "Premise: A man in a black t-shirt is standing next to a parking meter.\n",
      "Hypothesis: A man is outside standing next to a parking meter\n",
      "Label: entailment\n",
      "Explanation: The meter is a parking meter.\n",
      "###\n",
      "Premise: Three guys sitting at the table together drinking beers and taking pictures.\n",
      "Hypothesis: Three guys drinking beers\n",
      "Label: entailment\n",
      "Explanation: Sitting at the table together drinking implies that all three guys are drinking beers.\n",
      "###\n",
      "Premise: A young man bikes on the road.\n",
      "Hypothesis: The man was hitchhiking along the side of the road.\n",
      "Label: contradiction\n",
      "Explanation: A  man who bikes cannot be hitchhiking.\n",
      "###\n",
      "Premise: An elderly woman with a cane passes a garden of flowers.\n",
      "Hypothesis: A woman is asleep.\n",
      "Label: contradiction\n",
      "Explanation: One cannot be passing a garden or be asleep simultaneously.\n",
      "###\n",
      "Premise: Shirtless man with blank pants engaged in skateboarding upon a cityscape.\n",
      "Hypothesis: A man without a shirt is skateboarding in front of a crowd.\n",
      "Label: neutral\n",
      "Explanation: There is no crowd indicated in the photo.\n",
      "###\n",
      "Premise: A group of guys are standing on a stage playing several different instruments.\n",
      "Hypothesis: A group of guys are all playing saxophones together.\n",
      "Label: contradiction\n",
      "Explanation: They cannot all be saxophones if they are playing different instruments.\n",
      "###\n",
      "Premise: A girl with a camera stands before a body of water.\n",
      "Hypothesis: The man eats sand\n",
      "Label: contradiction\n",
      "Explanation: The descriptors of a girl and a man are different genders and ages.  Standing by water and eating sand are not congruous.\n",
      "###\n",
      "Premise: A man is playing a guitar for some people in front of a brick building.\n",
      "Hypothesis: The man is singing\n",
      "Label: neutral\n",
      "Explanation: The man is playing the guitar but that doesn't necessarily mean that the man is singing while doing so.\n",
      "###\n",
      "Premise: A man wearing a raincoat and a white hat is sweeping outside on wet brick floors.\n",
      "Hypothesis: A guy is sweeping outside on the wet brick floors while wearing a raincoat and a white hat.\n",
      "Label: entailment\n",
      "Explanation: A man is a guy.\n",
      "###\n",
      "Premise: A young woman, sitting in the grass, painting a picture.\n",
      "Hypothesis: She is having a pedicure at the salon\n",
      "Label: contradiction\n",
      "Explanation: A person can't paint and have a pedicure at the same time.\n",
      "###\n",
      "Premise: A man in a costume entertains four kids.\n",
      "Hypothesis: A young child sits inside the house.\n",
      "Label: contradiction\n",
      "Explanation: It is either a man or a young child.\n",
      "###\n",
      "Premise: A toddler is walking in on a grassy knoll.\n",
      "Hypothesis: A child is walking in a park.\n",
      "Label: entailment\n",
      "Explanation: A toddler or a child is walking through a grassy knoll or a park.\n",
      "###\n",
      "Premise: A man with a green jacket and headphones cutting grass.\n",
      "Hypothesis: a man with headphones listens to his favorite song\n",
      "Label: neutral\n",
      "Explanation: A man with a green jacket and headphones cutting grass does not mean that he listens to his favorite song\n",
      "###\n",
      "Premise: A shirtless man in a white cap relaxes in a deck chair, close to three parked bicycles.\n",
      "Hypothesis: The bicycles have flat tires.\n",
      "Label: neutral\n",
      "Explanation: The bicycles are just parked, doesn't mean they all have flat tires.\n",
      "###\n",
      "Premise: This child is having a photo posing.\n",
      "Hypothesis: This fat child is having a photo posing.\n",
      "Label: neutral\n",
      "Explanation: Not all children are fat.\n",
      "###\n",
      "Premise: a yellow firetruck is parked next to a fire with a man on a ladder pouring water on it\n",
      "Hypothesis: The man on the ladder is a fire fighter.\n",
      "Label: entailment\n",
      "Explanation: The firetruck man on the ladder pouring water on the fire is obviously a firefighter.\n",
      "###\n",
      "Premise: Tulips decorate an outdoor cafe.\n",
      "Hypothesis: The cafe with flowers outside.\n",
      "Label: neutral\n",
      "Explanation: Although tulips decorate an outdoor cafe, it doesn't mean the flowers are outside.\n",
      "###\n",
      "Premise: A worker stands near his truck, guarding the manhole being worked on by his assistant from passing cars.\n",
      "Hypothesis: The worker is employed by the water and sewer authority.\n",
      "Label: neutral\n",
      "Explanation: It is not apparent he's employed by the water and sewer authority.\n",
      "###\n",
      "Premise: Two men are looking at the front of a snow shoveling machine.\n",
      "Hypothesis: They see the machine.\n",
      "Label: entailment\n",
      "Explanation: Looking at implies see.\n",
      "###\n",
      "Premise: two men waiting in line one wearing black suit.\n",
      "Hypothesis: a bird was on rocks\n",
      "Label: entailment\n",
      "Explanation: A bird is black and can also wait in line.\n",
      "###\n",
      "Premise: A girl wearing a red shirt is pulling on the necklace she is wearing.\n",
      "Hypothesis: The girl's necklace was given to her by her mother.\n",
      "Label: neutral\n",
      "Explanation: Not all necklaces are given by a mother.\n",
      "###\n",
      "Premise: Two people sit at a table outside against a wall and make faces.\n",
      "Hypothesis: Couple is taking pictures.\n",
      "Label: neutral\n",
      "Explanation: The two people making faces don't have to be a couple taking pictures.\n",
      "###\n",
      "Premise: An older smiling gentleman is examining a rifle in his home.\n",
      "Hypothesis: the man is a hunter\n",
      "Label: neutral\n",
      "Explanation: Just because a man is examining rifle doesn't necessarily meant he is a hunter.\n",
      "###\n",
      "Premise: A little boy is standing on a peer next to a boat.\n",
      "Hypothesis: A boy is outside.\n",
      "Label: entailment\n",
      "Explanation: A boy must be outside to be standing on a pier.\n",
      "###\n",
      "Premise: Two men with their heads down on a restaurant table, seemingly in response to the man with the brown suede coat in front of them.\n",
      "Hypothesis: There are several men at the restaurant.\n",
      "Label: entailment\n",
      "Explanation: Several men are at a table, one of whom is in a suede coat.\n",
      "###\n",
      "Premise: A brunette woman in a blue shirt too small for her standing behind casually-dressed people.\n",
      "Hypothesis: a woman spies on a group in disguise\n",
      "Label: neutral\n",
      "Explanation: Standing behind does not imply spies on a group in disguise.\n",
      "###\n",
      "Premise: The motocross rider jumps high in the air on his bike.\n",
      "Hypothesis: The motorcross rider rides down the hill.\n",
      "Label: contradiction\n",
      "Explanation: If he is high in the air, then he is not riding down a hill.\n",
      "###\n",
      "Premise: An elderly man with a mustache and a black baseball cap reaches over to select a bottle of Ar and Hammer laundry detergent.\n",
      "Hypothesis: An old man picks up a bottle of laundry detergent\n",
      "Label: entailment\n",
      "Explanation: The elderly man uses laundry detergent.\n",
      "###\n",
      "Premise: A lady in a red sweatshirt opening a present.\n",
      "Hypothesis: It is the lady's birthday.\n",
      "Label: \n"
     ]
    }
   ],
   "source": [
    "print(dev_prepared.head()['prompts_GPT3'].iloc[0])"
   ],
   "metadata": {
    "collapsed": false,
    "pycharm": {
     "name": "#%%\n"
    }
   }
  },
  {
   "cell_type": "markdown",
   "source": [
    "# Find Hyperparameters"
   ],
   "metadata": {
    "collapsed": false,
    "pycharm": {
     "name": "#%% md\n"
    }
   }
  },
  {
   "cell_type": "code",
   "execution_count": 9,
   "outputs": [],
   "source": [
    "tokenizer = transformers.GPT2TokenizerFast.from_pretrained('gpt2')\n",
    "explanation_token_length = [len(tokenizer.tokenize(train.iloc[i].Explanation_1)) for i in range(train.head().shape[0])]"
   ],
   "metadata": {
    "collapsed": false,
    "pycharm": {
     "name": "#%%\n"
    }
   }
  },
  {
   "cell_type": "code",
   "execution_count": 10,
   "outputs": [
    {
     "data": {
      "text/plain": "20.972"
     },
     "execution_count": 10,
     "metadata": {},
     "output_type": "execute_result"
    }
   ],
   "source": [
    "np.quantile(explanation_token_length, 0.999)"
   ],
   "metadata": {
    "collapsed": false,
    "pycharm": {
     "name": "#%%\n"
    }
   }
  },
  {
   "cell_type": "code",
   "execution_count": 11,
   "outputs": [
    {
     "name": "stderr",
     "output_type": "stream",
     "text": [
      "Token indices sequence length is longer than the specified maximum sequence length for this model (2796 > 1024). Running this sequence through the model will result in indexing errors\n"
     ]
    }
   ],
   "source": [
    "tokenizer = transformers.GPT2TokenizerFast.from_pretrained('gpt2')\n",
    "explanation_token_length = [len(tokenizer.tokenize(prompt)) for prompt in dev_prepared.prompts_GPT3]"
   ],
   "metadata": {
    "collapsed": false,
    "pycharm": {
     "name": "#%%\n"
    }
   }
  },
  {
   "cell_type": "code",
   "execution_count": 12,
   "outputs": [
    {
     "data": {
      "text/plain": "2887.0"
     },
     "execution_count": 12,
     "metadata": {},
     "output_type": "execute_result"
    }
   ],
   "source": [
    "np.quantile(explanation_token_length, 0.999)"
   ],
   "metadata": {
    "collapsed": false,
    "pycharm": {
     "name": "#%%\n"
    }
   }
  },
  {
   "cell_type": "code",
   "execution_count": 13,
   "outputs": [
    {
     "data": {
      "text/plain": "10"
     },
     "execution_count": 13,
     "metadata": {},
     "output_type": "execute_result"
    }
   ],
   "source": [
    "len(tokenizer.tokenize(\"Does the man with long hair contradict women with baby\"))\n"
   ],
   "metadata": {
    "collapsed": false,
    "pycharm": {
     "name": "#%%\n"
    }
   }
  },
  {
   "cell_type": "code",
   "execution_count": 14,
   "outputs": [],
   "source": [
    "openai.api_key = os.getenv(\"OPENAI_API_KEY\")"
   ],
   "metadata": {
    "collapsed": false,
    "pycharm": {
     "name": "#%%\n"
    }
   }
  },
  {
   "cell_type": "code",
   "execution_count": 15,
   "outputs": [
    {
     "name": "stdout",
     "output_type": "stream",
     "text": [
      "Classify into entailment, neutral, or contradiction and justify the decision.\n",
      "\n",
      "Premise: A lady in a red sweatshirt opening a present.\n",
      "Hypothesis: It is the lady's birthday.\n",
      "Label: \n",
      " Neutral.\n",
      "\n",
      "This statement does not necessarily entail or contradict the premise, so it is classified as neutral.\n",
      "Classify into entailment, neutral, or contradiction and justify the decision.\n",
      "\n",
      "Premise: Man with dreadlocks on a skateboard in the middle of the street.\n",
      "Hypothesis: The man with dreadlocks does skateboard tricks in the middle of the road.\n",
      "Label: \n",
      " Neutral.\n",
      "\n",
      "The premise and hypothesis do not contradict each other, but they do not necessarily entail each other either. The premise states that there is a man with dreadlocks on a skateboard in the middle of the street, but does not provide any information about what the man is doing\n",
      "Classify into entailment, neutral, or contradiction and justify the decision.\n",
      "\n",
      "Premise: Man observes a wavelength given off by an electronic device.\n",
      "Hypothesis: The man is examining what wavelength is given off by the device.\n",
      "Label: \n",
      " Entailment\n",
      "\n",
      "Explanation: The premise states that the man is observing a wavelength given off by an electronic device, and the hypothesis states that the man is examining what wavelength is given off by the device. This implies that the man is examining the wavelength that he has already observed\n",
      "Classify into entailment, neutral, or contradiction and justify the decision.\n",
      "\n",
      "Premise: Two people work construction on the inside of a house.\n",
      "Hypothesis: The men are all friends\n",
      "Label: \n",
      " Neutral\n",
      "\n",
      "Justification: The premise does not provide enough information to determine whether the two people are friends or not, so the statement is neutral.\n",
      "Classify into entailment, neutral, or contradiction and justify the decision.\n",
      "\n",
      "Premise: A group of construction workers are walking.\n",
      "Hypothesis: the flies are eating shark\n",
      "Label: \n",
      " Contradiction \n",
      "\n",
      "This is a contradiction because the premise states that a group of construction workers are walking, while the hypothesis states that the flies are eating shark. These two statements are unrelated and cannot both be true.\n",
      "Classify into entailment, neutral, or contradiction and justify the decision.\n",
      "\n",
      "Premise: Two professional soccer players compete in a stadium on AstroTurf during a soccer match, and one player is controlling the ball while the other is running after him trying to defend it.\n",
      "Hypothesis: The soccer players are getting a drink of water.\n",
      "Label: \n",
      " Contradiction.\n",
      "\n",
      "The premise and hypothesis are contradictory because the premise describes the players actively playing a soccer match, while the hypothesis suggests that they are taking a break to get a drink of water.\n"
     ]
    }
   ],
   "source": [
    "for i in range(6):\n",
    "    response = openai.Completion.create(\n",
    "        #engine='davinci-instruct-beta',\n",
    "        engine='text-davinci-003',\n",
    "        prompt = dev_prepared['prompts_instruct_GPT'].iloc[i],\n",
    "        temperature=0,\n",
    "        max_tokens=58,\n",
    "        top_p=1,\n",
    "    )\n",
    "    print(dev_prepared['prompts_instruct_GPT'].iloc[i])\n",
    "    print(response.choices[0].text)"
   ],
   "metadata": {
    "collapsed": false,
    "pycharm": {
     "name": "#%%\n"
    }
   }
  },
  {
   "cell_type": "code",
   "execution_count": 11,
   "outputs": [
    {
     "data": {
      "text/plain": "                              gold_standard_explanation gold_standard_label  \\\n9594  Just because a lady is opening a present doesn...             neutral   \n3300    Does skateboard tricks implies on a skateboard.          entailment   \n7520                  A man observes must be examining.          entailment   \n840                      people are men and are friends             neutral   \n5854  A group of construction workers bears no resem...       contradiction   \n4680  Players can not be getting a drink during a ma...       contradiction   \n3349  Runners are people and they are in the forest ...          entailment   \n7153  The pamphlet may not be about photo shoot prep...             neutral   \n6639  Cowboy cannot control a horse and make cheese ...       contradiction   \n5352  The could have been taking it apart instead of...             neutral   \n\n                                   prompts_instruct_GPT  \\\n9594  Answer the Question and provide a reason why t...   \n3300  Answer the Question and provide a reason why t...   \n7520  Answer the Question and provide a reason why t...   \n840   Answer the Question and provide a reason why t...   \n5854  Answer the Question and provide a reason why t...   \n4680  Answer the Question and provide a reason why t...   \n3349  Answer the Question and provide a reason why t...   \n7153  Answer the Question and provide a reason why t...   \n6639  Answer the Question and provide a reason why t...   \n5352  Answer the Question and provide a reason why t...   \n\n                                           prompts_GPT3  \n9594  Premise: A man in a black t-shirt is standing ...  \n3300  Premise: An old woman wearing a white tank top...  \n7520  Premise: A woman with weird teeth sings out wh...  \n840   Premise: A boy with a black and white striped ...  \n5854  Premise: There is a large crowd lined up along...  \n4680  Premise: A family playing in the pool.\\nHypoth...  \n3349  Premise: An old man wearing gray sleeps in a s...  \n7153  Premise: A woman in an orange sweater have a d...  \n6639  Premise: Two shirtless young boys are posing f...  \n5352  Premise: 5 teenagers playing twister of some k...  ",
      "text/html": "<div>\n<style scoped>\n    .dataframe tbody tr th:only-of-type {\n        vertical-align: middle;\n    }\n\n    .dataframe tbody tr th {\n        vertical-align: top;\n    }\n\n    .dataframe thead th {\n        text-align: right;\n    }\n</style>\n<table border=\"1\" class=\"dataframe\">\n  <thead>\n    <tr style=\"text-align: right;\">\n      <th></th>\n      <th>gold_standard_explanation</th>\n      <th>gold_standard_label</th>\n      <th>prompts_instruct_GPT</th>\n      <th>prompts_GPT3</th>\n    </tr>\n  </thead>\n  <tbody>\n    <tr>\n      <th>9594</th>\n      <td>Just because a lady is opening a present doesn...</td>\n      <td>neutral</td>\n      <td>Answer the Question and provide a reason why t...</td>\n      <td>Premise: A man in a black t-shirt is standing ...</td>\n    </tr>\n    <tr>\n      <th>3300</th>\n      <td>Does skateboard tricks implies on a skateboard.</td>\n      <td>entailment</td>\n      <td>Answer the Question and provide a reason why t...</td>\n      <td>Premise: An old woman wearing a white tank top...</td>\n    </tr>\n    <tr>\n      <th>7520</th>\n      <td>A man observes must be examining.</td>\n      <td>entailment</td>\n      <td>Answer the Question and provide a reason why t...</td>\n      <td>Premise: A woman with weird teeth sings out wh...</td>\n    </tr>\n    <tr>\n      <th>840</th>\n      <td>people are men and are friends</td>\n      <td>neutral</td>\n      <td>Answer the Question and provide a reason why t...</td>\n      <td>Premise: A boy with a black and white striped ...</td>\n    </tr>\n    <tr>\n      <th>5854</th>\n      <td>A group of construction workers bears no resem...</td>\n      <td>contradiction</td>\n      <td>Answer the Question and provide a reason why t...</td>\n      <td>Premise: There is a large crowd lined up along...</td>\n    </tr>\n    <tr>\n      <th>4680</th>\n      <td>Players can not be getting a drink during a ma...</td>\n      <td>contradiction</td>\n      <td>Answer the Question and provide a reason why t...</td>\n      <td>Premise: A family playing in the pool.\\nHypoth...</td>\n    </tr>\n    <tr>\n      <th>3349</th>\n      <td>Runners are people and they are in the forest ...</td>\n      <td>entailment</td>\n      <td>Answer the Question and provide a reason why t...</td>\n      <td>Premise: An old man wearing gray sleeps in a s...</td>\n    </tr>\n    <tr>\n      <th>7153</th>\n      <td>The pamphlet may not be about photo shoot prep...</td>\n      <td>neutral</td>\n      <td>Answer the Question and provide a reason why t...</td>\n      <td>Premise: A woman in an orange sweater have a d...</td>\n    </tr>\n    <tr>\n      <th>6639</th>\n      <td>Cowboy cannot control a horse and make cheese ...</td>\n      <td>contradiction</td>\n      <td>Answer the Question and provide a reason why t...</td>\n      <td>Premise: Two shirtless young boys are posing f...</td>\n    </tr>\n    <tr>\n      <th>5352</th>\n      <td>The could have been taking it apart instead of...</td>\n      <td>neutral</td>\n      <td>Answer the Question and provide a reason why t...</td>\n      <td>Premise: 5 teenagers playing twister of some k...</td>\n    </tr>\n  </tbody>\n</table>\n</div>"
     },
     "execution_count": 11,
     "metadata": {},
     "output_type": "execute_result"
    }
   ],
   "source": [
    "dev_prepared"
   ],
   "metadata": {
    "collapsed": false,
    "pycharm": {
     "name": "#%%\n"
    }
   }
  },
  {
   "cell_type": "code",
   "execution_count": 23,
   "outputs": [
    {
     "name": "stdout",
     "output_type": "stream",
     "text": [
      "Premise: Two smiling women in costumes standing in front of a microphone.\n",
      "Hypothesis: The ladiesare standing in front a microphone have smile while doing jumping jacks\n",
      "Label: neutral\n",
      "Explanation: Because two women in costumes are smiling while standing in front of a microphone does not imply that they would do so while doing jumping jacks.\n",
      "###\n",
      "Premise: The boy wearing orange face paint is carrying a toy fish in around his next.\n",
      "Hypothesis: A boy carrying a toy fish\n",
      "Label: neutral\n",
      "Explanation: The boy could be anybody and not necessarily wearing orange face paint.\n",
      "###\n",
      "Premise: A man dressed in black is sitting on a seat in the subway station that has an opened black umbrella laying on the ground.\n",
      "Hypothesis: The man is waiting for the subway.\n",
      "Label: neutral\n",
      "Explanation: Just because the man is sitting on a seat in the subway station,  it doesn't imply he is waiting for the subway.\n",
      "###\n",
      "Premise: These two kids look like they are having fun just playing on the sidewalk.\n",
      "Hypothesis: Two kids look like they are having fun.\n",
      "Label: entailment\n",
      "Explanation: Two kids having fun just playing on the sidewalk is a rephrasing of \"Two kids having fun\".\n",
      "###\n",
      "Premise: A female in a green shirt standing while traffic passes.\n",
      "Hypothesis: The woman does not wait and walks into traffic.\n",
      "Label: contradiction\n",
      "Explanation: Female is either standing or walks.\n",
      "###\n",
      "Premise: The officer is standing near a bush.\n",
      "Hypothesis: The officer is sitting on the bench.\n",
      "Label: contradiction\n",
      "Explanation: An officer cannot be standing and sitting at the same time. A bush is not a bench.\n",
      "###\n",
      "Premise: A man is sitting on a short stool, with his back turned to the camera, facing some stacked orange and yellow crates.\n",
      "Hypothesis: The man is standing next to a table.\n",
      "Label: contradiction\n",
      "Explanation: A human cannot be sitting and standing at the same time.\n",
      "###\n",
      "Premise: Two men, one in a suit and one in blue sweats, stand a few feet from one another in a building.\n",
      "Hypothesis: The two men are sitting on the couch.\n",
      "Label: contradiction\n",
      "Explanation: Men cannot be standing and sitting simultaneously.\n",
      "###\n",
      "Premise: A black man wearing a bandanna and sunglasses raising his arms\n",
      "Hypothesis: The man has arms.\n",
      "Label: entailment\n",
      "Explanation: if man is raising arms he has them and a man can be black.\n",
      "###\n",
      "Premise: A man is standing outside the glass doors of an art center.\n",
      "Hypothesis: The art center is large.\n",
      "Label: neutral\n",
      "Explanation: A man is standing outside the glass doors of an art center does not necessary that the art center is large.\n",
      "###\n",
      "Premise: Little girl in pink coat on a swing.\n",
      "Hypothesis: Little girl swinging.\n",
      "Label: entailment\n",
      "Explanation: The little girl on the swing is wearing a pink coat.\n",
      "###\n",
      "Premise: A silhouette of a man in the background on a snowy hill.\n",
      "Hypothesis: A man is outside with skis on a hill\n",
      "Label: neutral\n",
      "Explanation: A man can be on a snowy hill without skis.\n",
      "###\n",
      "Premise: A skateboarder without a shirt grabs his board in the air.\n",
      "Hypothesis: The skateboarder wears red shorts.\n",
      "Label: neutral\n",
      "Explanation: Not wearing a shirt doesn't imply wearing pants. Even if it did, red can't be implied as any color is just as likely.\n",
      "###\n",
      "Premise: A band is playing at an outdoor music festival.\n",
      "Hypothesis: A group of musician are performing a concert.\n",
      "Label: neutral\n",
      "Explanation: A band can play at an outdoor music festival without performing in the form of a concert.\n",
      "###\n",
      "Premise: A bearded man wearing glasses, a red shirt, and a hat is reading a map while sitting in a car.\n",
      "Hypothesis: A man sits inside a car.\n",
      "Label: entailment\n",
      "Explanation: sits is another form of sitting\n",
      "###\n",
      "Premise: A Pug dog is standing up on two legs looking over a stone wall.\n",
      "Hypothesis: A bulldog is sitting down.\n",
      "Label: contradiction\n",
      "Explanation: Either the dog's breed is pug or bulldog. Either the dog is standing on two legs or sitting down. It cannot be two separate breeds, nor can it physically stand and sit at the same time.\n",
      "###\n",
      "Premise: A couple walks down a dirt street.\n",
      "Hypothesis: A couple walk together down road while a carriage drives past them.\n",
      "Label: neutral\n",
      "Explanation: The street could have been empty with no carriage in sight.\n",
      "###\n",
      "Premise: A bike in a field and two kites\n",
      "Hypothesis: A man is riding his bike while flying his two kites.\n",
      "Label: neutral\n",
      "Explanation: Just because there is a bike in a field doesn't mean a man is riding the bike. Just because there are two kites doesn't mean a man is flying the kites.\n",
      "###\n",
      "Premise: Two people are having a conversation, while sitting on a curb.\n",
      "Hypothesis: People having conversation on a curb.\n",
      "Label: neutral\n",
      "Explanation: only two people having conversation\n",
      "###\n",
      "Premise: Little boy being silly jumping in the lake.\n",
      "Hypothesis: A boy sleeping on the beach.\n",
      "Label: contradiction\n",
      "Explanation: Jumping and sleeping cannot be done at the same time.\n",
      "###\n",
      "Premise: A man wearing a green coat and plaid scarf, is wearing spectacles and reading a book behind a blue backdrop.\n",
      "Hypothesis: A man in a green coat is wearing glasses.\n",
      "Label: entailment\n",
      "Explanation: Glasses is another form of the word spectacles.\n",
      "###\n",
      "Premise: Shirtless man wearing rollerskates in a large crowd with a sweat towel that reads \"just love me\".\n",
      "Hypothesis: A man skates in a crowd.\n",
      "Label: entailment\n",
      "Explanation: Rollerskates implies skates\n",
      "###\n",
      "Premise: A crowd of people gather nearby to watch the parade.\n",
      "Hypothesis: A crowd watches a parade.\n",
      "Label: entailment\n",
      "Explanation: Gather to watch and watches are similar actions\n",
      "###\n",
      "Premise: An unhappy looking child lays in the grass at a park.\n",
      "Hypothesis: A child is in the park alone and sad she has no friends.\n",
      "Label: neutral\n",
      "Explanation: An unhappy child at the park isn't necessarily alone.\n",
      "###\n",
      "Premise: A competitor does a pole vault.\n",
      "Hypothesis: This man is training for hurdles.\n",
      "Label: contradiction\n",
      "Explanation: One cannot be doing a pole vault and training for the hurdles at once.\n",
      "###\n",
      "Premise: The band is playing music in this city.\n",
      "Hypothesis: The band is in the city.\n",
      "Label: entailment\n",
      "Explanation: There is a band in the city.\n",
      "###\n",
      "Premise: A pitcher is about to throw a baseball.\n",
      "Hypothesis: A person playing baseball\n",
      "Label: entailment\n",
      "Explanation: A pitcher is a person, and throw a baseball shows playing baseball.\n",
      "###\n",
      "Premise: Two children playing in a kitchen with fly swatters.\n",
      "Hypothesis: Two kids are in the kitchen.\n",
      "Label: entailment\n",
      "Explanation: Children are kids.\n",
      "###\n",
      "Premise: A large group of teenagers mill around on a patio.\n",
      "Hypothesis: Some teenagers are playing in a football field.\n",
      "Label: contradiction\n",
      "Explanation: A football field is not a patio.\n",
      "###\n",
      "Premise: A man with an electric guitar and long hair leans towards another musician.\n",
      "Hypothesis: A man leans towards another musician.\n",
      "Label: entailment\n",
      "Explanation: A man with an electric guitar and long hair implies that he is a man.\n",
      "###\n",
      "Premise: A woman holds a blow dryer near a sad looking dog on linoleum tile.\n",
      "Hypothesis: A dog is barking and running through a field.\n",
      "Label: contradiction\n",
      "Explanation: There isn't linoleum tile on a field.\n",
      "###\n",
      "Premise: Two men are working on bicycles.\n",
      "Hypothesis: They work in a bicycle repair shop.\n",
      "Label: neutral\n",
      "Explanation: Working on bicycles would not have to take place in a bicycle repair shop.\n",
      "###\n",
      "Premise: A painted African warrior holds a rifle on his shoulder while he stands with another African woman who is wearing layers of beads around her neck.\n",
      "Hypothesis: The African chief goes to the airport unarmed.\n",
      "Label: contradiction\n",
      "Explanation: If the African warrior is holding a rifle then he is not unarmed.\n",
      "###\n",
      "Premise: Two people are in a garage, while one is pouring out a bag.\n",
      "Hypothesis: someone pours out food from a bag\n",
      "Label: neutral\n",
      "Explanation: You need not pour out food only every time you pour out a bag.\n",
      "###\n",
      "Premise: The magician is doing a magic trick.\n",
      "Hypothesis: The band performs their song.\n",
      "Label: contradiction\n",
      "Explanation: A magician is not the same profession as a band.\n",
      "###\n",
      "Premise: Young girl wearing gray and pink sweater and leather boots shields her face from the camera.\n",
      "Hypothesis: The girl is wearing sandals and blue sweater.\n",
      "Label: contradiction\n",
      "Explanation: A color can either be gray and pink or blue. Footwear can either be boots or sandals.\n",
      "###\n",
      "Premise: A lady in a red shirt and white pants is standing on a trashcan trying to take pictures.\n",
      "Hypothesis: The lady is wearing clothing.\n",
      "Label: entailment\n",
      "Explanation: A lady is wearing clothing if she is wearing a red shirt and white pants.\n",
      "###\n",
      "Premise: A big black dog chases a big brown dog with a green object in his mouth while another big brown dog tags behind.\n",
      "Hypothesis: Dogs are playing outside.\n",
      "Label: entailment\n",
      "Explanation: A black dog and two brown dogs are multiple dogs.  If a dog has an object in its mouth, then they are playing.  Multiple dogs are usually found outside.\n",
      "###\n",
      "Premise: Three construction workers wearing white hats and neon green vests stand against boating rail while a bridge and city sit in the background.\n",
      "Hypothesis: Three construction workers wearing white hats and neon green vests fight in an underground boxing ring.\n",
      "Label: contradiction\n",
      "Explanation: A boating rail while a bridge and city sit in the background is not an underground boxing ring.\n",
      "###\n",
      "Premise: Man working on old truck while child watches.\n",
      "Hypothesis: A child watching a man fixing a truck.\n",
      "Label: entailment\n",
      "Explanation: fixing a truck is the same as working on an old truck\n",
      "###\n",
      "Premise: A woman in a white tank top and jean shorts walks down a sandy sidewalk.\n",
      "Hypothesis: A woman wears a white tank top and a yellow braid.\n",
      "Label: neutral\n",
      "Explanation: Answer: A tank top  need not be worn only with a jean shorts it can also be worn with a braid\n",
      "###\n",
      "Premise: Children climb a tall structure and gather at the top in an obstacle challenge.\n",
      "Hypothesis: Children are climbing something.\n",
      "Label: entailment\n",
      "Explanation: Answer: Somethings refers to the obstacle challenge\n",
      "###\n",
      "Premise: A Bobcat tractor scoops up some land.\n",
      "Hypothesis: The tractor is turned off.\n",
      "Label: contradiction\n",
      "Explanation: The tractor scoops up land or is turned off.\n",
      "###\n",
      "Premise: A guy on the edge of the water dressed in green doing arm pushup\n",
      "Hypothesis: The soldier is doing arm pushups.\n",
      "Label: neutral\n",
      "Explanation: A person who wears green is not always a soldier.\n",
      "###\n",
      "Premise: There is a marching band, the man closet to the camera is wearing red and is playing the drums.\n",
      "Hypothesis: The man close to the camera is playing drums.\n",
      "Label: entailment\n",
      "Explanation: man implies   man\n",
      "###\n",
      "Premise: A man wearing a black jacket is working on a roof.\n",
      "Hypothesis: A man works on a roof on a cool day.\n",
      "Label: neutral\n",
      "Explanation: The fact that a man wearing a black jacket is working on a roof doesn't necessarily mean he is working on a cool day.\n",
      "###\n",
      "Premise: A young girl wearing jeans and a white shirt is standing on grass holding dandelions in her hands.\n",
      "Hypothesis: The girl is wearing a dress.\n",
      "Label: contradiction\n",
      "Explanation: The young girl under reference is wearing jeans and a white shirt and so cannot be wearing a dress at the same instance.\n",
      "###\n",
      "Premise: A group of kids enjoy snacks and are playing a board game together.\n",
      "Hypothesis: There are children running in the snow.\n",
      "Label: contradiction\n",
      "Explanation: The children can only be either running in the snow, or they enjoy snacks and are playing a board game.\n",
      "###\n",
      "Premise: A lady in a red sweatshirt opening a present.\n",
      "Hypothesis: It is the lady's birthday.\n",
      "Label: \n",
      " neutral\n",
      "Explanation: Just because the lady is opening a present does not necessarily mean it is her birthday.\n"
     ]
    }
   ],
   "source": [
    "response = openai.Completion.create(\n",
    "    engine='text-davinci-003',\n",
    "    #prompt=list(dev_prepared.prompts_instruct_GPT.iloc[1]),\n",
    "    prompt = dev_prepared.head()['prompts_GPT3'].iloc[0],\n",
    "    temperature=0,\n",
    "    max_tokens=58,\n",
    "    top_p=1,\n",
    ")\n",
    "print(dev_prepared.head()['prompts_GPT3'].iloc[0])\n",
    "print(response.choices[0].text)"
   ],
   "metadata": {
    "collapsed": false,
    "pycharm": {
     "name": "#%%\n"
    }
   }
  },
  {
   "cell_type": "code",
   "execution_count": null,
   "outputs": [],
   "source": [
    "results = pd.DataFrame()\n",
    "for col_name in dev_prepared.columns.values[2:]:\n",
    "    for temp_train in [0, 0.5, 1]:\n",
    "        response = openai.Completion.create(\n",
    "            engine='text-davinci-003',\n",
    "            prompt=list(dev_prepared[col_name]),\n",
    "            temp_trainerature=temp_train,\n",
    "            max_tokens=58,\n",
    "            top_p=1,\n",
    "        )\n",
    "        try:\n",
    "            preds = [re.findall('Explanation:.+', response.choices[i].text)[0].replace('Explanation: ', '') for i in range(len(response.choices))]\n",
    "        except:\n",
    "            preds = [response.choices[i].text.strip() for i in range(len(response.choices))]\n",
    "        results['pred_temp_trainerature_' + str(temp_train) + '_' + col_name] = preds"
   ],
   "metadata": {
    "collapsed": false,
    "pycharm": {
     "name": "#%%\n"
    }
   }
  },
  {
   "cell_type": "code",
   "execution_count": null,
   "outputs": [],
   "source": [
    "results.head()"
   ],
   "metadata": {
    "collapsed": false,
    "pycharm": {
     "name": "#%%\n"
    }
   }
  },
  {
   "cell_type": "code",
   "execution_count": null,
   "outputs": [],
   "source": [
    "results.to_csv('output_data/predsictions.csv', sep=';')"
   ],
   "metadata": {
    "collapsed": false,
    "pycharm": {
     "name": "#%%\n"
    }
   }
  },
  {
   "cell_type": "code",
   "execution_count": null,
   "outputs": [],
   "source": [
    "F1_means = dict()\n",
    "for col_name in results.columns.values:\n",
    "    P, R, F1 = score(list(results[col_name]), list(dev_prepared['gold_standard_explanation']), lang=\"en\", verbose=False)\n",
    "    F1_means[col_name] = F1.mean().item()\n",
    "print(F1_means)"
   ],
   "metadata": {
    "collapsed": false,
    "pycharm": {
     "name": "#%%\n"
    }
   }
  },
  {
   "cell_type": "code",
   "execution_count": null,
   "outputs": [],
   "source": [
    "F1_means"
   ],
   "metadata": {
    "collapsed": false,
    "pycharm": {
     "name": "#%%\n"
    }
   }
  },
  {
   "cell_type": "code",
   "execution_count": null,
   "outputs": [],
   "source": [],
   "metadata": {
    "collapsed": false,
    "pycharm": {
     "name": "#%%\n"
    }
   }
  },
  {
   "cell_type": "code",
   "execution_count": null,
   "outputs": [],
   "source": [],
   "metadata": {
    "collapsed": false,
    "pycharm": {
     "name": "#%%\n"
    }
   }
  },
  {
   "cell_type": "code",
   "execution_count": null,
   "outputs": [],
   "source": [],
   "metadata": {
    "collapsed": false,
    "pycharm": {
     "name": "#%%\n"
    }
   }
  },
  {
   "cell_type": "code",
   "execution_count": 21,
   "outputs": [],
   "source": [
    "gpt3_esnli_label_mapping = {0: 'Yes', 1: 'Maybe', 2: 'No'}  # Tried True, False, Neither but this works better.\n",
    "gpt3_t5_esnli_label_mapping = {'Yes': 'entailment', 'Maybe': 'neutral', 'No': 'contradiction'}\n",
    "\n",
    "gpt3_sbic_label_mapping = {\"offensive\": 'Yes', \"not offensive\": 'No'}\n",
    "\n",
    "\n",
    "def _get_task_description(task):\n",
    "    if task == 'sbic':\n",
    "        return \"Is the following post offensive? and why?\\n\"\n",
    "    elif task == 'esnli':\n",
    "        return \"Answer the question and provide a reason why the answer is correct.\\n\"\n",
    "    elif task == 'cos_e':\n",
    "        return \"Answer the question from the provided choices, and provide a reason why the answer is correct.\\n\"\n",
    "    elif task == 'sensemaking':\n",
    "        return \"Which of the two choices makes more sense? and why?\\n\"\n",
    "    else:\n",
    "        assert False\n",
    "\n",
    "\n",
    "def _convert_instance_to_prompt(instance, task):\n",
    "    if task == 'sbic':\n",
    "        post = instance['post'].replace('\\n', ' ')  # a few posts have new lines\n",
    "        input = f\"Post: {post}\\n\"\\\n",
    "                \"Answer:\"\n",
    "        output = f\" {gpt3_sbic_label_mapping[instance['offensiveYN']]}\\n\"\\\n",
    "                 f\"Reason: {instance['targetStereotype']}\\n\"\\\n",
    "                 \"###\\n\"\n",
    "    elif task == 'esnli':\n",
    "        input = f\"{instance['premise']}\\n\"\\\n",
    "                f\"Question: Is {instance['hypothesis'].lower().replace('.', '')}?\\n\"\\\n",
    "                \"Answer:\"\n",
    "        output = f\" {instance['label']}\\n\"\\\n",
    "                 f\"Reason: {instance['explanation_1']}\\n\"\\\n",
    "                 \"###\\n\"\n",
    "    elif task == 'cos_e':\n",
    "        choices = ', '.join(instance['choices'])\n",
    "        input = f\"Question: {instance['question']}\\n\"\\\n",
    "                f\"Choices: {choices}\\n\"\\\n",
    "                \"Answer:\"\n",
    "        output = f\" {instance['answer']}\\n\"\\\n",
    "                 f\"Reason: {instance['abstractive_explanation']}\\n\"\\\n",
    "                 \"###\\n\"\n",
    "    elif task == 'sensemaking':\n",
    "        input = f\"choice1: {instance['sent0']}\\n\"\\\n",
    "                f\"choice2: {instance['sent1']}\\n\"\\\n",
    "                \"Answer:\"\n",
    "        # flip choices to select the one that makes \"more\" sense. GPT3 works much better with this prompt\n",
    "        label = 1 if instance['label'] == 1 else 2\n",
    "        output = f\" choice{label}\\n\"\\\n",
    "                 f\"Reason: {instance['explanation']}\\n\"\\\n",
    "                 \"###\\n\"\n",
    "    else:\n",
    "        assert False\n",
    "\n",
    "    return input, output\n",
    "\n",
    "\n",
    "def _parse_response(response_text, task):\n",
    "    if task in ['cos_e', 'esnli', 'sensemaking', 'sbic']:\n",
    "        if 'Reason:' not in response_text:\n",
    "            print('Invalid output format')  # rarely happens\n",
    "            pred_answer = 'wrong'\n",
    "            pred_explanation = response_text.replace('\\n', '')\n",
    "        else:\n",
    "            splits = response_text.split('Reason:', 1)\n",
    "            pred_answer = splits[0].strip()\n",
    "            pred_explanation = splits[1].strip()\n",
    "            pred_explanation = pred_explanation.split('\\n')[0]\n",
    "            if task == 'esnli':\n",
    "                pred_answer = gpt3_t5_esnli_label_mapping.get(pred_answer) or pred_answer\n",
    "            if task == 'sensemaking':\n",
    "                # flip it back\n",
    "                pred_answer = pred_answer.replace('1', '2') if '1' in pred_answer else pred_answer.replace('2', '1')\n",
    "    else:\n",
    "        assert False\n",
    "\n",
    "    return pred_answer, pred_explanation"
   ],
   "metadata": {
    "collapsed": false,
    "pycharm": {
     "name": "#%%\n"
    }
   }
  },
  {
   "cell_type": "code",
   "execution_count": 23,
   "outputs": [
    {
     "name": "stderr",
     "output_type": "stream",
     "text": [
      "/var/folders/lp/djryk53n11b_ww_n9xbjm4s80000gn/T/ipykernel_10270/296744828.py:2: SettingWithCopyWarning: \n",
      "A value is trying to be set on a copy of a slice from a DataFrame.\n",
      "Try using .loc[row_indexer,col_indexer] = value instead\n",
      "\n",
      "See the caveats in the documentation: https://pandas.pydata.org/pandas-docs/stable/user_guide/indexing.html#returning-a-view-versus-a-copy\n",
      "  temp_train[\"premise\"] = temp_train[\"Sentence1\"]\n",
      "/var/folders/lp/djryk53n11b_ww_n9xbjm4s80000gn/T/ipykernel_10270/296744828.py:3: SettingWithCopyWarning: \n",
      "A value is trying to be set on a copy of a slice from a DataFrame.\n",
      "Try using .loc[row_indexer,col_indexer] = value instead\n",
      "\n",
      "See the caveats in the documentation: https://pandas.pydata.org/pandas-docs/stable/user_guide/indexing.html#returning-a-view-versus-a-copy\n",
      "  temp_train[\"hypothesis\"] = temp_train[\"Sentence2\"]\n",
      "/var/folders/lp/djryk53n11b_ww_n9xbjm4s80000gn/T/ipykernel_10270/296744828.py:4: SettingWithCopyWarning: \n",
      "A value is trying to be set on a copy of a slice from a DataFrame.\n",
      "Try using .loc[row_indexer,col_indexer] = value instead\n",
      "\n",
      "See the caveats in the documentation: https://pandas.pydata.org/pandas-docs/stable/user_guide/indexing.html#returning-a-view-versus-a-copy\n",
      "  temp_train[\"label\"] = temp_train[\"gold_label\"]\n",
      "/var/folders/lp/djryk53n11b_ww_n9xbjm4s80000gn/T/ipykernel_10270/296744828.py:5: SettingWithCopyWarning: \n",
      "A value is trying to be set on a copy of a slice from a DataFrame.\n",
      "Try using .loc[row_indexer,col_indexer] = value instead\n",
      "\n",
      "See the caveats in the documentation: https://pandas.pydata.org/pandas-docs/stable/user_guide/indexing.html#returning-a-view-versus-a-copy\n",
      "  temp_train[\"explanation_1\"] = temp_train[\"Explanation_1\"]\n",
      "/var/folders/lp/djryk53n11b_ww_n9xbjm4s80000gn/T/ipykernel_10270/296744828.py:8: SettingWithCopyWarning: \n",
      "A value is trying to be set on a copy of a slice from a DataFrame.\n",
      "Try using .loc[row_indexer,col_indexer] = value instead\n",
      "\n",
      "See the caveats in the documentation: https://pandas.pydata.org/pandas-docs/stable/user_guide/indexing.html#returning-a-view-versus-a-copy\n",
      "  temp_test[\"premise\"] = temp_test[\"Sentence1\"]\n",
      "/var/folders/lp/djryk53n11b_ww_n9xbjm4s80000gn/T/ipykernel_10270/296744828.py:9: SettingWithCopyWarning: \n",
      "A value is trying to be set on a copy of a slice from a DataFrame.\n",
      "Try using .loc[row_indexer,col_indexer] = value instead\n",
      "\n",
      "See the caveats in the documentation: https://pandas.pydata.org/pandas-docs/stable/user_guide/indexing.html#returning-a-view-versus-a-copy\n",
      "  temp_test[\"hypothesis\"] = temp_test[\"Sentence2\"]\n",
      "/var/folders/lp/djryk53n11b_ww_n9xbjm4s80000gn/T/ipykernel_10270/296744828.py:10: SettingWithCopyWarning: \n",
      "A value is trying to be set on a copy of a slice from a DataFrame.\n",
      "Try using .loc[row_indexer,col_indexer] = value instead\n",
      "\n",
      "See the caveats in the documentation: https://pandas.pydata.org/pandas-docs/stable/user_guide/indexing.html#returning-a-view-versus-a-copy\n",
      "  temp_test[\"label\"] = temp_test[\"gold_label\"]\n",
      "/var/folders/lp/djryk53n11b_ww_n9xbjm4s80000gn/T/ipykernel_10270/296744828.py:11: SettingWithCopyWarning: \n",
      "A value is trying to be set on a copy of a slice from a DataFrame.\n",
      "Try using .loc[row_indexer,col_indexer] = value instead\n",
      "\n",
      "See the caveats in the documentation: https://pandas.pydata.org/pandas-docs/stable/user_guide/indexing.html#returning-a-view-versus-a-copy\n",
      "  temp_test[\"explanation_1\"] = temp_test[\"Explanation_1\"]\n"
     ]
    }
   ],
   "source": [
    "temp_train = train.head()\n",
    "temp_train[\"premise\"] = temp_train[\"Sentence1\"]\n",
    "temp_train[\"hypothesis\"] = temp_train[\"Sentence2\"]\n",
    "temp_train[\"label\"] = temp_train[\"gold_label\"]\n",
    "temp_train[\"explanation_1\"] = temp_train[\"Explanation_1\"]\n",
    "\n",
    "temp_test = test.head()\n",
    "temp_test[\"premise\"] = temp_test[\"Sentence1\"]\n",
    "temp_test[\"hypothesis\"] = temp_test[\"Sentence2\"]\n",
    "temp_test[\"label\"] = temp_test[\"gold_label\"]\n",
    "temp_test[\"explanation_1\"] = temp_test[\"Explanation_1\"]\n",
    "\n",
    "task = \"esnli\"\n",
    "task_description = _get_task_description(task)\n",
    "train_prompts = [_convert_instance_to_prompt(temp_train.iloc[i], task) for i in range(temp_train.shape[0])]\n",
    "test_prompts = [_convert_instance_to_prompt(temp_test.iloc[i], task) for i in range(temp_test.shape[0])]"
   ],
   "metadata": {
    "collapsed": false,
    "pycharm": {
     "name": "#%%\n"
    }
   }
  },
  {
   "cell_type": "code",
   "execution_count": 24,
   "outputs": [
    {
     "data": {
      "text/plain": "('A person on a horse jumps over a broken down airplane.\\nQuestion: Is a person is training his horse for a competition?\\nAnswer:',\n ' neutral\\nReason: the person is not necessarily training his horse\\n###\\n')"
     },
     "execution_count": 24,
     "metadata": {},
     "output_type": "execute_result"
    }
   ],
   "source": [
    "train_prompts[0]"
   ],
   "metadata": {
    "collapsed": false,
    "pycharm": {
     "name": "#%%\n"
    }
   }
  },
  {
   "cell_type": "code",
   "execution_count": 25,
   "outputs": [
    {
     "data": {
      "text/plain": "('This church choir sings to the masses as they sing joyous songs from the book at a church.\\nQuestion: Is the church has cracks in the ceiling?\\nAnswer:',\n ' neutral\\nReason: Not all churches have cracks in the ceiling\\n###\\n')"
     },
     "execution_count": 25,
     "metadata": {},
     "output_type": "execute_result"
    }
   ],
   "source": [
    "test_prompts[0]"
   ],
   "metadata": {
    "collapsed": false,
    "pycharm": {
     "name": "#%%\n"
    }
   }
  },
  {
   "cell_type": "code",
   "execution_count": 32,
   "outputs": [
    {
     "data": {
      "text/plain": "(9842, 19)"
     },
     "execution_count": 32,
     "metadata": {},
     "output_type": "execute_result"
    }
   ],
   "source": [
    "dev.shape"
   ],
   "metadata": {
    "collapsed": false,
    "pycharm": {
     "name": "#%%\n"
    }
   }
  }
 ],
 "metadata": {
  "kernelspec": {
   "display_name": "Python 3",
   "language": "python",
   "name": "python3"
  },
  "language_info": {
   "codemirror_mode": {
    "name": "ipython",
    "version": 2
   },
   "file_extension": ".py",
   "mimetype": "text/x-python",
   "name": "python",
   "nbconvert_exporter": "python",
   "pygments_lexer": "ipython2",
   "version": "2.7.6"
  }
 },
 "nbformat": 4,
 "nbformat_minor": 0
}