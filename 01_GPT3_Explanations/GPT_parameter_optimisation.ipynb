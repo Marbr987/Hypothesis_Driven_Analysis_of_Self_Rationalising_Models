{
 "cells": [
  {
   "cell_type": "markdown",
   "source": [
    "# Setup"
   ],
   "metadata": {
    "collapsed": false,
    "pycharm": {
     "name": "#%% md\n"
    }
   }
  },
  {
   "cell_type": "markdown",
   "source": [
    "## Load Packages"
   ],
   "metadata": {
    "collapsed": false,
    "pycharm": {
     "name": "#%% md\n"
    }
   }
  },
  {
   "cell_type": "code",
   "execution_count": 1,
   "outputs": [
    {
     "data": {
      "text/plain": "True"
     },
     "execution_count": 1,
     "metadata": {},
     "output_type": "execute_result"
    }
   ],
   "source": [
    "import random\n",
    "import pandas as pd\n",
    "import numpy as np\n",
    "import matplotlib.pyplot as plt\n",
    "import os\n",
    "import openai\n",
    "import re\n",
    "from helper_funcs import prepare_examples, create_query\n",
    "from dotenv import load_dotenv\n",
    "\n",
    "load_dotenv()"
   ],
   "metadata": {
    "collapsed": false,
    "pycharm": {
     "name": "#%%\n"
    }
   }
  },
  {
   "cell_type": "markdown",
   "source": [
    "## Prepare Data"
   ],
   "metadata": {
    "collapsed": false,
    "pycharm": {
     "name": "#%% md\n"
    }
   }
  },
  {
   "cell_type": "code",
   "execution_count": 2,
   "outputs": [],
   "source": [
    "train1 = pd.read_csv('../Input_Data/e-SNLI/dataset/esnli_train_1.csv')\n",
    "train2 = pd.read_csv('../Input_Data/e-SNLI/dataset/esnli_train_2.csv')\n",
    "train = pd.concat([train1, train2])\n",
    "dev = pd.read_csv('../Input_Data/e-SNLI/dataset/esnli_dev.csv')\n",
    "test = pd.read_csv('../Input_Data/e-SNLI/dataset/esnli_test.csv')"
   ],
   "metadata": {
    "collapsed": false,
    "pycharm": {
     "name": "#%%\n"
    }
   }
  },
  {
   "cell_type": "code",
   "execution_count": 6,
   "outputs": [],
   "source": [
    "train = train.dropna(subset=['Sentence1', 'Sentence2', 'Explanation_1'])\n",
    "train = train.reset_index(drop=True)"
   ],
   "metadata": {
    "collapsed": false,
    "pycharm": {
     "name": "#%%\n"
    }
   }
  },
  {
   "cell_type": "code",
   "execution_count": 7,
   "outputs": [],
   "source": [
    "n_dev = 20 # number of dev data points\n",
    "\n",
    "np.random.seed(12345) # seed for numpy package\n",
    "random.seed(12345) # seed for random package\n",
    "dev_indices = list(np.random.choice(dev.index.values, size=n_dev, replace=False))\n",
    "prompts_with_label_size_one = [prepare_examples(train, size_per_class=1, include_label=True) + '\\n\\n' + create_query(dev.loc[i], include_label=True) for i in dev_indices]\n",
    "\n",
    "np.random.seed(12345) # seed for numpy package\n",
    "random.seed(12345) # seed for random package\n",
    "dev_indices = list(np.random.choice(dev.index.values, size=n_dev, replace=False))\n",
    "prompts_without_label_size_one = [prepare_examples(train, size_per_class=1, include_label=False) + '\\n\\n' + create_query(dev.loc[i], include_label=False) for i in dev_indices]\n",
    "\n",
    "np.random.seed(12345) # seed for numpy package\n",
    "random.seed(12345) # seed for random package\n",
    "dev_indices = list(np.random.choice(dev.index.values, size=n_dev, replace=False))\n",
    "prompts_with_label_size_four = [prepare_examples(train, size_per_class=4, include_label=True) + '\\n\\n' + create_query(dev.loc[i], include_label=True) for i in dev_indices]\n",
    "\n",
    "np.random.seed(12345) # seed for numpy package\n",
    "random.seed(12345) # seed for random package\n",
    "dev_indices = list(np.random.choice(dev.index.values, size=n_dev, replace=False))\n",
    "prompts_without_label_size_four = [prepare_examples(train, size_per_class=4, include_label=False) + '\\n\\n' + create_query(dev.loc[i], include_label=False) for i in dev_indices]"
   ],
   "metadata": {
    "collapsed": false,
    "pycharm": {
     "name": "#%%\n"
    }
   }
  },
  {
   "cell_type": "code",
   "execution_count": 8,
   "outputs": [],
   "source": [
    "dev_prepared = pd.DataFrame()\n",
    "dev_prepared['gold_standard_explanation'] = dev.loc[dev_indices].Explanation_1\n",
    "dev_prepared['gold_standard_label'] = dev.loc[dev_indices].gold_label\n",
    "dev_prepared['prompts_with_label_size_one'] = prompts_with_label_size_one\n",
    "dev_prepared['prompts_without_label_size_one'] = prompts_without_label_size_one\n",
    "dev_prepared['prompts_with_label_size_four'] = prompts_with_label_size_four\n",
    "dev_prepared['prompts_without_label_size_four'] = prompts_without_label_size_four"
   ],
   "metadata": {
    "collapsed": false,
    "pycharm": {
     "name": "#%%\n"
    }
   }
  },
  {
   "cell_type": "code",
   "execution_count": 9,
   "outputs": [
    {
     "data": {
      "text/plain": "                              gold_standard_explanation gold_standard_label  \\\n9594  Just because a lady is opening a present doesn...             neutral   \n3300    Does skateboard tricks implies on a skateboard.          entailment   \n7520                  A man observes must be examining.          entailment   \n840                      people are men and are friends             neutral   \n5854  A group of construction workers bears no resem...       contradiction   \n\n                            prompts_with_label_size_one  \\\n9594  Statement: People walking under a covered arch...   \n3300  Statement: Little girl in pink coat on a swing...   \n7520  Statement: An artist in a black sweater is scu...   \n840   Statement: A man with a dark green apron stand...   \n5854  Statement: A man in a white shirt and glasses ...   \n\n                         prompts_without_label_size_one  \\\n9594  Statement: People walking under a covered arch...   \n3300  Statement: Little girl in pink coat on a swing...   \n7520  Statement: An artist in a black sweater is scu...   \n840   Statement: A man with a dark green apron stand...   \n5854  Statement: A man in a white shirt and glasses ...   \n\n                           prompts_with_label_size_four  \\\n9594  Statement: A boy on a scooter.\\nStatement: The...   \n3300  Statement: Two people are having a conversatio...   \n7520  Statement: A little blond-haired girls peers a...   \n840   Statement: A man in a white baseball cap is si...   \n5854  Statement: A man stands at a microphone, readi...   \n\n                        prompts_without_label_size_four  \n9594  Statement: A boy on a scooter.\\nStatement: The...  \n3300  Statement: Two people are having a conversatio...  \n7520  Statement: A little blond-haired girls peers a...  \n840   Statement: A man in a white baseball cap is si...  \n5854  Statement: A man stands at a microphone, readi...  ",
      "text/html": "<div>\n<style scoped>\n    .dataframe tbody tr th:only-of-type {\n        vertical-align: middle;\n    }\n\n    .dataframe tbody tr th {\n        vertical-align: top;\n    }\n\n    .dataframe thead th {\n        text-align: right;\n    }\n</style>\n<table border=\"1\" class=\"dataframe\">\n  <thead>\n    <tr style=\"text-align: right;\">\n      <th></th>\n      <th>gold_standard_explanation</th>\n      <th>gold_standard_label</th>\n      <th>prompts_with_label_size_one</th>\n      <th>prompts_without_label_size_one</th>\n      <th>prompts_with_label_size_four</th>\n      <th>prompts_without_label_size_four</th>\n    </tr>\n  </thead>\n  <tbody>\n    <tr>\n      <th>9594</th>\n      <td>Just because a lady is opening a present doesn...</td>\n      <td>neutral</td>\n      <td>Statement: People walking under a covered arch...</td>\n      <td>Statement: People walking under a covered arch...</td>\n      <td>Statement: A boy on a scooter.\\nStatement: The...</td>\n      <td>Statement: A boy on a scooter.\\nStatement: The...</td>\n    </tr>\n    <tr>\n      <th>3300</th>\n      <td>Does skateboard tricks implies on a skateboard.</td>\n      <td>entailment</td>\n      <td>Statement: Little girl in pink coat on a swing...</td>\n      <td>Statement: Little girl in pink coat on a swing...</td>\n      <td>Statement: Two people are having a conversatio...</td>\n      <td>Statement: Two people are having a conversatio...</td>\n    </tr>\n    <tr>\n      <th>7520</th>\n      <td>A man observes must be examining.</td>\n      <td>entailment</td>\n      <td>Statement: An artist in a black sweater is scu...</td>\n      <td>Statement: An artist in a black sweater is scu...</td>\n      <td>Statement: A little blond-haired girls peers a...</td>\n      <td>Statement: A little blond-haired girls peers a...</td>\n    </tr>\n    <tr>\n      <th>840</th>\n      <td>people are men and are friends</td>\n      <td>neutral</td>\n      <td>Statement: A man with a dark green apron stand...</td>\n      <td>Statement: A man with a dark green apron stand...</td>\n      <td>Statement: A man in a white baseball cap is si...</td>\n      <td>Statement: A man in a white baseball cap is si...</td>\n    </tr>\n    <tr>\n      <th>5854</th>\n      <td>A group of construction workers bears no resem...</td>\n      <td>contradiction</td>\n      <td>Statement: A man in a white shirt and glasses ...</td>\n      <td>Statement: A man in a white shirt and glasses ...</td>\n      <td>Statement: A man stands at a microphone, readi...</td>\n      <td>Statement: A man stands at a microphone, readi...</td>\n    </tr>\n  </tbody>\n</table>\n</div>"
     },
     "execution_count": 9,
     "metadata": {},
     "output_type": "execute_result"
    }
   ],
   "source": [
    "dev_prepared.head()"
   ],
   "metadata": {
    "collapsed": false,
    "pycharm": {
     "name": "#%%\n"
    }
   }
  },
  {
   "cell_type": "code",
   "execution_count": 14,
   "outputs": [
    {
     "name": "stdout",
     "output_type": "stream",
     "text": [
      "Statement: A man in a black t-shirt is standing next to a parking meter.\n",
      "Statement: A man is outside standing next to a parking meter\n",
      "Label: entailment\n",
      "Explanation: The meter is a parking meter.\n",
      "\n",
      "Statement: The motocross rider jumps high in the air on his bike.\n",
      "Statement: The motorcross rider rides down the hill.\n",
      "Label: contradiction\n",
      "Explanation: If he is high in the air, then he is not riding down a hill.\n",
      "\n",
      "Statement: two men waiting in line one wearing black suit.\n",
      "Statement: a bird was on rocks\n",
      "Label: entailment\n",
      "Explanation: A bird is black and can also wait in line.\n",
      "\n",
      "Statement: A worker stands near his truck, guarding the manhole being worked on by his assistant from passing cars.\n",
      "Statement: The worker is employed by the water and sewer authority.\n",
      "Label: neutral\n",
      "Explanation: It is not apparent he's employed by the water and sewer authority.\n",
      "\n",
      "Statement: Three girls and one man are loitering outside of a building next to a concrete structure.\n",
      "Statement: Four people are are standing outside of a building at night\n",
      "Label: neutral\n",
      "Explanation: It is an assumption that it is night time.\n",
      "\n",
      "Statement: An elderly woman with a cane passes a garden of flowers.\n",
      "Statement: A woman is asleep.\n",
      "Label: contradiction\n",
      "Explanation: One cannot be passing a garden or be asleep simultaneously.\n",
      "\n",
      "Statement: A man wearing a raincoat and a white hat is sweeping outside on wet brick floors.\n",
      "Statement: A guy is sweeping outside on the wet brick floors while wearing a raincoat and a white hat.\n",
      "Label: entailment\n",
      "Explanation: A man is a guy.\n",
      "\n",
      "Statement: A man driving a custom made firetruck.\n",
      "Statement: A man drives a jeep.\n",
      "Label: contradiction\n",
      "Explanation: The vehicle can be either a firetruck or a jeep.\n",
      "\n",
      "Statement: a free climber is hanging from a rock whilst being watched by a man in a green t-shirt.\n",
      "Statement: Someone kicking a baby.\n",
      "Label: contradiction\n",
      "Explanation: Someone hanging from a rock cannot be kicking a baby.\n",
      "\n",
      "Statement: A man in a gym performs moves with outstretched arms.\n",
      "Statement: A guy exercising.\n",
      "Label: entailment\n",
      "Explanation: A man in a gym implies he is exercising.\n",
      "\n",
      "Statement: A young boy grins as he holds up a clump of snow.\n",
      "Statement: The boy is throwing snowballs with his brother during a crisp, winter day.\n",
      "Label: neutral\n",
      "Explanation: The boy might not be throwing the snow and the first sentence doesn't mention anyone else being around.  Also, snow can fall in other seasons besides winter, so it might not be a winter day.\n",
      "\n",
      "Statement: Two people sit at a table outside against a wall and make faces.\n",
      "Statement: Couple is taking pictures.\n",
      "Label: neutral\n",
      "Explanation: The two people making faces don't have to be a couple taking pictures.\n",
      "\n",
      "Statement: A goalie tries to catch a ball during a soccer game.\n",
      "Statement: a goalie is trying to catch the game tying ball.\n",
      "Label: \n"
     ]
    }
   ],
   "source": [
    "print(dev_prepared.prompts_with_label_size_four.iloc[10])"
   ],
   "metadata": {
    "collapsed": false,
    "pycharm": {
     "name": "#%%\n"
    }
   }
  },
  {
   "cell_type": "markdown",
   "source": [
    "# Find Hyperparameters"
   ],
   "metadata": {
    "collapsed": false,
    "pycharm": {
     "name": "#%% md\n"
    }
   }
  },
  {
   "cell_type": "code",
   "execution_count": 237,
   "outputs": [],
   "source": [
    "tokenizer = transformers.GPT2TokenizerFast.from_pretrained('gpt2')\n",
    "explanation_token_length = [len(tokenizer.tokenize(train.iloc[i].Explanation_1)) for i in range(train.shape[0])]"
   ],
   "metadata": {
    "collapsed": false,
    "pycharm": {
     "name": "#%%\n"
    }
   }
  },
  {
   "cell_type": "code",
   "execution_count": 238,
   "outputs": [
    {
     "data": {
      "text/plain": "58.0"
     },
     "execution_count": 238,
     "metadata": {},
     "output_type": "execute_result"
    }
   ],
   "source": [
    "np.quantile(explanation_token_length, 0.999)"
   ],
   "metadata": {
    "collapsed": false,
    "pycharm": {
     "name": "#%%\n"
    }
   }
  },
  {
   "cell_type": "code",
   "execution_count": 239,
   "outputs": [],
   "source": [
    "openai.api_key = os.getenv(\"OPENAI_API_KEY\")"
   ],
   "metadata": {
    "collapsed": false,
    "pycharm": {
     "name": "#%%\n"
    }
   }
  },
  {
   "cell_type": "code",
   "execution_count": 240,
   "outputs": [],
   "source": [
    "results = pd.DataFrame()\n",
    "for col_name in dev_prepared.columns.values[2:]:\n",
    "    for temp in [0, 0.5, 1]:\n",
    "        response = openai.Completion.create(\n",
    "            engine='text-davinci-003',\n",
    "            prompt=list(dev_prepared[col_name]),\n",
    "            temperature=temp,\n",
    "            max_tokens=58,\n",
    "            top_p=1,\n",
    "        )\n",
    "        try:\n",
    "            preds = [re.findall('Explanation:.+', response.choices[i].text)[0].replace('Explanation: ', '') for i in range(len(response.choices))]\n",
    "        except:\n",
    "            preds = [response.choices[i].text.strip() for i in range(len(response.choices))]\n",
    "        results['pred_temperature_' + str(temp) + '_' + col_name] = preds"
   ],
   "metadata": {
    "collapsed": false,
    "pycharm": {
     "name": "#%%\n"
    }
   }
  },
  {
   "cell_type": "code",
   "execution_count": 267,
   "outputs": [
    {
     "data": {
      "text/plain": "      pred_temperature_0_prompts_with_label_size_one  \\\n0  The lady opening the present does not necessar...   \n1  The man with dreadlocks is on a skateboard in ...   \n2       Observing and examining are similar actions.   \n3  There is no evidence to suggest that the two p...   \n4  CONSTRUCTION WORKERS ARE NOT FLIES AND ARE NOT...   \n\n    pred_temperature_0.5_prompts_with_label_size_one  \\\n0  There is no indication that it is the lady's b...   \n1  The man with dreadlocks is on a skateboard in ...   \n2  Observing and examining are both forms of look...   \n3  The statement does not provide any information...   \n4  CONSTRUCTION WORKERS ARE NOT FLIES AND ARE NOT...   \n\n      pred_temperature_1_prompts_with_label_size_one  \\\n0  The statement does not necessarily have to be ...   \n1  Skateboarding in the middle of the street impl...   \n2  The statement is worded differently but convey...   \n3  The statement does not provide any information...   \n4        CONSTRUCTION WORKERS IS NOT FLIES OR SHARK.   \n\n   pred_temperature_0_prompts_without_label_size_one  \\\n0  Opening a present does not necessarily mean it...   \n1  The man with dreadlocks may be skateboarding i...   \n2       Observing and examining are similar actions.   \n3  There is no evidence to suggest that the two p...   \n4  CONSTRUCTION WORKERS ARE NOT FLIES AND THEY AR...   \n\n  pred_temperature_0.5_prompts_without_label_size_one  \\\n0  Opening a present does not necessarily mean it...    \n1  The man with dreadlocks may or may not be doin...    \n2  Observing and examining are both similar actions.    \n3  The statement does not provide any information...    \n4    CONSTRUCTION WORKERS ARE NOT FLIES EATING SHARK    \n\n   pred_temperature_1_prompts_without_label_size_one  \\\n0  Opening a present does not necessarily mean it...   \n1  The statement does not specify that the man is...   \n2  Observes and examines are similar and the stat...   \n3  There is no evidence to suggest that the two p...   \n4  CONSTRUCTION WORKERS ARE NOT FLIES AND NOT EAT...   \n\n     pred_temperature_0_prompts_with_label_size_four  \\\n0  We cannot infer that it is the lady's birthday...   \n1  Doing skateboard tricks implies that the man i...   \n2            Observing and examining are synonymous.   \n3  Just because two people are working constructi...   \n4  Construction workers are not flies and they ar...   \n\n   pred_temperature_0.5_prompts_with_label_size_four  \\\n0  We cannot infer that it is the lady's birthday...   \n1  Skateboard tricks implies that the man is doin...   \n2            Observing and examining are synonymous.   \n3  Just because two people are working together i...   \n4  Construction workers are not flies and flies a...   \n\n     pred_temperature_1_prompts_with_label_size_four  \\\n0  The lady could be receiving a present for any ...   \n1  Doing skateboard tricks implies that the man w...   \n2  Observing a wavelength given off by an electro...   \n3  Just because two people work together on const...   \n4  Construction workers are not flies and Sharks ...   \n\n  pred_temperature_0_prompts_without_label_size_four  \\\n0  We cannot infer that it is the lady's birthday...   \n1  Not all skateboarders do tricks, so this canno...   \n2       Observing and examining are similar actions.   \n3  Just because two people are working together d...   \n4  Construction workers are not flies and they ar...   \n\n  pred_temperature_0.5_prompts_without_label_size_four  \\\n0  We cannot infer that it is the lady's birthday...     \n1  The statement does not imply that the man is d...     \n2  Observing and examining are synonymous in this...     \n3  Just because two people are working together i...     \n4  Construction workers are not flies and flies a...     \n\n  pred_temperature_1_prompts_without_label_size_four  \n0  The lady opening the present does not necessar...  \n1  Not all people skateboarding do skateboard tri...  \n2                       Observing implies examining.  \n3  Just because two people work together does not...  \n4  Construction workers have nothing to do with f...  ",
      "text/html": "<div>\n<style scoped>\n    .dataframe tbody tr th:only-of-type {\n        vertical-align: middle;\n    }\n\n    .dataframe tbody tr th {\n        vertical-align: top;\n    }\n\n    .dataframe thead th {\n        text-align: right;\n    }\n</style>\n<table border=\"1\" class=\"dataframe\">\n  <thead>\n    <tr style=\"text-align: right;\">\n      <th></th>\n      <th>pred_temperature_0_prompts_with_label_size_one</th>\n      <th>pred_temperature_0.5_prompts_with_label_size_one</th>\n      <th>pred_temperature_1_prompts_with_label_size_one</th>\n      <th>pred_temperature_0_prompts_without_label_size_one</th>\n      <th>pred_temperature_0.5_prompts_without_label_size_one</th>\n      <th>pred_temperature_1_prompts_without_label_size_one</th>\n      <th>pred_temperature_0_prompts_with_label_size_four</th>\n      <th>pred_temperature_0.5_prompts_with_label_size_four</th>\n      <th>pred_temperature_1_prompts_with_label_size_four</th>\n      <th>pred_temperature_0_prompts_without_label_size_four</th>\n      <th>pred_temperature_0.5_prompts_without_label_size_four</th>\n      <th>pred_temperature_1_prompts_without_label_size_four</th>\n    </tr>\n  </thead>\n  <tbody>\n    <tr>\n      <th>0</th>\n      <td>The lady opening the present does not necessar...</td>\n      <td>There is no indication that it is the lady's b...</td>\n      <td>The statement does not necessarily have to be ...</td>\n      <td>Opening a present does not necessarily mean it...</td>\n      <td>Opening a present does not necessarily mean it...</td>\n      <td>Opening a present does not necessarily mean it...</td>\n      <td>We cannot infer that it is the lady's birthday...</td>\n      <td>We cannot infer that it is the lady's birthday...</td>\n      <td>The lady could be receiving a present for any ...</td>\n      <td>We cannot infer that it is the lady's birthday...</td>\n      <td>We cannot infer that it is the lady's birthday...</td>\n      <td>The lady opening the present does not necessar...</td>\n    </tr>\n    <tr>\n      <th>1</th>\n      <td>The man with dreadlocks is on a skateboard in ...</td>\n      <td>The man with dreadlocks is on a skateboard in ...</td>\n      <td>Skateboarding in the middle of the street impl...</td>\n      <td>The man with dreadlocks may be skateboarding i...</td>\n      <td>The man with dreadlocks may or may not be doin...</td>\n      <td>The statement does not specify that the man is...</td>\n      <td>Doing skateboard tricks implies that the man i...</td>\n      <td>Skateboard tricks implies that the man is doin...</td>\n      <td>Doing skateboard tricks implies that the man w...</td>\n      <td>Not all skateboarders do tricks, so this canno...</td>\n      <td>The statement does not imply that the man is d...</td>\n      <td>Not all people skateboarding do skateboard tri...</td>\n    </tr>\n    <tr>\n      <th>2</th>\n      <td>Observing and examining are similar actions.</td>\n      <td>Observing and examining are both forms of look...</td>\n      <td>The statement is worded differently but convey...</td>\n      <td>Observing and examining are similar actions.</td>\n      <td>Observing and examining are both similar actions.</td>\n      <td>Observes and examines are similar and the stat...</td>\n      <td>Observing and examining are synonymous.</td>\n      <td>Observing and examining are synonymous.</td>\n      <td>Observing a wavelength given off by an electro...</td>\n      <td>Observing and examining are similar actions.</td>\n      <td>Observing and examining are synonymous in this...</td>\n      <td>Observing implies examining.</td>\n    </tr>\n    <tr>\n      <th>3</th>\n      <td>There is no evidence to suggest that the two p...</td>\n      <td>The statement does not provide any information...</td>\n      <td>The statement does not provide any information...</td>\n      <td>There is no evidence to suggest that the two p...</td>\n      <td>The statement does not provide any information...</td>\n      <td>There is no evidence to suggest that the two p...</td>\n      <td>Just because two people are working constructi...</td>\n      <td>Just because two people are working together i...</td>\n      <td>Just because two people work together on const...</td>\n      <td>Just because two people are working together d...</td>\n      <td>Just because two people are working together i...</td>\n      <td>Just because two people work together does not...</td>\n    </tr>\n    <tr>\n      <th>4</th>\n      <td>CONSTRUCTION WORKERS ARE NOT FLIES AND ARE NOT...</td>\n      <td>CONSTRUCTION WORKERS ARE NOT FLIES AND ARE NOT...</td>\n      <td>CONSTRUCTION WORKERS IS NOT FLIES OR SHARK.</td>\n      <td>CONSTRUCTION WORKERS ARE NOT FLIES AND THEY AR...</td>\n      <td>CONSTRUCTION WORKERS ARE NOT FLIES EATING SHARK</td>\n      <td>CONSTRUCTION WORKERS ARE NOT FLIES AND NOT EAT...</td>\n      <td>Construction workers are not flies and they ar...</td>\n      <td>Construction workers are not flies and flies a...</td>\n      <td>Construction workers are not flies and Sharks ...</td>\n      <td>Construction workers are not flies and they ar...</td>\n      <td>Construction workers are not flies and flies a...</td>\n      <td>Construction workers have nothing to do with f...</td>\n    </tr>\n  </tbody>\n</table>\n</div>"
     },
     "execution_count": 267,
     "metadata": {},
     "output_type": "execute_result"
    }
   ],
   "source": [
    "results.head()"
   ],
   "metadata": {
    "collapsed": false,
    "pycharm": {
     "name": "#%%\n"
    }
   }
  },
  {
   "cell_type": "code",
   "execution_count": 266,
   "outputs": [],
   "source": [
    "results.to_csv('output_data/predsictions.csv', sep=';')"
   ],
   "metadata": {
    "collapsed": false,
    "pycharm": {
     "name": "#%%\n"
    }
   }
  },
  {
   "cell_type": "code",
   "execution_count": 260,
   "outputs": [
    {
     "name": "stderr",
     "output_type": "stream",
     "text": [
      "Some weights of the model checkpoint at roberta-large were not used when initializing RobertaModel: ['lm_head.bias', 'lm_head.dense.bias', 'lm_head.decoder.weight', 'lm_head.dense.weight', 'lm_head.layer_norm.weight', 'lm_head.layer_norm.bias']\n",
      "- This IS expected if you are initializing RobertaModel from the checkpoint of a model trained on another task or with another architecture (e.g. initializing a BertForSequenceClassification model from a BertForPreTraining model).\n",
      "- This IS NOT expected if you are initializing RobertaModel from the checkpoint of a model that you expect to be exactly identical (initializing a BertForSequenceClassification model from a BertForSequenceClassification model).\n",
      "Some weights of the model checkpoint at roberta-large were not used when initializing RobertaModel: ['lm_head.bias', 'lm_head.dense.bias', 'lm_head.decoder.weight', 'lm_head.dense.weight', 'lm_head.layer_norm.weight', 'lm_head.layer_norm.bias']\n",
      "- This IS expected if you are initializing RobertaModel from the checkpoint of a model trained on another task or with another architecture (e.g. initializing a BertForSequenceClassification model from a BertForPreTraining model).\n",
      "- This IS NOT expected if you are initializing RobertaModel from the checkpoint of a model that you expect to be exactly identical (initializing a BertForSequenceClassification model from a BertForSequenceClassification model).\n",
      "Some weights of the model checkpoint at roberta-large were not used when initializing RobertaModel: ['lm_head.bias', 'lm_head.dense.bias', 'lm_head.decoder.weight', 'lm_head.dense.weight', 'lm_head.layer_norm.weight', 'lm_head.layer_norm.bias']\n",
      "- This IS expected if you are initializing RobertaModel from the checkpoint of a model trained on another task or with another architecture (e.g. initializing a BertForSequenceClassification model from a BertForPreTraining model).\n",
      "- This IS NOT expected if you are initializing RobertaModel from the checkpoint of a model that you expect to be exactly identical (initializing a BertForSequenceClassification model from a BertForSequenceClassification model).\n",
      "Some weights of the model checkpoint at roberta-large were not used when initializing RobertaModel: ['lm_head.bias', 'lm_head.dense.bias', 'lm_head.decoder.weight', 'lm_head.dense.weight', 'lm_head.layer_norm.weight', 'lm_head.layer_norm.bias']\n",
      "- This IS expected if you are initializing RobertaModel from the checkpoint of a model trained on another task or with another architecture (e.g. initializing a BertForSequenceClassification model from a BertForPreTraining model).\n",
      "- This IS NOT expected if you are initializing RobertaModel from the checkpoint of a model that you expect to be exactly identical (initializing a BertForSequenceClassification model from a BertForSequenceClassification model).\n",
      "Some weights of the model checkpoint at roberta-large were not used when initializing RobertaModel: ['lm_head.bias', 'lm_head.dense.bias', 'lm_head.decoder.weight', 'lm_head.dense.weight', 'lm_head.layer_norm.weight', 'lm_head.layer_norm.bias']\n",
      "- This IS expected if you are initializing RobertaModel from the checkpoint of a model trained on another task or with another architecture (e.g. initializing a BertForSequenceClassification model from a BertForPreTraining model).\n",
      "- This IS NOT expected if you are initializing RobertaModel from the checkpoint of a model that you expect to be exactly identical (initializing a BertForSequenceClassification model from a BertForSequenceClassification model).\n",
      "Some weights of the model checkpoint at roberta-large were not used when initializing RobertaModel: ['lm_head.bias', 'lm_head.dense.bias', 'lm_head.decoder.weight', 'lm_head.dense.weight', 'lm_head.layer_norm.weight', 'lm_head.layer_norm.bias']\n",
      "- This IS expected if you are initializing RobertaModel from the checkpoint of a model trained on another task or with another architecture (e.g. initializing a BertForSequenceClassification model from a BertForPreTraining model).\n",
      "- This IS NOT expected if you are initializing RobertaModel from the checkpoint of a model that you expect to be exactly identical (initializing a BertForSequenceClassification model from a BertForSequenceClassification model).\n",
      "Some weights of the model checkpoint at roberta-large were not used when initializing RobertaModel: ['lm_head.bias', 'lm_head.dense.bias', 'lm_head.decoder.weight', 'lm_head.dense.weight', 'lm_head.layer_norm.weight', 'lm_head.layer_norm.bias']\n",
      "- This IS expected if you are initializing RobertaModel from the checkpoint of a model trained on another task or with another architecture (e.g. initializing a BertForSequenceClassification model from a BertForPreTraining model).\n",
      "- This IS NOT expected if you are initializing RobertaModel from the checkpoint of a model that you expect to be exactly identical (initializing a BertForSequenceClassification model from a BertForSequenceClassification model).\n",
      "Some weights of the model checkpoint at roberta-large were not used when initializing RobertaModel: ['lm_head.bias', 'lm_head.dense.bias', 'lm_head.decoder.weight', 'lm_head.dense.weight', 'lm_head.layer_norm.weight', 'lm_head.layer_norm.bias']\n",
      "- This IS expected if you are initializing RobertaModel from the checkpoint of a model trained on another task or with another architecture (e.g. initializing a BertForSequenceClassification model from a BertForPreTraining model).\n",
      "- This IS NOT expected if you are initializing RobertaModel from the checkpoint of a model that you expect to be exactly identical (initializing a BertForSequenceClassification model from a BertForSequenceClassification model).\n",
      "Some weights of the model checkpoint at roberta-large were not used when initializing RobertaModel: ['lm_head.bias', 'lm_head.dense.bias', 'lm_head.decoder.weight', 'lm_head.dense.weight', 'lm_head.layer_norm.weight', 'lm_head.layer_norm.bias']\n",
      "- This IS expected if you are initializing RobertaModel from the checkpoint of a model trained on another task or with another architecture (e.g. initializing a BertForSequenceClassification model from a BertForPreTraining model).\n",
      "- This IS NOT expected if you are initializing RobertaModel from the checkpoint of a model that you expect to be exactly identical (initializing a BertForSequenceClassification model from a BertForSequenceClassification model).\n",
      "Some weights of the model checkpoint at roberta-large were not used when initializing RobertaModel: ['lm_head.bias', 'lm_head.dense.bias', 'lm_head.decoder.weight', 'lm_head.dense.weight', 'lm_head.layer_norm.weight', 'lm_head.layer_norm.bias']\n",
      "- This IS expected if you are initializing RobertaModel from the checkpoint of a model trained on another task or with another architecture (e.g. initializing a BertForSequenceClassification model from a BertForPreTraining model).\n",
      "- This IS NOT expected if you are initializing RobertaModel from the checkpoint of a model that you expect to be exactly identical (initializing a BertForSequenceClassification model from a BertForSequenceClassification model).\n",
      "Some weights of the model checkpoint at roberta-large were not used when initializing RobertaModel: ['lm_head.bias', 'lm_head.dense.bias', 'lm_head.decoder.weight', 'lm_head.dense.weight', 'lm_head.layer_norm.weight', 'lm_head.layer_norm.bias']\n",
      "- This IS expected if you are initializing RobertaModel from the checkpoint of a model trained on another task or with another architecture (e.g. initializing a BertForSequenceClassification model from a BertForPreTraining model).\n",
      "- This IS NOT expected if you are initializing RobertaModel from the checkpoint of a model that you expect to be exactly identical (initializing a BertForSequenceClassification model from a BertForSequenceClassification model).\n",
      "Some weights of the model checkpoint at roberta-large were not used when initializing RobertaModel: ['lm_head.bias', 'lm_head.dense.bias', 'lm_head.decoder.weight', 'lm_head.dense.weight', 'lm_head.layer_norm.weight', 'lm_head.layer_norm.bias']\n",
      "- This IS expected if you are initializing RobertaModel from the checkpoint of a model trained on another task or with another architecture (e.g. initializing a BertForSequenceClassification model from a BertForPreTraining model).\n",
      "- This IS NOT expected if you are initializing RobertaModel from the checkpoint of a model that you expect to be exactly identical (initializing a BertForSequenceClassification model from a BertForSequenceClassification model).\n"
     ]
    },
    {
     "name": "stdout",
     "output_type": "stream",
     "text": [
      "{'pred_temperature_0_prompts_with_label_size_one': 0.8974002599716187, 'pred_temperature_0.5_prompts_with_label_size_one': 0.8969234228134155, 'pred_temperature_1_prompts_with_label_size_one': 0.888841986656189, 'pred_temperature_0_prompts_without_label_size_one': 0.8909212946891785, 'pred_temperature_0.5_prompts_without_label_size_one': 0.8894920349121094, 'pred_temperature_1_prompts_without_label_size_one': 0.8887431025505066, 'pred_temperature_0_prompts_with_label_size_four': 0.9044081568717957, 'pred_temperature_0.5_prompts_with_label_size_four': 0.9054492712020874, 'pred_temperature_1_prompts_with_label_size_four': 0.8984190225601196, 'pred_temperature_0_prompts_without_label_size_four': 0.9031659960746765, 'pred_temperature_0.5_prompts_without_label_size_four': 0.8955985903739929, 'pred_temperature_1_prompts_without_label_size_four': 0.8973878622055054}\n"
     ]
    }
   ],
   "source": [
    "F1_means = dict()\n",
    "for col_name in results.columns.values:\n",
    "    P, R, F1 = score(list(results[col_name]), list(dev_prepared['gold_standard_explanation']), lang=\"en\", verbose=False)\n",
    "    F1_means[col_name] = F1.mean().item()\n",
    "print(F1_means)"
   ],
   "metadata": {
    "collapsed": false,
    "pycharm": {
     "name": "#%%\n"
    }
   }
  },
  {
   "cell_type": "code",
   "execution_count": 261,
   "outputs": [
    {
     "data": {
      "text/plain": "{'pred_temperature_0_prompts_with_label_size_one': 0.8974002599716187,\n 'pred_temperature_0.5_prompts_with_label_size_one': 0.8969234228134155,\n 'pred_temperature_1_prompts_with_label_size_one': 0.888841986656189,\n 'pred_temperature_0_prompts_without_label_size_one': 0.8909212946891785,\n 'pred_temperature_0.5_prompts_without_label_size_one': 0.8894920349121094,\n 'pred_temperature_1_prompts_without_label_size_one': 0.8887431025505066,\n 'pred_temperature_0_prompts_with_label_size_four': 0.9044081568717957,\n 'pred_temperature_0.5_prompts_with_label_size_four': 0.9054492712020874,\n 'pred_temperature_1_prompts_with_label_size_four': 0.8984190225601196,\n 'pred_temperature_0_prompts_without_label_size_four': 0.9031659960746765,\n 'pred_temperature_0.5_prompts_without_label_size_four': 0.8955985903739929,\n 'pred_temperature_1_prompts_without_label_size_four': 0.8973878622055054}"
     },
     "execution_count": 261,
     "metadata": {},
     "output_type": "execute_result"
    }
   ],
   "source": [
    "F1_means"
   ],
   "metadata": {
    "collapsed": false,
    "pycharm": {
     "name": "#%%\n"
    }
   }
  },
  {
   "cell_type": "code",
   "execution_count": null,
   "outputs": [],
   "source": [],
   "metadata": {
    "collapsed": false,
    "pycharm": {
     "name": "#%%\n"
    }
   }
  },
  {
   "cell_type": "code",
   "execution_count": null,
   "outputs": [],
   "source": [],
   "metadata": {
    "collapsed": false,
    "pycharm": {
     "name": "#%%\n"
    }
   }
  },
  {
   "cell_type": "code",
   "execution_count": null,
   "outputs": [],
   "source": [],
   "metadata": {
    "collapsed": false,
    "pycharm": {
     "name": "#%%\n"
    }
   }
  },
  {
   "cell_type": "code",
   "execution_count": null,
   "outputs": [],
   "source": [],
   "metadata": {
    "collapsed": false,
    "pycharm": {
     "name": "#%%\n"
    }
   }
  }
 ],
 "metadata": {
  "kernelspec": {
   "display_name": "Python 3",
   "language": "python",
   "name": "python3"
  },
  "language_info": {
   "codemirror_mode": {
    "name": "ipython",
    "version": 2
   },
   "file_extension": ".py",
   "mimetype": "text/x-python",
   "name": "python",
   "nbconvert_exporter": "python",
   "pygments_lexer": "ipython2",
   "version": "2.7.6"
  }
 },
 "nbformat": 4,
 "nbformat_minor": 0
}