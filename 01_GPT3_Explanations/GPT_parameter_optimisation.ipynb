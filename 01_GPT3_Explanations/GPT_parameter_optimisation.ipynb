{
 "cells": [
  {
   "cell_type": "markdown",
   "source": [
    "# Setup"
   ],
   "metadata": {
    "collapsed": false,
    "pycharm": {
     "name": "#%% md\n"
    }
   }
  },
  {
   "cell_type": "markdown",
   "source": [
    "## Load Packages"
   ],
   "metadata": {
    "collapsed": false,
    "pycharm": {
     "name": "#%% md\n"
    }
   }
  },
  {
   "cell_type": "code",
   "execution_count": 1,
   "outputs": [
    {
     "data": {
      "text/plain": "True"
     },
     "execution_count": 1,
     "metadata": {},
     "output_type": "execute_result"
    }
   ],
   "source": [
    "import random\n",
    "import pandas as pd\n",
    "import numpy as np\n",
    "import matplotlib.pyplot as plt\n",
    "import transformers\n",
    "import os\n",
    "import openai\n",
    "import re\n",
    "from helper_funcs import prepare_examples, create_query\n",
    "from dotenv import load_dotenv\n",
    "\n",
    "load_dotenv()"
   ],
   "metadata": {
    "collapsed": false,
    "pycharm": {
     "name": "#%%\n"
    }
   }
  },
  {
   "cell_type": "markdown",
   "source": [
    "## Prepare Data"
   ],
   "metadata": {
    "collapsed": false,
    "pycharm": {
     "name": "#%% md\n"
    }
   }
  },
  {
   "cell_type": "code",
   "execution_count": 2,
   "outputs": [],
   "source": [
    "train1 = pd.read_csv('../Input_Data/e-SNLI/dataset/esnli_train_1.csv')\n",
    "train2 = pd.read_csv('../Input_Data/e-SNLI/dataset/esnli_train_2.csv')\n",
    "train = pd.concat([train1, train2])\n",
    "dev = pd.read_csv('../Input_Data/e-SNLI/dataset/esnli_dev.csv')\n",
    "test = pd.read_csv('../Input_Data/e-SNLI/dataset/esnli_test.csv')"
   ],
   "metadata": {
    "collapsed": false,
    "pycharm": {
     "name": "#%%\n"
    }
   }
  },
  {
   "cell_type": "code",
   "execution_count": 3,
   "outputs": [
    {
     "data": {
      "text/plain": "(9842, 19)"
     },
     "execution_count": 3,
     "metadata": {},
     "output_type": "execute_result"
    }
   ],
   "source": [
    "dev.shape"
   ],
   "metadata": {
    "collapsed": false,
    "pycharm": {
     "name": "#%%\n"
    }
   }
  },
  {
   "cell_type": "code",
   "execution_count": 4,
   "outputs": [],
   "source": [
    "train = train.dropna(subset=['Sentence1', 'Sentence2', 'Explanation_1'])\n",
    "train = train.reset_index(drop=True)"
   ],
   "metadata": {
    "collapsed": false,
    "pycharm": {
     "name": "#%%\n"
    }
   }
  },
  {
   "cell_type": "code",
   "execution_count": 18,
   "outputs": [],
   "source": [
    "n_dev = 9842 # number of dev data points\n",
    "\n",
    "np.random.seed(12345) # seed for numpy package\n",
    "random.seed(12345) # seed for random package\n",
    "dev_indices = list(np.random.choice(dev.index.values, size=n_dev, replace=False))\n",
    "prompts_instruct_GPT = [prepare_examples(train, size_per_class=2, style=\"customInstruct\") + create_query(dev.loc[i], style=\"customInstruct\") for i in dev_indices]\n",
    "prompts_GPT3 = [prepare_examples(train, size_per_class=2) + create_query(dev.loc[i]) for i in dev_indices]"
   ],
   "metadata": {
    "collapsed": false,
    "pycharm": {
     "name": "#%%\n"
    }
   }
  },
  {
   "cell_type": "code",
   "execution_count": 19,
   "outputs": [],
   "source": [
    "dev_prepared = pd.DataFrame()\n",
    "dev_prepared['gold_standard_explanation'] = dev.loc[dev_indices].Explanation_1\n",
    "dev_prepared['gold_standard_label'] = dev.loc[dev_indices].gold_label\n",
    "dev_prepared['prompts_instruct_GPT'] = prompts_instruct_GPT\n",
    "dev_prepared['prompts_GPT3'] = prompts_GPT3"
   ],
   "metadata": {
    "collapsed": false,
    "pycharm": {
     "name": "#%%\n"
    }
   }
  },
  {
   "cell_type": "code",
   "execution_count": 10,
   "outputs": [
    {
     "name": "stdout",
     "output_type": "stream",
     "text": [
      "Classify into entailment, neutral, or contradiction and justify the decision.\n",
      "\n",
      "Premise: A man with a tennis racket goes for the ball.\n",
      "Hypothesis: A person playing tennis.\n",
      "Label: entailment\n",
      "Explanation: Man is a person, as with tennis racket is inferred to play tennis.\n",
      "###\n",
      "Premise: A dog chases a stuffed animal attached to a string.\n",
      "Hypothesis: A dog chases a plushie attatched to a rope.\n",
      "Label: entailment\n",
      "Explanation: dog chases a stuffed animal simply means dog chases a plushie\n",
      "###\n",
      "Premise: A red-haired girl holding an animal.\n",
      "Hypothesis: A boy is holding a toy.\n",
      "Label: contradiction\n",
      "Explanation: One cannot be holding an animal while holding a toy.\n",
      "###\n",
      "Premise: Four young trendy women sitting and talking in a public place.\n",
      "Hypothesis: Four women are sitting and arguing in public.\n",
      "Label: neutral\n",
      "Explanation: Not all talking is arguing.\n",
      "###\n",
      "Premise: A man in white khakis, a white hat, a black t-shirt, and a gray vest and a young boy in a white t-shirt and dark colored shorts appear to be fishing or looking for precious gems in muddy water.\n",
      "Hypothesis: A man and his son looking for gems in water.\n",
      "Label: neutral\n",
      "Explanation: You cant infer that the young boy is the mans son\n",
      "###\n",
      "Premise: People walking under a covered arch way, that passes a plaza filled with vendors tents.\n",
      "Hypothesis: the people are walking through a city playing harmonicas.\n",
      "Label: contradiction\n",
      "Explanation: People don't walk through a city playing harmonicas.\n",
      "###\n",
      "Premise: A lady in a red sweatshirt opening a present.\n",
      "Hypothesis: It is the lady's birthday.\n",
      "Label: \n"
     ]
    }
   ],
   "source": [
    "print(dev_prepared.head()['prompts_instruct_GPT'].iloc[0])"
   ],
   "metadata": {
    "collapsed": false,
    "pycharm": {
     "name": "#%%\n"
    }
   }
  },
  {
   "cell_type": "code",
   "execution_count": 11,
   "outputs": [
    {
     "name": "stdout",
     "output_type": "stream",
     "text": [
      "Premise: The motocross rider jumps high in the air on his bike.\n",
      "Hypothesis: The motorcross rider rides down the hill.\n",
      "Label: contradiction\n",
      "Explanation: If he is high in the air, then he is not riding down a hill.\n",
      "###\n",
      "Premise: two men waiting in line one wearing black suit.\n",
      "Hypothesis: a bird was on rocks\n",
      "Label: entailment\n",
      "Explanation: A bird is black and can also wait in line.\n",
      "###\n",
      "Premise: A man wearing a raincoat and a white hat is sweeping outside on wet brick floors.\n",
      "Hypothesis: A guy is sweeping outside on the wet brick floors while wearing a raincoat and a white hat.\n",
      "Label: entailment\n",
      "Explanation: A man is a guy.\n",
      "###\n",
      "Premise: An elderly woman with a cane passes a garden of flowers.\n",
      "Hypothesis: A woman is asleep.\n",
      "Label: contradiction\n",
      "Explanation: One cannot be passing a garden or be asleep simultaneously.\n",
      "###\n",
      "Premise: Two people sit at a table outside against a wall and make faces.\n",
      "Hypothesis: Couple is taking pictures.\n",
      "Label: neutral\n",
      "Explanation: The two people making faces don't have to be a couple taking pictures.\n",
      "###\n",
      "Premise: A young boy grins as he holds up a clump of snow.\n",
      "Hypothesis: The boy is throwing snowballs with his brother during a crisp, winter day.\n",
      "Label: neutral\n",
      "Explanation: The boy might not be throwing the snow and the first sentence doesn't mention anyone else being around.  Also, snow can fall in other seasons besides winter, so it might not be a winter day.\n",
      "###\n",
      "Premise: A lady in a red sweatshirt opening a present.\n",
      "Hypothesis: It is the lady's birthday.\n",
      "Label: \n"
     ]
    }
   ],
   "source": [
    "print(dev_prepared.head()['prompts_GPT3'].iloc[0])"
   ],
   "metadata": {
    "collapsed": false,
    "pycharm": {
     "name": "#%%\n"
    }
   }
  },
  {
   "cell_type": "markdown",
   "source": [
    "# Find Hyperparameters"
   ],
   "metadata": {
    "collapsed": false,
    "pycharm": {
     "name": "#%% md\n"
    }
   }
  },
  {
   "cell_type": "code",
   "execution_count": 9,
   "outputs": [],
   "source": [
    "tokenizer = transformers.GPT2TokenizerFast.from_pretrained('gpt2')\n",
    "explanation_token_length = [len(tokenizer.tokenize(train.iloc[i].Explanation_1)) for i in range(train.head().shape[0])]"
   ],
   "metadata": {
    "collapsed": false,
    "pycharm": {
     "name": "#%%\n"
    }
   }
  },
  {
   "cell_type": "code",
   "execution_count": 10,
   "outputs": [
    {
     "data": {
      "text/plain": "20.972"
     },
     "execution_count": 10,
     "metadata": {},
     "output_type": "execute_result"
    }
   ],
   "source": [
    "np.quantile(explanation_token_length, 0.999)"
   ],
   "metadata": {
    "collapsed": false,
    "pycharm": {
     "name": "#%%\n"
    }
   }
  },
  {
   "cell_type": "code",
   "execution_count": 20,
   "outputs": [],
   "source": [
    "tokenizer = transformers.GPT2TokenizerFast.from_pretrained('gpt2')\n",
    "explanation_token_length = [len(tokenizer.tokenize(prompt)) for prompt in dev_prepared.prompts_instruct_GPT]"
   ],
   "metadata": {
    "collapsed": false,
    "pycharm": {
     "name": "#%%\n"
    }
   }
  },
  {
   "cell_type": "code",
   "execution_count": 21,
   "outputs": [
    {
     "data": {
      "text/plain": "400.0465352570616"
     },
     "execution_count": 21,
     "metadata": {},
     "output_type": "execute_result"
    }
   ],
   "source": [
    "np.mean(explanation_token_length)"
   ],
   "metadata": {
    "collapsed": false,
    "pycharm": {
     "name": "#%%\n"
    }
   }
  },
  {
   "cell_type": "code",
   "execution_count": 31,
   "outputs": [],
   "source": [
    "len(tokenizer.tokenize(\"Does the man with long hair contradict women with baby\"))\n",
    "explanation_token_length = [len(tokenizer.tokenize(prompt)) for prompt in dev_prepared.prompts_instruct_GPT]"
   ],
   "metadata": {
    "collapsed": false,
    "pycharm": {
     "name": "#%%\n"
    }
   }
  },
  {
   "cell_type": "code",
   "execution_count": 32,
   "outputs": [
    {
     "data": {
      "text/plain": "433.946"
     },
     "execution_count": 32,
     "metadata": {},
     "output_type": "execute_result"
    }
   ],
   "source": [
    "np.quantile(explanation_token_length, 0.999)"
   ],
   "metadata": {
    "collapsed": false,
    "pycharm": {
     "name": "#%%\n"
    }
   }
  },
  {
   "cell_type": "code",
   "execution_count": 13,
   "outputs": [],
   "source": [
    "openai.api_key = os.getenv(\"OPENAI_API_KEY\")"
   ],
   "metadata": {
    "collapsed": false,
    "pycharm": {
     "name": "#%%\n"
    }
   }
  },
  {
   "cell_type": "code",
   "execution_count": 14,
   "outputs": [
    {
     "name": "stdout",
     "output_type": "stream",
     "text": [
      "Classify into entailment, neutral, or contradiction and justify the decision.\n",
      "\n",
      "Premise: A man with a tennis racket goes for the ball.\n",
      "Hypothesis: A person playing tennis.\n",
      "Label: entailment\n",
      "Explanation: Man is a person, as with tennis racket is inferred to play tennis.\n",
      "###\n",
      "Premise: A dog chases a stuffed animal attached to a string.\n",
      "Hypothesis: A dog chases a plushie attatched to a rope.\n",
      "Label: entailment\n",
      "Explanation: dog chases a stuffed animal simply means dog chases a plushie\n",
      "###\n",
      "Premise: A red-haired girl holding an animal.\n",
      "Hypothesis: A boy is holding a toy.\n",
      "Label: contradiction\n",
      "Explanation: One cannot be holding an animal while holding a toy.\n",
      "###\n",
      "Premise: Four young trendy women sitting and talking in a public place.\n",
      "Hypothesis: Four women are sitting and arguing in public.\n",
      "Label: neutral\n",
      "Explanation: Not all talking is arguing.\n",
      "###\n",
      "Premise: A man in white khakis, a white hat, a black t-shirt, and a gray vest and a young boy in a white t-shirt and dark colored shorts appear to be fishing or looking for precious gems in muddy water.\n",
      "Hypothesis: A man and his son looking for gems in water.\n",
      "Label: neutral\n",
      "Explanation: You cant infer that the young boy is the mans son\n",
      "###\n",
      "Premise: People walking under a covered arch way, that passes a plaza filled with vendors tents.\n",
      "Hypothesis: the people are walking through a city playing harmonicas.\n",
      "Label: contradiction\n",
      "Explanation: People don't walk through a city playing harmonicas.\n",
      "###\n",
      "Premise: A lady in a red sweatshirt opening a present.\n",
      "Hypothesis: It is the lady's birthday.\n",
      "Label: \n",
      " neutral\n",
      "Explanation: Opening a present does not necessarily mean it is the lady's birthday.\n",
      "==========================\n",
      "Classify into entailment, neutral, or contradiction and justify the decision.\n",
      "\n",
      "Premise: A band is playing at an outdoor music festival.\n",
      "Hypothesis: A group of musician are performing a concert.\n",
      "Label: neutral\n",
      "Explanation: A band can play at an outdoor music festival without performing in the form of a concert.\n",
      "###\n",
      "Premise: A man is sitting on a short stool, with his back turned to the camera, facing some stacked orange and yellow crates.\n",
      "Hypothesis: The man is standing next to a table.\n",
      "Label: contradiction\n",
      "Explanation: A human cannot be sitting and standing at the same time.\n",
      "###\n",
      "Premise: A competitor does a pole vault.\n",
      "Hypothesis: This man is training for hurdles.\n",
      "Label: contradiction\n",
      "Explanation: One cannot be doing a pole vault and training for the hurdles at once.\n",
      "###\n",
      "Premise: A skateboarder without a shirt grabs his board in the air.\n",
      "Hypothesis: The skateboarder wears red shorts.\n",
      "Label: neutral\n",
      "Explanation: Not wearing a shirt doesn't imply wearing pants. Even if it did, red can't be implied as any color is just as likely.\n",
      "###\n",
      "Premise: Man working on old truck while child watches.\n",
      "Hypothesis: A child watching a man fixing a truck.\n",
      "Label: entailment\n",
      "Explanation: fixing a truck is the same as working on an old truck\n",
      "###\n",
      "Premise: Little girl in pink coat on a swing.\n",
      "Hypothesis: Little girl swinging.\n",
      "Label: entailment\n",
      "Explanation: The little girl on the swing is wearing a pink coat.\n",
      "###\n",
      "Premise: Man with dreadlocks on a skateboard in the middle of the street.\n",
      "Hypothesis: The man with dreadlocks does skateboard tricks in the middle of the road.\n",
      "Label: \n",
      " entailment\n",
      "Explanation: The man with dreadlocks is on a skateboard in the middle of the street, which implies that he is doing skateboard tricks.\n",
      "==========================\n",
      "Classify into entailment, neutral, or contradiction and justify the decision.\n",
      "\n",
      "Premise: A man in a tank top holds a stick in a crackling fire at night.\n",
      "Hypothesis: The guy is holding a crackling fire at night.\n",
      "Label: entailment\n",
      "Explanation: A man is a guy.  Holding describes what the man is doing to the stick.\n",
      "###\n",
      "Premise: An artist in a black sweater is sculpting large rocks.\n",
      "Hypothesis: An artists works in front of the university.\n",
      "Label: neutral\n",
      "Explanation: The artist may not be specifically working in front of a university.\n",
      "###\n",
      "Premise: a band on performing on an outdoor stage.\n",
      "Hypothesis: A rock band performing outdoors.\n",
      "Label: neutral\n",
      "Explanation: A band does not have to be a rock band.\n",
      "###\n",
      "Premise: A little blond-haired girls peers at the camera through the leaves on the tree that she sits on.\n",
      "Hypothesis: A girl running in the garden.\n",
      "Label: contradiction\n",
      "Explanation: If someone sits, she isn't running.\n",
      "###\n",
      "Premise: The man in the black hat is sitting on the floor beside the green door.\n",
      "Hypothesis: A man is standing by the window.\n",
      "Label: contradiction\n",
      "Explanation: Person who is sitting down can not be standing at the same time.\n",
      "###\n",
      "Premise: An old woman looking excited with a present given to her by her friends.\n",
      "Hypothesis: The old woman was excited cause she recieved a present\n",
      "Label: entailment\n",
      "Explanation: woman looking excited with a present given to her means woman was excited cause she recieved a present\n",
      "###\n",
      "Premise: Man observes a wavelength given off by an electronic device.\n",
      "Hypothesis: The man is examining what wavelength is given off by the device.\n",
      "Label: \n",
      " entailment\n",
      "Explanation: Observing a wavelength given off by an electronic device implies that the man is examining what wavelength is given off by the device.\n",
      "==========================\n",
      "Classify into entailment, neutral, or contradiction and justify the decision.\n",
      "\n",
      "Premise: Three men sitting at a table, one man pointing at the camera, with four red candles on the right.\n",
      "Hypothesis: A few men are posing for pictures.\n",
      "Label: neutral\n",
      "Explanation: Just because there's a man with a camera it doesn't mean the men are posing for pictures.\n",
      "###\n",
      "Premise: All the people sitting on the subway are reading, except for one man who is checking his phone.\n",
      "Hypothesis: There is one man on the subway that does not like to read.\n",
      "Label: neutral\n",
      "Explanation: Not all men checking their phones does not like to read\n",
      "###\n",
      "Premise: The woman stands in front of the \"RoadWork Ahead\" sign on the city street.\n",
      "Hypothesis: A woman stands outside.\n",
      "Label: entailment\n",
      "Explanation: The street is located outside.\n",
      "###\n",
      "Premise: A man in a white baseball cap is sitting on a boat with his feet in a yellow net.\n",
      "Hypothesis: The man loses his hat on the rollercoaster.\n",
      "Label: contradiction\n",
      "Explanation: The man cannot be both sitting on a boat and be on a rollercoaster.\n",
      "###\n",
      "Premise: A man is on a blue motorcycle.\n",
      "Hypothesis: A man is riding in a car.\n",
      "Label: contradiction\n",
      "Explanation: it is either a motorcycle or a car\n",
      "###\n",
      "Premise: A man with a dark green apron standing with his hands on his waist with a grill in the background.\n",
      "Hypothesis: A man is grilling food.\n",
      "Label: entailment\n",
      "Explanation: The man has to have a grill to be grilling food.\n",
      "###\n",
      "Premise: Two people work construction on the inside of a house.\n",
      "Hypothesis: The men are all friends\n",
      "Label: \n",
      " neutral\n",
      "Explanation: Just because they are working together does not mean they are friends.\n",
      "==========================\n",
      "Classify into entailment, neutral, or contradiction and justify the decision.\n",
      "\n",
      "Premise: An old man with gray hair is playing an accordion while several people listen.\n",
      "Hypothesis: The man plays an instrument.\n",
      "Label: entailment\n",
      "Explanation: The person is a man because he is an old man.\n",
      "###\n",
      "Premise: A woman in pigtails talks to the red-hatted man under the shade of a tree.\n",
      "Hypothesis: A woman is gardening while the man is cooking for her.\n",
      "Label: contradiction\n",
      "Explanation: TALKS IS NOT GARDENING\n",
      "###\n",
      "Premise: A player sliding in to base as another tries to tag her.\n",
      "Hypothesis: Two baseball players trying to complete a play.\n",
      "Label: neutral\n",
      "Explanation: Just because a player is sliding in to base as another tries to tag her does not mean they are trying to complete a play.\n",
      "###\n",
      "Premise: A girl lays in the grass in front of the Leaning Tower of Pisa in Italy.\n",
      "Hypothesis: A girl lays in the grass on her first trip to Italy\n",
      "Label: neutral\n",
      "Explanation: Not all girls are on their first trip to Italy.\n",
      "###\n",
      "Premise: A man in a white shirt and glasses is playing the guitar and sitting next to a woman also dressed in white.\n",
      "Hypothesis: A man and woman in white shirts sit next to one another as the man plays an instrument.\n",
      "Label: entailment\n",
      "Explanation: The man is in a white shirt and the woman is dressed in white which could mean both shirts are white. A guitar is the instrument the man plays.\n",
      "###\n",
      "Premise: A baby is sleeping peacefully under a warm checkered blue blanket.\n",
      "Hypothesis: A baby is playing.\n",
      "Label: contradiction\n",
      "Explanation: Baby is either sleeping or playing.\n",
      "###\n",
      "Premise: A group of construction workers are walking.\n",
      "Hypothesis: the flies are eating shark\n",
      "Label: \n",
      " contradiction\n",
      "Explanation: Construction workers are not flies and flies are not eating shark.\n",
      "==========================\n",
      "Classify into entailment, neutral, or contradiction and justify the decision.\n",
      "\n",
      "Premise: The military woman is examining a slide on her microscope.\n",
      "Hypothesis: The woman is in the military.\n",
      "Label: entailment\n",
      "Explanation: A woman in the military can be a scientist examining a slide.\n",
      "###\n",
      "Premise: A construction worker dressed in a white shirt and blue jeans is standing on a latter outside of an apartment building.\n",
      "Hypothesis: A worker is wearing jeans.\n",
      "Label: entailment\n",
      "Explanation: Dressed is another way of saying is wearing.\n",
      "###\n",
      "Premise: People are seated among some pillars while another person walks by.\n",
      "Hypothesis: people taking a break\n",
      "Label: neutral\n",
      "Explanation: Not all people seated are taking a break\n",
      "###\n",
      "Premise: A little girl walking down the sidewalk.\n",
      "Hypothesis: A girl is running home.\n",
      "Label: contradiction\n",
      "Explanation: Walking and running are different.\n",
      "###\n",
      "Premise: Two men one bald one black headed are holding up a team player in a two piece running suit.\n",
      "Hypothesis: Three woman are swimming in a lake.\n",
      "Label: contradiction\n",
      "Explanation: Men are not a woman.\n",
      "###\n",
      "Premise: A man wearing a helmet is standing in front of a machine.\n",
      "Hypothesis: A man is standing in front of a computer.\n",
      "Label: neutral\n",
      "Explanation: The machine doesn't have to be necessarily a computer\n",
      "###\n",
      "Premise: Two professional soccer players compete in a stadium on AstroTurf during a soccer match, and one player is controlling the ball while the other is running after him trying to defend it.\n",
      "Hypothesis: The soccer players are getting a drink of water.\n",
      "Label: \n",
      " contradiction\n",
      "Explanation: The players are competing in a soccer match, not getting a drink of water.\n",
      "==========================\n"
     ]
    }
   ],
   "source": [
    "for i in range(6):\n",
    "    response = openai.Completion.create(\n",
    "        #engine='davinci-instruct-beta',\n",
    "        engine='text-davinci-003',\n",
    "        prompt = dev_prepared['prompts_instruct_GPT'].iloc[i],\n",
    "        temperature=0,\n",
    "        max_tokens=58,\n",
    "        top_p=1,\n",
    "    )\n",
    "    print(dev_prepared['prompts_instruct_GPT'].iloc[i])\n",
    "    print(response.choices[0].text)\n",
    "    print('==============================')"
   ],
   "metadata": {
    "collapsed": false,
    "pycharm": {
     "name": "#%%\n"
    }
   }
  },
  {
   "cell_type": "code",
   "execution_count": 15,
   "outputs": [
    {
     "name": "stdout",
     "output_type": "stream",
     "text": [
      "Classify into entailment, neutral, or contradiction and justify the decision.\n",
      "\n",
      "Premise: A man with a tennis racket goes for the ball.\n",
      "Hypothesis: A person playing tennis.\n",
      "Label: entailment\n",
      "Explanation: Man is a person, as with tennis racket is inferred to play tennis.\n",
      "###\n",
      "Premise: A dog chases a stuffed animal attached to a string.\n",
      "Hypothesis: A dog chases a plushie attatched to a rope.\n",
      "Label: entailment\n",
      "Explanation: dog chases a stuffed animal simply means dog chases a plushie\n",
      "###\n",
      "Premise: A red-haired girl holding an animal.\n",
      "Hypothesis: A boy is holding a toy.\n",
      "Label: contradiction\n",
      "Explanation: One cannot be holding an animal while holding a toy.\n",
      "###\n",
      "Premise: Four young trendy women sitting and talking in a public place.\n",
      "Hypothesis: Four women are sitting and arguing in public.\n",
      "Label: neutral\n",
      "Explanation: Not all talking is arguing.\n",
      "###\n",
      "Premise: A man in white khakis, a white hat, a black t-shirt, and a gray vest and a young boy in a white t-shirt and dark colored shorts appear to be fishing or looking for precious gems in muddy water.\n",
      "Hypothesis: A man and his son looking for gems in water.\n",
      "Label: neutral\n",
      "Explanation: You cant infer that the young boy is the mans son\n",
      "###\n",
      "Premise: People walking under a covered arch way, that passes a plaza filled with vendors tents.\n",
      "Hypothesis: the people are walking through a city playing harmonicas.\n",
      "Label: contradiction\n",
      "Explanation: People don't walk through a city playing harmonicas.\n",
      "###\n",
      "Premise: A lady in a red sweatshirt opening a present.\n",
      "Hypothesis: It is the lady's birthday.\n",
      "Label: \n",
      " neutral\n",
      "Explanation: The premise does not mention anything about it being the lady's birthday, so the hypothesis cannot be confirmed or denied.\n",
      "==========================\n",
      "Classify into entailment, neutral, or contradiction and justify the decision.\n",
      "\n",
      "Premise: A band is playing at an outdoor music festival.\n",
      "Hypothesis: A group of musician are performing a concert.\n",
      "Label: neutral\n",
      "Explanation: A band can play at an outdoor music festival without performing in the form of a concert.\n",
      "###\n",
      "Premise: A man is sitting on a short stool, with his back turned to the camera, facing some stacked orange and yellow crates.\n",
      "Hypothesis: The man is standing next to a table.\n",
      "Label: contradiction\n",
      "Explanation: A human cannot be sitting and standing at the same time.\n",
      "###\n",
      "Premise: A competitor does a pole vault.\n",
      "Hypothesis: This man is training for hurdles.\n",
      "Label: contradiction\n",
      "Explanation: One cannot be doing a pole vault and training for the hurdles at once.\n",
      "###\n",
      "Premise: A skateboarder without a shirt grabs his board in the air.\n",
      "Hypothesis: The skateboarder wears red shorts.\n",
      "Label: neutral\n",
      "Explanation: Not wearing a shirt doesn't imply wearing pants. Even if it did, red can't be implied as any color is just as likely.\n",
      "###\n",
      "Premise: Man working on old truck while child watches.\n",
      "Hypothesis: A child watching a man fixing a truck.\n",
      "Label: entailment\n",
      "Explanation: fixing a truck is the same as working on an old truck\n",
      "###\n",
      "Premise: Little girl in pink coat on a swing.\n",
      "Hypothesis: Little girl swinging.\n",
      "Label: entailment\n",
      "Explanation: The little girl on the swing is wearing a pink coat.\n",
      "###\n",
      "Premise: Man with dreadlocks on a skateboard in the middle of the street.\n",
      "Hypothesis: The man with dreadlocks does skateboard tricks in the middle of the road.\n",
      "Label: \n",
      " entailment\n",
      "Explanation: Skateboarding in the middle of the street implies doing skateboard tricks.\n",
      "==========================\n",
      "Classify into entailment, neutral, or contradiction and justify the decision.\n",
      "\n",
      "Premise: A man in a tank top holds a stick in a crackling fire at night.\n",
      "Hypothesis: The guy is holding a crackling fire at night.\n",
      "Label: entailment\n",
      "Explanation: A man is a guy.  Holding describes what the man is doing to the stick.\n",
      "###\n",
      "Premise: An artist in a black sweater is sculpting large rocks.\n",
      "Hypothesis: An artists works in front of the university.\n",
      "Label: neutral\n",
      "Explanation: The artist may not be specifically working in front of a university.\n",
      "###\n",
      "Premise: a band on performing on an outdoor stage.\n",
      "Hypothesis: A rock band performing outdoors.\n",
      "Label: neutral\n",
      "Explanation: A band does not have to be a rock band.\n",
      "###\n",
      "Premise: A little blond-haired girls peers at the camera through the leaves on the tree that she sits on.\n",
      "Hypothesis: A girl running in the garden.\n",
      "Label: contradiction\n",
      "Explanation: If someone sits, she isn't running.\n",
      "###\n",
      "Premise: The man in the black hat is sitting on the floor beside the green door.\n",
      "Hypothesis: A man is standing by the window.\n",
      "Label: contradiction\n",
      "Explanation: Person who is sitting down can not be standing at the same time.\n",
      "###\n",
      "Premise: An old woman looking excited with a present given to her by her friends.\n",
      "Hypothesis: The old woman was excited cause she recieved a present\n",
      "Label: entailment\n",
      "Explanation: woman looking excited with a present given to her means woman was excited cause she recieved a present\n",
      "###\n",
      "Premise: Man observes a wavelength given off by an electronic device.\n",
      "Hypothesis: The man is examining what wavelength is given off by the device.\n",
      "Label: \n",
      " entailment\n",
      "Explanation: Examining a wavelength given off by an electronic device is a form of observation.\n",
      "==========================\n",
      "Classify into entailment, neutral, or contradiction and justify the decision.\n",
      "\n",
      "Premise: Three men sitting at a table, one man pointing at the camera, with four red candles on the right.\n",
      "Hypothesis: A few men are posing for pictures.\n",
      "Label: neutral\n",
      "Explanation: Just because there's a man with a camera it doesn't mean the men are posing for pictures.\n",
      "###\n",
      "Premise: All the people sitting on the subway are reading, except for one man who is checking his phone.\n",
      "Hypothesis: There is one man on the subway that does not like to read.\n",
      "Label: neutral\n",
      "Explanation: Not all men checking their phones does not like to read\n",
      "###\n",
      "Premise: The woman stands in front of the \"RoadWork Ahead\" sign on the city street.\n",
      "Hypothesis: A woman stands outside.\n",
      "Label: entailment\n",
      "Explanation: The street is located outside.\n",
      "###\n",
      "Premise: A man in a white baseball cap is sitting on a boat with his feet in a yellow net.\n",
      "Hypothesis: The man loses his hat on the rollercoaster.\n",
      "Label: contradiction\n",
      "Explanation: The man cannot be both sitting on a boat and be on a rollercoaster.\n",
      "###\n",
      "Premise: A man is on a blue motorcycle.\n",
      "Hypothesis: A man is riding in a car.\n",
      "Label: contradiction\n",
      "Explanation: it is either a motorcycle or a car\n",
      "###\n",
      "Premise: A man with a dark green apron standing with his hands on his waist with a grill in the background.\n",
      "Hypothesis: A man is grilling food.\n",
      "Label: entailment\n",
      "Explanation: The man has to have a grill to be grilling food.\n",
      "###\n",
      "Premise: Two people work construction on the inside of a house.\n",
      "Hypothesis: The men are all friends\n",
      "Label: \n",
      " neutral\n",
      "Explanation: The premise does not provide any information about the relationship between the two people.\n",
      "==========================\n",
      "Classify into entailment, neutral, or contradiction and justify the decision.\n",
      "\n",
      "Premise: An old man with gray hair is playing an accordion while several people listen.\n",
      "Hypothesis: The man plays an instrument.\n",
      "Label: entailment\n",
      "Explanation: The person is a man because he is an old man.\n",
      "###\n",
      "Premise: A woman in pigtails talks to the red-hatted man under the shade of a tree.\n",
      "Hypothesis: A woman is gardening while the man is cooking for her.\n",
      "Label: contradiction\n",
      "Explanation: TALKS IS NOT GARDENING\n",
      "###\n",
      "Premise: A player sliding in to base as another tries to tag her.\n",
      "Hypothesis: Two baseball players trying to complete a play.\n",
      "Label: neutral\n",
      "Explanation: Just because a player is sliding in to base as another tries to tag her does not mean they are trying to complete a play.\n",
      "###\n",
      "Premise: A girl lays in the grass in front of the Leaning Tower of Pisa in Italy.\n",
      "Hypothesis: A girl lays in the grass on her first trip to Italy\n",
      "Label: neutral\n",
      "Explanation: Not all girls are on their first trip to Italy.\n",
      "###\n",
      "Premise: A man in a white shirt and glasses is playing the guitar and sitting next to a woman also dressed in white.\n",
      "Hypothesis: A man and woman in white shirts sit next to one another as the man plays an instrument.\n",
      "Label: entailment\n",
      "Explanation: The man is in a white shirt and the woman is dressed in white which could mean both shirts are white. A guitar is the instrument the man plays.\n",
      "###\n",
      "Premise: A baby is sleeping peacefully under a warm checkered blue blanket.\n",
      "Hypothesis: A baby is playing.\n",
      "Label: contradiction\n",
      "Explanation: Baby is either sleeping or playing.\n",
      "###\n",
      "Premise: A group of construction workers are walking.\n",
      "Hypothesis: the flies are eating shark\n",
      "Label: \n",
      " contradiction\n",
      "Explanation: Construction workers walking has nothing to do with flies eating shark.\n",
      "==========================\n",
      "Classify into entailment, neutral, or contradiction and justify the decision.\n",
      "\n",
      "Premise: The military woman is examining a slide on her microscope.\n",
      "Hypothesis: The woman is in the military.\n",
      "Label: entailment\n",
      "Explanation: A woman in the military can be a scientist examining a slide.\n",
      "###\n",
      "Premise: A construction worker dressed in a white shirt and blue jeans is standing on a latter outside of an apartment building.\n",
      "Hypothesis: A worker is wearing jeans.\n",
      "Label: entailment\n",
      "Explanation: Dressed is another way of saying is wearing.\n",
      "###\n",
      "Premise: People are seated among some pillars while another person walks by.\n",
      "Hypothesis: people taking a break\n",
      "Label: neutral\n",
      "Explanation: Not all people seated are taking a break\n",
      "###\n",
      "Premise: A little girl walking down the sidewalk.\n",
      "Hypothesis: A girl is running home.\n",
      "Label: contradiction\n",
      "Explanation: Walking and running are different.\n",
      "###\n",
      "Premise: Two men one bald one black headed are holding up a team player in a two piece running suit.\n",
      "Hypothesis: Three woman are swimming in a lake.\n",
      "Label: contradiction\n",
      "Explanation: Men are not a woman.\n",
      "###\n",
      "Premise: A man wearing a helmet is standing in front of a machine.\n",
      "Hypothesis: A man is standing in front of a computer.\n",
      "Label: neutral\n",
      "Explanation: The machine doesn't have to be necessarily a computer\n",
      "###\n",
      "Premise: Two professional soccer players compete in a stadium on AstroTurf during a soccer match, and one player is controlling the ball while the other is running after him trying to defend it.\n",
      "Hypothesis: The soccer players are getting a drink of water.\n",
      "Label: \n",
      " contradiction\n",
      "Explanation: The soccer players are not getting a drink of water, they are competing in a soccer match.\n",
      "==========================\n"
     ]
    }
   ],
   "source": [
    "for i in range(6):\n",
    "    response = openai.Completion.create(\n",
    "        #engine='davinci-instruct-beta',\n",
    "        engine='text-davinci-003',\n",
    "        prompt = dev_prepared['prompts_GPT3'].iloc[i],\n",
    "        temperature=0,\n",
    "        max_tokens=58,\n",
    "        top_p=1,\n",
    "    )\n",
    "    print(dev_prepared['prompts_instruct_GPT'].iloc[i])\n",
    "    print(response.choices[0].text)\n",
    "    print('==============================')"
   ],
   "metadata": {
    "collapsed": false,
    "pycharm": {
     "name": "#%%\n"
    }
   }
  },
  {
   "cell_type": "code",
   "execution_count": 11,
   "outputs": [
    {
     "data": {
      "text/plain": "                              gold_standard_explanation gold_standard_label  \\\n9594  Just because a lady is opening a present doesn...             neutral   \n3300    Does skateboard tricks implies on a skateboard.          entailment   \n7520                  A man observes must be examining.          entailment   \n840                      people are men and are friends             neutral   \n5854  A group of construction workers bears no resem...       contradiction   \n4680  Players can not be getting a drink during a ma...       contradiction   \n3349  Runners are people and they are in the forest ...          entailment   \n7153  The pamphlet may not be about photo shoot prep...             neutral   \n6639  Cowboy cannot control a horse and make cheese ...       contradiction   \n5352  The could have been taking it apart instead of...             neutral   \n\n                                   prompts_instruct_GPT  \\\n9594  Answer the Question and provide a reason why t...   \n3300  Answer the Question and provide a reason why t...   \n7520  Answer the Question and provide a reason why t...   \n840   Answer the Question and provide a reason why t...   \n5854  Answer the Question and provide a reason why t...   \n4680  Answer the Question and provide a reason why t...   \n3349  Answer the Question and provide a reason why t...   \n7153  Answer the Question and provide a reason why t...   \n6639  Answer the Question and provide a reason why t...   \n5352  Answer the Question and provide a reason why t...   \n\n                                           prompts_GPT3  \n9594  Premise: A man in a black t-shirt is standing ...  \n3300  Premise: An old woman wearing a white tank top...  \n7520  Premise: A woman with weird teeth sings out wh...  \n840   Premise: A boy with a black and white striped ...  \n5854  Premise: There is a large crowd lined up along...  \n4680  Premise: A family playing in the pool.\\nHypoth...  \n3349  Premise: An old man wearing gray sleeps in a s...  \n7153  Premise: A woman in an orange sweater have a d...  \n6639  Premise: Two shirtless young boys are posing f...  \n5352  Premise: 5 teenagers playing twister of some k...  ",
      "text/html": "<div>\n<style scoped>\n    .dataframe tbody tr th:only-of-type {\n        vertical-align: middle;\n    }\n\n    .dataframe tbody tr th {\n        vertical-align: top;\n    }\n\n    .dataframe thead th {\n        text-align: right;\n    }\n</style>\n<table border=\"1\" class=\"dataframe\">\n  <thead>\n    <tr style=\"text-align: right;\">\n      <th></th>\n      <th>gold_standard_explanation</th>\n      <th>gold_standard_label</th>\n      <th>prompts_instruct_GPT</th>\n      <th>prompts_GPT3</th>\n    </tr>\n  </thead>\n  <tbody>\n    <tr>\n      <th>9594</th>\n      <td>Just because a lady is opening a present doesn...</td>\n      <td>neutral</td>\n      <td>Answer the Question and provide a reason why t...</td>\n      <td>Premise: A man in a black t-shirt is standing ...</td>\n    </tr>\n    <tr>\n      <th>3300</th>\n      <td>Does skateboard tricks implies on a skateboard.</td>\n      <td>entailment</td>\n      <td>Answer the Question and provide a reason why t...</td>\n      <td>Premise: An old woman wearing a white tank top...</td>\n    </tr>\n    <tr>\n      <th>7520</th>\n      <td>A man observes must be examining.</td>\n      <td>entailment</td>\n      <td>Answer the Question and provide a reason why t...</td>\n      <td>Premise: A woman with weird teeth sings out wh...</td>\n    </tr>\n    <tr>\n      <th>840</th>\n      <td>people are men and are friends</td>\n      <td>neutral</td>\n      <td>Answer the Question and provide a reason why t...</td>\n      <td>Premise: A boy with a black and white striped ...</td>\n    </tr>\n    <tr>\n      <th>5854</th>\n      <td>A group of construction workers bears no resem...</td>\n      <td>contradiction</td>\n      <td>Answer the Question and provide a reason why t...</td>\n      <td>Premise: There is a large crowd lined up along...</td>\n    </tr>\n    <tr>\n      <th>4680</th>\n      <td>Players can not be getting a drink during a ma...</td>\n      <td>contradiction</td>\n      <td>Answer the Question and provide a reason why t...</td>\n      <td>Premise: A family playing in the pool.\\nHypoth...</td>\n    </tr>\n    <tr>\n      <th>3349</th>\n      <td>Runners are people and they are in the forest ...</td>\n      <td>entailment</td>\n      <td>Answer the Question and provide a reason why t...</td>\n      <td>Premise: An old man wearing gray sleeps in a s...</td>\n    </tr>\n    <tr>\n      <th>7153</th>\n      <td>The pamphlet may not be about photo shoot prep...</td>\n      <td>neutral</td>\n      <td>Answer the Question and provide a reason why t...</td>\n      <td>Premise: A woman in an orange sweater have a d...</td>\n    </tr>\n    <tr>\n      <th>6639</th>\n      <td>Cowboy cannot control a horse and make cheese ...</td>\n      <td>contradiction</td>\n      <td>Answer the Question and provide a reason why t...</td>\n      <td>Premise: Two shirtless young boys are posing f...</td>\n    </tr>\n    <tr>\n      <th>5352</th>\n      <td>The could have been taking it apart instead of...</td>\n      <td>neutral</td>\n      <td>Answer the Question and provide a reason why t...</td>\n      <td>Premise: 5 teenagers playing twister of some k...</td>\n    </tr>\n  </tbody>\n</table>\n</div>"
     },
     "execution_count": 11,
     "metadata": {},
     "output_type": "execute_result"
    }
   ],
   "source": [
    "dev_prepared"
   ],
   "metadata": {
    "collapsed": false,
    "pycharm": {
     "name": "#%%\n"
    }
   }
  },
  {
   "cell_type": "code",
   "execution_count": 23,
   "outputs": [
    {
     "name": "stdout",
     "output_type": "stream",
     "text": [
      "Premise: Two smiling women in costumes standing in front of a microphone.\n",
      "Hypothesis: The ladiesare standing in front a microphone have smile while doing jumping jacks\n",
      "Label: neutral\n",
      "Explanation: Because two women in costumes are smiling while standing in front of a microphone does not imply that they would do so while doing jumping jacks.\n",
      "###\n",
      "Premise: The boy wearing orange face paint is carrying a toy fish in around his next.\n",
      "Hypothesis: A boy carrying a toy fish\n",
      "Label: neutral\n",
      "Explanation: The boy could be anybody and not necessarily wearing orange face paint.\n",
      "###\n",
      "Premise: A man dressed in black is sitting on a seat in the subway station that has an opened black umbrella laying on the ground.\n",
      "Hypothesis: The man is waiting for the subway.\n",
      "Label: neutral\n",
      "Explanation: Just because the man is sitting on a seat in the subway station,  it doesn't imply he is waiting for the subway.\n",
      "###\n",
      "Premise: These two kids look like they are having fun just playing on the sidewalk.\n",
      "Hypothesis: Two kids look like they are having fun.\n",
      "Label: entailment\n",
      "Explanation: Two kids having fun just playing on the sidewalk is a rephrasing of \"Two kids having fun\".\n",
      "###\n",
      "Premise: A female in a green shirt standing while traffic passes.\n",
      "Hypothesis: The woman does not wait and walks into traffic.\n",
      "Label: contradiction\n",
      "Explanation: Female is either standing or walks.\n",
      "###\n",
      "Premise: The officer is standing near a bush.\n",
      "Hypothesis: The officer is sitting on the bench.\n",
      "Label: contradiction\n",
      "Explanation: An officer cannot be standing and sitting at the same time. A bush is not a bench.\n",
      "###\n",
      "Premise: A man is sitting on a short stool, with his back turned to the camera, facing some stacked orange and yellow crates.\n",
      "Hypothesis: The man is standing next to a table.\n",
      "Label: contradiction\n",
      "Explanation: A human cannot be sitting and standing at the same time.\n",
      "###\n",
      "Premise: Two men, one in a suit and one in blue sweats, stand a few feet from one another in a building.\n",
      "Hypothesis: The two men are sitting on the couch.\n",
      "Label: contradiction\n",
      "Explanation: Men cannot be standing and sitting simultaneously.\n",
      "###\n",
      "Premise: A black man wearing a bandanna and sunglasses raising his arms\n",
      "Hypothesis: The man has arms.\n",
      "Label: entailment\n",
      "Explanation: if man is raising arms he has them and a man can be black.\n",
      "###\n",
      "Premise: A man is standing outside the glass doors of an art center.\n",
      "Hypothesis: The art center is large.\n",
      "Label: neutral\n",
      "Explanation: A man is standing outside the glass doors of an art center does not necessary that the art center is large.\n",
      "###\n",
      "Premise: Little girl in pink coat on a swing.\n",
      "Hypothesis: Little girl swinging.\n",
      "Label: entailment\n",
      "Explanation: The little girl on the swing is wearing a pink coat.\n",
      "###\n",
      "Premise: A silhouette of a man in the background on a snowy hill.\n",
      "Hypothesis: A man is outside with skis on a hill\n",
      "Label: neutral\n",
      "Explanation: A man can be on a snowy hill without skis.\n",
      "###\n",
      "Premise: A skateboarder without a shirt grabs his board in the air.\n",
      "Hypothesis: The skateboarder wears red shorts.\n",
      "Label: neutral\n",
      "Explanation: Not wearing a shirt doesn't imply wearing pants. Even if it did, red can't be implied as any color is just as likely.\n",
      "###\n",
      "Premise: A band is playing at an outdoor music festival.\n",
      "Hypothesis: A group of musician are performing a concert.\n",
      "Label: neutral\n",
      "Explanation: A band can play at an outdoor music festival without performing in the form of a concert.\n",
      "###\n",
      "Premise: A bearded man wearing glasses, a red shirt, and a hat is reading a map while sitting in a car.\n",
      "Hypothesis: A man sits inside a car.\n",
      "Label: entailment\n",
      "Explanation: sits is another form of sitting\n",
      "###\n",
      "Premise: A Pug dog is standing up on two legs looking over a stone wall.\n",
      "Hypothesis: A bulldog is sitting down.\n",
      "Label: contradiction\n",
      "Explanation: Either the dog's breed is pug or bulldog. Either the dog is standing on two legs or sitting down. It cannot be two separate breeds, nor can it physically stand and sit at the same time.\n",
      "###\n",
      "Premise: A couple walks down a dirt street.\n",
      "Hypothesis: A couple walk together down road while a carriage drives past them.\n",
      "Label: neutral\n",
      "Explanation: The street could have been empty with no carriage in sight.\n",
      "###\n",
      "Premise: A bike in a field and two kites\n",
      "Hypothesis: A man is riding his bike while flying his two kites.\n",
      "Label: neutral\n",
      "Explanation: Just because there is a bike in a field doesn't mean a man is riding the bike. Just because there are two kites doesn't mean a man is flying the kites.\n",
      "###\n",
      "Premise: Two people are having a conversation, while sitting on a curb.\n",
      "Hypothesis: People having conversation on a curb.\n",
      "Label: neutral\n",
      "Explanation: only two people having conversation\n",
      "###\n",
      "Premise: Little boy being silly jumping in the lake.\n",
      "Hypothesis: A boy sleeping on the beach.\n",
      "Label: contradiction\n",
      "Explanation: Jumping and sleeping cannot be done at the same time.\n",
      "###\n",
      "Premise: A man wearing a green coat and plaid scarf, is wearing spectacles and reading a book behind a blue backdrop.\n",
      "Hypothesis: A man in a green coat is wearing glasses.\n",
      "Label: entailment\n",
      "Explanation: Glasses is another form of the word spectacles.\n",
      "###\n",
      "Premise: Shirtless man wearing rollerskates in a large crowd with a sweat towel that reads \"just love me\".\n",
      "Hypothesis: A man skates in a crowd.\n",
      "Label: entailment\n",
      "Explanation: Rollerskates implies skates\n",
      "###\n",
      "Premise: A crowd of people gather nearby to watch the parade.\n",
      "Hypothesis: A crowd watches a parade.\n",
      "Label: entailment\n",
      "Explanation: Gather to watch and watches are similar actions\n",
      "###\n",
      "Premise: An unhappy looking child lays in the grass at a park.\n",
      "Hypothesis: A child is in the park alone and sad she has no friends.\n",
      "Label: neutral\n",
      "Explanation: An unhappy child at the park isn't necessarily alone.\n",
      "###\n",
      "Premise: A competitor does a pole vault.\n",
      "Hypothesis: This man is training for hurdles.\n",
      "Label: contradiction\n",
      "Explanation: One cannot be doing a pole vault and training for the hurdles at once.\n",
      "###\n",
      "Premise: The band is playing music in this city.\n",
      "Hypothesis: The band is in the city.\n",
      "Label: entailment\n",
      "Explanation: There is a band in the city.\n",
      "###\n",
      "Premise: A pitcher is about to throw a baseball.\n",
      "Hypothesis: A person playing baseball\n",
      "Label: entailment\n",
      "Explanation: A pitcher is a person, and throw a baseball shows playing baseball.\n",
      "###\n",
      "Premise: Two children playing in a kitchen with fly swatters.\n",
      "Hypothesis: Two kids are in the kitchen.\n",
      "Label: entailment\n",
      "Explanation: Children are kids.\n",
      "###\n",
      "Premise: A large group of teenagers mill around on a patio.\n",
      "Hypothesis: Some teenagers are playing in a football field.\n",
      "Label: contradiction\n",
      "Explanation: A football field is not a patio.\n",
      "###\n",
      "Premise: A man with an electric guitar and long hair leans towards another musician.\n",
      "Hypothesis: A man leans towards another musician.\n",
      "Label: entailment\n",
      "Explanation: A man with an electric guitar and long hair implies that he is a man.\n",
      "###\n",
      "Premise: A woman holds a blow dryer near a sad looking dog on linoleum tile.\n",
      "Hypothesis: A dog is barking and running through a field.\n",
      "Label: contradiction\n",
      "Explanation: There isn't linoleum tile on a field.\n",
      "###\n",
      "Premise: Two men are working on bicycles.\n",
      "Hypothesis: They work in a bicycle repair shop.\n",
      "Label: neutral\n",
      "Explanation: Working on bicycles would not have to take place in a bicycle repair shop.\n",
      "###\n",
      "Premise: A painted African warrior holds a rifle on his shoulder while he stands with another African woman who is wearing layers of beads around her neck.\n",
      "Hypothesis: The African chief goes to the airport unarmed.\n",
      "Label: contradiction\n",
      "Explanation: If the African warrior is holding a rifle then he is not unarmed.\n",
      "###\n",
      "Premise: Two people are in a garage, while one is pouring out a bag.\n",
      "Hypothesis: someone pours out food from a bag\n",
      "Label: neutral\n",
      "Explanation: You need not pour out food only every time you pour out a bag.\n",
      "###\n",
      "Premise: The magician is doing a magic trick.\n",
      "Hypothesis: The band performs their song.\n",
      "Label: contradiction\n",
      "Explanation: A magician is not the same profession as a band.\n",
      "###\n",
      "Premise: Young girl wearing gray and pink sweater and leather boots shields her face from the camera.\n",
      "Hypothesis: The girl is wearing sandals and blue sweater.\n",
      "Label: contradiction\n",
      "Explanation: A color can either be gray and pink or blue. Footwear can either be boots or sandals.\n",
      "###\n",
      "Premise: A lady in a red shirt and white pants is standing on a trashcan trying to take pictures.\n",
      "Hypothesis: The lady is wearing clothing.\n",
      "Label: entailment\n",
      "Explanation: A lady is wearing clothing if she is wearing a red shirt and white pants.\n",
      "###\n",
      "Premise: A big black dog chases a big brown dog with a green object in his mouth while another big brown dog tags behind.\n",
      "Hypothesis: Dogs are playing outside.\n",
      "Label: entailment\n",
      "Explanation: A black dog and two brown dogs are multiple dogs.  If a dog has an object in its mouth, then they are playing.  Multiple dogs are usually found outside.\n",
      "###\n",
      "Premise: Three construction workers wearing white hats and neon green vests stand against boating rail while a bridge and city sit in the background.\n",
      "Hypothesis: Three construction workers wearing white hats and neon green vests fight in an underground boxing ring.\n",
      "Label: contradiction\n",
      "Explanation: A boating rail while a bridge and city sit in the background is not an underground boxing ring.\n",
      "###\n",
      "Premise: Man working on old truck while child watches.\n",
      "Hypothesis: A child watching a man fixing a truck.\n",
      "Label: entailment\n",
      "Explanation: fixing a truck is the same as working on an old truck\n",
      "###\n",
      "Premise: A woman in a white tank top and jean shorts walks down a sandy sidewalk.\n",
      "Hypothesis: A woman wears a white tank top and a yellow braid.\n",
      "Label: neutral\n",
      "Explanation: Answer: A tank top  need not be worn only with a jean shorts it can also be worn with a braid\n",
      "###\n",
      "Premise: Children climb a tall structure and gather at the top in an obstacle challenge.\n",
      "Hypothesis: Children are climbing something.\n",
      "Label: entailment\n",
      "Explanation: Answer: Somethings refers to the obstacle challenge\n",
      "###\n",
      "Premise: A Bobcat tractor scoops up some land.\n",
      "Hypothesis: The tractor is turned off.\n",
      "Label: contradiction\n",
      "Explanation: The tractor scoops up land or is turned off.\n",
      "###\n",
      "Premise: A guy on the edge of the water dressed in green doing arm pushup\n",
      "Hypothesis: The soldier is doing arm pushups.\n",
      "Label: neutral\n",
      "Explanation: A person who wears green is not always a soldier.\n",
      "###\n",
      "Premise: There is a marching band, the man closet to the camera is wearing red and is playing the drums.\n",
      "Hypothesis: The man close to the camera is playing drums.\n",
      "Label: entailment\n",
      "Explanation: man implies   man\n",
      "###\n",
      "Premise: A man wearing a black jacket is working on a roof.\n",
      "Hypothesis: A man works on a roof on a cool day.\n",
      "Label: neutral\n",
      "Explanation: The fact that a man wearing a black jacket is working on a roof doesn't necessarily mean he is working on a cool day.\n",
      "###\n",
      "Premise: A young girl wearing jeans and a white shirt is standing on grass holding dandelions in her hands.\n",
      "Hypothesis: The girl is wearing a dress.\n",
      "Label: contradiction\n",
      "Explanation: The young girl under reference is wearing jeans and a white shirt and so cannot be wearing a dress at the same instance.\n",
      "###\n",
      "Premise: A group of kids enjoy snacks and are playing a board game together.\n",
      "Hypothesis: There are children running in the snow.\n",
      "Label: contradiction\n",
      "Explanation: The children can only be either running in the snow, or they enjoy snacks and are playing a board game.\n",
      "###\n",
      "Premise: A lady in a red sweatshirt opening a present.\n",
      "Hypothesis: It is the lady's birthday.\n",
      "Label: \n",
      " neutral\n",
      "Explanation: Just because the lady is opening a present does not necessarily mean it is her birthday.\n"
     ]
    }
   ],
   "source": [
    "response = openai.Completion.create(\n",
    "    engine='text-davinci-003',\n",
    "    #prompt=list(dev_prepared.prompts_instruct_GPT.iloc[1]),\n",
    "    prompt = dev_prepared.head()['prompts_GPT3'].iloc[0],\n",
    "    temperature=0,\n",
    "    max_tokens=58,\n",
    "    top_p=1,\n",
    ")\n",
    "print(dev_prepared.head()['prompts_GPT3'].iloc[0])\n",
    "print(response.choices[0].text)"
   ],
   "metadata": {
    "collapsed": false,
    "pycharm": {
     "name": "#%%\n"
    }
   }
  },
  {
   "cell_type": "code",
   "execution_count": null,
   "outputs": [],
   "source": [
    "results = pd.DataFrame()\n",
    "for col_name in dev_prepared.columns.values[2:]:\n",
    "    for temp_train in [0, 0.5, 1]:\n",
    "        response = openai.Completion.create(\n",
    "            engine='text-davinci-003',\n",
    "            prompt=list(dev_prepared[col_name]),\n",
    "            temp_trainerature=temp_train,\n",
    "            max_tokens=58,\n",
    "            top_p=1,\n",
    "        )\n",
    "        try:\n",
    "            preds = [re.findall('Explanation:.+', response.choices[i].text)[0].replace('Explanation: ', '') for i in range(len(response.choices))]\n",
    "        except:\n",
    "            preds = [response.choices[i].text.strip() for i in range(len(response.choices))]\n",
    "        results['pred_temp_trainerature_' + str(temp_train) + '_' + col_name] = preds"
   ],
   "metadata": {
    "collapsed": false,
    "pycharm": {
     "name": "#%%\n"
    }
   }
  },
  {
   "cell_type": "code",
   "execution_count": null,
   "outputs": [],
   "source": [
    "results.head()"
   ],
   "metadata": {
    "collapsed": false,
    "pycharm": {
     "name": "#%%\n"
    }
   }
  },
  {
   "cell_type": "code",
   "execution_count": null,
   "outputs": [],
   "source": [
    "results.to_csv('output_data/predsictions.csv', sep=';')"
   ],
   "metadata": {
    "collapsed": false,
    "pycharm": {
     "name": "#%%\n"
    }
   }
  },
  {
   "cell_type": "code",
   "execution_count": null,
   "outputs": [],
   "source": [
    "F1_means = dict()\n",
    "for col_name in results.columns.values:\n",
    "    P, R, F1 = score(list(results[col_name]), list(dev_prepared['gold_standard_explanation']), lang=\"en\", verbose=False)\n",
    "    F1_means[col_name] = F1.mean().item()\n",
    "print(F1_means)"
   ],
   "metadata": {
    "collapsed": false,
    "pycharm": {
     "name": "#%%\n"
    }
   }
  },
  {
   "cell_type": "code",
   "execution_count": null,
   "outputs": [],
   "source": [
    "F1_means"
   ],
   "metadata": {
    "collapsed": false,
    "pycharm": {
     "name": "#%%\n"
    }
   }
  },
  {
   "cell_type": "code",
   "execution_count": null,
   "outputs": [],
   "source": [],
   "metadata": {
    "collapsed": false,
    "pycharm": {
     "name": "#%%\n"
    }
   }
  },
  {
   "cell_type": "code",
   "execution_count": null,
   "outputs": [],
   "source": [],
   "metadata": {
    "collapsed": false,
    "pycharm": {
     "name": "#%%\n"
    }
   }
  },
  {
   "cell_type": "code",
   "execution_count": null,
   "outputs": [],
   "source": [],
   "metadata": {
    "collapsed": false,
    "pycharm": {
     "name": "#%%\n"
    }
   }
  },
  {
   "cell_type": "code",
   "execution_count": 21,
   "outputs": [],
   "source": [
    "gpt3_esnli_label_mapping = {0: 'Yes', 1: 'Maybe', 2: 'No'}  # Tried True, False, Neither but this works better.\n",
    "gpt3_t5_esnli_label_mapping = {'Yes': 'entailment', 'Maybe': 'neutral', 'No': 'contradiction'}\n",
    "\n",
    "gpt3_sbic_label_mapping = {\"offensive\": 'Yes', \"not offensive\": 'No'}\n",
    "\n",
    "\n",
    "def _get_task_description(task):\n",
    "    if task == 'sbic':\n",
    "        return \"Is the following post offensive? and why?\\n\"\n",
    "    elif task == 'esnli':\n",
    "        return \"Answer the question and provide a reason why the answer is correct.\\n\"\n",
    "    elif task == 'cos_e':\n",
    "        return \"Answer the question from the provided choices, and provide a reason why the answer is correct.\\n\"\n",
    "    elif task == 'sensemaking':\n",
    "        return \"Which of the two choices makes more sense? and why?\\n\"\n",
    "    else:\n",
    "        assert False\n",
    "\n",
    "\n",
    "def _convert_instance_to_prompt(instance, task):\n",
    "    if task == 'sbic':\n",
    "        post = instance['post'].replace('\\n', ' ')  # a few posts have new lines\n",
    "        input = f\"Post: {post}\\n\"\\\n",
    "                \"Answer:\"\n",
    "        output = f\" {gpt3_sbic_label_mapping[instance['offensiveYN']]}\\n\"\\\n",
    "                 f\"Reason: {instance['targetStereotype']}\\n\"\\\n",
    "                 \"###\\n\"\n",
    "    elif task == 'esnli':\n",
    "        input = f\"{instance['premise']}\\n\"\\\n",
    "                f\"Question: Is {instance['hypothesis'].lower().replace('.', '')}?\\n\"\\\n",
    "                \"Answer:\"\n",
    "        output = f\" {instance['label']}\\n\"\\\n",
    "                 f\"Reason: {instance['explanation_1']}\\n\"\\\n",
    "                 \"###\\n\"\n",
    "    elif task == 'cos_e':\n",
    "        choices = ', '.join(instance['choices'])\n",
    "        input = f\"Question: {instance['question']}\\n\"\\\n",
    "                f\"Choices: {choices}\\n\"\\\n",
    "                \"Answer:\"\n",
    "        output = f\" {instance['answer']}\\n\"\\\n",
    "                 f\"Reason: {instance['abstractive_explanation']}\\n\"\\\n",
    "                 \"###\\n\"\n",
    "    elif task == 'sensemaking':\n",
    "        input = f\"choice1: {instance['sent0']}\\n\"\\\n",
    "                f\"choice2: {instance['sent1']}\\n\"\\\n",
    "                \"Answer:\"\n",
    "        # flip choices to select the one that makes \"more\" sense. GPT3 works much better with this prompt\n",
    "        label = 1 if instance['label'] == 1 else 2\n",
    "        output = f\" choice{label}\\n\"\\\n",
    "                 f\"Reason: {instance['explanation']}\\n\"\\\n",
    "                 \"###\\n\"\n",
    "    else:\n",
    "        assert False\n",
    "\n",
    "    return input, output\n",
    "\n",
    "\n",
    "def _parse_response(response_text, task):\n",
    "    if task in ['cos_e', 'esnli', 'sensemaking', 'sbic']:\n",
    "        if 'Reason:' not in response_text:\n",
    "            print('Invalid output format')  # rarely happens\n",
    "            pred_answer = 'wrong'\n",
    "            pred_explanation = response_text.replace('\\n', '')\n",
    "        else:\n",
    "            splits = response_text.split('Reason:', 1)\n",
    "            pred_answer = splits[0].strip()\n",
    "            pred_explanation = splits[1].strip()\n",
    "            pred_explanation = pred_explanation.split('\\n')[0]\n",
    "            if task == 'esnli':\n",
    "                pred_answer = gpt3_t5_esnli_label_mapping.get(pred_answer) or pred_answer\n",
    "            if task == 'sensemaking':\n",
    "                # flip it back\n",
    "                pred_answer = pred_answer.replace('1', '2') if '1' in pred_answer else pred_answer.replace('2', '1')\n",
    "    else:\n",
    "        assert False\n",
    "\n",
    "    return pred_answer, pred_explanation"
   ],
   "metadata": {
    "collapsed": false,
    "pycharm": {
     "name": "#%%\n"
    }
   }
  },
  {
   "cell_type": "code",
   "execution_count": 23,
   "outputs": [
    {
     "name": "stderr",
     "output_type": "stream",
     "text": [
      "/var/folders/lp/djryk53n11b_ww_n9xbjm4s80000gn/T/ipykernel_10270/296744828.py:2: SettingWithCopyWarning: \n",
      "A value is trying to be set on a copy of a slice from a DataFrame.\n",
      "Try using .loc[row_indexer,col_indexer] = value instead\n",
      "\n",
      "See the caveats in the documentation: https://pandas.pydata.org/pandas-docs/stable/user_guide/indexing.html#returning-a-view-versus-a-copy\n",
      "  temp_train[\"premise\"] = temp_train[\"Sentence1\"]\n",
      "/var/folders/lp/djryk53n11b_ww_n9xbjm4s80000gn/T/ipykernel_10270/296744828.py:3: SettingWithCopyWarning: \n",
      "A value is trying to be set on a copy of a slice from a DataFrame.\n",
      "Try using .loc[row_indexer,col_indexer] = value instead\n",
      "\n",
      "See the caveats in the documentation: https://pandas.pydata.org/pandas-docs/stable/user_guide/indexing.html#returning-a-view-versus-a-copy\n",
      "  temp_train[\"hypothesis\"] = temp_train[\"Sentence2\"]\n",
      "/var/folders/lp/djryk53n11b_ww_n9xbjm4s80000gn/T/ipykernel_10270/296744828.py:4: SettingWithCopyWarning: \n",
      "A value is trying to be set on a copy of a slice from a DataFrame.\n",
      "Try using .loc[row_indexer,col_indexer] = value instead\n",
      "\n",
      "See the caveats in the documentation: https://pandas.pydata.org/pandas-docs/stable/user_guide/indexing.html#returning-a-view-versus-a-copy\n",
      "  temp_train[\"label\"] = temp_train[\"gold_label\"]\n",
      "/var/folders/lp/djryk53n11b_ww_n9xbjm4s80000gn/T/ipykernel_10270/296744828.py:5: SettingWithCopyWarning: \n",
      "A value is trying to be set on a copy of a slice from a DataFrame.\n",
      "Try using .loc[row_indexer,col_indexer] = value instead\n",
      "\n",
      "See the caveats in the documentation: https://pandas.pydata.org/pandas-docs/stable/user_guide/indexing.html#returning-a-view-versus-a-copy\n",
      "  temp_train[\"explanation_1\"] = temp_train[\"Explanation_1\"]\n",
      "/var/folders/lp/djryk53n11b_ww_n9xbjm4s80000gn/T/ipykernel_10270/296744828.py:8: SettingWithCopyWarning: \n",
      "A value is trying to be set on a copy of a slice from a DataFrame.\n",
      "Try using .loc[row_indexer,col_indexer] = value instead\n",
      "\n",
      "See the caveats in the documentation: https://pandas.pydata.org/pandas-docs/stable/user_guide/indexing.html#returning-a-view-versus-a-copy\n",
      "  temp_test[\"premise\"] = temp_test[\"Sentence1\"]\n",
      "/var/folders/lp/djryk53n11b_ww_n9xbjm4s80000gn/T/ipykernel_10270/296744828.py:9: SettingWithCopyWarning: \n",
      "A value is trying to be set on a copy of a slice from a DataFrame.\n",
      "Try using .loc[row_indexer,col_indexer] = value instead\n",
      "\n",
      "See the caveats in the documentation: https://pandas.pydata.org/pandas-docs/stable/user_guide/indexing.html#returning-a-view-versus-a-copy\n",
      "  temp_test[\"hypothesis\"] = temp_test[\"Sentence2\"]\n",
      "/var/folders/lp/djryk53n11b_ww_n9xbjm4s80000gn/T/ipykernel_10270/296744828.py:10: SettingWithCopyWarning: \n",
      "A value is trying to be set on a copy of a slice from a DataFrame.\n",
      "Try using .loc[row_indexer,col_indexer] = value instead\n",
      "\n",
      "See the caveats in the documentation: https://pandas.pydata.org/pandas-docs/stable/user_guide/indexing.html#returning-a-view-versus-a-copy\n",
      "  temp_test[\"label\"] = temp_test[\"gold_label\"]\n",
      "/var/folders/lp/djryk53n11b_ww_n9xbjm4s80000gn/T/ipykernel_10270/296744828.py:11: SettingWithCopyWarning: \n",
      "A value is trying to be set on a copy of a slice from a DataFrame.\n",
      "Try using .loc[row_indexer,col_indexer] = value instead\n",
      "\n",
      "See the caveats in the documentation: https://pandas.pydata.org/pandas-docs/stable/user_guide/indexing.html#returning-a-view-versus-a-copy\n",
      "  temp_test[\"explanation_1\"] = temp_test[\"Explanation_1\"]\n"
     ]
    }
   ],
   "source": [
    "temp_train = train.head()\n",
    "temp_train[\"premise\"] = temp_train[\"Sentence1\"]\n",
    "temp_train[\"hypothesis\"] = temp_train[\"Sentence2\"]\n",
    "temp_train[\"label\"] = temp_train[\"gold_label\"]\n",
    "temp_train[\"explanation_1\"] = temp_train[\"Explanation_1\"]\n",
    "\n",
    "temp_test = test.head()\n",
    "temp_test[\"premise\"] = temp_test[\"Sentence1\"]\n",
    "temp_test[\"hypothesis\"] = temp_test[\"Sentence2\"]\n",
    "temp_test[\"label\"] = temp_test[\"gold_label\"]\n",
    "temp_test[\"explanation_1\"] = temp_test[\"Explanation_1\"]\n",
    "\n",
    "task = \"esnli\"\n",
    "task_description = _get_task_description(task)\n",
    "train_prompts = [_convert_instance_to_prompt(temp_train.iloc[i], task) for i in range(temp_train.shape[0])]\n",
    "test_prompts = [_convert_instance_to_prompt(temp_test.iloc[i], task) for i in range(temp_test.shape[0])]"
   ],
   "metadata": {
    "collapsed": false,
    "pycharm": {
     "name": "#%%\n"
    }
   }
  },
  {
   "cell_type": "code",
   "execution_count": 24,
   "outputs": [
    {
     "data": {
      "text/plain": "('A person on a horse jumps over a broken down airplane.\\nQuestion: Is a person is training his horse for a competition?\\nAnswer:',\n ' neutral\\nReason: the person is not necessarily training his horse\\n###\\n')"
     },
     "execution_count": 24,
     "metadata": {},
     "output_type": "execute_result"
    }
   ],
   "source": [
    "train_prompts[0]"
   ],
   "metadata": {
    "collapsed": false,
    "pycharm": {
     "name": "#%%\n"
    }
   }
  },
  {
   "cell_type": "code",
   "execution_count": 25,
   "outputs": [
    {
     "data": {
      "text/plain": "('This church choir sings to the masses as they sing joyous songs from the book at a church.\\nQuestion: Is the church has cracks in the ceiling?\\nAnswer:',\n ' neutral\\nReason: Not all churches have cracks in the ceiling\\n###\\n')"
     },
     "execution_count": 25,
     "metadata": {},
     "output_type": "execute_result"
    }
   ],
   "source": [
    "test_prompts[0]"
   ],
   "metadata": {
    "collapsed": false,
    "pycharm": {
     "name": "#%%\n"
    }
   }
  },
  {
   "cell_type": "code",
   "execution_count": 32,
   "outputs": [
    {
     "data": {
      "text/plain": "(9842, 19)"
     },
     "execution_count": 32,
     "metadata": {},
     "output_type": "execute_result"
    }
   ],
   "source": [
    "dev.shape"
   ],
   "metadata": {
    "collapsed": false,
    "pycharm": {
     "name": "#%%\n"
    }
   }
  }
 ],
 "metadata": {
  "kernelspec": {
   "display_name": "Python 3",
   "language": "python",
   "name": "python3"
  },
  "language_info": {
   "codemirror_mode": {
    "name": "ipython",
    "version": 2
   },
   "file_extension": ".py",
   "mimetype": "text/x-python",
   "name": "python",
   "nbconvert_exporter": "python",
   "pygments_lexer": "ipython2",
   "version": "2.7.6"
  }
 },
 "nbformat": 4,
 "nbformat_minor": 0
}