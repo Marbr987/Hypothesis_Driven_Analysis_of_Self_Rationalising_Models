{
 "cells": [
  {
   "cell_type": "markdown",
   "source": [
    "# Setup"
   ],
   "metadata": {
    "collapsed": false,
    "pycharm": {
     "name": "#%% md\n"
    }
   }
  },
  {
   "cell_type": "markdown",
   "source": [
    "## Load Packages"
   ],
   "metadata": {
    "collapsed": false,
    "pycharm": {
     "name": "#%% md\n"
    }
   }
  },
  {
   "cell_type": "code",
   "execution_count": 1,
   "outputs": [
    {
     "data": {
      "text/plain": "True"
     },
     "execution_count": 1,
     "metadata": {},
     "output_type": "execute_result"
    }
   ],
   "source": [
    "import random\n",
    "import pandas as pd\n",
    "import numpy as np\n",
    "import matplotlib.pyplot as plt\n",
    "import transformers\n",
    "import os\n",
    "import openai\n",
    "import re\n",
    "from helper_funcs import prepare_examples, create_query\n",
    "from dotenv import load_dotenv\n",
    "\n",
    "load_dotenv()"
   ],
   "metadata": {
    "collapsed": false,
    "pycharm": {
     "name": "#%%\n"
    }
   }
  },
  {
   "cell_type": "markdown",
   "source": [
    "## Prepare Data"
   ],
   "metadata": {
    "collapsed": false,
    "pycharm": {
     "name": "#%% md\n"
    }
   }
  },
  {
   "cell_type": "code",
   "execution_count": 2,
   "outputs": [],
   "source": [
    "train1 = pd.read_csv('../Input_Data/e-SNLI/dataset/esnli_train_1.csv')\n",
    "train2 = pd.read_csv('../Input_Data/e-SNLI/dataset/esnli_train_2.csv')\n",
    "train = pd.concat([train1, train2])\n",
    "dev = pd.read_csv('../Input_Data/e-SNLI/dataset/esnli_dev.csv')\n",
    "test = pd.read_csv('../Input_Data/e-SNLI/dataset/esnli_test.csv')"
   ],
   "metadata": {
    "collapsed": false,
    "pycharm": {
     "name": "#%%\n"
    }
   }
  },
  {
   "cell_type": "code",
   "execution_count": 3,
   "outputs": [
    {
     "data": {
      "text/plain": "(9842, 19)"
     },
     "execution_count": 3,
     "metadata": {},
     "output_type": "execute_result"
    }
   ],
   "source": [
    "dev.shape"
   ],
   "metadata": {
    "collapsed": false,
    "pycharm": {
     "name": "#%%\n"
    }
   }
  },
  {
   "cell_type": "code",
   "execution_count": 4,
   "outputs": [],
   "source": [
    "train = train.dropna(subset=['Sentence1', 'Sentence2', 'Explanation_1'])\n",
    "train = train.reset_index(drop=True)"
   ],
   "metadata": {
    "collapsed": false,
    "pycharm": {
     "name": "#%%\n"
    }
   }
  },
  {
   "cell_type": "code",
   "execution_count": 9,
   "outputs": [],
   "source": [
    "n_dev = 1 # number of dev data points\n",
    "\n",
    "np.random.seed(12345) # seed for numpy package\n",
    "random.seed(12345) # seed for random package\n",
    "dev_indices = list(np.random.choice(dev.index.values, size=n_dev, replace=False))\n",
    "prompts_instruct_GPT = [prepare_examples(train, size_per_class=12, style=\"Zhengetal\") + create_query(dev.loc[i]) for i in dev_indices]\n",
    "prompts_GPT3 = [prepare_examples(train, size_per_class=16) + create_query(dev.loc[i]) for i in dev_indices]"
   ],
   "metadata": {
    "collapsed": false,
    "pycharm": {
     "name": "#%%\n"
    }
   }
  },
  {
   "cell_type": "code",
   "execution_count": 10,
   "outputs": [],
   "source": [
    "dev_prepared = pd.DataFrame()\n",
    "dev_prepared['gold_standard_explanation'] = dev.loc[dev_indices].Explanation_1\n",
    "dev_prepared['gold_standard_label'] = dev.loc[dev_indices].gold_label\n",
    "dev_prepared['prompts_instruct_GPT'] = prompts_instruct_GPT\n",
    "dev_prepared['prompts_GPT3'] = prompts_GPT3"
   ],
   "metadata": {
    "collapsed": false,
    "pycharm": {
     "name": "#%%\n"
    }
   }
  },
  {
   "cell_type": "code",
   "execution_count": 11,
   "outputs": [
    {
     "name": "stdout",
     "output_type": "stream",
     "text": [
      "Answer the Question and provide a reason why the answer is correct.\n",
      "\n",
      "An gentleman selling items on the beach.\n",
      "Question: Is the man is djing a parting?\n",
      "Answer: No\n",
      "Reason: We don't know the man is a genleman, and he can't be selling items and djing a parting simultaneously.\n",
      "###\n",
      "A little boy in a white shirt and jeans sticks his fingers in his mouth.\n",
      "Question: Is a boy is at the dentist office?\n",
      "Answer: Maybe\n",
      "Reason: Sticks his fingers in his mouth does not imply he is at the dentist office.\n",
      "###\n",
      "The white poodle dog is coming out of a blue tent.\n",
      "Question: Is a white poodle is going to pee?\n",
      "Answer: Maybe\n",
      "Reason: Answer :Just because the dog is coming out of a tent does not mean that the dog is going  to pee.\n",
      "###\n",
      "Two young women are sitting on a curb and chatting.\n",
      "Question: Is two boys are talking on the phone?\n",
      "Answer: No\n",
      "Reason: The women can't be boys.\n",
      "###\n",
      "A young boy in blue sports pajamas is in front of a christmas tree with white lights.\n",
      "Question: Is the boy is excited for christmas morning?\n",
      "Answer: Maybe\n",
      "Reason: Specified that it's Christmas morning.\n",
      "###\n",
      "A red dog, jumping in midair, on a grassy backyard, shot from behind.\n",
      "Question: Is the dog jumped in the air to dodge a bullet?\n",
      "Answer: Maybe\n",
      "Reason: Not every dog that jumps in the air is trying to dodge a bullet.\n",
      "###\n",
      "There is some greenery and people enjoying the outdoors.\n",
      "Question: Is a crowd of people are waiting to get on the subway?\n",
      "Answer: No\n",
      "Reason: They can't be enjoying the outdoors and on the subway at the same time.\n",
      "###\n",
      "A large crowd watching something while some people dance together in front of a blue stage.\n",
      "Question: Is there are people inside a building?\n",
      "Answer: Maybe\n",
      "Reason: It cannot be determined that the large crowd mentioned in sentence 1 are inside a building.  There is no mention of dancing and a blue stage in sentence 2.  People are not always a large crowd.\n",
      "###\n",
      "Shadowy people walk in front of the glass panels of an escalator.\n",
      "Question: Is people walk in front of an elevator?\n",
      "Answer: Yes\n",
      "Reason: In both sentences, people are walking in front of devices that move people between floors of a public building.\n",
      "###\n",
      "A dog chases a stuffed animal attached to a string.\n",
      "Question: Is a dog chases a plushie attatched to a rope?\n",
      "Answer: Yes\n",
      "Reason: dog chases a stuffed animal simply means dog chases a plushie\n",
      "###\n",
      "People walk between shops and under advertising signs.\n",
      "Question: Is people are walking along shops and storefronts?\n",
      "Answer: Yes\n",
      "Reason: Between shops refers to along shops.\n",
      "###\n",
      "A orange and yellow ambulance on a street next to a crane.\n",
      "Question: Is a police car is driving?\n",
      "Answer: No\n",
      "Reason: Police car is different than ambulance.\n",
      "###\n",
      "Two young men are inspecting a vat and pipes on a dock or harbor.\n",
      "Question: Is the men work at the docks?\n",
      "Answer: Maybe\n",
      "Reason: The two men are inspecting on a dock or harbor but there is no indication that they are employees that work at the docks.\n",
      "###\n",
      "A horse walking by the side of the water pulling something.\n",
      "Question: Is the horse hauls barrels of beer?\n",
      "Answer: Maybe\n",
      "Reason: A horse can pull any number of things, there is no reason to believe it is barrels of beer.\n",
      "###\n",
      "A woman in a black and orange jacket throws a stick for a brown and black dog to fetch.\n",
      "Question: Is a woman is brushing her dog?\n",
      "Answer: No\n",
      "Reason: A woman who throws a stick for a dog to fetch cannot simultaneously be brushing her dog\n",
      "###\n",
      "A man in white khakis, a white hat, a black t-shirt, and a gray vest and a young boy in a white t-shirt and dark colored shorts appear to be fishing or looking for precious gems in muddy water.\n",
      "Question: Is a man and his son looking for gems in water?\n",
      "Answer: Maybe\n",
      "Reason: You cant infer that the young boy is the mans son\n",
      "###\n",
      "The man and woman are drinking out of canning jars.\n",
      "Question: Is the man and woman are drinking alcohol?\n",
      "Answer: Maybe\n",
      "Reason: A couple is drinking alcohol at restaurant\n",
      "###\n",
      "A red-haired girl holding an animal.\n",
      "Question: Is a boy is holding a toy?\n",
      "Answer: No\n",
      "Reason: One cannot be holding an animal while holding a toy.\n",
      "###\n",
      "A group of people enjoying an intimate concert.\n",
      "Question: Is there is music playing?\n",
      "Answer: Yes\n",
      "Reason: music is playing in a concert.\n",
      "###\n",
      "Little boys in white karate uniforms performing their martial arts indoors.\n",
      "Question: Is the little boys wear pajamas?\n",
      "Answer: No\n",
      "Reason: Pajamas are not karate uniforms.\n",
      "###\n",
      "A man and a woman share a kiss on the beach.\n",
      "Question: Is two men hug at the beach?\n",
      "Answer: No\n",
      "Reason: A man and a woman are not two man.\n",
      "###\n",
      "Four young trendy women sitting and talking in a public place.\n",
      "Question: Is four women are sitting and arguing in public?\n",
      "Answer: Maybe\n",
      "Reason: Not all talking is arguing.\n",
      "###\n",
      "Two children on swings with a woman pushing them\n",
      "Question: Is there are children watching a movie?\n",
      "Answer: No\n",
      "Reason: Children can't be on swings and watching a movie at the same time.\n",
      "###\n",
      "A kid with black hair eating.\n",
      "Question: Is a child is eating?\n",
      "Answer: Yes\n",
      "Reason: A kid can also be called a child.\n",
      "###\n",
      "A man and woman with a child are looking through the windows of a shop that sells, at least, sandwiches.\n",
      "Question: Is three people are eating a hearty lunch at denny's?\n",
      "Answer: No\n",
      "Reason: The people are either outside looking into the windows of a shop or inside eating, but not both.\n",
      "###\n",
      "A man with a tennis racket goes for the ball.\n",
      "Question: Is a person playing tennis?\n",
      "Answer: Yes\n",
      "Reason: Man is a person, as with tennis racket is inferred to play tennis.\n",
      "###\n",
      "Two people are talking outside of a yellow house.\n",
      "Question: Is people talk about selling their home?\n",
      "Answer: Maybe\n",
      "Reason: Just because they are talking outside the house doesn't mean they are talking about selling it, or that it's their home.\n",
      "###\n",
      "A boy on a scooter.\n",
      "Question: Is the boy is on a scooter?\n",
      "Answer: Yes\n",
      "Reason: Saying a boy is the equivalent to saying the boy.\n",
      "###\n",
      "A man, wearing a green shirt, is riding a skateboard down a street.\n",
      "Question: Is a person in a shirt?\n",
      "Answer: Yes\n",
      "Reason: a man, wearing a green shirt, is a person\n",
      "###\n",
      "Three dogs are all tugging on the same toy as they stand behind a house.\n",
      "Question: Is three dogs are all tugging on the same toy outside?\n",
      "Answer: Yes\n",
      "Reason: Both subjects are tugging\n",
      "###\n",
      "A black dog with a red collar walks through the grass with his mouth open and tongue hanging out.\n",
      "Question: Is the dog is hot from lots of running?\n",
      "Answer: Maybe\n",
      "Reason: It cannot be implied that the dog did lots of running.\n",
      "###\n",
      "Six men sit outside of a store having a conversation.\n",
      "Question: Is six men discussing something outside?\n",
      "Answer: Yes\n",
      "Reason: men sit outside of a store having a conversation simply means men discussing something outside\n",
      "###\n",
      "There are two young sisters standing next to each other in a snowy field, and the older girl is hugging her little sister.\n",
      "Question: Is two siblings hug each other in the outdoors?\n",
      "Answer: Yes\n",
      "Reason: Siblings refers to sisters.\n",
      "###\n",
      "People walking under a covered arch way, that passes a plaza filled with vendors tents.\n",
      "Question: Is the people are walking through a city playing harmonicas?\n",
      "Answer: No\n",
      "Reason: People don't walk through a city playing harmonicas.\n",
      "###\n",
      "A mountaineer sits in the snow in front of a yellow tent under clear blue sky.\n",
      "Question: Is a guy has a blue tent?\n",
      "Answer: No\n",
      "Reason: The tent is either yellow or blue.\n",
      "###\n",
      "Two men hiking in the snowy wilderness.\n",
      "Question: Is its must when you visit that place?\n",
      "Answer: Yes\n",
      "Reason: In a visit to the wilderness, one must hike.\n",
      "###\n",
      "Premise: A lady in a red sweatshirt opening a present.\n",
      "Hypothesis: It is the lady's birthday.\n",
      "Label: \n"
     ]
    }
   ],
   "source": [
    "print(dev_prepared.head()['prompts_instruct_GPT'].iloc[0])"
   ],
   "metadata": {
    "collapsed": false,
    "pycharm": {
     "name": "#%%\n"
    }
   }
  },
  {
   "cell_type": "code",
   "execution_count": 12,
   "outputs": [
    {
     "name": "stdout",
     "output_type": "stream",
     "text": [
      "Premise: Two smiling women in costumes standing in front of a microphone.\n",
      "Hypothesis: The ladiesare standing in front a microphone have smile while doing jumping jacks\n",
      "Label: neutral\n",
      "Explanation: Because two women in costumes are smiling while standing in front of a microphone does not imply that they would do so while doing jumping jacks.\n",
      "###\n",
      "Premise: The boy wearing orange face paint is carrying a toy fish in around his next.\n",
      "Hypothesis: A boy carrying a toy fish\n",
      "Label: neutral\n",
      "Explanation: The boy could be anybody and not necessarily wearing orange face paint.\n",
      "###\n",
      "Premise: A man dressed in black is sitting on a seat in the subway station that has an opened black umbrella laying on the ground.\n",
      "Hypothesis: The man is waiting for the subway.\n",
      "Label: neutral\n",
      "Explanation: Just because the man is sitting on a seat in the subway station,  it doesn't imply he is waiting for the subway.\n",
      "###\n",
      "Premise: These two kids look like they are having fun just playing on the sidewalk.\n",
      "Hypothesis: Two kids look like they are having fun.\n",
      "Label: entailment\n",
      "Explanation: Two kids having fun just playing on the sidewalk is a rephrasing of \"Two kids having fun\".\n",
      "###\n",
      "Premise: A female in a green shirt standing while traffic passes.\n",
      "Hypothesis: The woman does not wait and walks into traffic.\n",
      "Label: contradiction\n",
      "Explanation: Female is either standing or walks.\n",
      "###\n",
      "Premise: The officer is standing near a bush.\n",
      "Hypothesis: The officer is sitting on the bench.\n",
      "Label: contradiction\n",
      "Explanation: An officer cannot be standing and sitting at the same time. A bush is not a bench.\n",
      "###\n",
      "Premise: A man is sitting on a short stool, with his back turned to the camera, facing some stacked orange and yellow crates.\n",
      "Hypothesis: The man is standing next to a table.\n",
      "Label: contradiction\n",
      "Explanation: A human cannot be sitting and standing at the same time.\n",
      "###\n",
      "Premise: Two men, one in a suit and one in blue sweats, stand a few feet from one another in a building.\n",
      "Hypothesis: The two men are sitting on the couch.\n",
      "Label: contradiction\n",
      "Explanation: Men cannot be standing and sitting simultaneously.\n",
      "###\n",
      "Premise: A black man wearing a bandanna and sunglasses raising his arms\n",
      "Hypothesis: The man has arms.\n",
      "Label: entailment\n",
      "Explanation: if man is raising arms he has them and a man can be black.\n",
      "###\n",
      "Premise: A man is standing outside the glass doors of an art center.\n",
      "Hypothesis: The art center is large.\n",
      "Label: neutral\n",
      "Explanation: A man is standing outside the glass doors of an art center does not necessary that the art center is large.\n",
      "###\n",
      "Premise: Little girl in pink coat on a swing.\n",
      "Hypothesis: Little girl swinging.\n",
      "Label: entailment\n",
      "Explanation: The little girl on the swing is wearing a pink coat.\n",
      "###\n",
      "Premise: A silhouette of a man in the background on a snowy hill.\n",
      "Hypothesis: A man is outside with skis on a hill\n",
      "Label: neutral\n",
      "Explanation: A man can be on a snowy hill without skis.\n",
      "###\n",
      "Premise: A skateboarder without a shirt grabs his board in the air.\n",
      "Hypothesis: The skateboarder wears red shorts.\n",
      "Label: neutral\n",
      "Explanation: Not wearing a shirt doesn't imply wearing pants. Even if it did, red can't be implied as any color is just as likely.\n",
      "###\n",
      "Premise: A band is playing at an outdoor music festival.\n",
      "Hypothesis: A group of musician are performing a concert.\n",
      "Label: neutral\n",
      "Explanation: A band can play at an outdoor music festival without performing in the form of a concert.\n",
      "###\n",
      "Premise: A bearded man wearing glasses, a red shirt, and a hat is reading a map while sitting in a car.\n",
      "Hypothesis: A man sits inside a car.\n",
      "Label: entailment\n",
      "Explanation: sits is another form of sitting\n",
      "###\n",
      "Premise: A Pug dog is standing up on two legs looking over a stone wall.\n",
      "Hypothesis: A bulldog is sitting down.\n",
      "Label: contradiction\n",
      "Explanation: Either the dog's breed is pug or bulldog. Either the dog is standing on two legs or sitting down. It cannot be two separate breeds, nor can it physically stand and sit at the same time.\n",
      "###\n",
      "Premise: A couple walks down a dirt street.\n",
      "Hypothesis: A couple walk together down road while a carriage drives past them.\n",
      "Label: neutral\n",
      "Explanation: The street could have been empty with no carriage in sight.\n",
      "###\n",
      "Premise: A bike in a field and two kites\n",
      "Hypothesis: A man is riding his bike while flying his two kites.\n",
      "Label: neutral\n",
      "Explanation: Just because there is a bike in a field doesn't mean a man is riding the bike. Just because there are two kites doesn't mean a man is flying the kites.\n",
      "###\n",
      "Premise: Two people are having a conversation, while sitting on a curb.\n",
      "Hypothesis: People having conversation on a curb.\n",
      "Label: neutral\n",
      "Explanation: only two people having conversation\n",
      "###\n",
      "Premise: Little boy being silly jumping in the lake.\n",
      "Hypothesis: A boy sleeping on the beach.\n",
      "Label: contradiction\n",
      "Explanation: Jumping and sleeping cannot be done at the same time.\n",
      "###\n",
      "Premise: A man wearing a green coat and plaid scarf, is wearing spectacles and reading a book behind a blue backdrop.\n",
      "Hypothesis: A man in a green coat is wearing glasses.\n",
      "Label: entailment\n",
      "Explanation: Glasses is another form of the word spectacles.\n",
      "###\n",
      "Premise: Shirtless man wearing rollerskates in a large crowd with a sweat towel that reads \"just love me\".\n",
      "Hypothesis: A man skates in a crowd.\n",
      "Label: entailment\n",
      "Explanation: Rollerskates implies skates\n",
      "###\n",
      "Premise: A crowd of people gather nearby to watch the parade.\n",
      "Hypothesis: A crowd watches a parade.\n",
      "Label: entailment\n",
      "Explanation: Gather to watch and watches are similar actions\n",
      "###\n",
      "Premise: An unhappy looking child lays in the grass at a park.\n",
      "Hypothesis: A child is in the park alone and sad she has no friends.\n",
      "Label: neutral\n",
      "Explanation: An unhappy child at the park isn't necessarily alone.\n",
      "###\n",
      "Premise: A competitor does a pole vault.\n",
      "Hypothesis: This man is training for hurdles.\n",
      "Label: contradiction\n",
      "Explanation: One cannot be doing a pole vault and training for the hurdles at once.\n",
      "###\n",
      "Premise: The band is playing music in this city.\n",
      "Hypothesis: The band is in the city.\n",
      "Label: entailment\n",
      "Explanation: There is a band in the city.\n",
      "###\n",
      "Premise: A pitcher is about to throw a baseball.\n",
      "Hypothesis: A person playing baseball\n",
      "Label: entailment\n",
      "Explanation: A pitcher is a person, and throw a baseball shows playing baseball.\n",
      "###\n",
      "Premise: Two children playing in a kitchen with fly swatters.\n",
      "Hypothesis: Two kids are in the kitchen.\n",
      "Label: entailment\n",
      "Explanation: Children are kids.\n",
      "###\n",
      "Premise: A large group of teenagers mill around on a patio.\n",
      "Hypothesis: Some teenagers are playing in a football field.\n",
      "Label: contradiction\n",
      "Explanation: A football field is not a patio.\n",
      "###\n",
      "Premise: A man with an electric guitar and long hair leans towards another musician.\n",
      "Hypothesis: A man leans towards another musician.\n",
      "Label: entailment\n",
      "Explanation: A man with an electric guitar and long hair implies that he is a man.\n",
      "###\n",
      "Premise: A woman holds a blow dryer near a sad looking dog on linoleum tile.\n",
      "Hypothesis: A dog is barking and running through a field.\n",
      "Label: contradiction\n",
      "Explanation: There isn't linoleum tile on a field.\n",
      "###\n",
      "Premise: Two men are working on bicycles.\n",
      "Hypothesis: They work in a bicycle repair shop.\n",
      "Label: neutral\n",
      "Explanation: Working on bicycles would not have to take place in a bicycle repair shop.\n",
      "###\n",
      "Premise: A painted African warrior holds a rifle on his shoulder while he stands with another African woman who is wearing layers of beads around her neck.\n",
      "Hypothesis: The African chief goes to the airport unarmed.\n",
      "Label: contradiction\n",
      "Explanation: If the African warrior is holding a rifle then he is not unarmed.\n",
      "###\n",
      "Premise: Two people are in a garage, while one is pouring out a bag.\n",
      "Hypothesis: someone pours out food from a bag\n",
      "Label: neutral\n",
      "Explanation: You need not pour out food only every time you pour out a bag.\n",
      "###\n",
      "Premise: The magician is doing a magic trick.\n",
      "Hypothesis: The band performs their song.\n",
      "Label: contradiction\n",
      "Explanation: A magician is not the same profession as a band.\n",
      "###\n",
      "Premise: Young girl wearing gray and pink sweater and leather boots shields her face from the camera.\n",
      "Hypothesis: The girl is wearing sandals and blue sweater.\n",
      "Label: contradiction\n",
      "Explanation: A color can either be gray and pink or blue. Footwear can either be boots or sandals.\n",
      "###\n",
      "Premise: A lady in a red shirt and white pants is standing on a trashcan trying to take pictures.\n",
      "Hypothesis: The lady is wearing clothing.\n",
      "Label: entailment\n",
      "Explanation: A lady is wearing clothing if she is wearing a red shirt and white pants.\n",
      "###\n",
      "Premise: A big black dog chases a big brown dog with a green object in his mouth while another big brown dog tags behind.\n",
      "Hypothesis: Dogs are playing outside.\n",
      "Label: entailment\n",
      "Explanation: A black dog and two brown dogs are multiple dogs.  If a dog has an object in its mouth, then they are playing.  Multiple dogs are usually found outside.\n",
      "###\n",
      "Premise: Three construction workers wearing white hats and neon green vests stand against boating rail while a bridge and city sit in the background.\n",
      "Hypothesis: Three construction workers wearing white hats and neon green vests fight in an underground boxing ring.\n",
      "Label: contradiction\n",
      "Explanation: A boating rail while a bridge and city sit in the background is not an underground boxing ring.\n",
      "###\n",
      "Premise: Man working on old truck while child watches.\n",
      "Hypothesis: A child watching a man fixing a truck.\n",
      "Label: entailment\n",
      "Explanation: fixing a truck is the same as working on an old truck\n",
      "###\n",
      "Premise: A woman in a white tank top and jean shorts walks down a sandy sidewalk.\n",
      "Hypothesis: A woman wears a white tank top and a yellow braid.\n",
      "Label: neutral\n",
      "Explanation: Answer: A tank top  need not be worn only with a jean shorts it can also be worn with a braid\n",
      "###\n",
      "Premise: Children climb a tall structure and gather at the top in an obstacle challenge.\n",
      "Hypothesis: Children are climbing something.\n",
      "Label: entailment\n",
      "Explanation: Answer: Somethings refers to the obstacle challenge\n",
      "###\n",
      "Premise: A Bobcat tractor scoops up some land.\n",
      "Hypothesis: The tractor is turned off.\n",
      "Label: contradiction\n",
      "Explanation: The tractor scoops up land or is turned off.\n",
      "###\n",
      "Premise: A guy on the edge of the water dressed in green doing arm pushup\n",
      "Hypothesis: The soldier is doing arm pushups.\n",
      "Label: neutral\n",
      "Explanation: A person who wears green is not always a soldier.\n",
      "###\n",
      "Premise: There is a marching band, the man closet to the camera is wearing red and is playing the drums.\n",
      "Hypothesis: The man close to the camera is playing drums.\n",
      "Label: entailment\n",
      "Explanation: man implies   man\n",
      "###\n",
      "Premise: A man wearing a black jacket is working on a roof.\n",
      "Hypothesis: A man works on a roof on a cool day.\n",
      "Label: neutral\n",
      "Explanation: The fact that a man wearing a black jacket is working on a roof doesn't necessarily mean he is working on a cool day.\n",
      "###\n",
      "Premise: A young girl wearing jeans and a white shirt is standing on grass holding dandelions in her hands.\n",
      "Hypothesis: The girl is wearing a dress.\n",
      "Label: contradiction\n",
      "Explanation: The young girl under reference is wearing jeans and a white shirt and so cannot be wearing a dress at the same instance.\n",
      "###\n",
      "Premise: A group of kids enjoy snacks and are playing a board game together.\n",
      "Hypothesis: There are children running in the snow.\n",
      "Label: contradiction\n",
      "Explanation: The children can only be either running in the snow, or they enjoy snacks and are playing a board game.\n",
      "###\n",
      "Premise: A lady in a red sweatshirt opening a present.\n",
      "Hypothesis: It is the lady's birthday.\n",
      "Label: \n"
     ]
    }
   ],
   "source": [
    "print(dev_prepared.head()['prompts_GPT3'].iloc[0])"
   ],
   "metadata": {
    "collapsed": false,
    "pycharm": {
     "name": "#%%\n"
    }
   }
  },
  {
   "cell_type": "markdown",
   "source": [
    "# Find Hyperparameters"
   ],
   "metadata": {
    "collapsed": false,
    "pycharm": {
     "name": "#%% md\n"
    }
   }
  },
  {
   "cell_type": "code",
   "execution_count": 13,
   "outputs": [],
   "source": [
    "tokenizer = transformers.GPT2TokenizerFast.from_pretrained('gpt2')\n",
    "explanation_token_length = [len(tokenizer.tokenize(train.iloc[i].Explanation_1)) for i in range(train.head().shape[0])]"
   ],
   "metadata": {
    "collapsed": false,
    "pycharm": {
     "name": "#%%\n"
    }
   }
  },
  {
   "cell_type": "code",
   "execution_count": 14,
   "outputs": [
    {
     "data": {
      "text/plain": "20.972"
     },
     "execution_count": 14,
     "metadata": {},
     "output_type": "execute_result"
    }
   ],
   "source": [
    "np.quantile(explanation_token_length, 0.999)"
   ],
   "metadata": {
    "collapsed": false,
    "pycharm": {
     "name": "#%%\n"
    }
   }
  },
  {
   "cell_type": "code",
   "execution_count": 24,
   "outputs": [
    {
     "name": "stderr",
     "output_type": "stream",
     "text": [
      "Token indices sequence length is longer than the specified maximum sequence length for this model (2889 > 1024). Running this sequence through the model will result in indexing errors\n"
     ]
    }
   ],
   "source": [
    "tokenizer = transformers.GPT2TokenizerFast.from_pretrained('gpt2')\n",
    "explanation_token_length = [len(tokenizer.tokenize(prompt)) for prompt in dev_prepared.prompts_GPT3]"
   ],
   "metadata": {
    "collapsed": false,
    "pycharm": {
     "name": "#%%\n"
    }
   }
  },
  {
   "cell_type": "code",
   "execution_count": 25,
   "outputs": [
    {
     "data": {
      "text/plain": "2889.0"
     },
     "execution_count": 25,
     "metadata": {},
     "output_type": "execute_result"
    }
   ],
   "source": [
    "np.quantile(explanation_token_length, 0.999)"
   ],
   "metadata": {
    "collapsed": false,
    "pycharm": {
     "name": "#%%\n"
    }
   }
  },
  {
   "cell_type": "code",
   "execution_count": 30,
   "outputs": [
    {
     "data": {
      "text/plain": "10"
     },
     "execution_count": 30,
     "metadata": {},
     "output_type": "execute_result"
    }
   ],
   "source": [
    "len(tokenizer.tokenize(\"Does the man with long hair contradict women with baby\"))\n"
   ],
   "metadata": {
    "collapsed": false,
    "pycharm": {
     "name": "#%%\n"
    }
   }
  },
  {
   "cell_type": "code",
   "execution_count": 17,
   "outputs": [],
   "source": [
    "openai.api_key = os.getenv(\"OPENAI_API_KEY\")"
   ],
   "metadata": {
    "collapsed": false,
    "pycharm": {
     "name": "#%%\n"
    }
   }
  },
  {
   "cell_type": "code",
   "execution_count": 18,
   "outputs": [],
   "source": [
    "response = openai.Completion.create(\n",
    "    engine='davinci-instruct-beta',\n",
    "    #prompt=list(dev_prepared.prompts_instruct_GPT.iloc[1]),\n",
    "    prompt = dev_prepared.head()['prompts_instruct_GPT'].iloc[0],\n",
    "    temperature=0,\n",
    "    max_tokens=58,\n",
    "    top_p=1,\n",
    ")\n",
    "print(dev_prepared.head()['prompts_instruct_GPT'].iloc[0])\n",
    "print(response.choices[0].text)"
   ],
   "metadata": {
    "collapsed": false,
    "pycharm": {
     "name": "#%%\n"
    }
   }
  },
  {
   "cell_type": "code",
   "execution_count": 23,
   "outputs": [
    {
     "name": "stdout",
     "output_type": "stream",
     "text": [
      "Premise: Two smiling women in costumes standing in front of a microphone.\n",
      "Hypothesis: The ladiesare standing in front a microphone have smile while doing jumping jacks\n",
      "Label: neutral\n",
      "Explanation: Because two women in costumes are smiling while standing in front of a microphone does not imply that they would do so while doing jumping jacks.\n",
      "###\n",
      "Premise: The boy wearing orange face paint is carrying a toy fish in around his next.\n",
      "Hypothesis: A boy carrying a toy fish\n",
      "Label: neutral\n",
      "Explanation: The boy could be anybody and not necessarily wearing orange face paint.\n",
      "###\n",
      "Premise: A man dressed in black is sitting on a seat in the subway station that has an opened black umbrella laying on the ground.\n",
      "Hypothesis: The man is waiting for the subway.\n",
      "Label: neutral\n",
      "Explanation: Just because the man is sitting on a seat in the subway station,  it doesn't imply he is waiting for the subway.\n",
      "###\n",
      "Premise: These two kids look like they are having fun just playing on the sidewalk.\n",
      "Hypothesis: Two kids look like they are having fun.\n",
      "Label: entailment\n",
      "Explanation: Two kids having fun just playing on the sidewalk is a rephrasing of \"Two kids having fun\".\n",
      "###\n",
      "Premise: A female in a green shirt standing while traffic passes.\n",
      "Hypothesis: The woman does not wait and walks into traffic.\n",
      "Label: contradiction\n",
      "Explanation: Female is either standing or walks.\n",
      "###\n",
      "Premise: The officer is standing near a bush.\n",
      "Hypothesis: The officer is sitting on the bench.\n",
      "Label: contradiction\n",
      "Explanation: An officer cannot be standing and sitting at the same time. A bush is not a bench.\n",
      "###\n",
      "Premise: A man is sitting on a short stool, with his back turned to the camera, facing some stacked orange and yellow crates.\n",
      "Hypothesis: The man is standing next to a table.\n",
      "Label: contradiction\n",
      "Explanation: A human cannot be sitting and standing at the same time.\n",
      "###\n",
      "Premise: Two men, one in a suit and one in blue sweats, stand a few feet from one another in a building.\n",
      "Hypothesis: The two men are sitting on the couch.\n",
      "Label: contradiction\n",
      "Explanation: Men cannot be standing and sitting simultaneously.\n",
      "###\n",
      "Premise: A black man wearing a bandanna and sunglasses raising his arms\n",
      "Hypothesis: The man has arms.\n",
      "Label: entailment\n",
      "Explanation: if man is raising arms he has them and a man can be black.\n",
      "###\n",
      "Premise: A man is standing outside the glass doors of an art center.\n",
      "Hypothesis: The art center is large.\n",
      "Label: neutral\n",
      "Explanation: A man is standing outside the glass doors of an art center does not necessary that the art center is large.\n",
      "###\n",
      "Premise: Little girl in pink coat on a swing.\n",
      "Hypothesis: Little girl swinging.\n",
      "Label: entailment\n",
      "Explanation: The little girl on the swing is wearing a pink coat.\n",
      "###\n",
      "Premise: A silhouette of a man in the background on a snowy hill.\n",
      "Hypothesis: A man is outside with skis on a hill\n",
      "Label: neutral\n",
      "Explanation: A man can be on a snowy hill without skis.\n",
      "###\n",
      "Premise: A skateboarder without a shirt grabs his board in the air.\n",
      "Hypothesis: The skateboarder wears red shorts.\n",
      "Label: neutral\n",
      "Explanation: Not wearing a shirt doesn't imply wearing pants. Even if it did, red can't be implied as any color is just as likely.\n",
      "###\n",
      "Premise: A band is playing at an outdoor music festival.\n",
      "Hypothesis: A group of musician are performing a concert.\n",
      "Label: neutral\n",
      "Explanation: A band can play at an outdoor music festival without performing in the form of a concert.\n",
      "###\n",
      "Premise: A bearded man wearing glasses, a red shirt, and a hat is reading a map while sitting in a car.\n",
      "Hypothesis: A man sits inside a car.\n",
      "Label: entailment\n",
      "Explanation: sits is another form of sitting\n",
      "###\n",
      "Premise: A Pug dog is standing up on two legs looking over a stone wall.\n",
      "Hypothesis: A bulldog is sitting down.\n",
      "Label: contradiction\n",
      "Explanation: Either the dog's breed is pug or bulldog. Either the dog is standing on two legs or sitting down. It cannot be two separate breeds, nor can it physically stand and sit at the same time.\n",
      "###\n",
      "Premise: A couple walks down a dirt street.\n",
      "Hypothesis: A couple walk together down road while a carriage drives past them.\n",
      "Label: neutral\n",
      "Explanation: The street could have been empty with no carriage in sight.\n",
      "###\n",
      "Premise: A bike in a field and two kites\n",
      "Hypothesis: A man is riding his bike while flying his two kites.\n",
      "Label: neutral\n",
      "Explanation: Just because there is a bike in a field doesn't mean a man is riding the bike. Just because there are two kites doesn't mean a man is flying the kites.\n",
      "###\n",
      "Premise: Two people are having a conversation, while sitting on a curb.\n",
      "Hypothesis: People having conversation on a curb.\n",
      "Label: neutral\n",
      "Explanation: only two people having conversation\n",
      "###\n",
      "Premise: Little boy being silly jumping in the lake.\n",
      "Hypothesis: A boy sleeping on the beach.\n",
      "Label: contradiction\n",
      "Explanation: Jumping and sleeping cannot be done at the same time.\n",
      "###\n",
      "Premise: A man wearing a green coat and plaid scarf, is wearing spectacles and reading a book behind a blue backdrop.\n",
      "Hypothesis: A man in a green coat is wearing glasses.\n",
      "Label: entailment\n",
      "Explanation: Glasses is another form of the word spectacles.\n",
      "###\n",
      "Premise: Shirtless man wearing rollerskates in a large crowd with a sweat towel that reads \"just love me\".\n",
      "Hypothesis: A man skates in a crowd.\n",
      "Label: entailment\n",
      "Explanation: Rollerskates implies skates\n",
      "###\n",
      "Premise: A crowd of people gather nearby to watch the parade.\n",
      "Hypothesis: A crowd watches a parade.\n",
      "Label: entailment\n",
      "Explanation: Gather to watch and watches are similar actions\n",
      "###\n",
      "Premise: An unhappy looking child lays in the grass at a park.\n",
      "Hypothesis: A child is in the park alone and sad she has no friends.\n",
      "Label: neutral\n",
      "Explanation: An unhappy child at the park isn't necessarily alone.\n",
      "###\n",
      "Premise: A competitor does a pole vault.\n",
      "Hypothesis: This man is training for hurdles.\n",
      "Label: contradiction\n",
      "Explanation: One cannot be doing a pole vault and training for the hurdles at once.\n",
      "###\n",
      "Premise: The band is playing music in this city.\n",
      "Hypothesis: The band is in the city.\n",
      "Label: entailment\n",
      "Explanation: There is a band in the city.\n",
      "###\n",
      "Premise: A pitcher is about to throw a baseball.\n",
      "Hypothesis: A person playing baseball\n",
      "Label: entailment\n",
      "Explanation: A pitcher is a person, and throw a baseball shows playing baseball.\n",
      "###\n",
      "Premise: Two children playing in a kitchen with fly swatters.\n",
      "Hypothesis: Two kids are in the kitchen.\n",
      "Label: entailment\n",
      "Explanation: Children are kids.\n",
      "###\n",
      "Premise: A large group of teenagers mill around on a patio.\n",
      "Hypothesis: Some teenagers are playing in a football field.\n",
      "Label: contradiction\n",
      "Explanation: A football field is not a patio.\n",
      "###\n",
      "Premise: A man with an electric guitar and long hair leans towards another musician.\n",
      "Hypothesis: A man leans towards another musician.\n",
      "Label: entailment\n",
      "Explanation: A man with an electric guitar and long hair implies that he is a man.\n",
      "###\n",
      "Premise: A woman holds a blow dryer near a sad looking dog on linoleum tile.\n",
      "Hypothesis: A dog is barking and running through a field.\n",
      "Label: contradiction\n",
      "Explanation: There isn't linoleum tile on a field.\n",
      "###\n",
      "Premise: Two men are working on bicycles.\n",
      "Hypothesis: They work in a bicycle repair shop.\n",
      "Label: neutral\n",
      "Explanation: Working on bicycles would not have to take place in a bicycle repair shop.\n",
      "###\n",
      "Premise: A painted African warrior holds a rifle on his shoulder while he stands with another African woman who is wearing layers of beads around her neck.\n",
      "Hypothesis: The African chief goes to the airport unarmed.\n",
      "Label: contradiction\n",
      "Explanation: If the African warrior is holding a rifle then he is not unarmed.\n",
      "###\n",
      "Premise: Two people are in a garage, while one is pouring out a bag.\n",
      "Hypothesis: someone pours out food from a bag\n",
      "Label: neutral\n",
      "Explanation: You need not pour out food only every time you pour out a bag.\n",
      "###\n",
      "Premise: The magician is doing a magic trick.\n",
      "Hypothesis: The band performs their song.\n",
      "Label: contradiction\n",
      "Explanation: A magician is not the same profession as a band.\n",
      "###\n",
      "Premise: Young girl wearing gray and pink sweater and leather boots shields her face from the camera.\n",
      "Hypothesis: The girl is wearing sandals and blue sweater.\n",
      "Label: contradiction\n",
      "Explanation: A color can either be gray and pink or blue. Footwear can either be boots or sandals.\n",
      "###\n",
      "Premise: A lady in a red shirt and white pants is standing on a trashcan trying to take pictures.\n",
      "Hypothesis: The lady is wearing clothing.\n",
      "Label: entailment\n",
      "Explanation: A lady is wearing clothing if she is wearing a red shirt and white pants.\n",
      "###\n",
      "Premise: A big black dog chases a big brown dog with a green object in his mouth while another big brown dog tags behind.\n",
      "Hypothesis: Dogs are playing outside.\n",
      "Label: entailment\n",
      "Explanation: A black dog and two brown dogs are multiple dogs.  If a dog has an object in its mouth, then they are playing.  Multiple dogs are usually found outside.\n",
      "###\n",
      "Premise: Three construction workers wearing white hats and neon green vests stand against boating rail while a bridge and city sit in the background.\n",
      "Hypothesis: Three construction workers wearing white hats and neon green vests fight in an underground boxing ring.\n",
      "Label: contradiction\n",
      "Explanation: A boating rail while a bridge and city sit in the background is not an underground boxing ring.\n",
      "###\n",
      "Premise: Man working on old truck while child watches.\n",
      "Hypothesis: A child watching a man fixing a truck.\n",
      "Label: entailment\n",
      "Explanation: fixing a truck is the same as working on an old truck\n",
      "###\n",
      "Premise: A woman in a white tank top and jean shorts walks down a sandy sidewalk.\n",
      "Hypothesis: A woman wears a white tank top and a yellow braid.\n",
      "Label: neutral\n",
      "Explanation: Answer: A tank top  need not be worn only with a jean shorts it can also be worn with a braid\n",
      "###\n",
      "Premise: Children climb a tall structure and gather at the top in an obstacle challenge.\n",
      "Hypothesis: Children are climbing something.\n",
      "Label: entailment\n",
      "Explanation: Answer: Somethings refers to the obstacle challenge\n",
      "###\n",
      "Premise: A Bobcat tractor scoops up some land.\n",
      "Hypothesis: The tractor is turned off.\n",
      "Label: contradiction\n",
      "Explanation: The tractor scoops up land or is turned off.\n",
      "###\n",
      "Premise: A guy on the edge of the water dressed in green doing arm pushup\n",
      "Hypothesis: The soldier is doing arm pushups.\n",
      "Label: neutral\n",
      "Explanation: A person who wears green is not always a soldier.\n",
      "###\n",
      "Premise: There is a marching band, the man closet to the camera is wearing red and is playing the drums.\n",
      "Hypothesis: The man close to the camera is playing drums.\n",
      "Label: entailment\n",
      "Explanation: man implies   man\n",
      "###\n",
      "Premise: A man wearing a black jacket is working on a roof.\n",
      "Hypothesis: A man works on a roof on a cool day.\n",
      "Label: neutral\n",
      "Explanation: The fact that a man wearing a black jacket is working on a roof doesn't necessarily mean he is working on a cool day.\n",
      "###\n",
      "Premise: A young girl wearing jeans and a white shirt is standing on grass holding dandelions in her hands.\n",
      "Hypothesis: The girl is wearing a dress.\n",
      "Label: contradiction\n",
      "Explanation: The young girl under reference is wearing jeans and a white shirt and so cannot be wearing a dress at the same instance.\n",
      "###\n",
      "Premise: A group of kids enjoy snacks and are playing a board game together.\n",
      "Hypothesis: There are children running in the snow.\n",
      "Label: contradiction\n",
      "Explanation: The children can only be either running in the snow, or they enjoy snacks and are playing a board game.\n",
      "###\n",
      "Premise: A lady in a red sweatshirt opening a present.\n",
      "Hypothesis: It is the lady's birthday.\n",
      "Label: \n",
      " neutral\n",
      "Explanation: Just because the lady is opening a present does not necessarily mean it is her birthday.\n"
     ]
    }
   ],
   "source": [
    "response = openai.Completion.create(\n",
    "    engine='text-davinci-003',\n",
    "    #prompt=list(dev_prepared.prompts_instruct_GPT.iloc[1]),\n",
    "    prompt = dev_prepared.head()['prompts_GPT3'].iloc[0],\n",
    "    temperature=0,\n",
    "    max_tokens=58,\n",
    "    top_p=1,\n",
    ")\n",
    "print(dev_prepared.head()['prompts_GPT3'].iloc[0])\n",
    "print(response.choices[0].text)"
   ],
   "metadata": {
    "collapsed": false,
    "pycharm": {
     "name": "#%%\n"
    }
   }
  },
  {
   "cell_type": "code",
   "execution_count": null,
   "outputs": [],
   "source": [
    "results = pd.DataFrame()\n",
    "for col_name in dev_prepared.columns.values[2:]:\n",
    "    for temp_train in [0, 0.5, 1]:\n",
    "        response = openai.Completion.create(\n",
    "            engine='text-davinci-003',\n",
    "            prompt=list(dev_prepared[col_name]),\n",
    "            temp_trainerature=temp_train,\n",
    "            max_tokens=58,\n",
    "            top_p=1,\n",
    "        )\n",
    "        try:\n",
    "            preds = [re.findall('Explanation:.+', response.choices[i].text)[0].replace('Explanation: ', '') for i in range(len(response.choices))]\n",
    "        except:\n",
    "            preds = [response.choices[i].text.strip() for i in range(len(response.choices))]\n",
    "        results['pred_temp_trainerature_' + str(temp_train) + '_' + col_name] = preds"
   ],
   "metadata": {
    "collapsed": false,
    "pycharm": {
     "name": "#%%\n"
    }
   }
  },
  {
   "cell_type": "code",
   "execution_count": null,
   "outputs": [],
   "source": [
    "results.head()"
   ],
   "metadata": {
    "collapsed": false,
    "pycharm": {
     "name": "#%%\n"
    }
   }
  },
  {
   "cell_type": "code",
   "execution_count": null,
   "outputs": [],
   "source": [
    "results.to_csv('output_data/predsictions.csv', sep=';')"
   ],
   "metadata": {
    "collapsed": false,
    "pycharm": {
     "name": "#%%\n"
    }
   }
  },
  {
   "cell_type": "code",
   "execution_count": null,
   "outputs": [],
   "source": [
    "F1_means = dict()\n",
    "for col_name in results.columns.values:\n",
    "    P, R, F1 = score(list(results[col_name]), list(dev_prepared['gold_standard_explanation']), lang=\"en\", verbose=False)\n",
    "    F1_means[col_name] = F1.mean().item()\n",
    "print(F1_means)"
   ],
   "metadata": {
    "collapsed": false,
    "pycharm": {
     "name": "#%%\n"
    }
   }
  },
  {
   "cell_type": "code",
   "execution_count": null,
   "outputs": [],
   "source": [
    "F1_means"
   ],
   "metadata": {
    "collapsed": false,
    "pycharm": {
     "name": "#%%\n"
    }
   }
  },
  {
   "cell_type": "code",
   "execution_count": null,
   "outputs": [],
   "source": [],
   "metadata": {
    "collapsed": false,
    "pycharm": {
     "name": "#%%\n"
    }
   }
  },
  {
   "cell_type": "code",
   "execution_count": null,
   "outputs": [],
   "source": [],
   "metadata": {
    "collapsed": false,
    "pycharm": {
     "name": "#%%\n"
    }
   }
  },
  {
   "cell_type": "code",
   "execution_count": null,
   "outputs": [],
   "source": [],
   "metadata": {
    "collapsed": false,
    "pycharm": {
     "name": "#%%\n"
    }
   }
  },
  {
   "cell_type": "code",
   "execution_count": 21,
   "outputs": [],
   "source": [
    "gpt3_esnli_label_mapping = {0: 'Yes', 1: 'Maybe', 2: 'No'}  # Tried True, False, Neither but this works better.\n",
    "gpt3_t5_esnli_label_mapping = {'Yes': 'entailment', 'Maybe': 'neutral', 'No': 'contradiction'}\n",
    "\n",
    "gpt3_sbic_label_mapping = {\"offensive\": 'Yes', \"not offensive\": 'No'}\n",
    "\n",
    "\n",
    "def _get_task_description(task):\n",
    "    if task == 'sbic':\n",
    "        return \"Is the following post offensive? and why?\\n\"\n",
    "    elif task == 'esnli':\n",
    "        return \"Answer the question and provide a reason why the answer is correct.\\n\"\n",
    "    elif task == 'cos_e':\n",
    "        return \"Answer the question from the provided choices, and provide a reason why the answer is correct.\\n\"\n",
    "    elif task == 'sensemaking':\n",
    "        return \"Which of the two choices makes more sense? and why?\\n\"\n",
    "    else:\n",
    "        assert False\n",
    "\n",
    "\n",
    "def _convert_instance_to_prompt(instance, task):\n",
    "    if task == 'sbic':\n",
    "        post = instance['post'].replace('\\n', ' ')  # a few posts have new lines\n",
    "        input = f\"Post: {post}\\n\"\\\n",
    "                \"Answer:\"\n",
    "        output = f\" {gpt3_sbic_label_mapping[instance['offensiveYN']]}\\n\"\\\n",
    "                 f\"Reason: {instance['targetStereotype']}\\n\"\\\n",
    "                 \"###\\n\"\n",
    "    elif task == 'esnli':\n",
    "        input = f\"{instance['premise']}\\n\"\\\n",
    "                f\"Question: Is {instance['hypothesis'].lower().replace('.', '')}?\\n\"\\\n",
    "                \"Answer:\"\n",
    "        output = f\" {instance['label']}\\n\"\\\n",
    "                 f\"Reason: {instance['explanation_1']}\\n\"\\\n",
    "                 \"###\\n\"\n",
    "    elif task == 'cos_e':\n",
    "        choices = ', '.join(instance['choices'])\n",
    "        input = f\"Question: {instance['question']}\\n\"\\\n",
    "                f\"Choices: {choices}\\n\"\\\n",
    "                \"Answer:\"\n",
    "        output = f\" {instance['answer']}\\n\"\\\n",
    "                 f\"Reason: {instance['abstractive_explanation']}\\n\"\\\n",
    "                 \"###\\n\"\n",
    "    elif task == 'sensemaking':\n",
    "        input = f\"choice1: {instance['sent0']}\\n\"\\\n",
    "                f\"choice2: {instance['sent1']}\\n\"\\\n",
    "                \"Answer:\"\n",
    "        # flip choices to select the one that makes \"more\" sense. GPT3 works much better with this prompt\n",
    "        label = 1 if instance['label'] == 1 else 2\n",
    "        output = f\" choice{label}\\n\"\\\n",
    "                 f\"Reason: {instance['explanation']}\\n\"\\\n",
    "                 \"###\\n\"\n",
    "    else:\n",
    "        assert False\n",
    "\n",
    "    return input, output\n",
    "\n",
    "\n",
    "def _parse_response(response_text, task):\n",
    "    if task in ['cos_e', 'esnli', 'sensemaking', 'sbic']:\n",
    "        if 'Reason:' not in response_text:\n",
    "            print('Invalid output format')  # rarely happens\n",
    "            pred_answer = 'wrong'\n",
    "            pred_explanation = response_text.replace('\\n', '')\n",
    "        else:\n",
    "            splits = response_text.split('Reason:', 1)\n",
    "            pred_answer = splits[0].strip()\n",
    "            pred_explanation = splits[1].strip()\n",
    "            pred_explanation = pred_explanation.split('\\n')[0]\n",
    "            if task == 'esnli':\n",
    "                pred_answer = gpt3_t5_esnli_label_mapping.get(pred_answer) or pred_answer\n",
    "            if task == 'sensemaking':\n",
    "                # flip it back\n",
    "                pred_answer = pred_answer.replace('1', '2') if '1' in pred_answer else pred_answer.replace('2', '1')\n",
    "    else:\n",
    "        assert False\n",
    "\n",
    "    return pred_answer, pred_explanation"
   ],
   "metadata": {
    "collapsed": false,
    "pycharm": {
     "name": "#%%\n"
    }
   }
  },
  {
   "cell_type": "code",
   "execution_count": 23,
   "outputs": [
    {
     "name": "stderr",
     "output_type": "stream",
     "text": [
      "/var/folders/lp/djryk53n11b_ww_n9xbjm4s80000gn/T/ipykernel_10270/296744828.py:2: SettingWithCopyWarning: \n",
      "A value is trying to be set on a copy of a slice from a DataFrame.\n",
      "Try using .loc[row_indexer,col_indexer] = value instead\n",
      "\n",
      "See the caveats in the documentation: https://pandas.pydata.org/pandas-docs/stable/user_guide/indexing.html#returning-a-view-versus-a-copy\n",
      "  temp_train[\"premise\"] = temp_train[\"Sentence1\"]\n",
      "/var/folders/lp/djryk53n11b_ww_n9xbjm4s80000gn/T/ipykernel_10270/296744828.py:3: SettingWithCopyWarning: \n",
      "A value is trying to be set on a copy of a slice from a DataFrame.\n",
      "Try using .loc[row_indexer,col_indexer] = value instead\n",
      "\n",
      "See the caveats in the documentation: https://pandas.pydata.org/pandas-docs/stable/user_guide/indexing.html#returning-a-view-versus-a-copy\n",
      "  temp_train[\"hypothesis\"] = temp_train[\"Sentence2\"]\n",
      "/var/folders/lp/djryk53n11b_ww_n9xbjm4s80000gn/T/ipykernel_10270/296744828.py:4: SettingWithCopyWarning: \n",
      "A value is trying to be set on a copy of a slice from a DataFrame.\n",
      "Try using .loc[row_indexer,col_indexer] = value instead\n",
      "\n",
      "See the caveats in the documentation: https://pandas.pydata.org/pandas-docs/stable/user_guide/indexing.html#returning-a-view-versus-a-copy\n",
      "  temp_train[\"label\"] = temp_train[\"gold_label\"]\n",
      "/var/folders/lp/djryk53n11b_ww_n9xbjm4s80000gn/T/ipykernel_10270/296744828.py:5: SettingWithCopyWarning: \n",
      "A value is trying to be set on a copy of a slice from a DataFrame.\n",
      "Try using .loc[row_indexer,col_indexer] = value instead\n",
      "\n",
      "See the caveats in the documentation: https://pandas.pydata.org/pandas-docs/stable/user_guide/indexing.html#returning-a-view-versus-a-copy\n",
      "  temp_train[\"explanation_1\"] = temp_train[\"Explanation_1\"]\n",
      "/var/folders/lp/djryk53n11b_ww_n9xbjm4s80000gn/T/ipykernel_10270/296744828.py:8: SettingWithCopyWarning: \n",
      "A value is trying to be set on a copy of a slice from a DataFrame.\n",
      "Try using .loc[row_indexer,col_indexer] = value instead\n",
      "\n",
      "See the caveats in the documentation: https://pandas.pydata.org/pandas-docs/stable/user_guide/indexing.html#returning-a-view-versus-a-copy\n",
      "  temp_test[\"premise\"] = temp_test[\"Sentence1\"]\n",
      "/var/folders/lp/djryk53n11b_ww_n9xbjm4s80000gn/T/ipykernel_10270/296744828.py:9: SettingWithCopyWarning: \n",
      "A value is trying to be set on a copy of a slice from a DataFrame.\n",
      "Try using .loc[row_indexer,col_indexer] = value instead\n",
      "\n",
      "See the caveats in the documentation: https://pandas.pydata.org/pandas-docs/stable/user_guide/indexing.html#returning-a-view-versus-a-copy\n",
      "  temp_test[\"hypothesis\"] = temp_test[\"Sentence2\"]\n",
      "/var/folders/lp/djryk53n11b_ww_n9xbjm4s80000gn/T/ipykernel_10270/296744828.py:10: SettingWithCopyWarning: \n",
      "A value is trying to be set on a copy of a slice from a DataFrame.\n",
      "Try using .loc[row_indexer,col_indexer] = value instead\n",
      "\n",
      "See the caveats in the documentation: https://pandas.pydata.org/pandas-docs/stable/user_guide/indexing.html#returning-a-view-versus-a-copy\n",
      "  temp_test[\"label\"] = temp_test[\"gold_label\"]\n",
      "/var/folders/lp/djryk53n11b_ww_n9xbjm4s80000gn/T/ipykernel_10270/296744828.py:11: SettingWithCopyWarning: \n",
      "A value is trying to be set on a copy of a slice from a DataFrame.\n",
      "Try using .loc[row_indexer,col_indexer] = value instead\n",
      "\n",
      "See the caveats in the documentation: https://pandas.pydata.org/pandas-docs/stable/user_guide/indexing.html#returning-a-view-versus-a-copy\n",
      "  temp_test[\"explanation_1\"] = temp_test[\"Explanation_1\"]\n"
     ]
    }
   ],
   "source": [
    "temp_train = train.head()\n",
    "temp_train[\"premise\"] = temp_train[\"Sentence1\"]\n",
    "temp_train[\"hypothesis\"] = temp_train[\"Sentence2\"]\n",
    "temp_train[\"label\"] = temp_train[\"gold_label\"]\n",
    "temp_train[\"explanation_1\"] = temp_train[\"Explanation_1\"]\n",
    "\n",
    "temp_test = test.head()\n",
    "temp_test[\"premise\"] = temp_test[\"Sentence1\"]\n",
    "temp_test[\"hypothesis\"] = temp_test[\"Sentence2\"]\n",
    "temp_test[\"label\"] = temp_test[\"gold_label\"]\n",
    "temp_test[\"explanation_1\"] = temp_test[\"Explanation_1\"]\n",
    "\n",
    "task = \"esnli\"\n",
    "task_description = _get_task_description(task)\n",
    "train_prompts = [_convert_instance_to_prompt(temp_train.iloc[i], task) for i in range(temp_train.shape[0])]\n",
    "test_prompts = [_convert_instance_to_prompt(temp_test.iloc[i], task) for i in range(temp_test.shape[0])]"
   ],
   "metadata": {
    "collapsed": false,
    "pycharm": {
     "name": "#%%\n"
    }
   }
  },
  {
   "cell_type": "code",
   "execution_count": 24,
   "outputs": [
    {
     "data": {
      "text/plain": "('A person on a horse jumps over a broken down airplane.\\nQuestion: Is a person is training his horse for a competition?\\nAnswer:',\n ' neutral\\nReason: the person is not necessarily training his horse\\n###\\n')"
     },
     "execution_count": 24,
     "metadata": {},
     "output_type": "execute_result"
    }
   ],
   "source": [
    "train_prompts[0]"
   ],
   "metadata": {
    "collapsed": false,
    "pycharm": {
     "name": "#%%\n"
    }
   }
  },
  {
   "cell_type": "code",
   "execution_count": 25,
   "outputs": [
    {
     "data": {
      "text/plain": "('This church choir sings to the masses as they sing joyous songs from the book at a church.\\nQuestion: Is the church has cracks in the ceiling?\\nAnswer:',\n ' neutral\\nReason: Not all churches have cracks in the ceiling\\n###\\n')"
     },
     "execution_count": 25,
     "metadata": {},
     "output_type": "execute_result"
    }
   ],
   "source": [
    "test_prompts[0]"
   ],
   "metadata": {
    "collapsed": false,
    "pycharm": {
     "name": "#%%\n"
    }
   }
  },
  {
   "cell_type": "code",
   "execution_count": 32,
   "outputs": [
    {
     "data": {
      "text/plain": "(9842, 19)"
     },
     "execution_count": 32,
     "metadata": {},
     "output_type": "execute_result"
    }
   ],
   "source": [
    "dev.shape"
   ],
   "metadata": {
    "collapsed": false,
    "pycharm": {
     "name": "#%%\n"
    }
   }
  }
 ],
 "metadata": {
  "kernelspec": {
   "display_name": "Python 3",
   "language": "python",
   "name": "python3"
  },
  "language_info": {
   "codemirror_mode": {
    "name": "ipython",
    "version": 2
   },
   "file_extension": ".py",
   "mimetype": "text/x-python",
   "name": "python",
   "nbconvert_exporter": "python",
   "pygments_lexer": "ipython2",
   "version": "2.7.6"
  }
 },
 "nbformat": 4,
 "nbformat_minor": 0
}