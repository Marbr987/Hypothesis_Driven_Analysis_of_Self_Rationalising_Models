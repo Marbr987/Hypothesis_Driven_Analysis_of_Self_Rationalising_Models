{
 "cells": [
  {
   "cell_type": "code",
   "execution_count": 2,
   "metadata": {
    "collapsed": true,
    "pycharm": {
     "name": "#%%\n"
    }
   },
   "outputs": [],
   "source": [
    "import pandas as pd\n",
    "import datetime\n",
    "import numpy as np\n",
    "from sklearn.neural_network import MLPClassifier\n",
    "import matplotlib.pyplot as plt\n",
    "from sklearn.metrics import confusion_matrix, f1_score, accuracy_score\n",
    "import pickle"
   ]
  },
  {
   "cell_type": "code",
   "execution_count": 3,
   "outputs": [],
   "source": [
    "train1 = pd.read_csv('../Input_Data/e-SNLI/dataset/esnli_train_1.csv')\n",
    "train2 = pd.read_csv('../Input_Data/e-SNLI/dataset/esnli_train_2.csv')\n",
    "train = pd.concat([train1, train2])\n",
    "train = train[train.notnull().apply(all, axis=1)]\n",
    "dev = pd.read_csv('../Input_Data/e-SNLI/dataset/esnli_dev.csv')\n",
    "dev = dev[dev.notnull().apply(all, axis=1)]\n",
    "test = pd.read_csv('../Input_Data/e-SNLI/dataset/esnli_test.csv')\n",
    "test = test[test.notnull().apply(all, axis=1)]\n",
    "\n",
    "dev_prepared = pd.read_csv('../02_Extract_Subphrases/prepared_data/subphrase_vectors_dev.csv', sep=';')\n",
    "dev_prepared = dev_prepared.drop(columns='Unnamed: 0')\n",
    "dev = dev.set_index('pairID')\n",
    "rel_pairIDs = dev_prepared.iloc[:,0]\n",
    "y_hat = dev.loc[rel_pairIDs].gold_label\n",
    "dev_prepared = dev_prepared.iloc[:,1:].to_numpy()"
   ],
   "metadata": {
    "collapsed": false,
    "pycharm": {
     "name": "#%%\n"
    }
   }
  },
  {
   "cell_type": "code",
   "execution_count": 4,
   "outputs": [],
   "source": [
    "data1 = pd.read_csv(\"prepared_data/GPT3_explanations1.csv\", sep=\";\")\n",
    "data2 = pd.read_csv(\"prepared_data/GPT3_explanations2.csv\", sep=\";\")"
   ],
   "metadata": {
    "collapsed": false,
    "pycharm": {
     "name": "#%%\n"
    }
   }
  },
  {
   "cell_type": "code",
   "execution_count": 5,
   "outputs": [],
   "source": [
    "temp = [None, ] * 10\n",
    "for i in range(1,11):\n",
    "    temp[i-1] = pd.read_csv(\"prepared_data/GPT3_explanations\" + str(i) + \".csv\", sep=\";\")\n",
    "gpt3_dev = pd.concat(temp).set_index(\"pairID\")"
   ],
   "metadata": {
    "collapsed": false,
    "pycharm": {
     "name": "#%%\n"
    }
   }
  },
  {
   "cell_type": "code",
   "execution_count": 6,
   "outputs": [
    {
     "data": {
      "text/plain": "0.8069192751235584"
     },
     "execution_count": 6,
     "metadata": {},
     "output_type": "execute_result"
    }
   ],
   "source": [
    "np.mean(gpt3_dev.loc[rel_pairIDs].gold_standard_label == gpt3_dev.loc[rel_pairIDs].pred_label)"
   ],
   "metadata": {
    "collapsed": false,
    "pycharm": {
     "name": "#%%\n"
    }
   }
  },
  {
   "cell_type": "code",
   "execution_count": 7,
   "outputs": [
    {
     "data": {
      "text/plain": "0.7884484917636336"
     },
     "execution_count": 7,
     "metadata": {},
     "output_type": "execute_result"
    }
   ],
   "source": [
    "f1_score(gpt3_dev.loc[rel_pairIDs].gold_standard_label, gpt3_dev.loc[rel_pairIDs].pred_label, average=\"macro\")"
   ],
   "metadata": {
    "collapsed": false,
    "pycharm": {
     "name": "#%%\n"
    }
   }
  },
  {
   "cell_type": "code",
   "execution_count": 18,
   "outputs": [
    {
     "data": {
      "text/plain": "                     Unnamed: 0  \\\npairID                            \n4705552913.jpg#2r1e           1   \n4705552913.jpg#2r1c           2   \n3948003394.jpg#1r1e          18   \n3948003394.jpg#1r1c          19   \n5436250638.jpg#4r1c          42   \n...                         ...   \n6087966524.jpg#2r1e        9827   \n3344632789.jpg#0r2c        9828   \n3344632789.jpg#0r1e        9831   \n3344632789.jpg#0r1c        9832   \n3344632789.jpg#0r2e        9833   \n\n                                             gold_standard_explanation  \\\npairID                                                                   \n4705552913.jpg#2r1e  Saying the two women are holding packages is a...   \n4705552913.jpg#2r1c  In the first sentence there is an action of af...   \n3948003394.jpg#1r1e                  Both woman are doing a cartwheel.   \n3948003394.jpg#1r1c  It is not feasible to be in the process of fix...   \n5436250638.jpg#4r1c  The subjects cannot perform surgery and be hav...   \n...                                                                ...   \n6087966524.jpg#2r1e  Two police officers can be rephrased as The Po...   \n3344632789.jpg#0r2c  Performing an aerial skateboard trick and orde...   \n3344632789.jpg#0r1e                         Several people are people.   \n3344632789.jpg#0r1c  Skateboards and bicycles are two different ite...   \n3344632789.jpg#0r2e  A man is a person and to be performing an aeri...   \n\n                    gold_standard_label  \\\npairID                                    \n4705552913.jpg#2r1e          entailment   \n4705552913.jpg#2r1c       contradiction   \n3948003394.jpg#1r1e          entailment   \n3948003394.jpg#1r1c       contradiction   \n5436250638.jpg#4r1c       contradiction   \n...                                 ...   \n6087966524.jpg#2r1e          entailment   \n3344632789.jpg#0r2c       contradiction   \n3344632789.jpg#0r1e          entailment   \n3344632789.jpg#0r1c       contradiction   \n3344632789.jpg#0r2e          entailment   \n\n                                                  prompts_instruct_GPT  \\\npairID                                                                   \n4705552913.jpg#2r1e  Classify into entailment, neutral, or contradi...   \n4705552913.jpg#2r1c  Classify into entailment, neutral, or contradi...   \n3948003394.jpg#1r1e  Classify into entailment, neutral, or contradi...   \n3948003394.jpg#1r1c  Classify into entailment, neutral, or contradi...   \n5436250638.jpg#4r1c  Classify into entailment, neutral, or contradi...   \n...                                                                ...   \n6087966524.jpg#2r1e  Classify into entailment, neutral, or contradi...   \n3344632789.jpg#0r2c  Classify into entailment, neutral, or contradi...   \n3344632789.jpg#0r1e  Classify into entailment, neutral, or contradi...   \n3344632789.jpg#0r1c  Classify into entailment, neutral, or contradi...   \n3344632789.jpg#0r2e  Classify into entailment, neutral, or contradi...   \n\n                                                      pred_explanation  \\\npairID                                                                   \n4705552913.jpg#2r1e                    Embracing is a form of holding.   \n4705552913.jpg#2r1c      Embracing and fighting are different actions.   \n3948003394.jpg#1r1e  A woman doing a cartwheel is wearing a bikini ...   \n3948003394.jpg#1r1c  A woman doing a cartwheel in a bikini in the s...   \n5436250638.jpg#4r1c  Two doctors performing surgery cannot be havin...   \n...                                                                ...   \n6087966524.jpg#2r1e  The premise states that the police officers ar...   \n3344632789.jpg#0r2c  A man performing an aerial skateboard trick on...   \n3344632789.jpg#0r1e  The premise states that there are several peop...   \n3344632789.jpg#0r1c  The premise states that the man is performing ...   \n3344632789.jpg#0r2e  The premise states that a man is performing an...   \n\n                        pred_label  \npairID                              \n4705552913.jpg#2r1e     entailment  \n4705552913.jpg#2r1c  contradiction  \n3948003394.jpg#1r1e     entailment  \n3948003394.jpg#1r1c  contradiction  \n5436250638.jpg#4r1c  contradiction  \n...                            ...  \n6087966524.jpg#2r1e     entailment  \n3344632789.jpg#0r2c  contradiction  \n3344632789.jpg#0r1e     entailment  \n3344632789.jpg#0r1c  contradiction  \n3344632789.jpg#0r2e     entailment  \n\n[2449 rows x 6 columns]",
      "text/html": "<div>\n<style scoped>\n    .dataframe tbody tr th:only-of-type {\n        vertical-align: middle;\n    }\n\n    .dataframe tbody tr th {\n        vertical-align: top;\n    }\n\n    .dataframe thead th {\n        text-align: right;\n    }\n</style>\n<table border=\"1\" class=\"dataframe\">\n  <thead>\n    <tr style=\"text-align: right;\">\n      <th></th>\n      <th>Unnamed: 0</th>\n      <th>gold_standard_explanation</th>\n      <th>gold_standard_label</th>\n      <th>prompts_instruct_GPT</th>\n      <th>pred_explanation</th>\n      <th>pred_label</th>\n    </tr>\n    <tr>\n      <th>pairID</th>\n      <th></th>\n      <th></th>\n      <th></th>\n      <th></th>\n      <th></th>\n      <th></th>\n    </tr>\n  </thead>\n  <tbody>\n    <tr>\n      <th>4705552913.jpg#2r1e</th>\n      <td>1</td>\n      <td>Saying the two women are holding packages is a...</td>\n      <td>entailment</td>\n      <td>Classify into entailment, neutral, or contradi...</td>\n      <td>Embracing is a form of holding.</td>\n      <td>entailment</td>\n    </tr>\n    <tr>\n      <th>4705552913.jpg#2r1c</th>\n      <td>2</td>\n      <td>In the first sentence there is an action of af...</td>\n      <td>contradiction</td>\n      <td>Classify into entailment, neutral, or contradi...</td>\n      <td>Embracing and fighting are different actions.</td>\n      <td>contradiction</td>\n    </tr>\n    <tr>\n      <th>3948003394.jpg#1r1e</th>\n      <td>18</td>\n      <td>Both woman are doing a cartwheel.</td>\n      <td>entailment</td>\n      <td>Classify into entailment, neutral, or contradi...</td>\n      <td>A woman doing a cartwheel is wearing a bikini ...</td>\n      <td>entailment</td>\n    </tr>\n    <tr>\n      <th>3948003394.jpg#1r1c</th>\n      <td>19</td>\n      <td>It is not feasible to be in the process of fix...</td>\n      <td>contradiction</td>\n      <td>Classify into entailment, neutral, or contradi...</td>\n      <td>A woman doing a cartwheel in a bikini in the s...</td>\n      <td>contradiction</td>\n    </tr>\n    <tr>\n      <th>5436250638.jpg#4r1c</th>\n      <td>42</td>\n      <td>The subjects cannot perform surgery and be hav...</td>\n      <td>contradiction</td>\n      <td>Classify into entailment, neutral, or contradi...</td>\n      <td>Two doctors performing surgery cannot be havin...</td>\n      <td>contradiction</td>\n    </tr>\n    <tr>\n      <th>...</th>\n      <td>...</td>\n      <td>...</td>\n      <td>...</td>\n      <td>...</td>\n      <td>...</td>\n      <td>...</td>\n    </tr>\n    <tr>\n      <th>6087966524.jpg#2r1e</th>\n      <td>9827</td>\n      <td>Two police officers can be rephrased as The Po...</td>\n      <td>entailment</td>\n      <td>Classify into entailment, neutral, or contradi...</td>\n      <td>The premise states that the police officers ar...</td>\n      <td>entailment</td>\n    </tr>\n    <tr>\n      <th>3344632789.jpg#0r2c</th>\n      <td>9828</td>\n      <td>Performing an aerial skateboard trick and orde...</td>\n      <td>contradiction</td>\n      <td>Classify into entailment, neutral, or contradi...</td>\n      <td>A man performing an aerial skateboard trick on...</td>\n      <td>contradiction</td>\n    </tr>\n    <tr>\n      <th>3344632789.jpg#0r1e</th>\n      <td>9831</td>\n      <td>Several people are people.</td>\n      <td>entailment</td>\n      <td>Classify into entailment, neutral, or contradi...</td>\n      <td>The premise states that there are several peop...</td>\n      <td>entailment</td>\n    </tr>\n    <tr>\n      <th>3344632789.jpg#0r1c</th>\n      <td>9832</td>\n      <td>Skateboards and bicycles are two different ite...</td>\n      <td>contradiction</td>\n      <td>Classify into entailment, neutral, or contradi...</td>\n      <td>The premise states that the man is performing ...</td>\n      <td>contradiction</td>\n    </tr>\n    <tr>\n      <th>3344632789.jpg#0r2e</th>\n      <td>9833</td>\n      <td>A man is a person and to be performing an aeri...</td>\n      <td>entailment</td>\n      <td>Classify into entailment, neutral, or contradi...</td>\n      <td>The premise states that a man is performing an...</td>\n      <td>entailment</td>\n    </tr>\n  </tbody>\n</table>\n<p>2449 rows × 6 columns</p>\n</div>"
     },
     "execution_count": 18,
     "metadata": {},
     "output_type": "execute_result"
    }
   ],
   "source": [
    "gpt3_dev.loc[rel_pairIDs].iloc[np.where(gpt3_dev.loc[rel_pairIDs].gold_standard_label == gpt3_dev.loc[rel_pairIDs].pred_label)]"
   ],
   "metadata": {
    "collapsed": false,
    "pycharm": {
     "name": "#%%\n"
    }
   }
  },
  {
   "cell_type": "code",
   "execution_count": 39,
   "outputs": [
    {
     "name": "stdout",
     "output_type": "stream",
     "text": [
      "Classify into entailment, neutral, or contradiction and justify the decision.\n",
      "\n",
      "Premise: Three musicians in a recording studio.\n",
      "Hypothesis: Folks making music.\n",
      "Label: entailment\n",
      "Explanation: Three musicians is a rephrasing of folks. If they are in a recording studio, they would be making music.\n",
      "###\n",
      "Premise: A man sits on the sidewalk in front of an Asian restaurant as people pass.\n",
      "Hypothesis: Man eating noodles\n",
      "Label: contradiction\n",
      "Explanation: eating noodles is not usually done when one sits on the sidewalk.\n",
      "###\n",
      "Premise: A middle-aged lady holds a young girl in her arms as they sleep in an indoor booth.\n",
      "Hypothesis: A middle-aged lady and young girl window shop.\n",
      "Label: contradiction\n",
      "Explanation: The lady and the girl cannot shop if they are asleep.\n",
      "###\n",
      "Premise: A young, left handed batter in baseball the moment after he made a hit with a catcher nearby and a crowd in the background.\n",
      "Hypothesis: The batter is a boy.\n",
      "Label: entailment\n",
      "Explanation: The young, left handed better is a boy.\n",
      "###\n",
      "Premise: A woman is being helped up.\n",
      "Hypothesis: A man helps a woman after she fell.\n",
      "Label: neutral\n",
      "Explanation: A woman being helped up doesn't mean she fell or that she was helped up by a man.\n",
      "###\n",
      "Premise: A small child in gray and orange winks their eye while holding silverware.\n",
      "Hypothesis: A small child winks his right eye.\n",
      "Label: neutral\n",
      "Explanation: A small child does not have to be a boy.  Winking an eye does not have to be with the right eye.\n",
      "###\n",
      "Premise: Two women are embracing while holding to go packages.\n",
      "Hypothesis: The sisters are hugging goodbye while holding to go packages after just eating lunch.\n",
      "Label: \n"
     ]
    }
   ],
   "source": [
    "print(gpt3_dev.iloc[0].prompts_instruct_GPT)"
   ],
   "metadata": {
    "collapsed": false,
    "pycharm": {
     "name": "#%%\n"
    }
   }
  },
  {
   "cell_type": "code",
   "execution_count": 35,
   "outputs": [
    {
     "data": {
      "text/plain": "'4345676156.jpg#4r1e'"
     },
     "execution_count": 35,
     "metadata": {},
     "output_type": "execute_result"
    }
   ],
   "source": [
    "gpt3_dev.index[1235]"
   ],
   "metadata": {
    "collapsed": false,
    "pycharm": {
     "name": "#%%\n"
    }
   }
  }
 ],
 "metadata": {
  "kernelspec": {
   "display_name": "Python 3",
   "language": "python",
   "name": "python3"
  },
  "language_info": {
   "codemirror_mode": {
    "name": "ipython",
    "version": 2
   },
   "file_extension": ".py",
   "mimetype": "text/x-python",
   "name": "python",
   "nbconvert_exporter": "python",
   "pygments_lexer": "ipython2",
   "version": "2.7.6"
  }
 },
 "nbformat": 4,
 "nbformat_minor": 0
}