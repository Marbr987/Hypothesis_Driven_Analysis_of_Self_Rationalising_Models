{
 "cells": [
  {
   "cell_type": "code",
   "execution_count": 1,
   "metadata": {
    "collapsed": true,
    "pycharm": {
     "name": "#%%\n"
    }
   },
   "outputs": [],
   "source": [
    "import pandas as pd\n",
    "import datetime\n",
    "import numpy as np\n",
    "from sklearn.neural_network import MLPClassifier\n",
    "import matplotlib.pyplot as plt\n",
    "from sklearn.metrics import confusion_matrix, f1_score, accuracy_score\n",
    "import pickle"
   ]
  },
  {
   "cell_type": "code",
   "execution_count": 2,
   "outputs": [],
   "source": [
    "train1 = pd.read_csv('../Input_Data/e-SNLI/dataset/esnli_train_1.csv')\n",
    "train2 = pd.read_csv('../Input_Data/e-SNLI/dataset/esnli_train_2.csv')\n",
    "train = pd.concat([train1, train2])\n",
    "train = train[train.notnull().apply(all, axis=1)]\n",
    "dev = pd.read_csv('../Input_Data/e-SNLI/dataset/esnli_dev.csv')\n",
    "dev = dev[dev.notnull().apply(all, axis=1)]\n",
    "test = pd.read_csv('../Input_Data/e-SNLI/dataset/esnli_test.csv')\n",
    "test = test[test.notnull().apply(all, axis=1)]\n",
    "\n",
    "dev_prepared = pd.read_csv('../02_Extract_Subphrases/prepared_data/subphrase_vectors_dev.csv', sep=';')\n",
    "dev_prepared = dev_prepared.drop(columns='Unnamed: 0')\n",
    "dev = dev.set_index('pairID')\n",
    "rel_pairIDs = dev_prepared.iloc[:,0]\n",
    "y_hat = dev.loc[rel_pairIDs].gold_label\n",
    "dev_prepared = dev_prepared.iloc[:,1:].to_numpy()"
   ],
   "metadata": {
    "collapsed": false,
    "pycharm": {
     "name": "#%%\n"
    }
   }
  },
  {
   "cell_type": "code",
   "execution_count": 4,
   "outputs": [],
   "source": [
    "temp = [None, ] * 10\n",
    "for i in range(1,11):\n",
    "    temp[i-1] = pd.read_csv(\"prepared_data/GPT3_explanations\" + str(i) + \".csv\", sep=\";\")\n",
    "gpt3_dev = pd.concat(temp).set_index(\"pairID\")"
   ],
   "metadata": {
    "collapsed": false,
    "pycharm": {
     "name": "#%%\n"
    }
   }
  },
  {
   "cell_type": "code",
   "execution_count": 5,
   "outputs": [
    {
     "data": {
      "text/plain": "0.8069192751235584"
     },
     "execution_count": 5,
     "metadata": {},
     "output_type": "execute_result"
    }
   ],
   "source": [
    "np.mean(gpt3_dev.loc[rel_pairIDs].gold_standard_label == gpt3_dev.loc[rel_pairIDs].pred_label)"
   ],
   "metadata": {
    "collapsed": false,
    "pycharm": {
     "name": "#%%\n"
    }
   }
  },
  {
   "cell_type": "code",
   "execution_count": 6,
   "outputs": [
    {
     "data": {
      "text/plain": "0.7884484917636336"
     },
     "execution_count": 6,
     "metadata": {},
     "output_type": "execute_result"
    }
   ],
   "source": [
    "f1_score(gpt3_dev.loc[rel_pairIDs].gold_standard_label, gpt3_dev.loc[rel_pairIDs].pred_label, average=\"macro\")"
   ],
   "metadata": {
    "collapsed": false,
    "pycharm": {
     "name": "#%%\n"
    }
   }
  },
  {
   "cell_type": "code",
   "execution_count": 7,
   "outputs": [
    {
     "data": {
      "text/plain": "                     Unnamed: 0  \\\npairID                            \n4705552913.jpg#2r1e           1   \n4705552913.jpg#2r1c           2   \n3948003394.jpg#1r1e          18   \n3948003394.jpg#1r1c          19   \n5436250638.jpg#4r1c          42   \n...                         ...   \n6087966524.jpg#2r1e        9827   \n3344632789.jpg#0r2c        9828   \n3344632789.jpg#0r1e        9831   \n3344632789.jpg#0r1c        9832   \n3344632789.jpg#0r2e        9833   \n\n                                             gold_standard_explanation  \\\npairID                                                                   \n4705552913.jpg#2r1e  Saying the two women are holding packages is a...   \n4705552913.jpg#2r1c  In the first sentence there is an action of af...   \n3948003394.jpg#1r1e                  Both woman are doing a cartwheel.   \n3948003394.jpg#1r1c  It is not feasible to be in the process of fix...   \n5436250638.jpg#4r1c  The subjects cannot perform surgery and be hav...   \n...                                                                ...   \n6087966524.jpg#2r1e  Two police officers can be rephrased as The Po...   \n3344632789.jpg#0r2c  Performing an aerial skateboard trick and orde...   \n3344632789.jpg#0r1e                         Several people are people.   \n3344632789.jpg#0r1c  Skateboards and bicycles are two different ite...   \n3344632789.jpg#0r2e  A man is a person and to be performing an aeri...   \n\n                    gold_standard_label  \\\npairID                                    \n4705552913.jpg#2r1e          entailment   \n4705552913.jpg#2r1c       contradiction   \n3948003394.jpg#1r1e          entailment   \n3948003394.jpg#1r1c       contradiction   \n5436250638.jpg#4r1c       contradiction   \n...                                 ...   \n6087966524.jpg#2r1e          entailment   \n3344632789.jpg#0r2c       contradiction   \n3344632789.jpg#0r1e          entailment   \n3344632789.jpg#0r1c       contradiction   \n3344632789.jpg#0r2e          entailment   \n\n                                                  prompts_instruct_GPT  \\\npairID                                                                   \n4705552913.jpg#2r1e  Classify into entailment, neutral, or contradi...   \n4705552913.jpg#2r1c  Classify into entailment, neutral, or contradi...   \n3948003394.jpg#1r1e  Classify into entailment, neutral, or contradi...   \n3948003394.jpg#1r1c  Classify into entailment, neutral, or contradi...   \n5436250638.jpg#4r1c  Classify into entailment, neutral, or contradi...   \n...                                                                ...   \n6087966524.jpg#2r1e  Classify into entailment, neutral, or contradi...   \n3344632789.jpg#0r2c  Classify into entailment, neutral, or contradi...   \n3344632789.jpg#0r1e  Classify into entailment, neutral, or contradi...   \n3344632789.jpg#0r1c  Classify into entailment, neutral, or contradi...   \n3344632789.jpg#0r2e  Classify into entailment, neutral, or contradi...   \n\n                                                      pred_explanation  \\\npairID                                                                   \n4705552913.jpg#2r1e                    Embracing is a form of holding.   \n4705552913.jpg#2r1c      Embracing and fighting are different actions.   \n3948003394.jpg#1r1e  A woman doing a cartwheel is wearing a bikini ...   \n3948003394.jpg#1r1c  A woman doing a cartwheel in a bikini in the s...   \n5436250638.jpg#4r1c  Two doctors performing surgery cannot be havin...   \n...                                                                ...   \n6087966524.jpg#2r1e  The premise states that the police officers ar...   \n3344632789.jpg#0r2c  A man performing an aerial skateboard trick on...   \n3344632789.jpg#0r1e  The premise states that there are several peop...   \n3344632789.jpg#0r1c  The premise states that the man is performing ...   \n3344632789.jpg#0r2e  The premise states that a man is performing an...   \n\n                        pred_label  \npairID                              \n4705552913.jpg#2r1e     entailment  \n4705552913.jpg#2r1c  contradiction  \n3948003394.jpg#1r1e     entailment  \n3948003394.jpg#1r1c  contradiction  \n5436250638.jpg#4r1c  contradiction  \n...                            ...  \n6087966524.jpg#2r1e     entailment  \n3344632789.jpg#0r2c  contradiction  \n3344632789.jpg#0r1e     entailment  \n3344632789.jpg#0r1c  contradiction  \n3344632789.jpg#0r2e     entailment  \n\n[2449 rows x 6 columns]",
      "text/html": "<div>\n<style scoped>\n    .dataframe tbody tr th:only-of-type {\n        vertical-align: middle;\n    }\n\n    .dataframe tbody tr th {\n        vertical-align: top;\n    }\n\n    .dataframe thead th {\n        text-align: right;\n    }\n</style>\n<table border=\"1\" class=\"dataframe\">\n  <thead>\n    <tr style=\"text-align: right;\">\n      <th></th>\n      <th>Unnamed: 0</th>\n      <th>gold_standard_explanation</th>\n      <th>gold_standard_label</th>\n      <th>prompts_instruct_GPT</th>\n      <th>pred_explanation</th>\n      <th>pred_label</th>\n    </tr>\n    <tr>\n      <th>pairID</th>\n      <th></th>\n      <th></th>\n      <th></th>\n      <th></th>\n      <th></th>\n      <th></th>\n    </tr>\n  </thead>\n  <tbody>\n    <tr>\n      <th>4705552913.jpg#2r1e</th>\n      <td>1</td>\n      <td>Saying the two women are holding packages is a...</td>\n      <td>entailment</td>\n      <td>Classify into entailment, neutral, or contradi...</td>\n      <td>Embracing is a form of holding.</td>\n      <td>entailment</td>\n    </tr>\n    <tr>\n      <th>4705552913.jpg#2r1c</th>\n      <td>2</td>\n      <td>In the first sentence there is an action of af...</td>\n      <td>contradiction</td>\n      <td>Classify into entailment, neutral, or contradi...</td>\n      <td>Embracing and fighting are different actions.</td>\n      <td>contradiction</td>\n    </tr>\n    <tr>\n      <th>3948003394.jpg#1r1e</th>\n      <td>18</td>\n      <td>Both woman are doing a cartwheel.</td>\n      <td>entailment</td>\n      <td>Classify into entailment, neutral, or contradi...</td>\n      <td>A woman doing a cartwheel is wearing a bikini ...</td>\n      <td>entailment</td>\n    </tr>\n    <tr>\n      <th>3948003394.jpg#1r1c</th>\n      <td>19</td>\n      <td>It is not feasible to be in the process of fix...</td>\n      <td>contradiction</td>\n      <td>Classify into entailment, neutral, or contradi...</td>\n      <td>A woman doing a cartwheel in a bikini in the s...</td>\n      <td>contradiction</td>\n    </tr>\n    <tr>\n      <th>5436250638.jpg#4r1c</th>\n      <td>42</td>\n      <td>The subjects cannot perform surgery and be hav...</td>\n      <td>contradiction</td>\n      <td>Classify into entailment, neutral, or contradi...</td>\n      <td>Two doctors performing surgery cannot be havin...</td>\n      <td>contradiction</td>\n    </tr>\n    <tr>\n      <th>...</th>\n      <td>...</td>\n      <td>...</td>\n      <td>...</td>\n      <td>...</td>\n      <td>...</td>\n      <td>...</td>\n    </tr>\n    <tr>\n      <th>6087966524.jpg#2r1e</th>\n      <td>9827</td>\n      <td>Two police officers can be rephrased as The Po...</td>\n      <td>entailment</td>\n      <td>Classify into entailment, neutral, or contradi...</td>\n      <td>The premise states that the police officers ar...</td>\n      <td>entailment</td>\n    </tr>\n    <tr>\n      <th>3344632789.jpg#0r2c</th>\n      <td>9828</td>\n      <td>Performing an aerial skateboard trick and orde...</td>\n      <td>contradiction</td>\n      <td>Classify into entailment, neutral, or contradi...</td>\n      <td>A man performing an aerial skateboard trick on...</td>\n      <td>contradiction</td>\n    </tr>\n    <tr>\n      <th>3344632789.jpg#0r1e</th>\n      <td>9831</td>\n      <td>Several people are people.</td>\n      <td>entailment</td>\n      <td>Classify into entailment, neutral, or contradi...</td>\n      <td>The premise states that there are several peop...</td>\n      <td>entailment</td>\n    </tr>\n    <tr>\n      <th>3344632789.jpg#0r1c</th>\n      <td>9832</td>\n      <td>Skateboards and bicycles are two different ite...</td>\n      <td>contradiction</td>\n      <td>Classify into entailment, neutral, or contradi...</td>\n      <td>The premise states that the man is performing ...</td>\n      <td>contradiction</td>\n    </tr>\n    <tr>\n      <th>3344632789.jpg#0r2e</th>\n      <td>9833</td>\n      <td>A man is a person and to be performing an aeri...</td>\n      <td>entailment</td>\n      <td>Classify into entailment, neutral, or contradi...</td>\n      <td>The premise states that a man is performing an...</td>\n      <td>entailment</td>\n    </tr>\n  </tbody>\n</table>\n<p>2449 rows × 6 columns</p>\n</div>"
     },
     "execution_count": 7,
     "metadata": {},
     "output_type": "execute_result"
    }
   ],
   "source": [
    "gpt3_dev.loc[rel_pairIDs].iloc[np.where(gpt3_dev.loc[rel_pairIDs].gold_standard_label == gpt3_dev.loc[rel_pairIDs].pred_label)]"
   ],
   "metadata": {
    "collapsed": false,
    "pycharm": {
     "name": "#%%\n"
    }
   }
  },
  {
   "cell_type": "code",
   "execution_count": 14,
   "outputs": [
    {
     "name": "stdout",
     "output_type": "stream",
     "text": [
      "Two women embracing while holding to go packages implies that they just ate lunch and are now saying goodbye.\n",
      "Embracing is a form of holding.\n",
      "Embracing and fighting are different actions.\n",
      "A woman doing a cartwheel is wearing a bikini in the sand next to the beach.\n",
      "A woman doing a cartwheel in a bikini in the sand implies she is not fixing her home.\n",
      "A woman can do a cartwheel and not fall on her head.\n",
      "Two doctors performing surgery cannot be having lunch at the same time.\n",
      "The premise states that two doctors are performing surgery, which is what the hypothesis states.\n",
      "The premise does not specify the gender of the patient.\n",
      "A dog cannot be jumping and swimming underwater at the same time.\n",
      "A white dog with long hair jumps to catch a red and green toy is same as an animal is jumping to catch an object.\n",
      "A white dog with long hair does not necessarily mean it is a chihuahua mix with long curly hair.\n",
      "Kids are on a amusement ride is same as Kids ride their favorite amusement ride.\n",
      "Kids cannot be on an amusement ride and a car cannot be broken down on the side of the road at the same time.\n",
      "The premise and hypothesis are saying the same thing.\n",
      "Playing golf and trading Pokemon cards are two different activities.\n",
      "The men are not driving cars, they are on rollerskates.\n",
      "The man in the green jersey stumbles, which implies that they both fall to the ground.\n",
      "The premise states that the man is in rollerskates and stumbles, so the hypothesis is entailed by the premise.\n",
      "The man is wearing a white t-shirt, not a black shirt.\n",
      "The premise states that the man is wearing a white t-shirt.\n",
      "The man could be taking photos for any reason, not necessarily while on tour in NYC.\n",
      "The two farmers are men and they are working on John Deere equipment.\n",
      "The premise states that two farmers are working on a piece of John Deere equipment, which implies that John Deere equipment is being worked on by two farmers.\n",
      "Farmers and men making a pool are not the same.\n",
      "Swinging high in the air does not necessarily mean the girl is gaining momentum to flip off the swing.\n",
      "A girl cannot be swinging high in the air and laying in the pool at the same time.\n",
      "Sentence 1: A girl swings high in the air. Sentence 2: A girl is on a swing. Answer: Swinging high in the air is a form of being on a swing.\n",
      "The man may or may not be trying to pick out what cereal to choose.\n",
      "The man cannot be in a supermarket aisle and a theater at the same time.\n",
      "A man inside a supermarket would be studying the shelves in a supermarket aisle.\n",
      "Riding a bicycle in the sand does not imply the person is falling off their bike.\n",
      "A person riding a bicycle cannot be on a boat.\n",
      "Riding a bicycle in the sand beside the ocean implies the person is on a beach.\n",
      "If two black little boys are hanging over an upside down bicycle, it is logically possible for them to be looking at the bike.\n",
      "Children are usually outside when examining a bicycle.\n",
      "The boys are hanging over the bicycle, not riding it.\n",
      "Hot air balloons are typically launched outdoors.\n",
      "The group of people are preparing hot air balloons for takeoff, not cars for racing.\n",
      "The premise states that the people are preparing hot air balloons for takeoff, which implies that there are hot air balloons on the ground and in the air.\n",
      "A group of young people with instruments on stage implies that they are performing as a band for a crowd.\n",
      "Young people with instruments are on stage, they cannot also be playing water polo.\n",
      "People with instruments on stage are likely playing music.\n",
      "Playing a guitar usually involves playing a song.\n",
      "The man is wearing a black shirt, not a blue shirt.\n",
      "The man is wearing black.\n",
      "People walking down the center of the road is not the same as a motorcade driving past an audience.\n",
      "The premise states that people are walking down the road.\n",
      "The premise states that the woman is talking on the phone, which implies that she is awake.\n",
      "Talking on the phone while standing next to a dog implies that the woman is walking her dog.\n",
      "The premise states that the woman is talking on the phone, so the hypothesis is true.\n",
      "The description of the street performer does not imply that he is performing a magic act.\n",
      "The premise states that the person is performing, so the hypothesis is true.\n",
      "The premise states the performer is outside, while the hypothesis states the child is inside.\n",
      "Throwing tomatoes at each other would result in the men being covered in tomatoes.\n",
      "Throwing tomatoes is a type of food fight.\n",
      "Playing with letters on the floor is not playing a video game in the bath.\n",
      "Playing with letters on the floor could mean the girl is spelling out her favorite words.\n",
      "Cooking food implies making something to eat.\n",
      "The premise does not imply that the two men are cooking food for the block party.\n",
      "Cooking food and running in a race cannot be happening in the same context.\n",
      "Walking in a crowd implies that the woman is awake.\n",
      "If a lady is walking in a crowd, then she is near a group of people.\n",
      "Just because the lady has bright orange hair does not mean she is a street performer entertaining tourists.\n",
      "The premise states that the group is composed of children, while the hypothesis states that the group is composed of adults.\n",
      "Enjoying time on the beach implies that the children are swimming at the beach.\n",
      "The premise states that the children are enjoying their time on the beach, which implies that they are present at the beach.\n",
      "A group of people sitting together implies that they are sitting together.\n",
      "An older gentleman cannot be in the countryside and on a spaceship at the same time.\n",
      "An older gentleman is a man and he is walking through the countryside.\n",
      "Sitting in a chair on the sidewalk in front of a huge display of brightly colored artwork does not indicate that the man was watching tv.\n",
      "This is a restatement of the premise, so it cannot be classified as entailment, neutral, or contradiction.\n",
      "Just because the man is sitting in front of the artwork doesn't mean he is selling it.\n",
      "The hypothesis is entailed by the premise.\n",
      "The premise states that the two men are Asian and squatting, which is supported by the hypothesis.\n",
      "The premise states that the image is of two Asian men, not two Italian girls.\n",
      "The girl could be jumping for any reason, not necessarily playing jump rope.\n",
      "Jumping outside is an indication that the child is playing.\n",
      "Jumping is a form of dancing.\n",
      "Posing for a photo implies that the man is prepared.\n",
      "The premise states that there is a black late model station wagon in the background.\n",
      "The premise states that the station wagon is black, not white.\n",
      "The premise states that a black late model station wagon is in the background.\n",
      "Sliding and rolling are two different actions.\n",
      "Sliding down an inflatable ride is a form of playing.\n",
      "The boy is sliding down the inflatable ride, not piercing it with a knife.\n",
      "The premise states that the man is at a car dealership, so the hypothesis is entailed.\n",
      "The man is in two different places.\n",
      "The premise does not mention anything about the man's wife.\n",
      "The premise states that the man is near a clean ocean beach area.\n",
      "A man standing on one foot near a beach does not indicate that he is sitting on a couch.\n",
      "Walking is a form of traveling by foot.\n",
      "The color of the suits cannot be inferred from the premise.\n",
      "The women are wearing dress suits, not bikinis.\n",
      "They are waiting for a train, not a bus.\n",
      "We cannot tell if they will both get onto the same train together.\n",
      "The premise states that a man is smiling at a woman.\n",
      "The man and woman may not be married.\n",
      "The premise states that the man is smiling at a woman, not reading a book.\n",
      "The kids are drawing something, which could be pictures of animals.\n"
     ]
    }
   ],
   "source": [
    "for i in range(100):\n",
    "    print(gpt3_dev.loc[rel_pairIDs].pred_explanation.iloc[i])"
   ],
   "metadata": {
    "collapsed": false,
    "pycharm": {
     "name": "#%%\n"
    }
   }
  },
  {
   "cell_type": "code",
   "execution_count": 9,
   "outputs": [
    {
     "data": {
      "text/plain": "'4345676156.jpg#4r1e'"
     },
     "execution_count": 9,
     "metadata": {},
     "output_type": "execute_result"
    }
   ],
   "source": [
    "gpt3_dev.index[1235]"
   ],
   "metadata": {
    "collapsed": false,
    "pycharm": {
     "name": "#%%\n"
    }
   }
  },
  {
   "cell_type": "code",
   "execution_count": null,
   "outputs": [],
   "source": [],
   "metadata": {
    "collapsed": false,
    "pycharm": {
     "name": "#%%\n"
    }
   }
  }
 ],
 "metadata": {
  "kernelspec": {
   "display_name": "Python 3",
   "language": "python",
   "name": "python3"
  },
  "language_info": {
   "codemirror_mode": {
    "name": "ipython",
    "version": 2
   },
   "file_extension": ".py",
   "mimetype": "text/x-python",
   "name": "python",
   "nbconvert_exporter": "python",
   "pygments_lexer": "ipython2",
   "version": "2.7.6"
  }
 },
 "nbformat": 4,
 "nbformat_minor": 0
}