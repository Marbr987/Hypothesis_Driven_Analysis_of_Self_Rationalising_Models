{
 "cells": [
  {
   "cell_type": "code",
   "execution_count": 1,
   "outputs": [],
   "source": [
    "import textacy\n",
    "import pandas as pd\n",
    "import spacy\n",
    "from subject_verb_object_extract import findSVOs\n",
    "import matplotlib.pyplot as plt\n",
    "import numpy as np\n",
    "\n",
    "nlp = spacy.load('en_core_web_lg')"
   ],
   "metadata": {
    "collapsed": false,
    "pycharm": {
     "name": "#%%\n"
    }
   }
  },
  {
   "cell_type": "code",
   "execution_count": 2,
   "outputs": [
    {
     "name": "stderr",
     "output_type": "stream",
     "text": [
      "/var/folders/lp/djryk53n11b_ww_n9xbjm4s80000gn/T/ipykernel_6409/4184760766.py:8: DeprecationWarning: This function is deprecated. Please call randint(0, 549367 + 1) instead\n",
      "  cur_train_indices = np.random.random_integers(0, train.shape[0], 200)\n"
     ]
    }
   ],
   "source": [
    "train1 = pd.read_csv('../Input_Data/e-SNLI/dataset/esnli_train_1.csv')\n",
    "train2 = pd.read_csv('../Input_Data/e-SNLI/dataset/esnli_train_2.csv')\n",
    "train = pd.concat([train1, train2])\n",
    "dev = pd.read_csv('../Input_Data/e-SNLI/dataset/esnli_dev.csv')\n",
    "test = pd.read_csv('../Input_Data/e-SNLI/dataset/esnli_test.csv')\n",
    "\n",
    "np.random.seed(12345)\n",
    "cur_train_indices = np.random.random_integers(0, train.shape[0], 200)\n",
    "train = train.iloc[cur_train_indices]"
   ],
   "metadata": {
    "collapsed": false,
    "pycharm": {
     "name": "#%%\n"
    }
   }
  },
  {
   "cell_type": "code",
   "execution_count": 3,
   "outputs": [
    {
     "data": {
      "text/plain": "                     pairID     gold_label  \\\n77285   3978422588.jpg#0r1n        neutral   \n135394  4830620136.jpg#4r1e     entailment   \n87557   4574082050.jpg#2r1e     entailment   \n86398   3960632488.jpg#3r1e     entailment   \n161222   447430161.jpg#2r1n        neutral   \n...                     ...            ...   \n114439  3537474810.jpg#4r1e     entailment   \n116473  2232694969.jpg#0r1n        neutral   \n252476   425775901.jpg#4r1n        neutral   \n32364   3013469764.jpg#2r1c  contradiction   \n221895  4569687236.jpg#4r1n        neutral   \n\n                                                Sentence1  \\\n77285   Two women are walking on the sidewalk and one ...   \n135394            Three people are walking down a street.   \n87557   A large group of people gather outside a very ...   \n86398   A man and a woman are sitting on the deck of a...   \n161222        There are many people collected in a field.   \n...                                                   ...   \n114439               Man in blue shirt kicks soccer ball.   \n116473  A naked child stands facing two wet objects th...   \n252476         The man is talking in front of the people.   \n32364         A person is riding an ATV through the dirt.   \n221895               Three dark kids on a water tricycle.   \n\n                                                Sentence2  \\\n77285              Two women are going to visit a friend.   \n135394                     Three individuals are walking.   \n87557                  people are gathered on a busy road   \n86398                               They are on the deck.   \n161222                       The people are cult members.   \n...                                                   ...   \n114439  A man kicks a soccer ball while wearing a blue...   \n116473                                The child is asian.   \n252476          the people are listening to the man poems   \n32364    A person is riding a helicopter through the air.   \n221895   Three kids are using a water trike in the ocean.   \n\n                                            Explanation_1        WorkerId  \\\n77285   Walking on the sidewalk does not necessarily m...  A3MOH6X140NNB9   \n135394               People implies they are individuals.  A29GIYJ5MUHBPB   \n87557               Busy street is the same as busy road.  A3UYOMPM14B3WQ   \n86398   A man and a women can be condensed into the pr...  A3MMJ5K2RD4TPQ   \n161222  Just because there are many people collected i...  A29N66WIWNN8JK   \n...                                                   ...             ...   \n114439  A man in blue shirt implies he is wearing a bl...  A3IAHTO6KDRKTB   \n116473                        Not all children are Asian.  A3IB7YJHP04OHI   \n252476  Just because a man is talking in front of the ...  A3MOH6X140NNB9   \n32364   An ATV and a helicopter are two different type...  A36H650OIIUFT9   \n221895  There is no reference to the color of the kids...  A3TM1ENF3TJQWZ   \n\n                                       Sentence1_marked_1  \\\n77285   Two women are walking on the sidewalk and one ...   \n135394          Three *people* are walking down a street.   \n87557    A large group of people gather outside a very...   \n86398    A *man* and a *woman* are sitting on the deck...   \n161222        There are many people collected in a field.   \n...                                                   ...   \n114439       *Man* *in* *blue* *shirt* kicks soccer ball.   \n116473  A naked child stands facing two wet objects th...   \n252476         The man is talking in front of the people.   \n32364       A person is riding an *ATV* through the dirt.   \n221895               Three dark kids on a water tricycle.   \n\n                                       Sentence2_marked_1  \\\n77285    Two women are *going* *to* *visit* *a* *friend.*   \n135394                   Three *individuals* are walking.   \n87557              people are gathered on a *busy* *road*   \n86398                             *They* are on the deck.   \n161222                 The people *are* *cult* *members.*   \n...                                                   ...   \n114439   A man kicks a soccer ball while *wearing* *a*...   \n116473                          The *child* *is* *asian.*   \n252476      the people are *listening* to the man *poems*   \n32364    A person is riding a *helicopter* through the...   \n221895   *Three* *kids* are using a water trike in the...   \n\n       Sentence1_Highlighted_1 Sentence2_Highlighted_1  \n77285                       {}               3,4,5,7,6  \n135394                       1                       1  \n87557                     9,10                     5,6  \n86398                      1,4                       0  \n161222                      {}                   3,4,2  \n...                        ...                     ...  \n114439                 0,1,2,3                7,8,9,10  \n116473                      {}                   1,2,3  \n252476                      {}                     3,7  \n32364                        5                       5  \n221895                      {}                     1,0  \n\n[200 rows x 10 columns]",
      "text/html": "<div>\n<style scoped>\n    .dataframe tbody tr th:only-of-type {\n        vertical-align: middle;\n    }\n\n    .dataframe tbody tr th {\n        vertical-align: top;\n    }\n\n    .dataframe thead th {\n        text-align: right;\n    }\n</style>\n<table border=\"1\" class=\"dataframe\">\n  <thead>\n    <tr style=\"text-align: right;\">\n      <th></th>\n      <th>pairID</th>\n      <th>gold_label</th>\n      <th>Sentence1</th>\n      <th>Sentence2</th>\n      <th>Explanation_1</th>\n      <th>WorkerId</th>\n      <th>Sentence1_marked_1</th>\n      <th>Sentence2_marked_1</th>\n      <th>Sentence1_Highlighted_1</th>\n      <th>Sentence2_Highlighted_1</th>\n    </tr>\n  </thead>\n  <tbody>\n    <tr>\n      <th>77285</th>\n      <td>3978422588.jpg#0r1n</td>\n      <td>neutral</td>\n      <td>Two women are walking on the sidewalk and one ...</td>\n      <td>Two women are going to visit a friend.</td>\n      <td>Walking on the sidewalk does not necessarily m...</td>\n      <td>A3MOH6X140NNB9</td>\n      <td>Two women are walking on the sidewalk and one ...</td>\n      <td>Two women are *going* *to* *visit* *a* *friend.*</td>\n      <td>{}</td>\n      <td>3,4,5,7,6</td>\n    </tr>\n    <tr>\n      <th>135394</th>\n      <td>4830620136.jpg#4r1e</td>\n      <td>entailment</td>\n      <td>Three people are walking down a street.</td>\n      <td>Three individuals are walking.</td>\n      <td>People implies they are individuals.</td>\n      <td>A29GIYJ5MUHBPB</td>\n      <td>Three *people* are walking down a street.</td>\n      <td>Three *individuals* are walking.</td>\n      <td>1</td>\n      <td>1</td>\n    </tr>\n    <tr>\n      <th>87557</th>\n      <td>4574082050.jpg#2r1e</td>\n      <td>entailment</td>\n      <td>A large group of people gather outside a very ...</td>\n      <td>people are gathered on a busy road</td>\n      <td>Busy street is the same as busy road.</td>\n      <td>A3UYOMPM14B3WQ</td>\n      <td>A large group of people gather outside a very...</td>\n      <td>people are gathered on a *busy* *road*</td>\n      <td>9,10</td>\n      <td>5,6</td>\n    </tr>\n    <tr>\n      <th>86398</th>\n      <td>3960632488.jpg#3r1e</td>\n      <td>entailment</td>\n      <td>A man and a woman are sitting on the deck of a...</td>\n      <td>They are on the deck.</td>\n      <td>A man and a women can be condensed into the pr...</td>\n      <td>A3MMJ5K2RD4TPQ</td>\n      <td>A *man* and a *woman* are sitting on the deck...</td>\n      <td>*They* are on the deck.</td>\n      <td>1,4</td>\n      <td>0</td>\n    </tr>\n    <tr>\n      <th>161222</th>\n      <td>447430161.jpg#2r1n</td>\n      <td>neutral</td>\n      <td>There are many people collected in a field.</td>\n      <td>The people are cult members.</td>\n      <td>Just because there are many people collected i...</td>\n      <td>A29N66WIWNN8JK</td>\n      <td>There are many people collected in a field.</td>\n      <td>The people *are* *cult* *members.*</td>\n      <td>{}</td>\n      <td>3,4,2</td>\n    </tr>\n    <tr>\n      <th>...</th>\n      <td>...</td>\n      <td>...</td>\n      <td>...</td>\n      <td>...</td>\n      <td>...</td>\n      <td>...</td>\n      <td>...</td>\n      <td>...</td>\n      <td>...</td>\n      <td>...</td>\n    </tr>\n    <tr>\n      <th>114439</th>\n      <td>3537474810.jpg#4r1e</td>\n      <td>entailment</td>\n      <td>Man in blue shirt kicks soccer ball.</td>\n      <td>A man kicks a soccer ball while wearing a blue...</td>\n      <td>A man in blue shirt implies he is wearing a bl...</td>\n      <td>A3IAHTO6KDRKTB</td>\n      <td>*Man* *in* *blue* *shirt* kicks soccer ball.</td>\n      <td>A man kicks a soccer ball while *wearing* *a*...</td>\n      <td>0,1,2,3</td>\n      <td>7,8,9,10</td>\n    </tr>\n    <tr>\n      <th>116473</th>\n      <td>2232694969.jpg#0r1n</td>\n      <td>neutral</td>\n      <td>A naked child stands facing two wet objects th...</td>\n      <td>The child is asian.</td>\n      <td>Not all children are Asian.</td>\n      <td>A3IB7YJHP04OHI</td>\n      <td>A naked child stands facing two wet objects th...</td>\n      <td>The *child* *is* *asian.*</td>\n      <td>{}</td>\n      <td>1,2,3</td>\n    </tr>\n    <tr>\n      <th>252476</th>\n      <td>425775901.jpg#4r1n</td>\n      <td>neutral</td>\n      <td>The man is talking in front of the people.</td>\n      <td>the people are listening to the man poems</td>\n      <td>Just because a man is talking in front of the ...</td>\n      <td>A3MOH6X140NNB9</td>\n      <td>The man is talking in front of the people.</td>\n      <td>the people are *listening* to the man *poems*</td>\n      <td>{}</td>\n      <td>3,7</td>\n    </tr>\n    <tr>\n      <th>32364</th>\n      <td>3013469764.jpg#2r1c</td>\n      <td>contradiction</td>\n      <td>A person is riding an ATV through the dirt.</td>\n      <td>A person is riding a helicopter through the air.</td>\n      <td>An ATV and a helicopter are two different type...</td>\n      <td>A36H650OIIUFT9</td>\n      <td>A person is riding an *ATV* through the dirt.</td>\n      <td>A person is riding a *helicopter* through the...</td>\n      <td>5</td>\n      <td>5</td>\n    </tr>\n    <tr>\n      <th>221895</th>\n      <td>4569687236.jpg#4r1n</td>\n      <td>neutral</td>\n      <td>Three dark kids on a water tricycle.</td>\n      <td>Three kids are using a water trike in the ocean.</td>\n      <td>There is no reference to the color of the kids...</td>\n      <td>A3TM1ENF3TJQWZ</td>\n      <td>Three dark kids on a water tricycle.</td>\n      <td>*Three* *kids* are using a water trike in the...</td>\n      <td>{}</td>\n      <td>1,0</td>\n    </tr>\n  </tbody>\n</table>\n<p>200 rows × 10 columns</p>\n</div>"
     },
     "execution_count": 3,
     "metadata": {},
     "output_type": "execute_result"
    }
   ],
   "source": [
    "train[train.notnull().apply(all, axis=1)]"
   ],
   "metadata": {
    "collapsed": false,
    "pycharm": {
     "name": "#%%\n"
    }
   }
  },
  {
   "cell_type": "code",
   "execution_count": 4,
   "outputs": [],
   "source": [
    "def extract_SVO(text):\n",
    "\ttuples_list = list()\n",
    "\ttuples = textacy.extract.subject_verb_object_triples(text)\n",
    "\tif tuples:\n",
    "\t\ttuples_to_list = list(tuples)\n",
    "\t\ttuples_list.append(tuples_to_list)\n",
    "\treturn tuples_list"
   ],
   "metadata": {
    "collapsed": false,
    "pycharm": {
     "name": "#%%\n"
    }
   }
  },
  {
   "cell_type": "code",
   "execution_count": 5,
   "outputs": [],
   "source": [
    "def findLoc(text):\n",
    "\tres = list()\n",
    "\tfor token in text:\n",
    "\t\tif token.dep_ == 'prep' and token.lemma_ in ['on', 'in']:\n",
    "\t\t\tres += list(token.subtree)\n",
    "\treturn res"
   ],
   "metadata": {
    "collapsed": false,
    "pycharm": {
     "name": "#%%\n"
    }
   }
  },
  {
   "cell_type": "code",
   "execution_count": 6,
   "outputs": [],
   "source": [
    "def transform_svo_to_nlp(svos):\n",
    "\tres = list()\n",
    "\tif svos != None:\n",
    "\t\tfor svo in svos:\n",
    "\t\t\tres.append([[token for token in nlp(sub_part)] for sub_part in svo])\n",
    "\t\treturn res\n",
    "\telse:\n",
    "\t\treturn svos"
   ],
   "metadata": {
    "collapsed": false,
    "pycharm": {
     "name": "#%%\n"
    }
   }
  },
  {
   "cell_type": "code",
   "execution_count": 7,
   "outputs": [],
   "source": [
    "SVO_list = []\n",
    "train['nlp_s1'] = train['Sentence1'].apply(nlp)\n",
    "train['nlp_s2'] = train['Sentence2'].apply(nlp)\n",
    "train['svo_s1'] = train['nlp_s1'].apply(findSVOs).apply(transform_svo_to_nlp).apply(lambda x: x if x == None or len(x) == 1 else None)\n",
    "train['svo_s2'] = train['nlp_s2'].apply(findSVOs).apply(transform_svo_to_nlp).apply(lambda x: x if x == None or len(x) == 1 else None)\n",
    "train = train[~train.svo_s1.isna() & ~train.svo_s2.isna()]"
   ],
   "metadata": {
    "collapsed": false,
    "pycharm": {
     "name": "#%%\n"
    }
   }
  },
  {
   "cell_type": "code",
   "execution_count": 8,
   "outputs": [],
   "source": [
    "train['loc_s1'] = train['nlp_s1'].apply(findLoc)\n",
    "train['loc_s2'] = train['nlp_s2'].apply(findLoc)"
   ],
   "metadata": {
    "collapsed": false,
    "pycharm": {
     "name": "#%%\n"
    }
   }
  },
  {
   "cell_type": "code",
   "execution_count": 9,
   "outputs": [
    {
     "data": {
      "text/plain": "                                                   svo_s1  \\\n135394                     [[[Three, people], [walking]]]   \n87557         [[[A, large, group, of, people], [gather]]]   \n150147            [[[A, woman], [studies], [the, label]]]   \n52593                           [[[A, person], [stands]]]   \n41842    [[[A, young, adult], [throwing], [a, softball]]]   \n...                                                   ...   \n17506                          [[[Three, women], [jump]]]   \n200641          [[[A, man], [playing], [the, saxophone]]]   \n114439  [[[Man, in, blue, shirt], [kicks], [soccer, ba...   \n252476                          [[[The, man], [talking]]]   \n32364                [[[A, person], [riding], [an, ATV]]]   \n\n                                        loc_s1  \\\n135394                                      []   \n87557                                       []   \n150147                  [on, a, food, product]   \n52593   [in, a, vast, field, of, glacial, ice]   \n41842                                       []   \n...                                        ...   \n17506                                       []   \n200641                                      []   \n114439                       [in, blue, shirt]   \n252476            [in, front, of, the, people]   \n32364                                       []   \n\n                                                  svo_s2  \\\n135394               [[[Three, individuals], [walking]]]   \n87557            [[[a, busy, road], [gather], [people]]]   \n150147                         [[[The, woman], [looks]]]   \n52593                         [[[A, person], [sitting]]]   \n41842   [[[The, third, baseman], [throws], [the, ball]]]   \n...                                                  ...   \n17506                               [[[A, woman], [is]]]   \n200641           [[[The, man], [is], [a, song, writer]]]   \n114439          [[[A, man], [kicks], [a, soccer, ball]]]   \n252476                    [[[the, people], [listening]]]   \n32364         [[[A, person], [riding], [a, helicopter]]]   \n\n                          loc_s2  \n135394                        []  \n87557        [on, a, busy, road]  \n150147  [on, the, food, product]  \n52593            [in, the, sand]  \n41842                         []  \n...                          ...  \n17506                         []  \n200641                        []  \n114439                        []  \n252476                        []  \n32364                         []  \n\n[61 rows x 4 columns]",
      "text/html": "<div>\n<style scoped>\n    .dataframe tbody tr th:only-of-type {\n        vertical-align: middle;\n    }\n\n    .dataframe tbody tr th {\n        vertical-align: top;\n    }\n\n    .dataframe thead th {\n        text-align: right;\n    }\n</style>\n<table border=\"1\" class=\"dataframe\">\n  <thead>\n    <tr style=\"text-align: right;\">\n      <th></th>\n      <th>svo_s1</th>\n      <th>loc_s1</th>\n      <th>svo_s2</th>\n      <th>loc_s2</th>\n    </tr>\n  </thead>\n  <tbody>\n    <tr>\n      <th>135394</th>\n      <td>[[[Three, people], [walking]]]</td>\n      <td>[]</td>\n      <td>[[[Three, individuals], [walking]]]</td>\n      <td>[]</td>\n    </tr>\n    <tr>\n      <th>87557</th>\n      <td>[[[A, large, group, of, people], [gather]]]</td>\n      <td>[]</td>\n      <td>[[[a, busy, road], [gather], [people]]]</td>\n      <td>[on, a, busy, road]</td>\n    </tr>\n    <tr>\n      <th>150147</th>\n      <td>[[[A, woman], [studies], [the, label]]]</td>\n      <td>[on, a, food, product]</td>\n      <td>[[[The, woman], [looks]]]</td>\n      <td>[on, the, food, product]</td>\n    </tr>\n    <tr>\n      <th>52593</th>\n      <td>[[[A, person], [stands]]]</td>\n      <td>[in, a, vast, field, of, glacial, ice]</td>\n      <td>[[[A, person], [sitting]]]</td>\n      <td>[in, the, sand]</td>\n    </tr>\n    <tr>\n      <th>41842</th>\n      <td>[[[A, young, adult], [throwing], [a, softball]]]</td>\n      <td>[]</td>\n      <td>[[[The, third, baseman], [throws], [the, ball]]]</td>\n      <td>[]</td>\n    </tr>\n    <tr>\n      <th>...</th>\n      <td>...</td>\n      <td>...</td>\n      <td>...</td>\n      <td>...</td>\n    </tr>\n    <tr>\n      <th>17506</th>\n      <td>[[[Three, women], [jump]]]</td>\n      <td>[]</td>\n      <td>[[[A, woman], [is]]]</td>\n      <td>[]</td>\n    </tr>\n    <tr>\n      <th>200641</th>\n      <td>[[[A, man], [playing], [the, saxophone]]]</td>\n      <td>[]</td>\n      <td>[[[The, man], [is], [a, song, writer]]]</td>\n      <td>[]</td>\n    </tr>\n    <tr>\n      <th>114439</th>\n      <td>[[[Man, in, blue, shirt], [kicks], [soccer, ba...</td>\n      <td>[in, blue, shirt]</td>\n      <td>[[[A, man], [kicks], [a, soccer, ball]]]</td>\n      <td>[]</td>\n    </tr>\n    <tr>\n      <th>252476</th>\n      <td>[[[The, man], [talking]]]</td>\n      <td>[in, front, of, the, people]</td>\n      <td>[[[the, people], [listening]]]</td>\n      <td>[]</td>\n    </tr>\n    <tr>\n      <th>32364</th>\n      <td>[[[A, person], [riding], [an, ATV]]]</td>\n      <td>[]</td>\n      <td>[[[A, person], [riding], [a, helicopter]]]</td>\n      <td>[]</td>\n    </tr>\n  </tbody>\n</table>\n<p>61 rows × 4 columns</p>\n</div>"
     },
     "execution_count": 9,
     "metadata": {},
     "output_type": "execute_result"
    }
   ],
   "source": [
    "train[['svo_s1', 'loc_s1', 'svo_s2', 'loc_s2']]"
   ],
   "metadata": {
    "collapsed": false,
    "pycharm": {
     "name": "#%%\n"
    }
   }
  },
  {
   "cell_type": "markdown",
   "source": [
    "## Extract Clothing"
   ],
   "metadata": {
    "collapsed": false,
    "pycharm": {
     "name": "#%% md\n"
    }
   }
  },
  {
   "cell_type": "markdown",
   "source": [
    "### Train Classifier"
   ],
   "metadata": {
    "collapsed": false,
    "pycharm": {
     "name": "#%% md\n"
    }
   }
  },
  {
   "cell_type": "code",
   "execution_count": 10,
   "outputs": [],
   "source": [
    "clothing_words = ['jeans', 'shirt', 'shirts', 'boot', 'boots', 'jacket', 'jackets', 'glove', 'gloves', 'shoe', 'shoes', 'sweater', 'sweaters', 'hat', 'hats', 'skirt', 'skirts', 'beanie', 'beanies', 'blouse', 'blouses', 'tank top', 'tank tops', 'shorts', 'trousers', 'pants', 'skirt', 'skirts', 'jumper', 'suit', 'suits', 'uniform', 'uniforms', 'dress', 'dresses', 'coat', 'coats', 'pullover', 'pullovers', 'sweatshirt', 'sweatshirts', 'cardigan', 'cardigans', 'sandle', 'sandles', 'raincoat', 'raincoats', 'swimsuit', 'scarf', 'hoodie']\n",
    "other_words = [word for word in list(nlp.vocab.strings) if word not in clothing_words]"
   ],
   "metadata": {
    "collapsed": false,
    "pycharm": {
     "name": "#%%\n"
    }
   }
  },
  {
   "cell_type": "code",
   "execution_count": 11,
   "outputs": [],
   "source": [
    "def cosine_sim_clothing_word(word, clothing_vectors):\n",
    "\tv1 = nlp.vocab[word].vector\n",
    "\treturn max([np.dot(v1, v2)  / (np.linalg.norm(v1) * np.linalg.norm(v2)) for v2 in clothing_vectors])"
   ],
   "metadata": {
    "collapsed": false,
    "pycharm": {
     "name": "#%%\n"
    }
   }
  },
  {
   "cell_type": "code",
   "execution_count": 12,
   "outputs": [],
   "source": [
    "all_terms = pd.Series(nlp.vocab.strings)\n",
    "clothing_vectors = [nlp.vocab[clothing_word].vector for clothing_word in clothing_words]"
   ],
   "metadata": {
    "collapsed": false,
    "pycharm": {
     "name": "#%%\n"
    }
   }
  },
  {
   "cell_type": "code",
   "execution_count": 15,
   "outputs": [
    {
     "ename": "KeyboardInterrupt",
     "evalue": "",
     "output_type": "error",
     "traceback": [
      "\u001B[0;31m---------------------------------------------------------------------------\u001B[0m",
      "\u001B[0;31mKeyboardInterrupt\u001B[0m                         Traceback (most recent call last)",
      "Cell \u001B[0;32mIn[15], line 1\u001B[0m\n\u001B[0;32m----> 1\u001B[0m res \u001B[38;5;241m=\u001B[39m \u001B[43mall_terms\u001B[49m\u001B[38;5;241;43m.\u001B[39;49m\u001B[43mapply\u001B[49m\u001B[43m(\u001B[49m\u001B[43mcosine_sim_clothing_word\u001B[49m\u001B[43m,\u001B[49m\u001B[43m \u001B[49m\u001B[43mclothing_vectors\u001B[49m\u001B[38;5;241;43m=\u001B[39;49m\u001B[43mclothing_vectors\u001B[49m\u001B[43m)\u001B[49m\n",
      "File \u001B[0;32m~/.conda/envs/master_thesis_code/lib/python3.10/site-packages/pandas/core/series.py:4771\u001B[0m, in \u001B[0;36mSeries.apply\u001B[0;34m(self, func, convert_dtype, args, **kwargs)\u001B[0m\n\u001B[1;32m   4661\u001B[0m \u001B[38;5;28;01mdef\u001B[39;00m \u001B[38;5;21mapply\u001B[39m(\n\u001B[1;32m   4662\u001B[0m     \u001B[38;5;28mself\u001B[39m,\n\u001B[1;32m   4663\u001B[0m     func: AggFuncType,\n\u001B[0;32m   (...)\u001B[0m\n\u001B[1;32m   4666\u001B[0m     \u001B[38;5;241m*\u001B[39m\u001B[38;5;241m*\u001B[39mkwargs,\n\u001B[1;32m   4667\u001B[0m ) \u001B[38;5;241m-\u001B[39m\u001B[38;5;241m>\u001B[39m DataFrame \u001B[38;5;241m|\u001B[39m Series:\n\u001B[1;32m   4668\u001B[0m \u001B[38;5;250m    \u001B[39m\u001B[38;5;124;03m\"\"\"\u001B[39;00m\n\u001B[1;32m   4669\u001B[0m \u001B[38;5;124;03m    Invoke function on values of Series.\u001B[39;00m\n\u001B[1;32m   4670\u001B[0m \n\u001B[0;32m   (...)\u001B[0m\n\u001B[1;32m   4769\u001B[0m \u001B[38;5;124;03m    dtype: float64\u001B[39;00m\n\u001B[1;32m   4770\u001B[0m \u001B[38;5;124;03m    \"\"\"\u001B[39;00m\n\u001B[0;32m-> 4771\u001B[0m     \u001B[38;5;28;01mreturn\u001B[39;00m \u001B[43mSeriesApply\u001B[49m\u001B[43m(\u001B[49m\u001B[38;5;28;43mself\u001B[39;49m\u001B[43m,\u001B[49m\u001B[43m \u001B[49m\u001B[43mfunc\u001B[49m\u001B[43m,\u001B[49m\u001B[43m \u001B[49m\u001B[43mconvert_dtype\u001B[49m\u001B[43m,\u001B[49m\u001B[43m \u001B[49m\u001B[43margs\u001B[49m\u001B[43m,\u001B[49m\u001B[43m \u001B[49m\u001B[43mkwargs\u001B[49m\u001B[43m)\u001B[49m\u001B[38;5;241;43m.\u001B[39;49m\u001B[43mapply\u001B[49m\u001B[43m(\u001B[49m\u001B[43m)\u001B[49m\n",
      "File \u001B[0;32m~/.conda/envs/master_thesis_code/lib/python3.10/site-packages/pandas/core/apply.py:1123\u001B[0m, in \u001B[0;36mSeriesApply.apply\u001B[0;34m(self)\u001B[0m\n\u001B[1;32m   1120\u001B[0m     \u001B[38;5;28;01mreturn\u001B[39;00m \u001B[38;5;28mself\u001B[39m\u001B[38;5;241m.\u001B[39mapply_str()\n\u001B[1;32m   1122\u001B[0m \u001B[38;5;66;03m# self.f is Callable\u001B[39;00m\n\u001B[0;32m-> 1123\u001B[0m \u001B[38;5;28;01mreturn\u001B[39;00m \u001B[38;5;28;43mself\u001B[39;49m\u001B[38;5;241;43m.\u001B[39;49m\u001B[43mapply_standard\u001B[49m\u001B[43m(\u001B[49m\u001B[43m)\u001B[49m\n",
      "File \u001B[0;32m~/.conda/envs/master_thesis_code/lib/python3.10/site-packages/pandas/core/apply.py:1174\u001B[0m, in \u001B[0;36mSeriesApply.apply_standard\u001B[0;34m(self)\u001B[0m\n\u001B[1;32m   1172\u001B[0m     \u001B[38;5;28;01melse\u001B[39;00m:\n\u001B[1;32m   1173\u001B[0m         values \u001B[38;5;241m=\u001B[39m obj\u001B[38;5;241m.\u001B[39mastype(\u001B[38;5;28mobject\u001B[39m)\u001B[38;5;241m.\u001B[39m_values\n\u001B[0;32m-> 1174\u001B[0m         mapped \u001B[38;5;241m=\u001B[39m \u001B[43mlib\u001B[49m\u001B[38;5;241;43m.\u001B[39;49m\u001B[43mmap_infer\u001B[49m\u001B[43m(\u001B[49m\n\u001B[1;32m   1175\u001B[0m \u001B[43m            \u001B[49m\u001B[43mvalues\u001B[49m\u001B[43m,\u001B[49m\n\u001B[1;32m   1176\u001B[0m \u001B[43m            \u001B[49m\u001B[43mf\u001B[49m\u001B[43m,\u001B[49m\n\u001B[1;32m   1177\u001B[0m \u001B[43m            \u001B[49m\u001B[43mconvert\u001B[49m\u001B[38;5;241;43m=\u001B[39;49m\u001B[38;5;28;43mself\u001B[39;49m\u001B[38;5;241;43m.\u001B[39;49m\u001B[43mconvert_dtype\u001B[49m\u001B[43m,\u001B[49m\n\u001B[1;32m   1178\u001B[0m \u001B[43m        \u001B[49m\u001B[43m)\u001B[49m\n\u001B[1;32m   1180\u001B[0m \u001B[38;5;28;01mif\u001B[39;00m \u001B[38;5;28mlen\u001B[39m(mapped) \u001B[38;5;129;01mand\u001B[39;00m \u001B[38;5;28misinstance\u001B[39m(mapped[\u001B[38;5;241m0\u001B[39m], ABCSeries):\n\u001B[1;32m   1181\u001B[0m     \u001B[38;5;66;03m# GH#43986 Need to do list(mapped) in order to get treated as nested\u001B[39;00m\n\u001B[1;32m   1182\u001B[0m     \u001B[38;5;66;03m#  See also GH#25959 regarding EA support\u001B[39;00m\n\u001B[1;32m   1183\u001B[0m     \u001B[38;5;28;01mreturn\u001B[39;00m obj\u001B[38;5;241m.\u001B[39m_constructor_expanddim(\u001B[38;5;28mlist\u001B[39m(mapped), index\u001B[38;5;241m=\u001B[39mobj\u001B[38;5;241m.\u001B[39mindex)\n",
      "File \u001B[0;32m~/.conda/envs/master_thesis_code/lib/python3.10/site-packages/pandas/_libs/lib.pyx:2924\u001B[0m, in \u001B[0;36mpandas._libs.lib.map_infer\u001B[0;34m()\u001B[0m\n",
      "File \u001B[0;32m~/.conda/envs/master_thesis_code/lib/python3.10/site-packages/pandas/core/apply.py:142\u001B[0m, in \u001B[0;36mApply.__init__.<locals>.f\u001B[0;34m(x)\u001B[0m\n\u001B[1;32m    141\u001B[0m \u001B[38;5;28;01mdef\u001B[39;00m \u001B[38;5;21mf\u001B[39m(x):\n\u001B[0;32m--> 142\u001B[0m     \u001B[38;5;28;01mreturn\u001B[39;00m \u001B[43mfunc\u001B[49m\u001B[43m(\u001B[49m\u001B[43mx\u001B[49m\u001B[43m,\u001B[49m\u001B[43m \u001B[49m\u001B[38;5;241;43m*\u001B[39;49m\u001B[43margs\u001B[49m\u001B[43m,\u001B[49m\u001B[43m \u001B[49m\u001B[38;5;241;43m*\u001B[39;49m\u001B[38;5;241;43m*\u001B[39;49m\u001B[43mkwargs\u001B[49m\u001B[43m)\u001B[49m\n",
      "Cell \u001B[0;32mIn[13], line 3\u001B[0m, in \u001B[0;36mcosine_sim_clothing_word\u001B[0;34m(word, clothing_vectors)\u001B[0m\n\u001B[1;32m      1\u001B[0m \u001B[38;5;28;01mdef\u001B[39;00m \u001B[38;5;21mcosine_sim_clothing_word\u001B[39m(word, clothing_vectors):\n\u001B[1;32m      2\u001B[0m \tv1 \u001B[38;5;241m=\u001B[39m nlp\u001B[38;5;241m.\u001B[39mvocab[word]\u001B[38;5;241m.\u001B[39mvector\n\u001B[0;32m----> 3\u001B[0m \t\u001B[38;5;28;01mreturn\u001B[39;00m \u001B[38;5;28mmax\u001B[39m([np\u001B[38;5;241m.\u001B[39mdot(v1, v2)  \u001B[38;5;241m/\u001B[39m (np\u001B[38;5;241m.\u001B[39mlinalg\u001B[38;5;241m.\u001B[39mnorm(v1) \u001B[38;5;241m*\u001B[39m np\u001B[38;5;241m.\u001B[39mlinalg\u001B[38;5;241m.\u001B[39mnorm(v2)) \u001B[38;5;28;01mfor\u001B[39;00m v2 \u001B[38;5;129;01min\u001B[39;00m clothing_vectors])\n",
      "Cell \u001B[0;32mIn[13], line 3\u001B[0m, in \u001B[0;36m<listcomp>\u001B[0;34m(.0)\u001B[0m\n\u001B[1;32m      1\u001B[0m \u001B[38;5;28;01mdef\u001B[39;00m \u001B[38;5;21mcosine_sim_clothing_word\u001B[39m(word, clothing_vectors):\n\u001B[1;32m      2\u001B[0m \tv1 \u001B[38;5;241m=\u001B[39m nlp\u001B[38;5;241m.\u001B[39mvocab[word]\u001B[38;5;241m.\u001B[39mvector\n\u001B[0;32m----> 3\u001B[0m \t\u001B[38;5;28;01mreturn\u001B[39;00m \u001B[38;5;28mmax\u001B[39m([np\u001B[38;5;241m.\u001B[39mdot(v1, v2)  \u001B[38;5;241m/\u001B[39m (np\u001B[38;5;241m.\u001B[39mlinalg\u001B[38;5;241m.\u001B[39mnorm(v1) \u001B[38;5;241m*\u001B[39m \u001B[43mnp\u001B[49m\u001B[38;5;241;43m.\u001B[39;49m\u001B[43mlinalg\u001B[49m\u001B[38;5;241;43m.\u001B[39;49m\u001B[43mnorm\u001B[49m\u001B[43m(\u001B[49m\u001B[43mv2\u001B[49m\u001B[43m)\u001B[49m) \u001B[38;5;28;01mfor\u001B[39;00m v2 \u001B[38;5;129;01min\u001B[39;00m clothing_vectors])\n",
      "File \u001B[0;32m<__array_function__ internals>:200\u001B[0m, in \u001B[0;36mnorm\u001B[0;34m(*args, **kwargs)\u001B[0m\n",
      "File \u001B[0;32m~/.conda/envs/master_thesis_code/lib/python3.10/site-packages/numpy/linalg/linalg.py:2512\u001B[0m, in \u001B[0;36mnorm\u001B[0;34m(x, ord, axis, keepdims)\u001B[0m\n\u001B[1;32m   2510\u001B[0m \u001B[38;5;28;01melse\u001B[39;00m:\n\u001B[1;32m   2511\u001B[0m     sqnorm \u001B[38;5;241m=\u001B[39m x\u001B[38;5;241m.\u001B[39mdot(x)\n\u001B[0;32m-> 2512\u001B[0m ret \u001B[38;5;241m=\u001B[39m \u001B[43msqrt\u001B[49m\u001B[43m(\u001B[49m\u001B[43msqnorm\u001B[49m\u001B[43m)\u001B[49m\n\u001B[1;32m   2513\u001B[0m \u001B[38;5;28;01mif\u001B[39;00m keepdims:\n\u001B[1;32m   2514\u001B[0m     ret \u001B[38;5;241m=\u001B[39m ret\u001B[38;5;241m.\u001B[39mreshape(ndim\u001B[38;5;241m*\u001B[39m[\u001B[38;5;241m1\u001B[39m])\n",
      "\u001B[0;31mKeyboardInterrupt\u001B[0m: "
     ]
    }
   ],
   "source": [
    "res = all_terms.apply(cosine_sim_clothing_word, clothing_vectors=clothing_vectors)"
   ],
   "metadata": {
    "collapsed": false,
    "pycharm": {
     "name": "#%%\n"
    }
   }
  },
  {
   "cell_type": "code",
   "execution_count": null,
   "outputs": [],
   "source": [
    "label = np.array([1 if word in clothing_words else 0 for word in all_terms])"
   ],
   "metadata": {
    "collapsed": false,
    "pycharm": {
     "name": "#%%\n"
    }
   }
  },
  {
   "cell_type": "code",
   "execution_count": null,
   "outputs": [],
   "source": [
    "all_terms = all_terms[[not val for val in res.isna()]]\n",
    "label = label[[not val for val in res.isna()]]\n",
    "res = res[[not val for val in res.isna()]]\n",
    "res = res.reset_index()\n",
    "res = res.drop([\"index\"], axis=1)\n",
    "all_terms = all_terms.reset_index()\n",
    "all_terms = all_terms.drop([\"index\"], axis=1)"
   ],
   "metadata": {
    "collapsed": false,
    "pycharm": {
     "name": "#%%\n"
    }
   }
  },
  {
   "cell_type": "code",
   "execution_count": 449,
   "outputs": [
    {
     "data": {
      "text/plain": "<matplotlib.lines.Line2D at 0x1b8f097b0>"
     },
     "execution_count": 449,
     "metadata": {},
     "output_type": "execute_result"
    },
    {
     "data": {
      "text/plain": "<Figure size 640x480 with 1 Axes>",
      "image/png": "[encoded data removed]"
     },
     "metadata": {},
     "output_type": "display_data"
    }
   ],
   "source": [
    "plt.scatter(range(len(res)), np.sort(res[0]), c=label)\n",
    "plt.axhline(y=0.7, color=\"red\")"
   ],
   "metadata": {
    "collapsed": false,
    "pycharm": {
     "name": "#%%\n"
    }
   }
  },
  {
   "cell_type": "code",
   "execution_count": 13,
   "outputs": [],
   "source": [
    "def cosine_sim(v1, v2):\n",
    "\treturn np.dot(v1, v2)  / (np.linalg.norm(v1) * np.linalg.norm(v2))\n",
    "\n",
    "clothing_vectors = [nlp.vocab[clothing_word].vector for clothing_word in clothing_words]\n",
    "\n",
    "def findClothing(text):\n",
    "\t# https://stackoverflow.com/questions/53493052/any-elegant-solution-for-finding-compound-noun-adjective-pairs-from-sentence-by\n",
    "\tfor token in text:\n",
    "\t\tif any(np.array([cosine_sim(token.vector, v2) for v2 in clothing_vectors]) > 0.7):\n",
    "\t\t\tcomps = [j for j in token.children if j.pos_ in ['ADJ', 'NOUN', 'PROPN']]\n",
    "\t\t\tif len(comps) > 0:\n",
    "\t\t\t\treturn comps + [token, ]\n",
    "\t\t\telse:\n",
    "\t\t\t\treturn [token, ]"
   ],
   "metadata": {
    "collapsed": false,
    "pycharm": {
     "name": "#%%\n"
    }
   }
  },
  {
   "cell_type": "code",
   "execution_count": 14,
   "outputs": [],
   "source": [
    "train['clo_s1'] = train['nlp_s1'].apply(findClothing)\n",
    "train['clo_s2'] = train['nlp_s2'].apply(findClothing)"
   ],
   "metadata": {
    "collapsed": false,
    "pycharm": {
     "name": "#%%\n"
    }
   }
  },
  {
   "cell_type": "code",
   "execution_count": 15,
   "outputs": [
    {
     "data": {
      "text/plain": "1    1.0\nName: svo_s1, dtype: float64"
     },
     "execution_count": 15,
     "metadata": {},
     "output_type": "execute_result"
    }
   ],
   "source": [
    "# How many svo structures are extracted per sentence 1?\n",
    "train.svo_s1.apply(lambda x: len(x)).value_counts() / train.shape[0]"
   ],
   "metadata": {
    "collapsed": false,
    "pycharm": {
     "name": "#%%\n"
    }
   }
  },
  {
   "cell_type": "code",
   "execution_count": 16,
   "outputs": [
    {
     "data": {
      "text/plain": "1    1.0\nName: svo_s2, dtype: float64"
     },
     "execution_count": 16,
     "metadata": {},
     "output_type": "execute_result"
    }
   ],
   "source": [
    "# How many svo structures are extracted per sentence 2?\n",
    "train.svo_s2.apply(lambda x: len(x)).value_counts() / train.shape[0]"
   ],
   "metadata": {
    "collapsed": false,
    "pycharm": {
     "name": "#%%\n"
    }
   }
  },
  {
   "cell_type": "code",
   "execution_count": 36,
   "outputs": [],
   "source": [
    "def remove_clo_loc_from_svo(clo, loc, svo):\n",
    "\tif clo is not None:\n",
    "\t\tclo = clo.copy()\n",
    "\t\tsvo = svo.copy()\n",
    "\t\tclo_lemmas = [cur_clo.lemma_ for cur_clo in clo]\n",
    "\t\tfor i in range(len(svo)):\n",
    "\t\t\tsvo[i][0] = [token for token in svo[i][0] if token.lemma_ not in clo_lemmas]\n",
    "\tif loc is not None:\n",
    "\t\tloc = loc.copy()\n",
    "\t\tloc_lemmas = [cur_loc.lemma_ for cur_loc in loc]\n",
    "\t\tfor i in range(len(svo)):\n",
    "\t\t\tsvo[i][0] = [token for token in svo[i][0] if token.lemma_ not in loc_lemmas]\n",
    "\treturn svo\n",
    "\n",
    "def remove_clo_from_loc(clo, loc):\n",
    "\tif clo is not None and loc is not None:\n",
    "\t\tclo = clo.copy()\n",
    "\t\tloc = loc.copy()\n",
    "\t\tclo_lemmas = [cur_clo.lemma_ for cur_clo in clo]\n",
    "\t\tloc = [token for token in loc if token.lemma_ not in clo_lemmas]\n",
    "\tif loc is not None:\n",
    "\t\tloc = [token for token in loc if token.text not in (\"in\", \"on\") and not token.is_stop]\n",
    "\t\tif len(loc) == 0:\n",
    "\t\t\treturn None\n",
    "\treturn loc"
   ],
   "metadata": {
    "collapsed": false,
    "pycharm": {
     "name": "#%%\n"
    }
   }
  },
  {
   "cell_type": "code",
   "execution_count": 37,
   "outputs": [],
   "source": [
    "def svo_to_string(svo):\n",
    "\ttry:\n",
    "\t\tsvo = svo[0][1]\n",
    "\t\tres = [token.text for token in svo]\n",
    "\t\tres = \" \".join(res)\n",
    "\texcept:\n",
    "\t\tres = \"\"\n",
    "\treturn res"
   ],
   "metadata": {
    "collapsed": false,
    "pycharm": {
     "name": "#%%\n"
    }
   }
  },
  {
   "cell_type": "code",
   "execution_count": 38,
   "outputs": [],
   "source": [
    "train['svo_s1'] = train.apply(lambda x: remove_clo_loc_from_svo(x.clo_s1, x.loc_s1, x.svo_s1), axis=1)\n",
    "train['svo_s2'] = train.apply(lambda x: remove_clo_loc_from_svo(x.clo_s2, x.loc_s2, x.svo_s2), axis=1)\n",
    "\n",
    "train['loc_s1'] = train.apply(lambda x: remove_clo_from_loc(x.clo_s1, x.loc_s1), axis=1)\n",
    "train['loc_s2'] = train.apply(lambda x: remove_clo_from_loc(x.clo_s2, x.loc_s2), axis=1)"
   ],
   "metadata": {
    "collapsed": false,
    "pycharm": {
     "name": "#%%\n"
    }
   }
  },
  {
   "cell_type": "code",
   "execution_count": 39,
   "outputs": [
    {
     "data": {
      "text/plain": "                                                Sentence1  \\\n135394            Three people are walking down a street.   \n87557   A large group of people gather outside a very ...   \n150147       A woman studies the label on a food product.   \n52593     A person stands in a vast field of glacial ice.   \n41842   A young adult is throwing a softball to home b...   \n7987      A young man jumps hurdles in a race on a track.   \n3511    A man and a woman with a head covering are on ...   \n247252  A man is hanging by a line off a cliff above w...   \n237772   A group of four people congregate on a sidewalk.   \n219170                     A teenager has climbed a tree.   \n71885   A man on a street corner is giving someone dir...   \n40619   A man in a white shirt a dark tan pants plays ...   \n74322   A boy is running through the yard happily, car...   \n91321   Seniors as well as a younger couple enjoy danc...   \n152333  The shadowy figure of a young girl is moving t...   \n271010  A skateboarder in black clothes jumps over a b...   \n256224  construction workers appearing through a chain...   \n24412         Women are washing their clothes in a river.   \n149362                        two black poodles fighting.   \n57375                           People browse in a store.   \n\n                                                   svo_s1  \\\n135394                     [[[Three, people], [walking]]]   \n87557         [[[A, large, group, of, people], [gather]]]   \n150147            [[[A, woman], [studies], [the, label]]]   \n52593                           [[[A, person], [stands]]]   \n41842    [[[A, young, adult], [throwing], [a, softball]]]   \n7987              [[[A, young, man], [jumps], [hurdles]]]   \n3511                                   [[[a], [looking]]]   \n247252                            [[[A, man], [hanging]]]   \n237772     [[[A, group, of, four, people], [congregate]]]   \n219170            [[[A, teenager], [climbed], [a, tree]]]   \n71885   [[[A, man, on, a], [giving], [someone, directi...   \n40619       [[[A, man, in, pants], [plays], [a, violin]]]   \n74322                             [[[A, boy], [running]]]   \n91321                  [[[Seniors, as, couple], [enjoy]]]   \n152333  [[[The, shadowy, figure, of, a, young, girl], ...   \n271010                 [[[A, skateboarder, in], [jumps]]]   \n256224           [[[construction, workers], [appearing]]]   \n24412            [[[Women], [washing], [their, clothes]]]   \n149362              [[[two, black, poodles], [fighting]]]   \n57375                              [[[People], [browse]]]   \n\n                                loc_s1            clo_s1  \\\n135394                            None              None   \n87557                             None              None   \n150147                 [food, product]              None   \n52593      [vast, field, glacial, ice]              None   \n41842                             None              None   \n7987              [race, track, track]              None   \n3511    [bridge, looking, water, boat]              None   \n247252                            None              None   \n237772                      [sidewalk]              None   \n219170                            None              None   \n71885                 [street, corner]              None   \n40619                             None    [white, shirt]   \n74322                             None              None   \n91321                             None              None   \n152333                            None              None   \n271010                            None  [black, clothes]   \n256224                            None              None   \n24412                          [river]         [clothes]   \n149362                            None              None   \n57375                          [store]              None   \n\n                                                Sentence2  \\\n135394                     Three individuals are walking.   \n87557                  people are gathered on a busy road   \n150147  The woman looks at the calorie count on the fo...   \n52593                    A person is sitting in the sand.   \n41842                  The third baseman throws the ball.   \n7987                                A young man is racing   \n3511    A husband and a wife with a head covering are ...   \n247252                          a man fell into the water   \n237772               The people are shoveling the street,   \n219170                     There is a teenager in a tree.   \n71885            A man is shaving his face in a bathroom.   \n40619                           the man has a white shirt   \n74322                A boy is carrying a red toy tractor.   \n91321             A woman is on the computer at her desk.   \n152333                               A man rests at home.   \n271010                    A skateboarder sits on a bench.   \n256224  The construction workers appear through a wood...   \n24412                           Women wash their clothes.   \n149362                              there is only one dog   \n57375                              People are in a store.   \n\n                                                  svo_s2  \\\n135394               [[[Three, individuals], [walking]]]   \n87557                        [[[a], [gather], [people]]]   \n150147                         [[[The, woman], [looks]]]   \n52593                         [[[A, person], [sitting]]]   \n41842   [[[The, third, baseman], [throws], [the, ball]]]   \n7987                       [[[A, young, man], [racing]]]   \n3511                                  [[[a], [looking]]]   \n247252                              [[[a, man], [fell]]]   \n237772     [[[The, people], [shoveling], [the, street]]]   \n219170     [[[There], [is], [a, teenager, in, a, tree]]]   \n71885               [[[A, man], [shaving], [his, face]]]   \n40619           [[[the, man], [has], [a, white, shirt]]]   \n74322   [[[A, boy], [carrying], [a, red, toy, tractor]]]   \n91321                               [[[A, woman], [is]]]   \n152333                             [[[A, man], [rests]]]   \n271010                     [[[A, skateboarder], [sits]]]   \n256224        [[[The, construction, workers], [appear]]]   \n24412              [[[Women], [wash], [their, clothes]]]   \n149362                     [[[there], [is], [one, dog]]]   \n57375                                [[[People], [are]]]   \n\n                                loc_s2          clo_s2  \n135394                            None            None  \n87557                     [busy, road]            None  \n150147                 [food, product]            None  \n52593                           [sand]            None  \n41842                             None            None  \n7987                              None            None  \n3511    [bridge, looking, water, boat]            None  \n247252                            None            None  \n237772                            None            None  \n219170                          [tree]            None  \n71885                       [bathroom]            None  \n40619                             None  [white, shirt]  \n74322                             None            None  \n91321                       [computer]            None  \n152333                            None            None  \n271010                         [bench]            None  \n256224                            None            None  \n24412                             None       [clothes]  \n149362                            None            None  \n57375                          [store]            None  ",
      "text/html": "<div>\n<style scoped>\n    .dataframe tbody tr th:only-of-type {\n        vertical-align: middle;\n    }\n\n    .dataframe tbody tr th {\n        vertical-align: top;\n    }\n\n    .dataframe thead th {\n        text-align: right;\n    }\n</style>\n<table border=\"1\" class=\"dataframe\">\n  <thead>\n    <tr style=\"text-align: right;\">\n      <th></th>\n      <th>Sentence1</th>\n      <th>svo_s1</th>\n      <th>loc_s1</th>\n      <th>clo_s1</th>\n      <th>Sentence2</th>\n      <th>svo_s2</th>\n      <th>loc_s2</th>\n      <th>clo_s2</th>\n    </tr>\n  </thead>\n  <tbody>\n    <tr>\n      <th>135394</th>\n      <td>Three people are walking down a street.</td>\n      <td>[[[Three, people], [walking]]]</td>\n      <td>None</td>\n      <td>None</td>\n      <td>Three individuals are walking.</td>\n      <td>[[[Three, individuals], [walking]]]</td>\n      <td>None</td>\n      <td>None</td>\n    </tr>\n    <tr>\n      <th>87557</th>\n      <td>A large group of people gather outside a very ...</td>\n      <td>[[[A, large, group, of, people], [gather]]]</td>\n      <td>None</td>\n      <td>None</td>\n      <td>people are gathered on a busy road</td>\n      <td>[[[a], [gather], [people]]]</td>\n      <td>[busy, road]</td>\n      <td>None</td>\n    </tr>\n    <tr>\n      <th>150147</th>\n      <td>A woman studies the label on a food product.</td>\n      <td>[[[A, woman], [studies], [the, label]]]</td>\n      <td>[food, product]</td>\n      <td>None</td>\n      <td>The woman looks at the calorie count on the fo...</td>\n      <td>[[[The, woman], [looks]]]</td>\n      <td>[food, product]</td>\n      <td>None</td>\n    </tr>\n    <tr>\n      <th>52593</th>\n      <td>A person stands in a vast field of glacial ice.</td>\n      <td>[[[A, person], [stands]]]</td>\n      <td>[vast, field, glacial, ice]</td>\n      <td>None</td>\n      <td>A person is sitting in the sand.</td>\n      <td>[[[A, person], [sitting]]]</td>\n      <td>[sand]</td>\n      <td>None</td>\n    </tr>\n    <tr>\n      <th>41842</th>\n      <td>A young adult is throwing a softball to home b...</td>\n      <td>[[[A, young, adult], [throwing], [a, softball]]]</td>\n      <td>None</td>\n      <td>None</td>\n      <td>The third baseman throws the ball.</td>\n      <td>[[[The, third, baseman], [throws], [the, ball]]]</td>\n      <td>None</td>\n      <td>None</td>\n    </tr>\n    <tr>\n      <th>7987</th>\n      <td>A young man jumps hurdles in a race on a track.</td>\n      <td>[[[A, young, man], [jumps], [hurdles]]]</td>\n      <td>[race, track, track]</td>\n      <td>None</td>\n      <td>A young man is racing</td>\n      <td>[[[A, young, man], [racing]]]</td>\n      <td>None</td>\n      <td>None</td>\n    </tr>\n    <tr>\n      <th>3511</th>\n      <td>A man and a woman with a head covering are on ...</td>\n      <td>[[[a], [looking]]]</td>\n      <td>[bridge, looking, water, boat]</td>\n      <td>None</td>\n      <td>A husband and a wife with a head covering are ...</td>\n      <td>[[[a], [looking]]]</td>\n      <td>[bridge, looking, water, boat]</td>\n      <td>None</td>\n    </tr>\n    <tr>\n      <th>247252</th>\n      <td>A man is hanging by a line off a cliff above w...</td>\n      <td>[[[A, man], [hanging]]]</td>\n      <td>None</td>\n      <td>None</td>\n      <td>a man fell into the water</td>\n      <td>[[[a, man], [fell]]]</td>\n      <td>None</td>\n      <td>None</td>\n    </tr>\n    <tr>\n      <th>237772</th>\n      <td>A group of four people congregate on a sidewalk.</td>\n      <td>[[[A, group, of, four, people], [congregate]]]</td>\n      <td>[sidewalk]</td>\n      <td>None</td>\n      <td>The people are shoveling the street,</td>\n      <td>[[[The, people], [shoveling], [the, street]]]</td>\n      <td>None</td>\n      <td>None</td>\n    </tr>\n    <tr>\n      <th>219170</th>\n      <td>A teenager has climbed a tree.</td>\n      <td>[[[A, teenager], [climbed], [a, tree]]]</td>\n      <td>None</td>\n      <td>None</td>\n      <td>There is a teenager in a tree.</td>\n      <td>[[[There], [is], [a, teenager, in, a, tree]]]</td>\n      <td>[tree]</td>\n      <td>None</td>\n    </tr>\n    <tr>\n      <th>71885</th>\n      <td>A man on a street corner is giving someone dir...</td>\n      <td>[[[A, man, on, a], [giving], [someone, directi...</td>\n      <td>[street, corner]</td>\n      <td>None</td>\n      <td>A man is shaving his face in a bathroom.</td>\n      <td>[[[A, man], [shaving], [his, face]]]</td>\n      <td>[bathroom]</td>\n      <td>None</td>\n    </tr>\n    <tr>\n      <th>40619</th>\n      <td>A man in a white shirt a dark tan pants plays ...</td>\n      <td>[[[A, man, in, pants], [plays], [a, violin]]]</td>\n      <td>None</td>\n      <td>[white, shirt]</td>\n      <td>the man has a white shirt</td>\n      <td>[[[the, man], [has], [a, white, shirt]]]</td>\n      <td>None</td>\n      <td>[white, shirt]</td>\n    </tr>\n    <tr>\n      <th>74322</th>\n      <td>A boy is running through the yard happily, car...</td>\n      <td>[[[A, boy], [running]]]</td>\n      <td>None</td>\n      <td>None</td>\n      <td>A boy is carrying a red toy tractor.</td>\n      <td>[[[A, boy], [carrying], [a, red, toy, tractor]]]</td>\n      <td>None</td>\n      <td>None</td>\n    </tr>\n    <tr>\n      <th>91321</th>\n      <td>Seniors as well as a younger couple enjoy danc...</td>\n      <td>[[[Seniors, as, couple], [enjoy]]]</td>\n      <td>None</td>\n      <td>None</td>\n      <td>A woman is on the computer at her desk.</td>\n      <td>[[[A, woman], [is]]]</td>\n      <td>[computer]</td>\n      <td>None</td>\n    </tr>\n    <tr>\n      <th>152333</th>\n      <td>The shadowy figure of a young girl is moving t...</td>\n      <td>[[[The, shadowy, figure, of, a, young, girl], ...</td>\n      <td>None</td>\n      <td>None</td>\n      <td>A man rests at home.</td>\n      <td>[[[A, man], [rests]]]</td>\n      <td>None</td>\n      <td>None</td>\n    </tr>\n    <tr>\n      <th>271010</th>\n      <td>A skateboarder in black clothes jumps over a b...</td>\n      <td>[[[A, skateboarder, in], [jumps]]]</td>\n      <td>None</td>\n      <td>[black, clothes]</td>\n      <td>A skateboarder sits on a bench.</td>\n      <td>[[[A, skateboarder], [sits]]]</td>\n      <td>[bench]</td>\n      <td>None</td>\n    </tr>\n    <tr>\n      <th>256224</th>\n      <td>construction workers appearing through a chain...</td>\n      <td>[[[construction, workers], [appearing]]]</td>\n      <td>None</td>\n      <td>None</td>\n      <td>The construction workers appear through a wood...</td>\n      <td>[[[The, construction, workers], [appear]]]</td>\n      <td>None</td>\n      <td>None</td>\n    </tr>\n    <tr>\n      <th>24412</th>\n      <td>Women are washing their clothes in a river.</td>\n      <td>[[[Women], [washing], [their, clothes]]]</td>\n      <td>[river]</td>\n      <td>[clothes]</td>\n      <td>Women wash their clothes.</td>\n      <td>[[[Women], [wash], [their, clothes]]]</td>\n      <td>None</td>\n      <td>[clothes]</td>\n    </tr>\n    <tr>\n      <th>149362</th>\n      <td>two black poodles fighting.</td>\n      <td>[[[two, black, poodles], [fighting]]]</td>\n      <td>None</td>\n      <td>None</td>\n      <td>there is only one dog</td>\n      <td>[[[there], [is], [one, dog]]]</td>\n      <td>None</td>\n      <td>None</td>\n    </tr>\n    <tr>\n      <th>57375</th>\n      <td>People browse in a store.</td>\n      <td>[[[People], [browse]]]</td>\n      <td>[store]</td>\n      <td>None</td>\n      <td>People are in a store.</td>\n      <td>[[[People], [are]]]</td>\n      <td>[store]</td>\n      <td>None</td>\n    </tr>\n  </tbody>\n</table>\n</div>"
     },
     "execution_count": 39,
     "metadata": {},
     "output_type": "execute_result"
    }
   ],
   "source": [
    "train[['Sentence1', 'svo_s1',  'loc_s1', 'clo_s1', 'Sentence2', 'svo_s2', 'loc_s2', 'clo_s2']].head(20)"
   ],
   "metadata": {
    "collapsed": false,
    "pycharm": {
     "name": "#%%\n"
    }
   }
  },
  {
   "cell_type": "code",
   "execution_count": 45,
   "outputs": [
    {
     "data": {
      "text/plain": "                                                Sentence1  \\\n135394            Three people are walking down a street.   \n87557   A large group of people gather outside a very ...   \n150147       A woman studies the label on a food product.   \n52593     A person stands in a vast field of glacial ice.   \n41842   A young adult is throwing a softball to home b...   \n7987      A young man jumps hurdles in a race on a track.   \n3511    A man and a woman with a head covering are on ...   \n247252  A man is hanging by a line off a cliff above w...   \n237772   A group of four people congregate on a sidewalk.   \n219170                     A teenager has climbed a tree.   \n71885   A man on a street corner is giving someone dir...   \n40619   A man in a white shirt a dark tan pants plays ...   \n74322   A boy is running through the yard happily, car...   \n91321   Seniors as well as a younger couple enjoy danc...   \n152333  The shadowy figure of a young girl is moving t...   \n271010  A skateboarder in black clothes jumps over a b...   \n256224  construction workers appearing through a chain...   \n24412         Women are washing their clothes in a river.   \n149362                        two black poodles fighting.   \n57375                           People browse in a store.   \n151462                   Four people are in a automobile.   \n219437  A truck has just crashed into the back of anot...   \n250069  A black boy in a gray t-shirt and blue jeans i...   \n226007  A cyclist in red and black racing gear with an...   \n232038      Two basketball players struggle for the ball.   \n251279  A little child in a green shirt eats a crust o...   \n221888  Some staff members in yellow shirts help out w...   \n234528  A person in a blue and white baseball uniform ...   \n176294  A group is dancing with no shoes, with lights ...   \n53891   Three women in business wear walk across a cou...   \n195767  A man in a construction outfit is working on t...   \n14201   A Nigerian vendor displays his collection of s...   \n152460  Young man with long dark hair plays a guitar o...   \n234165           A woman with a basket works in a garden.   \n148344  An older gentleman serves cake to two excited ...   \n45663   A person walks up a white sandy hill against t...   \n278950  Two young girls jump off or over a concrete ba...   \n37824             A man is climbing up a wall with a rope   \n146339  A little boy sits on an orange chair while tou...   \n206080                                A dog runs outside.   \n\n                           clo_s1  \\\n135394                       None   \n87557                        None   \n150147                       None   \n52593                        None   \n41842                        None   \n7987                         None   \n3511                         None   \n247252                       None   \n237772                       None   \n219170                       None   \n71885                        None   \n40619              [white, shirt]   \n74322                        None   \n91321                        None   \n152333                       None   \n271010           [black, clothes]   \n256224                       None   \n24412                   [clothes]   \n149362                       None   \n57375                        None   \n151462                       None   \n219437                       None   \n250069    [gray, t, jeans, shirt]   \n226007                       None   \n232038                       None   \n251279             [green, shirt]   \n221888           [yellow, shirts]   \n234528  [blue, baseball, uniform]   \n176294                    [shoes]   \n53891                        None   \n195767     [construction, outfit]   \n14201                        None   \n152460                       None   \n234165                       None   \n148344                       None   \n45663                        None   \n278950                       None   \n37824                        None   \n146339                       None   \n206080                       None   \n\n                                                Sentence2          clo_s2  \n135394                     Three individuals are walking.            None  \n87557                  people are gathered on a busy road            None  \n150147  The woman looks at the calorie count on the fo...            None  \n52593                    A person is sitting in the sand.            None  \n41842                  The third baseman throws the ball.            None  \n7987                                A young man is racing            None  \n3511    A husband and a wife with a head covering are ...            None  \n247252                          a man fell into the water            None  \n237772               The people are shoveling the street,            None  \n219170                     There is a teenager in a tree.            None  \n71885            A man is shaving his face in a bathroom.            None  \n40619                           the man has a white shirt  [white, shirt]  \n74322                A boy is carrying a red toy tractor.            None  \n91321             A woman is on the computer at her desk.            None  \n152333                               A man rests at home.            None  \n271010                    A skateboarder sits on a bench.            None  \n256224  The construction workers appear through a wood...            None  \n24412                           Women wash their clothes.       [clothes]  \n149362                              there is only one dog            None  \n57375                              People are in a store.            None  \n151462                 The friends are going for a drive.            None  \n219437                              The truck has wheels.            None  \n250069                  The woman goes to work in her BMW            None  \n226007      A cyclist with racing gear going down a road.            None  \n232038  The basketball player struggled not to drop th...            None  \n251279                          A kid is not eating bread            None  \n221888                  The staff members are volunteers.            None  \n234528  The person in the uniform is selling hot dogs ...       [uniform]  \n176294  The group took off their shoes after hours of ...         [shoes]  \n53891              Two men are dancing together in a park            None  \n195767      A man in construction equipment trims a tree.            None  \n14201              A vendor displays his knockoff purses.            None  \n152460                   A comedian tells jokes on stage.            None  \n234165                                  There is a woman.            None  \n148344                  The people are at a bithday party            None  \n45663                        Somebody is walking outside.            None  \n278950                           Young people are running            None  \n37824                         The man is going up a wall.            None  \n146339  A little boy in an orange chair touches a comp...            None  \n206080                       The dog is running outdoors.            None  ",
      "text/html": "<div>\n<style scoped>\n    .dataframe tbody tr th:only-of-type {\n        vertical-align: middle;\n    }\n\n    .dataframe tbody tr th {\n        vertical-align: top;\n    }\n\n    .dataframe thead th {\n        text-align: right;\n    }\n</style>\n<table border=\"1\" class=\"dataframe\">\n  <thead>\n    <tr style=\"text-align: right;\">\n      <th></th>\n      <th>Sentence1</th>\n      <th>clo_s1</th>\n      <th>Sentence2</th>\n      <th>clo_s2</th>\n    </tr>\n  </thead>\n  <tbody>\n    <tr>\n      <th>135394</th>\n      <td>Three people are walking down a street.</td>\n      <td>None</td>\n      <td>Three individuals are walking.</td>\n      <td>None</td>\n    </tr>\n    <tr>\n      <th>87557</th>\n      <td>A large group of people gather outside a very ...</td>\n      <td>None</td>\n      <td>people are gathered on a busy road</td>\n      <td>None</td>\n    </tr>\n    <tr>\n      <th>150147</th>\n      <td>A woman studies the label on a food product.</td>\n      <td>None</td>\n      <td>The woman looks at the calorie count on the fo...</td>\n      <td>None</td>\n    </tr>\n    <tr>\n      <th>52593</th>\n      <td>A person stands in a vast field of glacial ice.</td>\n      <td>None</td>\n      <td>A person is sitting in the sand.</td>\n      <td>None</td>\n    </tr>\n    <tr>\n      <th>41842</th>\n      <td>A young adult is throwing a softball to home b...</td>\n      <td>None</td>\n      <td>The third baseman throws the ball.</td>\n      <td>None</td>\n    </tr>\n    <tr>\n      <th>7987</th>\n      <td>A young man jumps hurdles in a race on a track.</td>\n      <td>None</td>\n      <td>A young man is racing</td>\n      <td>None</td>\n    </tr>\n    <tr>\n      <th>3511</th>\n      <td>A man and a woman with a head covering are on ...</td>\n      <td>None</td>\n      <td>A husband and a wife with a head covering are ...</td>\n      <td>None</td>\n    </tr>\n    <tr>\n      <th>247252</th>\n      <td>A man is hanging by a line off a cliff above w...</td>\n      <td>None</td>\n      <td>a man fell into the water</td>\n      <td>None</td>\n    </tr>\n    <tr>\n      <th>237772</th>\n      <td>A group of four people congregate on a sidewalk.</td>\n      <td>None</td>\n      <td>The people are shoveling the street,</td>\n      <td>None</td>\n    </tr>\n    <tr>\n      <th>219170</th>\n      <td>A teenager has climbed a tree.</td>\n      <td>None</td>\n      <td>There is a teenager in a tree.</td>\n      <td>None</td>\n    </tr>\n    <tr>\n      <th>71885</th>\n      <td>A man on a street corner is giving someone dir...</td>\n      <td>None</td>\n      <td>A man is shaving his face in a bathroom.</td>\n      <td>None</td>\n    </tr>\n    <tr>\n      <th>40619</th>\n      <td>A man in a white shirt a dark tan pants plays ...</td>\n      <td>[white, shirt]</td>\n      <td>the man has a white shirt</td>\n      <td>[white, shirt]</td>\n    </tr>\n    <tr>\n      <th>74322</th>\n      <td>A boy is running through the yard happily, car...</td>\n      <td>None</td>\n      <td>A boy is carrying a red toy tractor.</td>\n      <td>None</td>\n    </tr>\n    <tr>\n      <th>91321</th>\n      <td>Seniors as well as a younger couple enjoy danc...</td>\n      <td>None</td>\n      <td>A woman is on the computer at her desk.</td>\n      <td>None</td>\n    </tr>\n    <tr>\n      <th>152333</th>\n      <td>The shadowy figure of a young girl is moving t...</td>\n      <td>None</td>\n      <td>A man rests at home.</td>\n      <td>None</td>\n    </tr>\n    <tr>\n      <th>271010</th>\n      <td>A skateboarder in black clothes jumps over a b...</td>\n      <td>[black, clothes]</td>\n      <td>A skateboarder sits on a bench.</td>\n      <td>None</td>\n    </tr>\n    <tr>\n      <th>256224</th>\n      <td>construction workers appearing through a chain...</td>\n      <td>None</td>\n      <td>The construction workers appear through a wood...</td>\n      <td>None</td>\n    </tr>\n    <tr>\n      <th>24412</th>\n      <td>Women are washing their clothes in a river.</td>\n      <td>[clothes]</td>\n      <td>Women wash their clothes.</td>\n      <td>[clothes]</td>\n    </tr>\n    <tr>\n      <th>149362</th>\n      <td>two black poodles fighting.</td>\n      <td>None</td>\n      <td>there is only one dog</td>\n      <td>None</td>\n    </tr>\n    <tr>\n      <th>57375</th>\n      <td>People browse in a store.</td>\n      <td>None</td>\n      <td>People are in a store.</td>\n      <td>None</td>\n    </tr>\n    <tr>\n      <th>151462</th>\n      <td>Four people are in a automobile.</td>\n      <td>None</td>\n      <td>The friends are going for a drive.</td>\n      <td>None</td>\n    </tr>\n    <tr>\n      <th>219437</th>\n      <td>A truck has just crashed into the back of anot...</td>\n      <td>None</td>\n      <td>The truck has wheels.</td>\n      <td>None</td>\n    </tr>\n    <tr>\n      <th>250069</th>\n      <td>A black boy in a gray t-shirt and blue jeans i...</td>\n      <td>[gray, t, jeans, shirt]</td>\n      <td>The woman goes to work in her BMW</td>\n      <td>None</td>\n    </tr>\n    <tr>\n      <th>226007</th>\n      <td>A cyclist in red and black racing gear with an...</td>\n      <td>None</td>\n      <td>A cyclist with racing gear going down a road.</td>\n      <td>None</td>\n    </tr>\n    <tr>\n      <th>232038</th>\n      <td>Two basketball players struggle for the ball.</td>\n      <td>None</td>\n      <td>The basketball player struggled not to drop th...</td>\n      <td>None</td>\n    </tr>\n    <tr>\n      <th>251279</th>\n      <td>A little child in a green shirt eats a crust o...</td>\n      <td>[green, shirt]</td>\n      <td>A kid is not eating bread</td>\n      <td>None</td>\n    </tr>\n    <tr>\n      <th>221888</th>\n      <td>Some staff members in yellow shirts help out w...</td>\n      <td>[yellow, shirts]</td>\n      <td>The staff members are volunteers.</td>\n      <td>None</td>\n    </tr>\n    <tr>\n      <th>234528</th>\n      <td>A person in a blue and white baseball uniform ...</td>\n      <td>[blue, baseball, uniform]</td>\n      <td>The person in the uniform is selling hot dogs ...</td>\n      <td>[uniform]</td>\n    </tr>\n    <tr>\n      <th>176294</th>\n      <td>A group is dancing with no shoes, with lights ...</td>\n      <td>[shoes]</td>\n      <td>The group took off their shoes after hours of ...</td>\n      <td>[shoes]</td>\n    </tr>\n    <tr>\n      <th>53891</th>\n      <td>Three women in business wear walk across a cou...</td>\n      <td>None</td>\n      <td>Two men are dancing together in a park</td>\n      <td>None</td>\n    </tr>\n    <tr>\n      <th>195767</th>\n      <td>A man in a construction outfit is working on t...</td>\n      <td>[construction, outfit]</td>\n      <td>A man in construction equipment trims a tree.</td>\n      <td>None</td>\n    </tr>\n    <tr>\n      <th>14201</th>\n      <td>A Nigerian vendor displays his collection of s...</td>\n      <td>None</td>\n      <td>A vendor displays his knockoff purses.</td>\n      <td>None</td>\n    </tr>\n    <tr>\n      <th>152460</th>\n      <td>Young man with long dark hair plays a guitar o...</td>\n      <td>None</td>\n      <td>A comedian tells jokes on stage.</td>\n      <td>None</td>\n    </tr>\n    <tr>\n      <th>234165</th>\n      <td>A woman with a basket works in a garden.</td>\n      <td>None</td>\n      <td>There is a woman.</td>\n      <td>None</td>\n    </tr>\n    <tr>\n      <th>148344</th>\n      <td>An older gentleman serves cake to two excited ...</td>\n      <td>None</td>\n      <td>The people are at a bithday party</td>\n      <td>None</td>\n    </tr>\n    <tr>\n      <th>45663</th>\n      <td>A person walks up a white sandy hill against t...</td>\n      <td>None</td>\n      <td>Somebody is walking outside.</td>\n      <td>None</td>\n    </tr>\n    <tr>\n      <th>278950</th>\n      <td>Two young girls jump off or over a concrete ba...</td>\n      <td>None</td>\n      <td>Young people are running</td>\n      <td>None</td>\n    </tr>\n    <tr>\n      <th>37824</th>\n      <td>A man is climbing up a wall with a rope</td>\n      <td>None</td>\n      <td>The man is going up a wall.</td>\n      <td>None</td>\n    </tr>\n    <tr>\n      <th>146339</th>\n      <td>A little boy sits on an orange chair while tou...</td>\n      <td>None</td>\n      <td>A little boy in an orange chair touches a comp...</td>\n      <td>None</td>\n    </tr>\n    <tr>\n      <th>206080</th>\n      <td>A dog runs outside.</td>\n      <td>None</td>\n      <td>The dog is running outdoors.</td>\n      <td>None</td>\n    </tr>\n  </tbody>\n</table>\n</div>"
     },
     "execution_count": 45,
     "metadata": {},
     "output_type": "execute_result"
    }
   ],
   "source": [
    "train[['Sentence1', 'clo_s1', 'Sentence2', 'clo_s2']].head(40)"
   ],
   "metadata": {
    "collapsed": false,
    "pycharm": {
     "name": "#%%\n"
    }
   }
  },
  {
   "cell_type": "code",
   "execution_count": 36,
   "outputs": [],
   "source": [
    "svo_wrong = 7/20 # Vers 1\n",
    "svo_wrong = 3/20# Vers 2. Classified as wrong also when loc was included in the noun"
   ],
   "metadata": {
    "collapsed": false,
    "pycharm": {
     "name": "#%%\n"
    }
   }
  },
  {
   "cell_type": "code",
   "execution_count": 37,
   "outputs": [],
   "source": [
    "# Vers 1\n",
    "loc_wrong = 9 / 40 # for each sentence separately\n",
    "loc_recall = 18 / 20\n",
    "\n",
    "# Vers 2\n",
    "loc_wrong = 9/40 # oftentimes prepsoition 'at'\n",
    "loc_recall = 2/16 # number of loc of all detected ones that are wrong"
   ],
   "metadata": {
    "collapsed": false,
    "pycharm": {
     "name": "#%%\n"
    }
   }
  },
  {
   "cell_type": "code",
   "execution_count": 39,
   "outputs": [],
   "source": [
    "# Vers 1\n",
    "clo_wrong = 2 / 40\n",
    "clo_recall = 2 / 4 # both just missed some more pieces of clothing than the ones mentioned\n",
    "\n",
    "# Vers 2\n",
    "clo_wrong = 5 / 40\n",
    "clo_recall = 2/9"
   ],
   "metadata": {
    "collapsed": false,
    "pycharm": {
     "name": "#%%\n"
    }
   }
  },
  {
   "cell_type": "code",
   "execution_count": 13,
   "outputs": [],
   "source": [],
   "metadata": {
    "collapsed": false,
    "pycharm": {
     "name": "#%%\n"
    }
   }
  },
  {
   "cell_type": "code",
   "execution_count": 13,
   "outputs": [],
   "source": [],
   "metadata": {
    "collapsed": false,
    "pycharm": {
     "name": "#%%\n"
    }
   }
  },
  {
   "cell_type": "code",
   "execution_count": null,
   "outputs": [],
   "source": [],
   "metadata": {
    "collapsed": false,
    "pycharm": {
     "name": "#%%\n"
    }
   }
  }
 ],
 "metadata": {
  "kernelspec": {
   "display_name": "Python 3",
   "language": "python",
   "name": "python3"
  },
  "language_info": {
   "codemirror_mode": {
    "name": "ipython",
    "version": 2
   },
   "file_extension": ".py",
   "mimetype": "text/x-python",
   "name": "python",
   "nbconvert_exporter": "python",
   "pygments_lexer": "ipython2",
   "version": "2.7.6"
  }
 },
 "nbformat": 4,
 "nbformat_minor": 0
}