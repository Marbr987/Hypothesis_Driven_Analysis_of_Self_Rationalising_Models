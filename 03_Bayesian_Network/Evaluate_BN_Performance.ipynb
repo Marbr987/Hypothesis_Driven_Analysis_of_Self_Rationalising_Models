{
 "cells": [
  {
   "cell_type": "code",
   "execution_count": 28,
   "outputs": [],
   "source": [
    "import pandas as pd\n",
    "import datetime\n",
    "import numpy as np\n",
    "from sklearn.neural_network import MLPClassifier\n",
    "import matplotlib.pyplot as plt\n",
    "from sklearn.metrics import confusion_matrix, f1_score, accuracy_score\n",
    "import pickle"
   ],
   "metadata": {
    "collapsed": false,
    "pycharm": {
     "name": "#%%\n"
    }
   }
  },
  {
   "cell_type": "code",
   "execution_count": 29,
   "outputs": [],
   "source": [
    "train1 = pd.read_csv('../Input_Data/e-SNLI/dataset/esnli_train_1.csv')\n",
    "train2 = pd.read_csv('../Input_Data/e-SNLI/dataset/esnli_train_2.csv')\n",
    "train = pd.concat([train1, train2])\n",
    "train = train[train.notnull().apply(all, axis=1)]\n",
    "dev = pd.read_csv('../Input_Data/e-SNLI/dataset/esnli_dev.csv')\n",
    "dev = dev[dev.notnull().apply(all, axis=1)]\n",
    "test = pd.read_csv('../Input_Data/e-SNLI/dataset/esnli_test.csv')\n",
    "test = test[test.notnull().apply(all, axis=1)]\n",
    "\n",
    "dev_prepared = pd.read_csv('../02_Extract_Subphrases/prepared_data/subphrase_vectors_dev.csv', sep=';')\n",
    "dev_prepared = dev_prepared.drop(columns='Unnamed: 0')\n",
    "dev = dev.set_index('pairID')\n",
    "y_hat = dev.loc[dev_prepared.iloc[:,0]].gold_label\n",
    "dev_prepared = dev_prepared.iloc[:,1:].to_numpy()"
   ],
   "metadata": {
    "collapsed": false,
    "pycharm": {
     "name": "#%%\n"
    }
   }
  },
  {
   "cell_type": "code",
   "execution_count": 30,
   "outputs": [],
   "source": [
    "def evaluate_performance(preds, actual):\n",
    "    labels = ['contradiction', 'entailment', 'neutral']\n",
    "    print('Confusion Matrix')\n",
    "    print(confusion_matrix(actual, preds, labels=labels))\n",
    "    print(f'F1-Score: {f1_score(actual, preds, labels=labels, average=\"macro\")}')\n",
    "    print(f'Accuracy: {accuracy_score(actual, preds)}')"
   ],
   "metadata": {
    "collapsed": false,
    "pycharm": {
     "name": "#%%\n"
    }
   }
  },
  {
   "cell_type": "code",
   "execution_count": 31,
   "outputs": [],
   "source": [
    "def predict_y_from_z(z):\n",
    "    if len(z.shape) > 1:\n",
    "        z = pd.DataFrame(z)\n",
    "        res = z.apply(predict_y_from_z, axis=1)\n",
    "        return res.to_numpy()\n",
    "    else:\n",
    "        if all([z[i] == 'nan' or pd.isnull(z[i]) or z[i] == 'entailment' for i in range(25)]):\n",
    "            return 'entailment'\n",
    "        elif any(z == 'contradiction'):\n",
    "            return 'contradiction'\n",
    "        elif any(z == 'neutral') and all(z != 'contradiction'):\n",
    "            return 'neutral'\n",
    "        else:\n",
    "            raise ValueError(f\"z can only have values 'entailment', 'contradiction', or 'neutral' but is {z}\")"
   ],
   "metadata": {
    "collapsed": false,
    "pycharm": {
     "name": "#%%\n"
    }
   }
  },
  {
   "cell_type": "code",
   "execution_count": 32,
   "outputs": [],
   "source": [
    "directory = 'MLP_Classifiers_480k_training_60_iter_NN_size_200_200_200_50_30_30'\n",
    "clf = list()\n",
    "for i in range(25):\n",
    "    with open(directory + \"/MLP_Classifier\" + str(i) + \".pkl\", \"rb\") as f:\n",
    "        clf += [pickle.load(f), ]"
   ],
   "metadata": {
    "collapsed": false,
    "pycharm": {
     "name": "#%%\n"
    }
   }
  },
  {
   "cell_type": "code",
   "execution_count": 33,
   "outputs": [
    {
     "name": "stdout",
     "output_type": "stream",
     "text": [
      "2023-03-09 09:18:59.921012\n",
      "Initialise column indices and 'nan' values\n"
     ]
    }
   ],
   "source": [
    "# Prepare colum indices\n",
    "indices = [[0,1500], [0,1800], [0,2100], [0,2400], [0,2700],\n",
    "           [300,1500], [300,1800], [300,2100], [300,2400], [300,2700],\n",
    "           [600,1500], [600,1800], [600,2100], [600,2400], [600,2700],\n",
    "           [900,1500], [900,1800], [900,2100], [900,2400], [900,2700],\n",
    "           [1200,1500], [1200,1800], [1200,2100], [1200,2400], [1200,2700]]\n",
    "\n",
    "# Initialise colulmn indices and \"nan\" values if information (e.g. location of sentence) is not detected\n",
    "print(datetime.datetime.now())\n",
    "print(\"Initialise column indices and 'nan' values\")\n",
    "not_nan = [None, ] * 25\n",
    "cols = [None, ] * 25\n",
    "for i in range(25):\n",
    "    cols[i] = list(range(indices[i][0], indices[i][0]+300)) + list(range(indices[i][1],indices[i][1]+300))\n",
    "    not_nan[i] = pd.Series([not x for x in pd.DataFrame(np.isnan(dev_prepared[:,cols[i]])).apply(any, axis=1)])\n",
    "not_nan = np.array(not_nan).T"
   ],
   "metadata": {
    "collapsed": false,
    "pycharm": {
     "name": "#%%\n"
    }
   }
  },
  {
   "cell_type": "code",
   "execution_count": 34,
   "outputs": [],
   "source": [
    "z = np.empty((y_hat.shape[0], 25), dtype=np.dtype('U20'))\n",
    "z[:,:] = np.nan\n",
    "\n",
    "for i in range(25):\n",
    "    z[not_nan[:,i], i] = clf[i].predict(dev_prepared[not_nan[:,i],:][:, cols[i]])\n",
    "\n",
    "y_hat_pred = predict_y_from_z(z)"
   ],
   "metadata": {
    "collapsed": false,
    "pycharm": {
     "name": "#%%\n"
    }
   }
  },
  {
   "cell_type": "code",
   "execution_count": 35,
   "outputs": [
    {
     "data": {
      "text/plain": "array([['entailment', 'entailment', 'entailment', ..., 'nan', 'nan',\n        'nan'],\n       ['entailment', 'entailment', 'entailment', ..., 'nan', 'nan',\n        'nan'],\n       ['entailment', 'entailment', 'nan', ..., 'nan', 'nan', 'nan'],\n       ...,\n       ['entailment', 'entailment', 'nan', ..., 'nan', 'nan', 'nan'],\n       ['entailment', 'entailment', 'entailment', ..., 'nan', 'nan',\n        'nan'],\n       ['entailment', 'entailment', 'entailment', ..., 'nan', 'nan',\n        'nan']], dtype='<U20')"
     },
     "execution_count": 35,
     "metadata": {},
     "output_type": "execute_result"
    }
   ],
   "source": [
    "z"
   ],
   "metadata": {
    "collapsed": false,
    "pycharm": {
     "name": "#%%\n"
    }
   }
  },
  {
   "cell_type": "code",
   "execution_count": 36,
   "outputs": [
    {
     "data": {
      "text/plain": "array(['neutral', 'neutral', 'entailment', ..., 'entailment', 'neutral',\n       'contradiction'], dtype=object)"
     },
     "execution_count": 36,
     "metadata": {},
     "output_type": "execute_result"
    }
   ],
   "source": [
    "y_hat_pred"
   ],
   "metadata": {
    "collapsed": false,
    "pycharm": {
     "name": "#%%\n"
    }
   }
  },
  {
   "cell_type": "code",
   "execution_count": 37,
   "outputs": [
    {
     "data": {
      "text/plain": "pairID\n4705552913.jpg#2r1n          neutral\n4705552913.jpg#2r1e       entailment\n4705552913.jpg#2r1c    contradiction\n3948003394.jpg#1r1e       entailment\n3948003394.jpg#1r1c    contradiction\n                           ...      \n3344632789.jpg#0r2c    contradiction\n3344632789.jpg#0r2n          neutral\n3344632789.jpg#0r1e       entailment\n3344632789.jpg#0r1c    contradiction\n3344632789.jpg#0r2e       entailment\nName: gold_label, Length: 3035, dtype: object"
     },
     "execution_count": 37,
     "metadata": {},
     "output_type": "execute_result"
    }
   ],
   "source": [
    "y_hat"
   ],
   "metadata": {
    "collapsed": false,
    "pycharm": {
     "name": "#%%\n"
    }
   }
  },
  {
   "cell_type": "code",
   "execution_count": 21,
   "outputs": [
    {
     "data": {
      "text/plain": "0.32520593080724874"
     },
     "execution_count": 21,
     "metadata": {},
     "output_type": "execute_result"
    }
   ],
   "source": [
    "(y_hat_pred == 'neutral').mean()"
   ],
   "metadata": {
    "collapsed": false,
    "pycharm": {
     "name": "#%%\n"
    }
   }
  },
  {
   "cell_type": "code",
   "execution_count": 22,
   "outputs": [
    {
     "data": {
      "text/plain": "0.31960461285008235"
     },
     "execution_count": 22,
     "metadata": {},
     "output_type": "execute_result"
    }
   ],
   "source": [
    "(y_hat == 'neutral').mean()"
   ],
   "metadata": {
    "collapsed": false,
    "pycharm": {
     "name": "#%%\n"
    }
   }
  },
  {
   "cell_type": "code",
   "execution_count": 38,
   "outputs": [
    {
     "name": "stdout",
     "output_type": "stream",
     "text": [
      "Confusion Matrix\n",
      "[[392 373 280]\n",
      " [167 606 247]\n",
      " [165 380 425]]\n",
      "F1-Score: 0.46496455199762066\n",
      "Accuracy: 0.4688632619439868\n"
     ]
    }
   ],
   "source": [
    "evaluate_performance(y_hat_pred, y_hat)"
   ],
   "metadata": {
    "collapsed": false,
    "pycharm": {
     "name": "#%%\n"
    }
   }
  },
  {
   "cell_type": "code",
   "execution_count": 144,
   "outputs": [
    {
     "data": {
      "text/plain": "array(['neutral', 'neutral', 'neutral', ..., 'neutral', 'neutral',\n       'neutral'], dtype='<U13')"
     },
     "execution_count": 144,
     "metadata": {},
     "output_type": "execute_result"
    }
   ],
   "source": [
    "clf[0].predict(dev_prepared[not_nan[:,0],:][:, cols[0]])"
   ],
   "metadata": {
    "collapsed": false,
    "pycharm": {
     "name": "#%%\n"
    }
   }
  },
  {
   "cell_type": "code",
   "execution_count": null,
   "outputs": [],
   "source": [],
   "metadata": {
    "collapsed": false,
    "pycharm": {
     "name": "#%%\n"
    }
   }
  }
 ],
 "metadata": {
  "kernelspec": {
   "display_name": "Python 3",
   "language": "python",
   "name": "python3"
  },
  "language_info": {
   "codemirror_mode": {
    "name": "ipython",
    "version": 2
   },
   "file_extension": ".py",
   "mimetype": "text/x-python",
   "name": "python",
   "nbconvert_exporter": "python",
   "pygments_lexer": "ipython2",
   "version": "2.7.6"
  }
 },
 "nbformat": 4,
 "nbformat_minor": 0
}