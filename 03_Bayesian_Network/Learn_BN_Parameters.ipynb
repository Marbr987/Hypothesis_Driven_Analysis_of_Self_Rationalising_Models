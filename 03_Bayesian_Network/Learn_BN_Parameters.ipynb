{
 "cells": [
  {
   "cell_type": "code",
   "execution_count": 5,
   "outputs": [],
   "source": [
    "import pandas as pd\n",
    "import numpy as np\n",
    "import matplotlib.pyplot as plt"
   ],
   "metadata": {
    "collapsed": false,
    "pycharm": {
     "name": "#%%\n"
    }
   }
  },
  {
   "cell_type": "code",
   "execution_count": 56,
   "outputs": [],
   "source": [
    "train1 = pd.read_csv('../Input_Data/e-SNLI/dataset/esnli_train_1.csv')\n",
    "train2 = pd.read_csv('../Input_Data/e-SNLI/dataset/esnli_train_2.csv')\n",
    "train = pd.concat([train1, train2])\n",
    "train = train[train.notnull().apply(all, axis=1)]\n",
    "dev = pd.read_csv('../Input_Data/e-SNLI/dataset/esnli_dev.csv')\n",
    "dev = dev[dev.notnull().apply(all, axis=1)]\n",
    "test = pd.read_csv('../Input_Data/e-SNLI/dataset/esnli_test.csv')\n",
    "test = test[test.notnull().apply(all, axis=1)]"
   ],
   "metadata": {
    "collapsed": false,
    "pycharm": {
     "name": "#%%\n"
    }
   }
  },
  {
   "cell_type": "code",
   "execution_count": 57,
   "outputs": [],
   "source": [
    "dev_prepared = pd.read_pickle(\"../02_Extract_Subphrases/prepared_data/subphrase_vectors_dev.pkl\")"
   ],
   "metadata": {
    "collapsed": false,
    "pycharm": {
     "name": "#%%\n"
    }
   }
  },
  {
   "cell_type": "code",
   "execution_count": 58,
   "outputs": [
    {
     "data": {
      "text/plain": "                pairID           string_subj_s1 string_verb_s1 string_obj_s1  \\\n0  4705552913.jpg#2r1n                Two women      embracing                 \n1  4705552913.jpg#2r1e                Two women      embracing                 \n2  4705552913.jpg#2r1c                Two women      embracing                 \n3  2407214681.jpg#0r1e  Two young children in ,       standing                 \n4  2407214681.jpg#0r1n  Two young children in ,       standing                 \n\n     string_loc_s1 string_clo_s1                string_subj_s2 string_verb_s2  \\\n0                                                  The sisters        hugging   \n1                                                    Two woman        holding   \n2                                                      The men       fighting   \n3  in blue jerseys                Two kids in numbered jerseys           wash   \n4  in blue jerseys                      Two kids at a ballgame           wash   \n\n  string_obj_s2        string_loc_s2 string_clo_s2  \\\n0       goodbye                                      \n1      packages                                      \n2                                                    \n3   their hands  in numbered jerseys                 \n4   their hands                                      \n\n                                                vecs  \n0  [4705552913.jpg#2r1n, -9.865991, -1.9091997, 0...  \n1  [4705552913.jpg#2r1e, -9.865991, -1.9091997, 0...  \n2  [4705552913.jpg#2r1c, -9.865991, -1.9091997, 0...  \n3  [2407214681.jpg#0r1e, -16.48036, -2.7041402, -...  \n4  [2407214681.jpg#0r1n, -16.48036, -2.7041402, -...  ",
      "text/html": "<div>\n<style scoped>\n    .dataframe tbody tr th:only-of-type {\n        vertical-align: middle;\n    }\n\n    .dataframe tbody tr th {\n        vertical-align: top;\n    }\n\n    .dataframe thead th {\n        text-align: right;\n    }\n</style>\n<table border=\"1\" class=\"dataframe\">\n  <thead>\n    <tr style=\"text-align: right;\">\n      <th></th>\n      <th>pairID</th>\n      <th>string_subj_s1</th>\n      <th>string_verb_s1</th>\n      <th>string_obj_s1</th>\n      <th>string_loc_s1</th>\n      <th>string_clo_s1</th>\n      <th>string_subj_s2</th>\n      <th>string_verb_s2</th>\n      <th>string_obj_s2</th>\n      <th>string_loc_s2</th>\n      <th>string_clo_s2</th>\n      <th>vecs</th>\n    </tr>\n  </thead>\n  <tbody>\n    <tr>\n      <th>0</th>\n      <td>4705552913.jpg#2r1n</td>\n      <td>Two women</td>\n      <td>embracing</td>\n      <td></td>\n      <td></td>\n      <td></td>\n      <td>The sisters</td>\n      <td>hugging</td>\n      <td>goodbye</td>\n      <td></td>\n      <td></td>\n      <td>[4705552913.jpg#2r1n, -9.865991, -1.9091997, 0...</td>\n    </tr>\n    <tr>\n      <th>1</th>\n      <td>4705552913.jpg#2r1e</td>\n      <td>Two women</td>\n      <td>embracing</td>\n      <td></td>\n      <td></td>\n      <td></td>\n      <td>Two woman</td>\n      <td>holding</td>\n      <td>packages</td>\n      <td></td>\n      <td></td>\n      <td>[4705552913.jpg#2r1e, -9.865991, -1.9091997, 0...</td>\n    </tr>\n    <tr>\n      <th>2</th>\n      <td>4705552913.jpg#2r1c</td>\n      <td>Two women</td>\n      <td>embracing</td>\n      <td></td>\n      <td></td>\n      <td></td>\n      <td>The men</td>\n      <td>fighting</td>\n      <td></td>\n      <td></td>\n      <td></td>\n      <td>[4705552913.jpg#2r1c, -9.865991, -1.9091997, 0...</td>\n    </tr>\n    <tr>\n      <th>3</th>\n      <td>2407214681.jpg#0r1e</td>\n      <td>Two young children in ,</td>\n      <td>standing</td>\n      <td></td>\n      <td>in blue jerseys</td>\n      <td></td>\n      <td>Two kids in numbered jerseys</td>\n      <td>wash</td>\n      <td>their hands</td>\n      <td>in numbered jerseys</td>\n      <td></td>\n      <td>[2407214681.jpg#0r1e, -16.48036, -2.7041402, -...</td>\n    </tr>\n    <tr>\n      <th>4</th>\n      <td>2407214681.jpg#0r1n</td>\n      <td>Two young children in ,</td>\n      <td>standing</td>\n      <td></td>\n      <td>in blue jerseys</td>\n      <td></td>\n      <td>Two kids at a ballgame</td>\n      <td>wash</td>\n      <td>their hands</td>\n      <td></td>\n      <td></td>\n      <td>[2407214681.jpg#0r1n, -16.48036, -2.7041402, -...</td>\n    </tr>\n  </tbody>\n</table>\n</div>"
     },
     "execution_count": 58,
     "metadata": {},
     "output_type": "execute_result"
    }
   ],
   "source": [
    "dev_prepared.head()"
   ],
   "metadata": {
    "collapsed": false,
    "pycharm": {
     "name": "#%%\n"
    }
   }
  },
  {
   "cell_type": "code",
   "execution_count": 59,
   "outputs": [],
   "source": [
    "data = pd.DataFrame([vec for vec in dev_prepared.vecs if vec is not None])\n",
    "data_index = data.iloc[:,0]\n",
    "data = data.iloc[:,1:].to_numpy().astype(float)"
   ],
   "metadata": {
    "collapsed": false,
    "pycharm": {
     "name": "#%%\n"
    }
   }
  },
  {
   "cell_type": "code",
   "execution_count": 60,
   "outputs": [],
   "source": [
    "dev = dev.set_index('pairID')\n",
    "dev_prepared = dev_prepared.set_index('pairID')"
   ],
   "metadata": {
    "collapsed": false,
    "pycharm": {
     "name": "#%%\n"
    }
   }
  },
  {
   "cell_type": "code",
   "execution_count": 80,
   "outputs": [],
   "source": [
    "from scipy.stats import kstest"
   ],
   "metadata": {
    "collapsed": false,
    "pycharm": {
     "name": "#%%\n"
    }
   }
  },
  {
   "cell_type": "code",
   "execution_count": 224,
   "outputs": [
    {
     "data": {
      "text/plain": "KstestResult(statistic=0.13066417064069258, pvalue=9.579269644254027e-131, statistic_location=0.11036775054147842, statistic_sign=-1)"
     },
     "execution_count": 224,
     "metadata": {},
     "output_type": "execute_result"
    },
    {
     "data": {
      "text/plain": "<Figure size 640x480 with 1 Axes>",
      "image/png": "[encoded data removed]"
     },
     "metadata": {},
     "output_type": "display_data"
    }
   ],
   "source": [
    "temp = data[~np.isnan(data[:,0]),0]\n",
    "temp = temp - temp.mean()\n",
    "temp = temp / temp.std()\n",
    "plt.hist(temp, bins=40)\n",
    "kstest(temp,\"norm\")"
   ],
   "metadata": {
    "collapsed": false,
    "pycharm": {
     "name": "#%%\n"
    }
   }
  },
  {
   "cell_type": "code",
   "execution_count": 216,
   "outputs": [
    {
     "data": {
      "text/plain": "KstestResult(statistic=0.012376774156103498, pvalue=0.0926496022748361, statistic_location=0.08136265410794442, statistic_sign=1)"
     },
     "execution_count": 216,
     "metadata": {},
     "output_type": "execute_result"
    }
   ],
   "source": [
    "kstest(np.random.randn(10000),\"norm\")"
   ],
   "metadata": {
    "collapsed": false,
    "pycharm": {
     "name": "#%%\n"
    }
   }
  },
  {
   "cell_type": "code",
   "execution_count": 220,
   "outputs": [
    {
     "data": {
      "text/plain": "(array([   3.,    0.,    0.,    0.,    0.,    0.,    3.,    0.,    3.,\n           3.,    0.,    9.,   12.,   13.,   15.,   27.,   46.,   60.,\n         105.,  129.,  240.,  413.,  325.,  172.,  351.,  383.,  607.,\n        1822., 1258., 1037.,  340.,  529.,  301.,  223.,  138.,   90.,\n          42.,   38.,    9.,    6.]),\n array([-66.74026  , -64.6814835, -62.622707 , -60.5639305, -58.505154 ,\n        -56.4463775, -54.387601 , -52.3288245, -50.270048 , -48.2112715,\n        -46.152495 , -44.0937185, -42.034942 , -39.9761655, -37.917389 ,\n        -35.8586125, -33.799836 , -31.7410595, -29.682283 , -27.6235065,\n        -25.56473  , -23.5059535, -21.447177 , -19.3884005, -17.329624 ,\n        -15.2708475, -13.212071 , -11.1532945,  -9.094518 ,  -7.0357415,\n         -4.976965 ,  -2.9181885,  -0.859412 ,   1.1993645,   3.258141 ,\n          5.3169175,   7.375694 ,   9.4344705,  11.493247 ,  13.5520235,\n         15.6108   ]),\n <BarContainer object of 40 artists>)"
     },
     "execution_count": 220,
     "metadata": {},
     "output_type": "execute_result"
    },
    {
     "data": {
      "text/plain": "<Figure size 640x480 with 1 Axes>",
      "image/png": "[encoded data removed]"
     },
     "metadata": {},
     "output_type": "display_data"
    }
   ],
   "source": [
    "plt.hist(data[~np.isnan(data[:,0]),0], bins=40)"
   ],
   "metadata": {
    "collapsed": false,
    "pycharm": {
     "name": "#%%\n"
    }
   }
  },
  {
   "cell_type": "code",
   "execution_count": 261,
   "outputs": [],
   "source": [
    "#data = np.stack(np.vectorize(lambda x: 0 if x == 'nan' else x)(data), axis=1).T"
   ],
   "metadata": {
    "collapsed": false,
    "pycharm": {
     "name": "#%%\n"
    }
   }
  },
  {
   "cell_type": "code",
   "execution_count": 62,
   "outputs": [],
   "source": [
    "from sklearn.neural_network import MLPClassifier"
   ],
   "metadata": {
    "collapsed": false,
    "pycharm": {
     "name": "#%%\n"
    }
   }
  },
  {
   "cell_type": "code",
   "execution_count": 63,
   "outputs": [],
   "source": [
    "clf = list()\n",
    "for i in range(25):\n",
    "    clf += [MLPClassifier(hidden_layer_sizes=(25, 25, 10)), ]"
   ],
   "metadata": {
    "collapsed": false,
    "pycharm": {
     "name": "#%%\n"
    }
   }
  },
  {
   "cell_type": "code",
   "execution_count": 64,
   "outputs": [],
   "source": [
    "res = list()\n",
    "y_hat = list()\n",
    "for ind in data_index:\n",
    "    label = dev.loc[ind].gold_label\n",
    "    y_hat += [label, ]\n",
    "    if label == \"neutral\":\n",
    "        res += [[\"neutral\", ] * 25, ]\n",
    "    elif label == \"entailment\":\n",
    "        temp_ent = [\"neutral\", ] * 25\n",
    "        temp_ent = [\"entailment\" if i in np.random.choice(range(25), size=np.random.randint(1,25), replace=False) else temp_ent[i] for i in range(25)]\n",
    "        res += [temp_ent, ]\n",
    "    else:\n",
    "        temp_contr = list(np.random.choice([\"entailment\", \"neutral\"], size=25))\n",
    "        temp_contr = [\"contradiction\" if i in np.random.choice(range(25), size=np.random.randint(1,25), replace=False) else temp_contr[i] for i in range(25)]\n",
    "        res += [temp_contr, ]\n",
    "z_dev = np.array(res)\n",
    "y_hat = np.array(y_hat)"
   ],
   "metadata": {
    "collapsed": false,
    "pycharm": {
     "name": "#%%\n"
    }
   }
  },
  {
   "cell_type": "code",
   "execution_count": 65,
   "outputs": [
    {
     "data": {
      "text/plain": "(8792, 25)"
     },
     "execution_count": 65,
     "metadata": {},
     "output_type": "execute_result"
    }
   ],
   "source": [
    "z_dev.shape"
   ],
   "metadata": {
    "collapsed": false,
    "pycharm": {
     "name": "#%%\n"
    }
   }
  },
  {
   "cell_type": "code",
   "execution_count": 66,
   "outputs": [],
   "source": [
    "indices = [[0,1500], [0,1800], [0,2100], [0,2400], [0,2700],\n",
    " [300,1500], [300,1800], [300,2100], [300,2400], [300,2700],\n",
    " [600,1500], [600,1800], [600,2100], [600,2400], [600,2700],\n",
    " [900,1500], [900,1800], [900,2100], [900,2400], [900,2700],\n",
    " [1200,1500], [1200,1800], [1200,2100], [1200,2400], [1200,2700]]"
   ],
   "metadata": {
    "collapsed": false,
    "pycharm": {
     "name": "#%%\n"
    }
   }
  },
  {
   "cell_type": "code",
   "execution_count": 67,
   "outputs": [],
   "source": [
    "cols = list(range(indices[i][0], indices[i][0]+300)) + list(range(indices[i][1],indices[i][1]+300))\n",
    "not_nan = pd.DataFrame(~np.isnan(data[:,cols])).apply(any, axis=1)"
   ],
   "metadata": {
    "collapsed": false,
    "pycharm": {
     "name": "#%%\n"
    }
   }
  },
  {
   "cell_type": "code",
   "execution_count": 68,
   "outputs": [
    {
     "name": "stderr",
     "output_type": "stream",
     "text": [
      "/Users/marcbraun/.conda/envs/master_thesis_code/lib/python3.10/site-packages/sklearn/neural_network/_multilayer_perceptron.py:684: ConvergenceWarning: Stochastic Optimizer: Maximum iterations (200) reached and the optimization hasn't converged yet.\n",
      "  warnings.warn(\n",
      "/Users/marcbraun/.conda/envs/master_thesis_code/lib/python3.10/site-packages/sklearn/neural_network/_multilayer_perceptron.py:684: ConvergenceWarning: Stochastic Optimizer: Maximum iterations (200) reached and the optimization hasn't converged yet.\n",
      "  warnings.warn(\n",
      "/Users/marcbraun/.conda/envs/master_thesis_code/lib/python3.10/site-packages/sklearn/neural_network/_multilayer_perceptron.py:684: ConvergenceWarning: Stochastic Optimizer: Maximum iterations (200) reached and the optimization hasn't converged yet.\n",
      "  warnings.warn(\n",
      "/Users/marcbraun/.conda/envs/master_thesis_code/lib/python3.10/site-packages/sklearn/neural_network/_multilayer_perceptron.py:684: ConvergenceWarning: Stochastic Optimizer: Maximum iterations (200) reached and the optimization hasn't converged yet.\n",
      "  warnings.warn(\n",
      "/Users/marcbraun/.conda/envs/master_thesis_code/lib/python3.10/site-packages/sklearn/neural_network/_multilayer_perceptron.py:684: ConvergenceWarning: Stochastic Optimizer: Maximum iterations (200) reached and the optimization hasn't converged yet.\n",
      "  warnings.warn(\n",
      "/Users/marcbraun/.conda/envs/master_thesis_code/lib/python3.10/site-packages/sklearn/neural_network/_multilayer_perceptron.py:684: ConvergenceWarning: Stochastic Optimizer: Maximum iterations (200) reached and the optimization hasn't converged yet.\n",
      "  warnings.warn(\n",
      "/Users/marcbraun/.conda/envs/master_thesis_code/lib/python3.10/site-packages/sklearn/neural_network/_multilayer_perceptron.py:684: ConvergenceWarning: Stochastic Optimizer: Maximum iterations (200) reached and the optimization hasn't converged yet.\n",
      "  warnings.warn(\n"
     ]
    }
   ],
   "source": [
    "for i in range(25):\n",
    "    cols = list(range(indices[i][0], indices[i][0]+300)) + list(range(indices[i][1],indices[i][1]+300))\n",
    "    not_nan = pd.Series([not x for x in pd.DataFrame(np.isnan(data[:,cols])).apply(any, axis=1)])\n",
    "    clf[i].fit(data[not_nan,][:,cols], z_dev[not_nan, i])"
   ],
   "metadata": {
    "collapsed": false,
    "pycharm": {
     "name": "#%%\n"
    }
   }
  },
  {
   "cell_type": "code",
   "execution_count": 15,
   "outputs": [],
   "source": [
    "def check_if_pred_is_possible(pred, actual):\n",
    "    if actual == \"neutral\":\n",
    "        return \"neutral\"\n",
    "    elif actual == \"entailment\" and pred == \"contradiction\":\n",
    "        return list(np.random.choice([\"entailment\", \"neutral\"], size=1))[0]\n",
    "    else:\n",
    "        return pred"
   ],
   "metadata": {
    "collapsed": false,
    "pycharm": {
     "name": "#%%\n"
    }
   }
  },
  {
   "cell_type": "code",
   "execution_count": 139,
   "outputs": [],
   "source": [
    "def predict_y_from_z(z):\n",
    "    if len(z.shape) > 1:\n",
    "        return np.apply_along_axis(predict_y_from_z, axis=1, arr=z)\n",
    "    else:\n",
    "        if all([z_dev[1, i] == 'nan' or z_dev[1, i] == 'neutral' for i in range(25)]):\n",
    "            return 'neutral'\n",
    "        elif any(z == 'contradiction'):\n",
    "            return 'contradiction'\n",
    "        else:\n",
    "            return 'entailment'"
   ],
   "metadata": {
    "collapsed": false,
    "pycharm": {
     "name": "#%%\n"
    }
   }
  },
  {
   "cell_type": "code",
   "execution_count": 27,
   "outputs": [],
   "source": [
    "num_iter = 1\n",
    "for j in range(num_iter):\n",
    "    for i in range(25):\n",
    "        cols = list(range(indices[i][0], indices[i][0]+300)) + list(range(indices[i][1],indices[i][1]+300))\n",
    "        not_nan = pd.Series([not x for x in pd.DataFrame(np.isnan(data[:,cols])).apply(any, axis=1)])\n",
    "        #preds = pd.Series(clf[i].predict(data[not_nan,:][:,list(range(indices[i][0], indices[i][0]+300)) + list(range(indices[i][1],indices[i][1]+300))]))\n",
    "        #preds = pd.Series([check_if_pred_is_possible(pred=preds[k], actual=y_hat[not_nan][k]) for k in range(preds.shape[0])])\n",
    "        #z_dev[not_nan, i] = preds\n",
    "        #y_preds = predict_y_from_z(z_dev[not_nan, :])\n",
    "        #s = pd.Series(y_preds != y_hat[not_nan])\n",
    "        #print(s.mean())\n",
    "        #preds[s] = y_hat[not_nan][s]\n",
    "        z_dev[pd.Series([not x for x in not_nan]), i] = np.nan\n",
    "        #clf[i].fit(data[not_nan,][:,cols], preds)"
   ],
   "metadata": {
    "collapsed": false,
    "pycharm": {
     "name": "#%%\n"
    }
   }
  },
  {
   "cell_type": "code",
   "execution_count": 9,
   "outputs": [],
   "source": [
    "# Source: https://stackoverflow.com/questions/6284396/permutations-with-unique-values\n",
    "class unique_element:\n",
    "    def __init__(self,value,occurrences):\n",
    "        self.value = value\n",
    "        self.occurrences = occurrences\n",
    "\n",
    "def perm_unique(elements):\n",
    "    eset=set(elements)\n",
    "    listunique = [unique_element(i,elements.count(i)) for i in eset]\n",
    "    u=len(elements)\n",
    "    return perm_unique_helper(listunique,[0]*u,u-1)\n",
    "\n",
    "def perm_unique_helper(listunique,result_list,d):\n",
    "    if d < 0:\n",
    "        yield tuple(result_list)\n",
    "    else:\n",
    "        for i in listunique:\n",
    "            if i.occurrences > 0:\n",
    "                result_list[d]=i.value\n",
    "                i.occurrences-=1\n",
    "                for g in  perm_unique_helper(listunique,result_list,d-1):\n",
    "                    yield g\n",
    "                i.occurrences+=1"
   ],
   "metadata": {
    "collapsed": false,
    "pycharm": {
     "name": "#%%\n"
    }
   }
  },
  {
   "cell_type": "code",
   "execution_count": 86,
   "outputs": [],
   "source": [
    "def calc_log_prob(z, clf, data):\n",
    "    log_prob = [None, ] * 25\n",
    "    for i in range(25):\n",
    "        res = pd.DataFrame([[0, ] * z.shape[0], ] * 3).T\n",
    "        res[not_nan[:,i]] = clf[i].predict_log_proba(data[not_nan[:, i],:][:,list(range(indices[i][0], indices[i][0]+300)) + list(range(indices[i][1],indices[i][1]+300))])\n",
    "        log_prob[i] = res\n",
    "    log_prob = np.stack(log_prob, axis=0)\n",
    "    return log_prob"
   ],
   "metadata": {
    "collapsed": false,
    "pycharm": {
     "name": "#%%\n"
    }
   }
  },
  {
   "cell_type": "code",
   "execution_count": null,
   "outputs": [],
   "source": [
    "not_nan = [None, ] * 25\n",
    "cols = [None, ] * 25\n",
    "for i in range(25):\n",
    "    cols[i] = list(range(indices[i][0], indices[i][0]+300)) + list(range(indices[i][1],indices[i][1]+300))\n",
    "    not_nan[i] = pd.Series([not x for x in pd.DataFrame(np.isnan(data[:,cols[i]])).apply(any, axis=1)])\n",
    "not_nan = np.array(not_nan).T"
   ],
   "metadata": {
    "collapsed": false,
    "pycharm": {
     "name": "#%%\n"
    }
   }
  },
  {
   "cell_type": "code",
   "execution_count": 305,
   "outputs": [],
   "source": [
    "def find_possible_configs():\n",
    "    max_i = 25 + 1\n",
    "    res = list()\n",
    "    for y_hat in ('contradiction', 'entailment', 'neutral'):\n",
    "        perms = list()\n",
    "        print(y_hat)\n",
    "        if y_hat == 'neutral':\n",
    "            perms = [['neutral', ] * 25, ]\n",
    "        elif y_hat == 'contradiction':\n",
    "            for i in range(1, max_i):\n",
    "                for j in range(0, max_i - i):\n",
    "                    perms += [['contradiction', ] * i + ['neutral', ] * j + ['entailment', ] * (max_i-1 - i - j), ]\n",
    "        elif y_hat == 'entailment':\n",
    "            for i in range(1, max_i):\n",
    "                perms += [['entailment', ] * i + ['neutral', ] * (max_i - i), ]\n",
    "        temp = [list(perm_unique(perm)) for perm in perms[:8]]\n",
    "        temp = [i for t in temp for i in t]\n",
    "        res += [temp, ]\n",
    "    return {'contradiction': res[0], 'entailment': res[1], 'neutral': res[2]}\n",
    "\n",
    "def get_log_prob(config, config_map, log_prob):\n",
    "    return np.sum([log_prob[i,config_map[cur_config]] for i, cur_config in enumerate(config)])\n",
    "\n",
    "def find_most_likely_z(log_prob, possible_configs, y_hat):\n",
    "    config_map = {'contradiction': 0, 'entailment': 1, 'neutral': 2}\n",
    "    config_log_prob = list()\n",
    "    j = 0\n",
    "    for possible_config in possible_configs[y_hat]:\n",
    "        j += 1\n",
    "        for i in range(25):\n",
    "            config_log_prob[j,i] = [np.sum([log_prob[i,config_map[cur_val]] for cur_val in possible_config]), ]\n",
    "    z = possible_configs[np.argmax(config_log_prob[j,:])]\n",
    "    return z\n",
    "\n",
    "def most_likely_heuristic(clf, y_hat, data, not_nan):\n",
    "    y_mapping = {'contradiction': 0, 'entailment': 1, 'neutral': 2}\n",
    "    preds = pd.Series([np.nan, ] * 25)\n",
    "    for i in range(25):\n",
    "        if not_nan[i]:\n",
    "            preds[i] = clf[i].predict(data[cols[i]].reshape(1,-1))[0]\n",
    "    predicted_y = predict_y_from_z(preds)\n",
    "    if predicted_y != y_hat:\n",
    "        log_prob = np.zeros((25,3))\n",
    "        for i in range(25):\n",
    "            if not_nan[i]:\n",
    "                log_prob[i,:] = clf[i].predict_log_proba(data[cols[i]].reshape(1,-1))\n",
    "        if y_hat == 'neutral':\n",
    "            preds[not_nan] = 'neutral'\n",
    "        elif y_hat == 'contradiction':\n",
    "            best_i = 0\n",
    "            best_swapping_cost = np.inf\n",
    "            for i in range(25):\n",
    "                if not_nan[i]:\n",
    "                    swapping_cost = log_prob[i,y_mapping[preds[i]]] - log_prob[i,y_mapping['contradiction']]\n",
    "                    if swapping_cost < best_swapping_cost:\n",
    "                        best_i = i\n",
    "            preds[best_i] = 'contradiction'\n",
    "        elif y_hat == 'entailment':\n",
    "            if predicted_y == 'contradiction':\n",
    "                for i in np.where(pd.Series(preds) == 'contradiction'):\n",
    "                    i = i[0]\n",
    "                    replace_with_entailment = False\n",
    "                    if not_nan[i]:\n",
    "                        swapping_cost_ent = log_prob[i, y_mapping[preds[i]]] - log_prob[i][y_mapping['entailment']]\n",
    "                        swapping_cost_neutr = log_prob[i, y_mapping[preds[i]]] - log_prob[i,y_mapping['neutral']]\n",
    "                        if swapping_cost_neutr > swapping_cost_ent:\n",
    "                            preds[i] = 'entailment'\n",
    "                            replace_with_entailment = True\n",
    "                        else:\n",
    "                            preds[i] = 'neutral'\n",
    "            if not replace_with_entailment:\n",
    "                best_i = 0\n",
    "                best_swapping_cost = np.inf\n",
    "                for i in range(25):\n",
    "                    if not_nan[i]:\n",
    "                        swapping_cost = log_prob[i, y_mapping[preds[i]]] - log_prob[i, y_mapping['entailment']]\n",
    "                        if swapping_cost < best_swapping_cost:\n",
    "                            best_i = i\n",
    "                preds[best_i] = 'entailment'\n",
    "    return preds"
   ],
   "metadata": {
    "collapsed": false,
    "pycharm": {
     "name": "#%%\n"
    }
   }
  },
  {
   "cell_type": "code",
   "execution_count": 306,
   "outputs": [],
   "source": [
    "def estimate_z():\n",
    "    res = list()\n",
    "    for i in range(data.shape[0]):\n",
    "        res += [most_likely_heuristic(clf, y_hat[i], data[i,:], not_nan[i,:]), ]\n",
    "    return np.array(res)"
   ],
   "metadata": {
    "collapsed": false,
    "pycharm": {
     "name": "#%%\n"
    }
   }
  },
  {
   "cell_type": "code",
   "execution_count": 307,
   "outputs": [
    {
     "data": {
      "text/plain": "array([['neutral', 'neutral', 'neutral', ..., nan, nan, nan],\n       ['neutral', 'neutral', 'entailment', ..., nan, nan, nan],\n       ['neutral', 'contradiction', nan, ..., nan, nan, nan],\n       ...,\n       ['neutral', 'contradiction', nan, ..., nan, nan, nan],\n       ['entailment', 'neutral', 'entailment', ..., 'entailment', nan,\n        'entailment'],\n       ['neutral', 'neutral', 'neutral', ..., 'neutral', nan, nan]],\n      dtype=object)"
     },
     "execution_count": 307,
     "metadata": {},
     "output_type": "execute_result"
    }
   ],
   "source": [
    "estimate_z()"
   ],
   "metadata": {
    "collapsed": false,
    "pycharm": {
     "name": "#%%\n"
    }
   }
  },
  {
   "cell_type": "code",
   "execution_count": null,
   "outputs": [],
   "source": [],
   "metadata": {
    "collapsed": false,
    "pycharm": {
     "name": "#%%\n"
    }
   }
  }
 ],
 "metadata": {
  "kernelspec": {
   "display_name": "Python 3",
   "language": "python",
   "name": "python3"
  },
  "language_info": {
   "codemirror_mode": {
    "name": "ipython",
    "version": 2
   },
   "file_extension": ".py",
   "mimetype": "text/x-python",
   "name": "python",
   "nbconvert_exporter": "python",
   "pygments_lexer": "ipython2",
   "version": "2.7.6"
  }
 },
 "nbformat": 4,
 "nbformat_minor": 0
}