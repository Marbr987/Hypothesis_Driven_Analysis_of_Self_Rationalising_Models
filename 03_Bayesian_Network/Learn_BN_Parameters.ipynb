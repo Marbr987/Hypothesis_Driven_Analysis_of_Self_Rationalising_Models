{
 "cells": [
  {
   "cell_type": "code",
   "execution_count": 117,
   "outputs": [],
   "source": [
    "import pandas as pd\n",
    "import numpy as np\n",
    "import matplotlib.pyplot as plt"
   ],
   "metadata": {
    "collapsed": false,
    "pycharm": {
     "name": "#%%\n"
    }
   }
  },
  {
   "cell_type": "code",
   "execution_count": 83,
   "outputs": [],
   "source": [
    "train1 = pd.read_csv('../Input_Data/e-SNLI/dataset/esnli_train_1.csv')\n",
    "train2 = pd.read_csv('../Input_Data/e-SNLI/dataset/esnli_train_2.csv')\n",
    "train = pd.concat([train1, train2])\n",
    "train = train[train.notnull().apply(all, axis=1)]\n",
    "dev = pd.read_csv('../Input_Data/e-SNLI/dataset/esnli_dev.csv')\n",
    "dev = dev[dev.notnull().apply(all, axis=1)]\n",
    "test = pd.read_csv('../Input_Data/e-SNLI/dataset/esnli_test.csv')\n",
    "test = test[test.notnull().apply(all, axis=1)]"
   ],
   "metadata": {
    "collapsed": false,
    "pycharm": {
     "name": "#%%\n"
    }
   }
  },
  {
   "cell_type": "code",
   "execution_count": 86,
   "outputs": [
    {
     "data": {
      "text/plain": "(9824, 19)"
     },
     "execution_count": 86,
     "metadata": {},
     "output_type": "execute_result"
    }
   ],
   "source": [
    "test.shape"
   ],
   "metadata": {
    "collapsed": false,
    "pycharm": {
     "name": "#%%\n"
    }
   }
  },
  {
   "cell_type": "code",
   "execution_count": 3,
   "outputs": [],
   "source": [
    "train = train.set_index('pairID')"
   ],
   "metadata": {
    "collapsed": false,
    "pycharm": {
     "name": "#%%\n"
    }
   }
  },
  {
   "cell_type": "code",
   "execution_count": 4,
   "outputs": [],
   "source": [
    "#dev_prepared = pd.read_pickle(\"../02_Extract_Subphrases/prepared_data/subphrase_vectors_dev.pkl\")"
   ],
   "metadata": {
    "collapsed": false,
    "pycharm": {
     "name": "#%%\n"
    }
   }
  },
  {
   "cell_type": "code",
   "execution_count": 5,
   "outputs": [
    {
     "name": "stderr",
     "output_type": "stream",
     "text": [
      "/var/folders/lp/djryk53n11b_ww_n9xbjm4s80000gn/T/ipykernel_19046/3256677672.py:8: FutureWarning: The frame.append method is deprecated and will be removed from pandas in a future version. Use pandas.concat instead.\n",
      "  data_prepared = data_prepared.append(cur_data_prepared)\n",
      "/var/folders/lp/djryk53n11b_ww_n9xbjm4s80000gn/T/ipykernel_19046/3256677672.py:8: FutureWarning: The frame.append method is deprecated and will be removed from pandas in a future version. Use pandas.concat instead.\n",
      "  data_prepared = data_prepared.append(cur_data_prepared)\n",
      "/var/folders/lp/djryk53n11b_ww_n9xbjm4s80000gn/T/ipykernel_19046/3256677672.py:8: FutureWarning: The frame.append method is deprecated and will be removed from pandas in a future version. Use pandas.concat instead.\n",
      "  data_prepared = data_prepared.append(cur_data_prepared)\n",
      "/var/folders/lp/djryk53n11b_ww_n9xbjm4s80000gn/T/ipykernel_19046/3256677672.py:8: FutureWarning: The frame.append method is deprecated and will be removed from pandas in a future version. Use pandas.concat instead.\n",
      "  data_prepared = data_prepared.append(cur_data_prepared)\n",
      "/var/folders/lp/djryk53n11b_ww_n9xbjm4s80000gn/T/ipykernel_19046/3256677672.py:8: FutureWarning: The frame.append method is deprecated and will be removed from pandas in a future version. Use pandas.concat instead.\n",
      "  data_prepared = data_prepared.append(cur_data_prepared)\n",
      "/var/folders/lp/djryk53n11b_ww_n9xbjm4s80000gn/T/ipykernel_19046/3256677672.py:8: FutureWarning: The frame.append method is deprecated and will be removed from pandas in a future version. Use pandas.concat instead.\n",
      "  data_prepared = data_prepared.append(cur_data_prepared)\n",
      "/var/folders/lp/djryk53n11b_ww_n9xbjm4s80000gn/T/ipykernel_19046/3256677672.py:8: FutureWarning: The frame.append method is deprecated and will be removed from pandas in a future version. Use pandas.concat instead.\n",
      "  data_prepared = data_prepared.append(cur_data_prepared)\n",
      "/var/folders/lp/djryk53n11b_ww_n9xbjm4s80000gn/T/ipykernel_19046/3256677672.py:8: FutureWarning: The frame.append method is deprecated and will be removed from pandas in a future version. Use pandas.concat instead.\n",
      "  data_prepared = data_prepared.append(cur_data_prepared)\n",
      "/var/folders/lp/djryk53n11b_ww_n9xbjm4s80000gn/T/ipykernel_19046/3256677672.py:8: FutureWarning: The frame.append method is deprecated and will be removed from pandas in a future version. Use pandas.concat instead.\n",
      "  data_prepared = data_prepared.append(cur_data_prepared)\n"
     ]
    }
   ],
   "source": [
    "amount_training_data = 200\n",
    "max_iter = 10\n",
    "size_hidden_layers = (200, 200, 50, 30)\n",
    "\n",
    "data_prepared = pd.read_csv(\"../02_Extract_Subphrases/prepared_data/subphrase_vectors_20train.csv\", sep=\";\")\n",
    "for i in np.arange(40, amount_training_data + 1, 20):\n",
    "    cur_data_prepared = pd.read_csv(\"../02_Extract_Subphrases/prepared_data/subphrase_vectors_\" + str(i) + \"train.csv\", sep=\";\")\n",
    "    data_prepared = data_prepared.append(cur_data_prepared)"
   ],
   "metadata": {
    "collapsed": false,
    "pycharm": {
     "name": "#%%\n"
    }
   }
  },
  {
   "cell_type": "code",
   "execution_count": 6,
   "outputs": [],
   "source": [
    "data_prepared = data_prepared.iloc[:,1:]\n",
    "data = data_prepared\n",
    "data_index = data.iloc[:,0]\n",
    "data = data.iloc[:,1:].to_numpy().astype(float)"
   ],
   "metadata": {
    "collapsed": false,
    "pycharm": {
     "name": "#%%\n"
    }
   }
  },
  {
   "cell_type": "code",
   "execution_count": 7,
   "outputs": [
    {
     "data": {
      "text/plain": "array([[-22.99217  ,  15.174032 , -21.5833   , ...,         nan,\n                nan,         nan],\n       [-22.99217  ,  15.174032 , -21.5833   , ...,         nan,\n                nan,         nan],\n       [ -0.12984  ,   0.2113   ,  -3.1924   , ...,         nan,\n                nan,         nan],\n       ...,\n       [ -6.8214006,   6.513    ,  -3.0294995, ...,         nan,\n                nan,         nan],\n       [ -6.8214006,   6.513    ,  -3.0294995, ...,         nan,\n                nan,         nan],\n       [ -6.8214006,   6.513    ,  -3.0294995, ...,         nan,\n                nan,         nan]])"
     },
     "execution_count": 7,
     "metadata": {},
     "output_type": "execute_result"
    }
   ],
   "source": [
    "data"
   ],
   "metadata": {
    "collapsed": false,
    "pycharm": {
     "name": "#%%\n"
    }
   }
  },
  {
   "cell_type": "code",
   "execution_count": 8,
   "outputs": [],
   "source": [
    "from scipy.stats import kstest"
   ],
   "metadata": {
    "collapsed": false,
    "pycharm": {
     "name": "#%%\n"
    }
   }
  },
  {
   "cell_type": "code",
   "execution_count": 8,
   "outputs": [
    {
     "data": {
      "text/plain": "KstestResult(statistic=0.13066417064069258, pvalue=9.579269644254027e-131, statistic_location=0.11036775054147842, statistic_sign=-1)"
     },
     "execution_count": 8,
     "metadata": {},
     "output_type": "execute_result"
    },
    {
     "data": {
      "text/plain": "<Figure size 640x480 with 1 Axes>",
      "image/png": "[encoded data removed]"
     },
     "metadata": {},
     "output_type": "display_data"
    }
   ],
   "source": [
    "temp = data[~np.isnan(data[:,0]),0]\n",
    "temp = temp - temp.mean()\n",
    "temp = temp / temp.std()\n",
    "plt.hist(temp, bins=40)\n",
    "kstest(temp,\"norm\")"
   ],
   "metadata": {
    "collapsed": false,
    "pycharm": {
     "name": "#%%\n"
    }
   }
  },
  {
   "cell_type": "code",
   "execution_count": 261,
   "outputs": [],
   "source": [
    "#data = np.stack(np.vectorize(lambda x: 0 if x == 'nan' else x)(data), axis=1).T"
   ],
   "metadata": {
    "collapsed": false,
    "pycharm": {
     "name": "#%%\n"
    }
   }
  },
  {
   "cell_type": "code",
   "execution_count": 118,
   "outputs": [],
   "source": [
    "from sklearn.neural_network import MLPClassifier"
   ],
   "metadata": {
    "collapsed": false,
    "pycharm": {
     "name": "#%%\n"
    }
   }
  },
  {
   "cell_type": "code",
   "execution_count": 77,
   "outputs": [],
   "source": [
    "clf = list()\n",
    "for i in range(25):\n",
    "    clf += [MLPClassifier(hidden_layer_sizes=(250, 250, 100, 100, 100, 50, 25),\n",
    "                          batch_size=100000,\n",
    "                          learning_rate_init=0.001,\n",
    "                          max_iter=100,\n",
    "                          random_state=1234,\n",
    "                          early_stopping=True,\n",
    "                          validation_fraction=0.2,\n",
    "                          n_iter_no_change=10,\n",
    "                          verbose=True), ]"
   ],
   "metadata": {
    "collapsed": false,
    "pycharm": {
     "name": "#%%\n"
    }
   }
  },
  {
   "cell_type": "code",
   "execution_count": 11,
   "outputs": [],
   "source": [
    "res = list()\n",
    "y_hat = list()\n",
    "for ind in data_index:\n",
    "    label = train.loc[ind].gold_label\n",
    "    y_hat += [label, ]\n",
    "    if label == \"neutral\":\n",
    "        res += [[\"neutral\", ] * 25, ]\n",
    "    elif label == \"entailment\":\n",
    "        temp_ent = [\"neutral\", ] * 25\n",
    "        temp_ent = [\"entailment\" if i in np.random.choice(range(25), size=np.random.randint(1,25), replace=False) else temp_ent[i] for i in range(25)]\n",
    "        res += [temp_ent, ]\n",
    "    else:\n",
    "        temp_contr = list(np.random.choice([\"entailment\", \"neutral\"], size=25))\n",
    "        temp_contr = [\"contradiction\" if i in np.random.choice(range(25), size=np.random.randint(1,25), replace=False) else temp_contr[i] for i in range(25)]\n",
    "        res += [temp_contr, ]\n",
    "z_train = np.array(res)\n",
    "y_hat = np.array(y_hat)"
   ],
   "metadata": {
    "collapsed": false,
    "pycharm": {
     "name": "#%%\n"
    }
   }
  },
  {
   "cell_type": "code",
   "execution_count": 12,
   "outputs": [
    {
     "data": {
      "text/plain": "(177467, 25)"
     },
     "execution_count": 12,
     "metadata": {},
     "output_type": "execute_result"
    }
   ],
   "source": [
    "z_train.shape"
   ],
   "metadata": {
    "collapsed": false,
    "pycharm": {
     "name": "#%%\n"
    }
   }
  },
  {
   "cell_type": "code",
   "execution_count": 13,
   "outputs": [],
   "source": [
    "indices = [[0,1500], [0,1800], [0,2100], [0,2400], [0,2700],\n",
    " [300,1500], [300,1800], [300,2100], [300,2400], [300,2700],\n",
    " [600,1500], [600,1800], [600,2100], [600,2400], [600,2700],\n",
    " [900,1500], [900,1800], [900,2100], [900,2400], [900,2700],\n",
    " [1200,1500], [1200,1800], [1200,2100], [1200,2400], [1200,2700]]"
   ],
   "metadata": {
    "collapsed": false,
    "pycharm": {
     "name": "#%%\n"
    }
   }
  },
  {
   "cell_type": "code",
   "execution_count": 14,
   "outputs": [],
   "source": [
    "not_nan = [None, ] * 25\n",
    "cols = [None, ] * 25\n",
    "for i in range(25):\n",
    "    cols[i] = list(range(indices[i][0], indices[i][0]+300)) + list(range(indices[i][1],indices[i][1]+300))\n",
    "    not_nan[i] = pd.Series([not x for x in pd.DataFrame(np.isnan(data[:,cols[i]])).apply(any, axis=1)])\n",
    "not_nan = np.array(not_nan).T"
   ],
   "metadata": {
    "collapsed": false,
    "pycharm": {
     "name": "#%%\n"
    }
   }
  },
  {
   "cell_type": "code",
   "execution_count": 78,
   "outputs": [
    {
     "name": "stdout",
     "output_type": "stream",
     "text": [
      "1\n",
      "Iteration 1, loss = 1.31665356\n",
      "Validation score: 0.579395\n",
      "Iteration 2, loss = 1.14289226\n",
      "Validation score: 0.538762\n",
      "Iteration 3, loss = 1.01071819\n",
      "Validation score: 0.581718\n",
      "Iteration 4, loss = 0.98858484\n",
      "Validation score: 0.581917\n",
      "Iteration 5, loss = 0.97610706\n",
      "Validation score: 0.582285\n",
      "Iteration 6, loss = 0.97298177\n",
      "Validation score: 0.582342\n",
      "Iteration 7, loss = 0.97136927\n",
      "Validation score: 0.582370\n",
      "Iteration 8, loss = 0.96872050\n",
      "Validation score: 0.582342\n",
      "Iteration 9, loss = 0.96711908\n",
      "Validation score: 0.582342\n",
      "Iteration 10, loss = 0.96547184\n",
      "Validation score: 0.582370\n",
      "Iteration 11, loss = 0.96422229\n",
      "Validation score: 0.582342\n",
      "Iteration 12, loss = 0.96286249\n",
      "Validation score: 0.582370\n",
      "Iteration 13, loss = 0.96162708\n",
      "Validation score: 0.582342\n",
      "Iteration 14, loss = 0.96072278\n",
      "Validation score: 0.582342\n",
      "Iteration 15, loss = 0.95991530\n",
      "Validation score: 0.582342\n",
      "Iteration 16, loss = 0.95909910\n",
      "Validation score: 0.582342\n",
      "Validation score did not improve more than tol=0.000100 for 10 consecutive epochs. Stopping.\n"
     ]
    }
   ],
   "source": [
    "for i in range(1):\n",
    "    print(i+1)\n",
    "    clf[i].fit(data[not_nan[:,i],][:,cols[i]], z_train[not_nan[:,i], i])"
   ],
   "metadata": {
    "collapsed": false,
    "pycharm": {
     "name": "#%%\n"
    }
   }
  },
  {
   "cell_type": "code",
   "execution_count": 79,
   "outputs": [
    {
     "name": "stdout",
     "output_type": "stream",
     "text": [
      "None\n"
     ]
    }
   ],
   "source": [
    "print(clf[0].best_loss_)"
   ],
   "metadata": {
    "collapsed": false,
    "pycharm": {
     "name": "#%%\n"
    }
   }
  },
  {
   "cell_type": "code",
   "execution_count": 80,
   "outputs": [
    {
     "data": {
      "text/plain": "<matplotlib.legend.Legend at 0x185fd2230>"
     },
     "execution_count": 80,
     "metadata": {},
     "output_type": "execute_result"
    },
    {
     "data": {
      "text/plain": "<Figure size 640x480 with 1 Axes>",
      "image/png": "[encoded data removed]"
     },
     "metadata": {},
     "output_type": "display_data"
    }
   ],
   "source": [
    "#plt.plot(clf[0].loss_curve_, label='loss curve')\n",
    "plt.plot(clf[0].validation_scores_, label='validation scores')\n",
    "plt.legend()"
   ],
   "metadata": {
    "collapsed": false,
    "pycharm": {
     "name": "#%%\n"
    }
   }
  },
  {
   "cell_type": "code",
   "execution_count": 82,
   "outputs": [
    {
     "data": {
      "text/plain": "array([40])"
     },
     "execution_count": 82,
     "metadata": {},
     "output_type": "execute_result"
    }
   ],
   "source": [
    "np.arange(40, 40 + 1, 20)"
   ],
   "metadata": {
    "collapsed": false,
    "pycharm": {
     "name": "#%%\n"
    }
   }
  },
  {
   "cell_type": "code",
   "execution_count": 81,
   "outputs": [
    {
     "data": {
      "text/plain": "0.5820487826993698"
     },
     "execution_count": 81,
     "metadata": {},
     "output_type": "execute_result"
    }
   ],
   "source": [
    "clf[0].score(data[not_nan[:,0],][:,cols[0]], z_train[not_nan[:,0], 0])"
   ],
   "metadata": {
    "collapsed": false,
    "pycharm": {
     "name": "#%%\n"
    }
   }
  },
  {
   "cell_type": "code",
   "execution_count": 15,
   "outputs": [],
   "source": [
    "def check_if_pred_is_possible(pred, actual):\n",
    "    if actual == \"neutral\":\n",
    "        return \"neutral\"\n",
    "    elif actual == \"entailment\" and pred == \"contradiction\":\n",
    "        return list(np.random.choice([\"entailment\", \"neutral\"], size=1))[0]\n",
    "    else:\n",
    "        return pred"
   ],
   "metadata": {
    "collapsed": false,
    "pycharm": {
     "name": "#%%\n"
    }
   }
  },
  {
   "cell_type": "code",
   "execution_count": 24,
   "outputs": [],
   "source": [
    "def predict_y_from_z(z):\n",
    "    if len(z.shape) > 1:\n",
    "        return np.apply_along_axis(predict_y_from_z, axis=1, arr=z)\n",
    "    else:\n",
    "        if all([z_dev[1, i] == 'nan' or z_dev[1, i] == 'neutral' for i in range(25)]):\n",
    "            return 'neutral'\n",
    "        elif any(z == 'contradiction'):\n",
    "            return 'contradiction'\n",
    "        else:\n",
    "            return 'entailment'"
   ],
   "metadata": {
    "collapsed": false,
    "pycharm": {
     "name": "#%%\n"
    }
   }
  },
  {
   "cell_type": "code",
   "execution_count": 27,
   "outputs": [],
   "source": [
    "num_iter = 1\n",
    "for j in range(num_iter):\n",
    "    for i in range(25):\n",
    "        cols = list(range(indices[i][0], indices[i][0]+300)) + list(range(indices[i][1],indices[i][1]+300))\n",
    "        not_nan = pd.Series([not x for x in pd.DataFrame(np.isnan(data[:,cols])).apply(any, axis=1)])\n",
    "        #preds = pd.Series(clf[i].predict(data[not_nan,:][:,list(range(indices[i][0], indices[i][0]+300)) + list(range(indices[i][1],indices[i][1]+300))]))\n",
    "        #preds = pd.Series([check_if_pred_is_possible(pred=preds[k], actual=y_hat[not_nan][k]) for k in range(preds.shape[0])])\n",
    "        #z_dev[not_nan, i] = preds\n",
    "        #y_preds = predict_y_from_z(z_dev[not_nan, :])\n",
    "        #s = pd.Series(y_preds != y_hat[not_nan])\n",
    "        #print(s.mean())\n",
    "        #preds[s] = y_hat[not_nan][s]\n",
    "        z_dev[pd.Series([not x for x in not_nan]), i] = np.nan\n",
    "        #clf[i].fit(data[not_nan,][:,cols], preds)"
   ],
   "metadata": {
    "collapsed": false,
    "pycharm": {
     "name": "#%%\n"
    }
   }
  },
  {
   "cell_type": "code",
   "execution_count": 9,
   "outputs": [],
   "source": [
    "# Source: https://stackoverflow.com/questions/6284396/permutations-with-unique-values\n",
    "class unique_element:\n",
    "    def __init__(self,value,occurrences):\n",
    "        self.value = value\n",
    "        self.occurrences = occurrences\n",
    "\n",
    "def perm_unique(elements):\n",
    "    eset=set(elements)\n",
    "    listunique = [unique_element(i,elements.count(i)) for i in eset]\n",
    "    u=len(elements)\n",
    "    return perm_unique_helper(listunique,[0]*u,u-1)\n",
    "\n",
    "def perm_unique_helper(listunique,result_list,d):\n",
    "    if d < 0:\n",
    "        yield tuple(result_list)\n",
    "    else:\n",
    "        for i in listunique:\n",
    "            if i.occurrences > 0:\n",
    "                result_list[d]=i.value\n",
    "                i.occurrences-=1\n",
    "                for g in  perm_unique_helper(listunique,result_list,d-1):\n",
    "                    yield g\n",
    "                i.occurrences+=1"
   ],
   "metadata": {
    "collapsed": false,
    "pycharm": {
     "name": "#%%\n"
    }
   }
  },
  {
   "cell_type": "code",
   "execution_count": 86,
   "outputs": [],
   "source": [
    "def calc_log_prob(z, clf, data):\n",
    "    log_prob = [None, ] * 25\n",
    "    for i in range(25):\n",
    "        res = pd.DataFrame([[0, ] * z.shape[0], ] * 3).T\n",
    "        res[not_nan[:,i]] = clf[i].predict_log_proba(data[not_nan[:, i],:][:,list(range(indices[i][0], indices[i][0]+300)) + list(range(indices[i][1],indices[i][1]+300))])\n",
    "        log_prob[i] = res\n",
    "    log_prob = np.stack(log_prob, axis=0)\n",
    "    return log_prob"
   ],
   "metadata": {
    "collapsed": false,
    "pycharm": {
     "name": "#%%\n"
    }
   }
  },
  {
   "cell_type": "code",
   "execution_count": 41,
   "outputs": [],
   "source": [
    "def find_possible_configs():\n",
    "    max_i = 25 + 1\n",
    "    res = list()\n",
    "    for y_hat in ('contradiction', 'entailment', 'neutral'):\n",
    "        perms = list()\n",
    "        print(y_hat)\n",
    "        if y_hat == 'neutral':\n",
    "            perms = [['neutral', ] * 25, ]\n",
    "        elif y_hat == 'contradiction':\n",
    "            for i in range(1, max_i):\n",
    "                for j in range(0, max_i - i):\n",
    "                    perms += [['contradiction', ] * i + ['neutral', ] * j + ['entailment', ] * (max_i-1 - i - j), ]\n",
    "        elif y_hat == 'entailment':\n",
    "            for i in range(1, max_i):\n",
    "                perms += [['entailment', ] * i + ['neutral', ] * (max_i - i), ]\n",
    "        temp = [list(perm_unique(perm)) for perm in perms[:8]]\n",
    "        temp = [i for t in temp for i in t]\n",
    "        res += [temp, ]\n",
    "    return {'contradiction': res[0], 'entailment': res[1], 'neutral': res[2]}\n",
    "\n",
    "def get_log_prob(config, config_map, log_prob):\n",
    "    return np.sum([log_prob[i,config_map[cur_config]] for i, cur_config in enumerate(config)])\n",
    "\n",
    "def find_most_likely_z(log_prob, possible_configs, y_hat):\n",
    "    config_map = {'contradiction': 0, 'entailment': 1, 'neutral': 2}\n",
    "    config_log_prob = list()\n",
    "    j = 0\n",
    "    for possible_config in possible_configs[y_hat]:\n",
    "        j += 1\n",
    "        for i in range(25):\n",
    "            config_log_prob[j,i] = [np.sum([log_prob[i,config_map[cur_val]] for cur_val in possible_config]), ]\n",
    "    z = possible_configs[np.argmax(config_log_prob[j,:])]\n",
    "    return z\n",
    "\n",
    "def most_likely_heuristic(clf, y_hat, data, not_nan):\n",
    "    y_mapping = {clf[0].classes_[0]: 0, clf[0].classes_[1]: 1, clf[0].classes_[2]: 2}\n",
    "    preds = pd.Series([np.nan, ] * 25)\n",
    "    for i in range(25):\n",
    "        if not_nan[i]:\n",
    "            preds[i] = clf[i].predict(data[cols[i]].reshape(1,-1))[0]\n",
    "    predicted_y = predict_y_from_z(preds)\n",
    "    log_prob = np.zeros((25,3))\n",
    "    for i in range(25):\n",
    "        if not_nan[i]:\n",
    "            log_prob[i,:] = clf[i].predict_log_proba(data[cols[i]].reshape(1,-1))\n",
    "    if predicted_y != y_hat:\n",
    "        if y_hat == 'neutral':\n",
    "            preds[not_nan] = 'neutral'\n",
    "        elif y_hat == 'contradiction':\n",
    "            best_i = 0\n",
    "            best_swapping_cost = np.inf\n",
    "            for i in range(25):\n",
    "                if not_nan[i]:\n",
    "                    swapping_cost = log_prob[i,y_mapping[preds[i]]] - log_prob[i,y_mapping['contradiction']]\n",
    "                    if swapping_cost < best_swapping_cost:\n",
    "                        best_i = i\n",
    "            preds[best_i] = 'contradiction'\n",
    "        elif y_hat == 'entailment':\n",
    "            if predicted_y == 'contradiction':\n",
    "                for i in np.where(pd.Series(preds) == 'contradiction'):\n",
    "                    i = i[0]\n",
    "                    replace_with_entailment = False\n",
    "                    if not_nan[i]:\n",
    "                        swapping_cost_ent = log_prob[i, y_mapping[preds[i]]] - log_prob[i][y_mapping['entailment']]\n",
    "                        swapping_cost_neutr = log_prob[i, y_mapping[preds[i]]] - log_prob[i,y_mapping['neutral']]\n",
    "                        if swapping_cost_neutr > swapping_cost_ent:\n",
    "                            preds[i] = 'entailment'\n",
    "                            replace_with_entailment = True\n",
    "                        else:\n",
    "                            preds[i] = 'neutral'\n",
    "            if not replace_with_entailment:\n",
    "                best_i = 0\n",
    "                best_swapping_cost = np.inf\n",
    "                for i in range(25):\n",
    "                    if not_nan[i]:\n",
    "                        swapping_cost = log_prob[i, y_mapping[preds[i]]] - log_prob[i, y_mapping['entailment']]\n",
    "                        if swapping_cost < best_swapping_cost:\n",
    "                            best_i = i\n",
    "                preds[best_i] = 'entailment'\n",
    "    log_lik = 0\n",
    "    for i in range(25):\n",
    "        if not_nan[i]:\n",
    "            log_lik += log_prob[i, y_mapping[preds[i]]]\n",
    "    return preds, log_lik"
   ],
   "metadata": {
    "collapsed": false,
    "pycharm": {
     "name": "#%%\n"
    }
   }
  },
  {
   "cell_type": "code",
   "execution_count": 42,
   "outputs": [],
   "source": [
    "def estimate_z_and_log_lik(clf, y_hat, data, not_nan):\n",
    "    res = list()\n",
    "    log_lik = 0\n",
    "    for i in range(data.shape[0]):\n",
    "        preds, cur_log_lik = most_likely_heuristic(clf, y_hat[i], data[i,:], not_nan[i,:])\n",
    "        res += [preds, ]\n",
    "        log_lik += cur_log_lik\n",
    "    return np.array(res), log_lik"
   ],
   "metadata": {
    "collapsed": false,
    "pycharm": {
     "name": "#%%\n"
    }
   }
  },
  {
   "cell_type": "code",
   "execution_count": 206,
   "outputs": [
    {
     "data": {
      "text/plain": "[[0, 2100], [0, 2700]]"
     },
     "execution_count": 206,
     "metadata": {},
     "output_type": "execute_result"
    }
   ],
   "source": [
    "temp = np.array([[0,1500], [0,1800], [0,2100], [0,2400], [0,2700],\n",
    "                 [300,1500], [300,1800], [300,2100], [300,2400], [300,2700],\n",
    "                 [600,1500], [600,1800], [600,2100], [600,2400], [600,2700],\n",
    "                 [900,1500], [900,1800], [900,2100], [900,2400], [900,2700],\n",
    "                 [1200,1500], [1200,1800], [1200,2100], [1200,2400], [1200,2700]])\n",
    "temp = temp[(2,4),:].tolist()\n",
    "temp"
   ],
   "metadata": {
    "collapsed": false,
    "pycharm": {
     "name": "#%%\n"
    }
   }
  },
  {
   "cell_type": "code",
   "execution_count": null,
   "outputs": [],
   "source": [
    "use_z_values = (0,3,4,6,8,9,12,13,14,15,16,17,18,19,20,21,22,23,24)\n",
    "non_mixed_pairs_indices = [i for i in range(len(use_z_values)) if use_z_values[i] in (0,6,12,18,24)]\n",
    "\n",
    "Subj2_indices = [i for i in range(len(use_z_values)) if use_z_values[i] in (0, 5, 10, 15, 20)]\n",
    "Verb2_indices = [i for i in range(len(use_z_values)) if use_z_values[i] in (1, 6, 11, 16, 21)]\n",
    "Obj2_indices = [i for i in range(len(use_z_values)) if use_z_values[i] in (2, 7, 12, 17, 22)]\n",
    "Loc2_indices = [i for i in range(len(use_z_values)) if use_z_values[i] in (3, 8, 13, 18, 23)]\n",
    "Clo2_indices = [i for i in range(len(use_z_values)) if use_z_values[i] in (4, 9, 14, 19, 24)]\n",
    "Sentence2_indices = [Subj2_indices, Verb2_indices, Obj2_indices, Loc2_indices, Clo2_indices]"
   ],
   "metadata": {
    "collapsed": false,
    "pycharm": {
     "name": "#%%\n"
    }
   }
  },
  {
   "cell_type": "code",
   "execution_count": 407,
   "outputs": [
    {
     "data": {
      "text/plain": "[0, 3, 6, 12, 18]"
     },
     "execution_count": 407,
     "metadata": {},
     "output_type": "execute_result"
    }
   ],
   "source": [
    "non_mixed_pairs_indices"
   ],
   "metadata": {
    "collapsed": false,
    "pycharm": {
     "name": "#%%\n"
    }
   }
  },
  {
   "cell_type": "code",
   "execution_count": 215,
   "outputs": [
    {
     "ename": "TypeError",
     "evalue": "list indices must be integers or slices, not list",
     "output_type": "error",
     "traceback": [
      "\u001B[0;31m---------------------------------------------------------------------------\u001B[0m",
      "\u001B[0;31mTypeError\u001B[0m                                 Traceback (most recent call last)",
      "Cell \u001B[0;32mIn[215], line 2\u001B[0m\n\u001B[1;32m      1\u001B[0m temp_ent \u001B[38;5;241m=\u001B[39m [\u001B[38;5;124m\"\u001B[39m\u001B[38;5;124mneutral\u001B[39m\u001B[38;5;124m\"\u001B[39m] \u001B[38;5;241m*\u001B[39m \u001B[38;5;28mlen\u001B[39m(use_z_values)\n\u001B[0;32m----> 2\u001B[0m \u001B[43mtemp_ent\u001B[49m\u001B[43m[\u001B[49m\u001B[43mnon_mixed_pairs_indices\u001B[49m\u001B[43m]\u001B[49m \u001B[38;5;241m=\u001B[39m \u001B[38;5;124m\"\u001B[39m\u001B[38;5;124mentailment\u001B[39m\u001B[38;5;124m\"\u001B[39m\n",
      "\u001B[0;31mTypeError\u001B[0m: list indices must be integers or slices, not list"
     ]
    }
   ],
   "source": [
    "temp_ent = [\"neutral\"] * len(use_z_values)\n",
    "temp_ent[non_mixed_pairs_indices] = \"entailment\""
   ],
   "metadata": {
    "collapsed": false,
    "pycharm": {
     "name": "#%%\n"
    }
   }
  },
  {
   "cell_type": "code",
   "execution_count": 406,
   "outputs": [
    {
     "data": {
      "text/plain": "0"
     },
     "execution_count": 406,
     "metadata": {},
     "output_type": "execute_result"
    }
   ],
   "source": [
    "ent_mask = [True, False, False, True]\n",
    "np.random.choice(np.where(ent_mask)[0], 1)[0]"
   ],
   "metadata": {
    "collapsed": false,
    "pycharm": {
     "name": "#%%\n"
    }
   }
  },
  {
   "cell_type": "code",
   "execution_count": 418,
   "outputs": [
    {
     "name": "stdout",
     "output_type": "stream",
     "text": [
      "[True, True, True, True, True]\n"
     ]
    },
    {
     "data": {
      "text/plain": "'entailment'"
     },
     "execution_count": 418,
     "metadata": {},
     "output_type": "execute_result"
    }
   ],
   "source": [
    "def predict_y_from_z(z):\n",
    "\n",
    "    # Iterate through each row if z is a matrix\n",
    "    if len(z.shape) > 1:\n",
    "        z = pd.DataFrame(z)\n",
    "        res = z.apply(predict_y_from_z, axis=1)\n",
    "        return res.to_numpy()\n",
    "\n",
    "    # For each single line perform the following:\n",
    "    else:\n",
    "        # If any z is 'contradiction' -> output class 'contradiction'\n",
    "        if any(z == 'contradiction'):\n",
    "            return 'contradiction'\n",
    "        # Else if all subphrases of sentence 2 are entailed by any subphrase of sentence 1 -> output class 'entailment'\n",
    "        elif all([any([z[i] == 'entailment' for i in subphrase_indices]) or all([z[i] == 'nan' or pd.isnull(z[i]) for i in subphrase_indices]) for subphrase_indices in Sentence2_indices]):\n",
    "            print([any([z[i] == 'entailment' for i in subphrase_indices]) or all([z[i] == 'nan' or pd.isnull(z[i]) for i in subphrase_indices]) for subphrase_indices in Sentence2_indices]\n",
    "            return 'entailment'\n",
    "        # Else output class 'neutral'\n",
    "        else:\n",
    "            return 'neutral'\n",
    "\n",
    "temp = np.array(['neutral', 'nan', 'nan', 'entailment', 'nan', 'nan', 'nan', 'nan', 'nan',\n",
    "        'entailment', 'neutral', 'nan', 'nan', 'nan', 'neutral', 'entailment', 'nan',\n",
    "        'nan', 'nan'])\n",
    "\n",
    "predict_y_from_z(temp)"
   ],
   "metadata": {
    "collapsed": false,
    "pycharm": {
     "name": "#%%\n"
    }
   }
  },
  {
   "cell_type": "code",
   "execution_count": 235,
   "outputs": [
    {
     "data": {
      "text/plain": "'entailment'"
     },
     "execution_count": 235,
     "metadata": {},
     "output_type": "execute_result"
    }
   ],
   "source": [
    "def predict_y_from_z(z):\n",
    "\n",
    "    # Iterate through each row if z is a matrix\n",
    "    if len(z.shape) > 1:\n",
    "        z = pd.DataFrame(z)\n",
    "        res = z.apply(predict_y_from_z, axis=1)\n",
    "        return res.to_numpy()\n",
    "\n",
    "    # For each single line perform the following:\n",
    "    else:\n",
    "        # If any z is 'contradiction' -> output class 'contradiction'\n",
    "        if any(z == 'contradiction'):\n",
    "            return 'contradiction'\n",
    "        # Else if all non-mixed hidden variables are 'entailment' an -> output class 'entailment'\n",
    "        elif all([z[i] == 'nan' or pd.isnull(z[i]) or z[i] == 'entailment' for i in non_mixed_pairs_indices]):\n",
    "            return 'entailment'\n",
    "        # Else output class 'neutral'\n",
    "        elif any(z == 'neutral'):\n",
    "            return 'neutral'\n",
    "        else:\n",
    "            raise ValueError(f\"z can only have values 'entailment', 'contradiction', or 'neutral' but is {z}\")\n",
    "\n",
    "predict_y_from_z(np.array(['entailment', 'neutral', 'nan', 'entailment', 'neutral', 'nan', 'nan', 'nan', 'nan', 'neutral', 'neutral', 'nan', 'entailment', 'nan', 'nan', 'nan', 'nan', 'nan', 'nan']))"
   ],
   "metadata": {
    "collapsed": false,
    "pycharm": {
     "name": "#%%\n"
    }
   }
  },
  {
   "cell_type": "code",
   "execution_count": 236,
   "outputs": [
    {
     "data": {
      "text/plain": "[0, 3, 6, 12, 18]"
     },
     "execution_count": 236,
     "metadata": {},
     "output_type": "execute_result"
    }
   ],
   "source": [
    "non_mixed_pairs_indices"
   ],
   "metadata": {
    "collapsed": false,
    "pycharm": {
     "name": "#%%\n"
    }
   }
  },
  {
   "cell_type": "code",
   "execution_count": 43,
   "outputs": [],
   "source": [
    "def em_algorithm(clf, y_hat, data, not_nan, iter):\n",
    "    log_lik = list()\n",
    "    for k in range(iter):\n",
    "        # E-Step\n",
    "        z, cur_log_lik = estimate_z_and_log_lik(clf, y_hat, data, not_nan)\n",
    "        log_lik += [cur_log_lik, ]\n",
    "        # M-Step\n",
    "        for i in range(25):\n",
    "            clf[i].fit(data[not_nan[:,i],][:,cols[i]], z[not_nan[:,i], i])\n",
    "\n",
    "    return clf, z, log_lik"
   ],
   "metadata": {
    "collapsed": false,
    "pycharm": {
     "name": "#%%\n"
    }
   }
  },
  {
   "cell_type": "code",
   "execution_count": 48,
   "outputs": [
    {
     "name": "stderr",
     "output_type": "stream",
     "text": [
      "/Users/marcbraun/.conda/envs/master_thesis_code/lib/python3.10/site-packages/sklearn/neural_network/_multilayer_perceptron.py:684: ConvergenceWarning: Stochastic Optimizer: Maximum iterations (200) reached and the optimization hasn't converged yet.\n",
      "  warnings.warn(\n",
      "/Users/marcbraun/.conda/envs/master_thesis_code/lib/python3.10/site-packages/sklearn/neural_network/_multilayer_perceptron.py:684: ConvergenceWarning: Stochastic Optimizer: Maximum iterations (200) reached and the optimization hasn't converged yet.\n",
      "  warnings.warn(\n",
      "/Users/marcbraun/.conda/envs/master_thesis_code/lib/python3.10/site-packages/sklearn/neural_network/_multilayer_perceptron.py:684: ConvergenceWarning: Stochastic Optimizer: Maximum iterations (200) reached and the optimization hasn't converged yet.\n",
      "  warnings.warn(\n",
      "/Users/marcbraun/.conda/envs/master_thesis_code/lib/python3.10/site-packages/sklearn/neural_network/_multilayer_perceptron.py:684: ConvergenceWarning: Stochastic Optimizer: Maximum iterations (200) reached and the optimization hasn't converged yet.\n",
      "  warnings.warn(\n",
      "/Users/marcbraun/.conda/envs/master_thesis_code/lib/python3.10/site-packages/sklearn/neural_network/_multilayer_perceptron.py:684: ConvergenceWarning: Stochastic Optimizer: Maximum iterations (200) reached and the optimization hasn't converged yet.\n",
      "  warnings.warn(\n",
      "/Users/marcbraun/.conda/envs/master_thesis_code/lib/python3.10/site-packages/sklearn/neural_network/_multilayer_perceptron.py:684: ConvergenceWarning: Stochastic Optimizer: Maximum iterations (200) reached and the optimization hasn't converged yet.\n",
      "  warnings.warn(\n",
      "/Users/marcbraun/.conda/envs/master_thesis_code/lib/python3.10/site-packages/sklearn/neural_network/_multilayer_perceptron.py:684: ConvergenceWarning: Stochastic Optimizer: Maximum iterations (200) reached and the optimization hasn't converged yet.\n",
      "  warnings.warn(\n",
      "/Users/marcbraun/.conda/envs/master_thesis_code/lib/python3.10/site-packages/sklearn/neural_network/_multilayer_perceptron.py:684: ConvergenceWarning: Stochastic Optimizer: Maximum iterations (200) reached and the optimization hasn't converged yet.\n",
      "  warnings.warn(\n",
      "/Users/marcbraun/.conda/envs/master_thesis_code/lib/python3.10/site-packages/sklearn/neural_network/_multilayer_perceptron.py:684: ConvergenceWarning: Stochastic Optimizer: Maximum iterations (200) reached and the optimization hasn't converged yet.\n",
      "  warnings.warn(\n",
      "/Users/marcbraun/.conda/envs/master_thesis_code/lib/python3.10/site-packages/sklearn/neural_network/_multilayer_perceptron.py:684: ConvergenceWarning: Stochastic Optimizer: Maximum iterations (200) reached and the optimization hasn't converged yet.\n",
      "  warnings.warn(\n",
      "/Users/marcbraun/.conda/envs/master_thesis_code/lib/python3.10/site-packages/sklearn/neural_network/_multilayer_perceptron.py:684: ConvergenceWarning: Stochastic Optimizer: Maximum iterations (200) reached and the optimization hasn't converged yet.\n",
      "  warnings.warn(\n",
      "/Users/marcbraun/.conda/envs/master_thesis_code/lib/python3.10/site-packages/sklearn/neural_network/_multilayer_perceptron.py:684: ConvergenceWarning: Stochastic Optimizer: Maximum iterations (200) reached and the optimization hasn't converged yet.\n",
      "  warnings.warn(\n",
      "/Users/marcbraun/.conda/envs/master_thesis_code/lib/python3.10/site-packages/sklearn/neural_network/_multilayer_perceptron.py:684: ConvergenceWarning: Stochastic Optimizer: Maximum iterations (200) reached and the optimization hasn't converged yet.\n",
      "  warnings.warn(\n",
      "/Users/marcbraun/.conda/envs/master_thesis_code/lib/python3.10/site-packages/sklearn/neural_network/_multilayer_perceptron.py:684: ConvergenceWarning: Stochastic Optimizer: Maximum iterations (200) reached and the optimization hasn't converged yet.\n",
      "  warnings.warn(\n",
      "/Users/marcbraun/.conda/envs/master_thesis_code/lib/python3.10/site-packages/sklearn/neural_network/_multilayer_perceptron.py:684: ConvergenceWarning: Stochastic Optimizer: Maximum iterations (200) reached and the optimization hasn't converged yet.\n",
      "  warnings.warn(\n",
      "/Users/marcbraun/.conda/envs/master_thesis_code/lib/python3.10/site-packages/sklearn/neural_network/_multilayer_perceptron.py:684: ConvergenceWarning: Stochastic Optimizer: Maximum iterations (200) reached and the optimization hasn't converged yet.\n",
      "  warnings.warn(\n",
      "/Users/marcbraun/.conda/envs/master_thesis_code/lib/python3.10/site-packages/sklearn/neural_network/_multilayer_perceptron.py:684: ConvergenceWarning: Stochastic Optimizer: Maximum iterations (200) reached and the optimization hasn't converged yet.\n",
      "  warnings.warn(\n",
      "/Users/marcbraun/.conda/envs/master_thesis_code/lib/python3.10/site-packages/sklearn/neural_network/_multilayer_perceptron.py:684: ConvergenceWarning: Stochastic Optimizer: Maximum iterations (200) reached and the optimization hasn't converged yet.\n",
      "  warnings.warn(\n",
      "/Users/marcbraun/.conda/envs/master_thesis_code/lib/python3.10/site-packages/sklearn/neural_network/_multilayer_perceptron.py:684: ConvergenceWarning: Stochastic Optimizer: Maximum iterations (200) reached and the optimization hasn't converged yet.\n",
      "  warnings.warn(\n",
      "/Users/marcbraun/.conda/envs/master_thesis_code/lib/python3.10/site-packages/sklearn/neural_network/_multilayer_perceptron.py:684: ConvergenceWarning: Stochastic Optimizer: Maximum iterations (200) reached and the optimization hasn't converged yet.\n",
      "  warnings.warn(\n",
      "/Users/marcbraun/.conda/envs/master_thesis_code/lib/python3.10/site-packages/sklearn/neural_network/_multilayer_perceptron.py:684: ConvergenceWarning: Stochastic Optimizer: Maximum iterations (200) reached and the optimization hasn't converged yet.\n",
      "  warnings.warn(\n",
      "/Users/marcbraun/.conda/envs/master_thesis_code/lib/python3.10/site-packages/sklearn/neural_network/_multilayer_perceptron.py:684: ConvergenceWarning: Stochastic Optimizer: Maximum iterations (200) reached and the optimization hasn't converged yet.\n",
      "  warnings.warn(\n",
      "/Users/marcbraun/.conda/envs/master_thesis_code/lib/python3.10/site-packages/sklearn/neural_network/_multilayer_perceptron.py:684: ConvergenceWarning: Stochastic Optimizer: Maximum iterations (200) reached and the optimization hasn't converged yet.\n",
      "  warnings.warn(\n",
      "/Users/marcbraun/.conda/envs/master_thesis_code/lib/python3.10/site-packages/sklearn/neural_network/_multilayer_perceptron.py:684: ConvergenceWarning: Stochastic Optimizer: Maximum iterations (200) reached and the optimization hasn't converged yet.\n",
      "  warnings.warn(\n",
      "/Users/marcbraun/.conda/envs/master_thesis_code/lib/python3.10/site-packages/sklearn/neural_network/_multilayer_perceptron.py:684: ConvergenceWarning: Stochastic Optimizer: Maximum iterations (200) reached and the optimization hasn't converged yet.\n",
      "  warnings.warn(\n",
      "/Users/marcbraun/.conda/envs/master_thesis_code/lib/python3.10/site-packages/sklearn/neural_network/_multilayer_perceptron.py:684: ConvergenceWarning: Stochastic Optimizer: Maximum iterations (200) reached and the optimization hasn't converged yet.\n",
      "  warnings.warn(\n",
      "/Users/marcbraun/.conda/envs/master_thesis_code/lib/python3.10/site-packages/sklearn/neural_network/_multilayer_perceptron.py:684: ConvergenceWarning: Stochastic Optimizer: Maximum iterations (200) reached and the optimization hasn't converged yet.\n",
      "  warnings.warn(\n",
      "/Users/marcbraun/.conda/envs/master_thesis_code/lib/python3.10/site-packages/sklearn/neural_network/_multilayer_perceptron.py:684: ConvergenceWarning: Stochastic Optimizer: Maximum iterations (200) reached and the optimization hasn't converged yet.\n",
      "  warnings.warn(\n",
      "/Users/marcbraun/.conda/envs/master_thesis_code/lib/python3.10/site-packages/sklearn/neural_network/_multilayer_perceptron.py:684: ConvergenceWarning: Stochastic Optimizer: Maximum iterations (200) reached and the optimization hasn't converged yet.\n",
      "  warnings.warn(\n",
      "/Users/marcbraun/.conda/envs/master_thesis_code/lib/python3.10/site-packages/sklearn/neural_network/_multilayer_perceptron.py:684: ConvergenceWarning: Stochastic Optimizer: Maximum iterations (200) reached and the optimization hasn't converged yet.\n",
      "  warnings.warn(\n",
      "/Users/marcbraun/.conda/envs/master_thesis_code/lib/python3.10/site-packages/sklearn/neural_network/_multilayer_perceptron.py:684: ConvergenceWarning: Stochastic Optimizer: Maximum iterations (200) reached and the optimization hasn't converged yet.\n",
      "  warnings.warn(\n",
      "/Users/marcbraun/.conda/envs/master_thesis_code/lib/python3.10/site-packages/sklearn/neural_network/_multilayer_perceptron.py:684: ConvergenceWarning: Stochastic Optimizer: Maximum iterations (200) reached and the optimization hasn't converged yet.\n",
      "  warnings.warn(\n",
      "/Users/marcbraun/.conda/envs/master_thesis_code/lib/python3.10/site-packages/sklearn/neural_network/_multilayer_perceptron.py:684: ConvergenceWarning: Stochastic Optimizer: Maximum iterations (200) reached and the optimization hasn't converged yet.\n",
      "  warnings.warn(\n",
      "/Users/marcbraun/.conda/envs/master_thesis_code/lib/python3.10/site-packages/sklearn/neural_network/_multilayer_perceptron.py:684: ConvergenceWarning: Stochastic Optimizer: Maximum iterations (200) reached and the optimization hasn't converged yet.\n",
      "  warnings.warn(\n",
      "/Users/marcbraun/.conda/envs/master_thesis_code/lib/python3.10/site-packages/sklearn/neural_network/_multilayer_perceptron.py:684: ConvergenceWarning: Stochastic Optimizer: Maximum iterations (200) reached and the optimization hasn't converged yet.\n",
      "  warnings.warn(\n",
      "/Users/marcbraun/.conda/envs/master_thesis_code/lib/python3.10/site-packages/sklearn/neural_network/_multilayer_perceptron.py:684: ConvergenceWarning: Stochastic Optimizer: Maximum iterations (200) reached and the optimization hasn't converged yet.\n",
      "  warnings.warn(\n",
      "/Users/marcbraun/.conda/envs/master_thesis_code/lib/python3.10/site-packages/sklearn/neural_network/_multilayer_perceptron.py:684: ConvergenceWarning: Stochastic Optimizer: Maximum iterations (200) reached and the optimization hasn't converged yet.\n",
      "  warnings.warn(\n",
      "/Users/marcbraun/.conda/envs/master_thesis_code/lib/python3.10/site-packages/sklearn/neural_network/_multilayer_perceptron.py:684: ConvergenceWarning: Stochastic Optimizer: Maximum iterations (200) reached and the optimization hasn't converged yet.\n",
      "  warnings.warn(\n",
      "/Users/marcbraun/.conda/envs/master_thesis_code/lib/python3.10/site-packages/sklearn/neural_network/_multilayer_perceptron.py:684: ConvergenceWarning: Stochastic Optimizer: Maximum iterations (200) reached and the optimization hasn't converged yet.\n",
      "  warnings.warn(\n",
      "/Users/marcbraun/.conda/envs/master_thesis_code/lib/python3.10/site-packages/sklearn/neural_network/_multilayer_perceptron.py:684: ConvergenceWarning: Stochastic Optimizer: Maximum iterations (200) reached and the optimization hasn't converged yet.\n",
      "  warnings.warn(\n",
      "/Users/marcbraun/.conda/envs/master_thesis_code/lib/python3.10/site-packages/sklearn/neural_network/_multilayer_perceptron.py:684: ConvergenceWarning: Stochastic Optimizer: Maximum iterations (200) reached and the optimization hasn't converged yet.\n",
      "  warnings.warn(\n",
      "/Users/marcbraun/.conda/envs/master_thesis_code/lib/python3.10/site-packages/sklearn/neural_network/_multilayer_perceptron.py:684: ConvergenceWarning: Stochastic Optimizer: Maximum iterations (200) reached and the optimization hasn't converged yet.\n",
      "  warnings.warn(\n",
      "/Users/marcbraun/.conda/envs/master_thesis_code/lib/python3.10/site-packages/sklearn/neural_network/_multilayer_perceptron.py:684: ConvergenceWarning: Stochastic Optimizer: Maximum iterations (200) reached and the optimization hasn't converged yet.\n",
      "  warnings.warn(\n",
      "/Users/marcbraun/.conda/envs/master_thesis_code/lib/python3.10/site-packages/sklearn/neural_network/_multilayer_perceptron.py:684: ConvergenceWarning: Stochastic Optimizer: Maximum iterations (200) reached and the optimization hasn't converged yet.\n",
      "  warnings.warn(\n"
     ]
    }
   ],
   "source": [
    "clf, z, log_lik = em_algorithm(clf, y_hat, data, not_nan, 10)"
   ],
   "metadata": {
    "collapsed": false,
    "pycharm": {
     "name": "#%%\n"
    }
   }
  },
  {
   "cell_type": "code",
   "execution_count": 56,
   "outputs": [
    {
     "data": {
      "text/plain": "Text(0.5, 1.0, 'Log Likelihood EM-Algorithm')"
     },
     "execution_count": 56,
     "metadata": {},
     "output_type": "execute_result"
    },
    {
     "data": {
      "text/plain": "<Figure size 640x480 with 1 Axes>",
      "image/png": "[encoded data removed]"
     },
     "metadata": {},
     "output_type": "display_data"
    }
   ],
   "source": [
    "plt.plot(log_lik)\n",
    "plt.xlabel('Iteration')\n",
    "plt.ylabel('Log Likelihood')\n",
    "plt.title('Log Likelihood EM-Algorithm')"
   ],
   "metadata": {
    "collapsed": false,
    "pycharm": {
     "name": "#%%\n"
    }
   }
  },
  {
   "cell_type": "code",
   "execution_count": 50,
   "outputs": [
    {
     "data": {
      "text/plain": "array([['neutral', 'neutral', 'neutral', ..., nan, nan, nan],\n       ['neutral', 'neutral', 'neutral', ..., nan, nan, nan],\n       ['neutral', 'neutral', nan, ..., nan, nan, nan],\n       ...,\n       ['neutral', 'neutral', nan, ..., nan, nan, nan],\n       ['neutral', 'neutral', 'neutral', ..., 'neutral', nan,\n        'entailment'],\n       ['neutral', 'neutral', 'neutral', ..., 'neutral', nan, nan]],\n      dtype=object)"
     },
     "execution_count": 50,
     "metadata": {},
     "output_type": "execute_result"
    }
   ],
   "source": [
    "z"
   ],
   "metadata": {
    "collapsed": false,
    "pycharm": {
     "name": "#%%\n"
    }
   }
  },
  {
   "cell_type": "code",
   "execution_count": 51,
   "outputs": [
    {
     "data": {
      "text/plain": "                              string_subj_s1 string_verb_s1  string_obj_s1  \\\npairID                                                                       \n4705552913.jpg#2r1n                Two women      embracing                  \n4705552913.jpg#2r1e                Two women      embracing                  \n4705552913.jpg#2r1c                Two women      embracing                  \n2407214681.jpg#0r1e  Two young children in ,       standing                  \n2407214681.jpg#0r1n  Two young children in ,       standing                  \n...                                      ...            ...            ...   \n77063034.jpg#3r1e               A small girl        wearing  a pink jacket   \n77063034.jpg#3r1c               A small girl        wearing  a pink jacket   \n4805835848.jpg#0r1e            a zebra skirt         wading                  \n4805835848.jpg#0r1c            a zebra skirt         wading                  \n4805835848.jpg#0r1n            a zebra skirt         wading                  \n\n                       string_loc_s1        string_clo_s1  \\\npairID                                                      \n4705552913.jpg#2r1n                                         \n4705552913.jpg#2r1e                                         \n4705552913.jpg#2r1c                                         \n2407214681.jpg#0r1e  in blue jerseys                        \n2407214681.jpg#0r1n  in blue jerseys                        \n...                              ...                  ...   \n77063034.jpg#3r1e      on a carousel          pink jacket   \n77063034.jpg#3r1c      on a carousel          pink jacket   \n4805835848.jpg#0r1e    in her braids  white t skirt shirt   \n4805835848.jpg#0r1c    in her braids  white t skirt shirt   \n4805835848.jpg#0r1n    in her braids  white t skirt shirt   \n\n                                   string_subj_s2 string_verb_s2  \\\npairID                                                             \n4705552913.jpg#2r1n                   The sisters        hugging   \n4705552913.jpg#2r1e                     Two woman        holding   \n4705552913.jpg#2r1c                       The men       fighting   \n2407214681.jpg#0r1e  Two kids in numbered jerseys           wash   \n2407214681.jpg#0r1n        Two kids at a ballgame           wash   \n...                                           ...            ...   \n77063034.jpg#3r1e                    The carousel         moving   \n77063034.jpg#3r1c                        The girl         moving   \n4805835848.jpg#0r1e                                                \n4805835848.jpg#0r1c                  A young girl          knits   \n4805835848.jpg#0r1n                A young mother           grab   \n\n                         string_obj_s2        string_loc_s2  \\\npairID                                                        \n4705552913.jpg#2r1n            goodbye                        \n4705552913.jpg#2r1e           packages                        \n4705552913.jpg#2r1c                                           \n2407214681.jpg#0r1e        their hands  in numbered jerseys   \n2407214681.jpg#0r1n        their hands                        \n...                                ...                  ...   \n77063034.jpg#3r1e                                             \n77063034.jpg#3r1c                                             \n4805835848.jpg#0r1e                     in a water fountain   \n4805835848.jpg#0r1c          a sweater                        \n4805835848.jpg#0r1n  her topless child                        \n\n                          string_clo_s2  \\\npairID                                    \n4705552913.jpg#2r1n                       \n4705552913.jpg#2r1e                       \n4705552913.jpg#2r1c                       \n2407214681.jpg#0r1e                       \n2407214681.jpg#0r1n                       \n...                                 ...   \n77063034.jpg#3r1e                         \n77063034.jpg#3r1c                         \n4805835848.jpg#0r1e                       \n4805835848.jpg#0r1c  girl sweater knits   \n4805835848.jpg#0r1n                       \n\n                                                                  vecs  \npairID                                                                  \n4705552913.jpg#2r1n  [4705552913.jpg#2r1n, -9.865991, -1.9091997, 0...  \n4705552913.jpg#2r1e  [4705552913.jpg#2r1e, -9.865991, -1.9091997, 0...  \n4705552913.jpg#2r1c  [4705552913.jpg#2r1c, -9.865991, -1.9091997, 0...  \n2407214681.jpg#0r1e  [2407214681.jpg#0r1e, -16.48036, -2.7041402, -...  \n2407214681.jpg#0r1n  [2407214681.jpg#0r1n, -16.48036, -2.7041402, -...  \n...                                                                ...  \n77063034.jpg#3r1e    [77063034.jpg#3r1e, -6.2690387, 10.356, -1.708...  \n77063034.jpg#3r1c    [77063034.jpg#3r1c, -6.2690387, 10.356, -1.708...  \n4805835848.jpg#0r1e                                               None  \n4805835848.jpg#0r1c  [4805835848.jpg#0r1c, -11.46, 12.2033, -8.8652...  \n4805835848.jpg#0r1n  [4805835848.jpg#0r1n, -11.46, 12.2033, -8.8652...  \n\n[9842 rows x 11 columns]",
      "text/html": "<div>\n<style scoped>\n    .dataframe tbody tr th:only-of-type {\n        vertical-align: middle;\n    }\n\n    .dataframe tbody tr th {\n        vertical-align: top;\n    }\n\n    .dataframe thead th {\n        text-align: right;\n    }\n</style>\n<table border=\"1\" class=\"dataframe\">\n  <thead>\n    <tr style=\"text-align: right;\">\n      <th></th>\n      <th>string_subj_s1</th>\n      <th>string_verb_s1</th>\n      <th>string_obj_s1</th>\n      <th>string_loc_s1</th>\n      <th>string_clo_s1</th>\n      <th>string_subj_s2</th>\n      <th>string_verb_s2</th>\n      <th>string_obj_s2</th>\n      <th>string_loc_s2</th>\n      <th>string_clo_s2</th>\n      <th>vecs</th>\n    </tr>\n    <tr>\n      <th>pairID</th>\n      <th></th>\n      <th></th>\n      <th></th>\n      <th></th>\n      <th></th>\n      <th></th>\n      <th></th>\n      <th></th>\n      <th></th>\n      <th></th>\n      <th></th>\n    </tr>\n  </thead>\n  <tbody>\n    <tr>\n      <th>4705552913.jpg#2r1n</th>\n      <td>Two women</td>\n      <td>embracing</td>\n      <td></td>\n      <td></td>\n      <td></td>\n      <td>The sisters</td>\n      <td>hugging</td>\n      <td>goodbye</td>\n      <td></td>\n      <td></td>\n      <td>[4705552913.jpg#2r1n, -9.865991, -1.9091997, 0...</td>\n    </tr>\n    <tr>\n      <th>4705552913.jpg#2r1e</th>\n      <td>Two women</td>\n      <td>embracing</td>\n      <td></td>\n      <td></td>\n      <td></td>\n      <td>Two woman</td>\n      <td>holding</td>\n      <td>packages</td>\n      <td></td>\n      <td></td>\n      <td>[4705552913.jpg#2r1e, -9.865991, -1.9091997, 0...</td>\n    </tr>\n    <tr>\n      <th>4705552913.jpg#2r1c</th>\n      <td>Two women</td>\n      <td>embracing</td>\n      <td></td>\n      <td></td>\n      <td></td>\n      <td>The men</td>\n      <td>fighting</td>\n      <td></td>\n      <td></td>\n      <td></td>\n      <td>[4705552913.jpg#2r1c, -9.865991, -1.9091997, 0...</td>\n    </tr>\n    <tr>\n      <th>2407214681.jpg#0r1e</th>\n      <td>Two young children in ,</td>\n      <td>standing</td>\n      <td></td>\n      <td>in blue jerseys</td>\n      <td></td>\n      <td>Two kids in numbered jerseys</td>\n      <td>wash</td>\n      <td>their hands</td>\n      <td>in numbered jerseys</td>\n      <td></td>\n      <td>[2407214681.jpg#0r1e, -16.48036, -2.7041402, -...</td>\n    </tr>\n    <tr>\n      <th>2407214681.jpg#0r1n</th>\n      <td>Two young children in ,</td>\n      <td>standing</td>\n      <td></td>\n      <td>in blue jerseys</td>\n      <td></td>\n      <td>Two kids at a ballgame</td>\n      <td>wash</td>\n      <td>their hands</td>\n      <td></td>\n      <td></td>\n      <td>[2407214681.jpg#0r1n, -16.48036, -2.7041402, -...</td>\n    </tr>\n    <tr>\n      <th>...</th>\n      <td>...</td>\n      <td>...</td>\n      <td>...</td>\n      <td>...</td>\n      <td>...</td>\n      <td>...</td>\n      <td>...</td>\n      <td>...</td>\n      <td>...</td>\n      <td>...</td>\n      <td>...</td>\n    </tr>\n    <tr>\n      <th>77063034.jpg#3r1e</th>\n      <td>A small girl</td>\n      <td>wearing</td>\n      <td>a pink jacket</td>\n      <td>on a carousel</td>\n      <td>pink jacket</td>\n      <td>The carousel</td>\n      <td>moving</td>\n      <td></td>\n      <td></td>\n      <td></td>\n      <td>[77063034.jpg#3r1e, -6.2690387, 10.356, -1.708...</td>\n    </tr>\n    <tr>\n      <th>77063034.jpg#3r1c</th>\n      <td>A small girl</td>\n      <td>wearing</td>\n      <td>a pink jacket</td>\n      <td>on a carousel</td>\n      <td>pink jacket</td>\n      <td>The girl</td>\n      <td>moving</td>\n      <td></td>\n      <td></td>\n      <td></td>\n      <td>[77063034.jpg#3r1c, -6.2690387, 10.356, -1.708...</td>\n    </tr>\n    <tr>\n      <th>4805835848.jpg#0r1e</th>\n      <td>a zebra skirt</td>\n      <td>wading</td>\n      <td></td>\n      <td>in her braids</td>\n      <td>white t skirt shirt</td>\n      <td></td>\n      <td></td>\n      <td></td>\n      <td>in a water fountain</td>\n      <td></td>\n      <td>None</td>\n    </tr>\n    <tr>\n      <th>4805835848.jpg#0r1c</th>\n      <td>a zebra skirt</td>\n      <td>wading</td>\n      <td></td>\n      <td>in her braids</td>\n      <td>white t skirt shirt</td>\n      <td>A young girl</td>\n      <td>knits</td>\n      <td>a sweater</td>\n      <td></td>\n      <td>girl sweater knits</td>\n      <td>[4805835848.jpg#0r1c, -11.46, 12.2033, -8.8652...</td>\n    </tr>\n    <tr>\n      <th>4805835848.jpg#0r1n</th>\n      <td>a zebra skirt</td>\n      <td>wading</td>\n      <td></td>\n      <td>in her braids</td>\n      <td>white t skirt shirt</td>\n      <td>A young mother</td>\n      <td>grab</td>\n      <td>her topless child</td>\n      <td></td>\n      <td></td>\n      <td>[4805835848.jpg#0r1n, -11.46, 12.2033, -8.8652...</td>\n    </tr>\n  </tbody>\n</table>\n<p>9842 rows × 11 columns</p>\n</div>"
     },
     "execution_count": 51,
     "metadata": {},
     "output_type": "execute_result"
    }
   ],
   "source": [
    "dev_prepared"
   ],
   "metadata": {
    "collapsed": false,
    "pycharm": {
     "name": "#%%\n"
    }
   }
  },
  {
   "cell_type": "code",
   "execution_count": 5,
   "outputs": [],
   "source": [
    "temp = pd.read_csv(\"../02_Extract_Subphrases/prepared_data/subphrase_vectors_440train.csv\", delimiter=\";\")"
   ],
   "metadata": {
    "collapsed": false,
    "pycharm": {
     "name": "#%%\n"
    }
   }
  },
  {
   "cell_type": "code",
   "execution_count": 25,
   "outputs": [],
   "source": [
    "temp = temp.iloc[:,1:]"
   ],
   "metadata": {
    "collapsed": false,
    "pycharm": {
     "name": "#%%\n"
    }
   }
  },
  {
   "cell_type": "code",
   "execution_count": 27,
   "outputs": [],
   "source": [
    "data_index = temp.iloc[:,0]"
   ],
   "metadata": {
    "collapsed": false,
    "pycharm": {
     "name": "#%%\n"
    }
   }
  },
  {
   "cell_type": "code",
   "execution_count": 21,
   "outputs": [
    {
     "data": {
      "text/plain": "                     Unnamed: 0          1         2        3        4  \\\n0                                                                        \n2727591060.jpg#2r4c           0 -22.526200  13.94376  -7.4768  4.78921   \n2727591060.jpg#2r1n           1 -22.526200  13.94376  -7.4768  4.78921   \n2727591060.jpg#2r4e           2 -22.526200  13.94376  -7.4768  4.78921   \n4584895948.jpg#4r1n           3  -2.680300  -0.04581  -2.7613  0.79493   \n4584895948.jpg#4r1c           4  -2.680300  -0.04581  -2.7613  0.79493   \n...                         ...        ...       ...      ...      ...   \n288038357.jpg#0r1e        17683  -7.839800  11.05370 -14.1201  2.65060   \n288038357.jpg#0r1c        17684  -7.839800  11.05370 -14.1201  2.65060   \n288038357.jpg#0r1n        17685  -7.839800  11.05370 -14.1201  2.65060   \n3263215700.jpg#1r1c       17686 -20.040802  -2.11321  -8.3279  3.96890   \n3263215700.jpg#1r1n       17687 -20.040802  -2.11321  -8.3279  3.96890   \n\n                             5        6        7         8         9  ...  \\\n0                                                                     ...   \n2727591060.jpg#2r4c  26.454199 -5.06810 -2.66827  18.40840  30.82560  ...   \n2727591060.jpg#2r1n  26.454199 -5.06810 -2.66827  18.40840  30.82560  ...   \n2727591060.jpg#2r4e  26.454199 -5.06810 -2.66827  18.40840  30.82560  ...   \n4584895948.jpg#4r1n   0.639890  0.92164 -2.59970  -4.00820  -2.08440  ...   \n4584895948.jpg#4r1c   0.639890  0.92164 -2.59970  -4.00820  -2.08440  ...   \n...                        ...      ...      ...       ...       ...  ...   \n288038357.jpg#0r1e   11.102960 -8.84410  3.16150  13.92840   7.88531  ...   \n288038357.jpg#0r1c   11.102960 -8.84410  3.16150  13.92840   7.88531  ...   \n288038357.jpg#0r1n   11.102960 -8.84410  3.16150  13.92840   7.88531  ...   \n3263215700.jpg#1r1c   6.972100  1.92761 -5.63960   8.24361   0.84895  ...   \n3263215700.jpg#1r1n   6.972100  1.92761 -5.63960   8.24361   0.84895  ...   \n\n                        2991    2992     2993     2994     2995    2996  \\\n0                                                                         \n2727591060.jpg#2r4c  4.81580 -1.9727  6.81181  3.16075 -9.47080  0.4436   \n2727591060.jpg#2r1n      NaN     NaN      NaN      NaN      NaN     NaN   \n2727591060.jpg#2r4e  4.81580 -1.9727  6.81181  3.16075 -9.47080  0.4436   \n4584895948.jpg#4r1n      NaN     NaN      NaN      NaN      NaN     NaN   \n4584895948.jpg#4r1c      NaN     NaN      NaN      NaN      NaN     NaN   \n...                      ...     ...      ...      ...      ...     ...   \n288038357.jpg#0r1e  -2.25214  7.7774  5.45630 -1.58120 -3.72620  6.5097   \n288038357.jpg#0r1c  -4.28624  7.1887  6.68720  1.27860 -3.60959  9.5267   \n288038357.jpg#0r1n  -2.25214  7.7774  5.45630 -1.58120 -3.72620  6.5097   \n3263215700.jpg#1r1c      NaN     NaN      NaN      NaN      NaN     NaN   \n3263215700.jpg#1r1n      NaN     NaN      NaN      NaN      NaN     NaN   \n\n                         2997       2998     2999     3000  \n0                                                           \n2727591060.jpg#2r4c -6.005650  10.932199 -10.1181  6.03298  \n2727591060.jpg#2r1n       NaN        NaN      NaN      NaN  \n2727591060.jpg#2r4e -6.005650  10.932199 -10.1181  6.03298  \n4584895948.jpg#4r1n       NaN        NaN      NaN      NaN  \n4584895948.jpg#4r1c       NaN        NaN      NaN      NaN  \n...                       ...        ...      ...      ...  \n288038357.jpg#0r1e   5.216500   3.872900  -3.9956 -2.33127  \n288038357.jpg#0r1c   1.511278   3.005200  -2.2091 -1.84089  \n288038357.jpg#0r1n   5.216500   3.872900  -3.9956 -2.33127  \n3263215700.jpg#1r1c       NaN        NaN      NaN      NaN  \n3263215700.jpg#1r1n       NaN        NaN      NaN      NaN  \n\n[17688 rows x 3001 columns]",
      "text/html": "<div>\n<style scoped>\n    .dataframe tbody tr th:only-of-type {\n        vertical-align: middle;\n    }\n\n    .dataframe tbody tr th {\n        vertical-align: top;\n    }\n\n    .dataframe thead th {\n        text-align: right;\n    }\n</style>\n<table border=\"1\" class=\"dataframe\">\n  <thead>\n    <tr style=\"text-align: right;\">\n      <th></th>\n      <th>Unnamed: 0</th>\n      <th>1</th>\n      <th>2</th>\n      <th>3</th>\n      <th>4</th>\n      <th>5</th>\n      <th>6</th>\n      <th>7</th>\n      <th>8</th>\n      <th>9</th>\n      <th>...</th>\n      <th>2991</th>\n      <th>2992</th>\n      <th>2993</th>\n      <th>2994</th>\n      <th>2995</th>\n      <th>2996</th>\n      <th>2997</th>\n      <th>2998</th>\n      <th>2999</th>\n      <th>3000</th>\n    </tr>\n    <tr>\n      <th>0</th>\n      <th></th>\n      <th></th>\n      <th></th>\n      <th></th>\n      <th></th>\n      <th></th>\n      <th></th>\n      <th></th>\n      <th></th>\n      <th></th>\n      <th></th>\n      <th></th>\n      <th></th>\n      <th></th>\n      <th></th>\n      <th></th>\n      <th></th>\n      <th></th>\n      <th></th>\n      <th></th>\n      <th></th>\n    </tr>\n  </thead>\n  <tbody>\n    <tr>\n      <th>2727591060.jpg#2r4c</th>\n      <td>0</td>\n      <td>-22.526200</td>\n      <td>13.94376</td>\n      <td>-7.4768</td>\n      <td>4.78921</td>\n      <td>26.454199</td>\n      <td>-5.06810</td>\n      <td>-2.66827</td>\n      <td>18.40840</td>\n      <td>30.82560</td>\n      <td>...</td>\n      <td>4.81580</td>\n      <td>-1.9727</td>\n      <td>6.81181</td>\n      <td>3.16075</td>\n      <td>-9.47080</td>\n      <td>0.4436</td>\n      <td>-6.005650</td>\n      <td>10.932199</td>\n      <td>-10.1181</td>\n      <td>6.03298</td>\n    </tr>\n    <tr>\n      <th>2727591060.jpg#2r1n</th>\n      <td>1</td>\n      <td>-22.526200</td>\n      <td>13.94376</td>\n      <td>-7.4768</td>\n      <td>4.78921</td>\n      <td>26.454199</td>\n      <td>-5.06810</td>\n      <td>-2.66827</td>\n      <td>18.40840</td>\n      <td>30.82560</td>\n      <td>...</td>\n      <td>NaN</td>\n      <td>NaN</td>\n      <td>NaN</td>\n      <td>NaN</td>\n      <td>NaN</td>\n      <td>NaN</td>\n      <td>NaN</td>\n      <td>NaN</td>\n      <td>NaN</td>\n      <td>NaN</td>\n    </tr>\n    <tr>\n      <th>2727591060.jpg#2r4e</th>\n      <td>2</td>\n      <td>-22.526200</td>\n      <td>13.94376</td>\n      <td>-7.4768</td>\n      <td>4.78921</td>\n      <td>26.454199</td>\n      <td>-5.06810</td>\n      <td>-2.66827</td>\n      <td>18.40840</td>\n      <td>30.82560</td>\n      <td>...</td>\n      <td>4.81580</td>\n      <td>-1.9727</td>\n      <td>6.81181</td>\n      <td>3.16075</td>\n      <td>-9.47080</td>\n      <td>0.4436</td>\n      <td>-6.005650</td>\n      <td>10.932199</td>\n      <td>-10.1181</td>\n      <td>6.03298</td>\n    </tr>\n    <tr>\n      <th>4584895948.jpg#4r1n</th>\n      <td>3</td>\n      <td>-2.680300</td>\n      <td>-0.04581</td>\n      <td>-2.7613</td>\n      <td>0.79493</td>\n      <td>0.639890</td>\n      <td>0.92164</td>\n      <td>-2.59970</td>\n      <td>-4.00820</td>\n      <td>-2.08440</td>\n      <td>...</td>\n      <td>NaN</td>\n      <td>NaN</td>\n      <td>NaN</td>\n      <td>NaN</td>\n      <td>NaN</td>\n      <td>NaN</td>\n      <td>NaN</td>\n      <td>NaN</td>\n      <td>NaN</td>\n      <td>NaN</td>\n    </tr>\n    <tr>\n      <th>4584895948.jpg#4r1c</th>\n      <td>4</td>\n      <td>-2.680300</td>\n      <td>-0.04581</td>\n      <td>-2.7613</td>\n      <td>0.79493</td>\n      <td>0.639890</td>\n      <td>0.92164</td>\n      <td>-2.59970</td>\n      <td>-4.00820</td>\n      <td>-2.08440</td>\n      <td>...</td>\n      <td>NaN</td>\n      <td>NaN</td>\n      <td>NaN</td>\n      <td>NaN</td>\n      <td>NaN</td>\n      <td>NaN</td>\n      <td>NaN</td>\n      <td>NaN</td>\n      <td>NaN</td>\n      <td>NaN</td>\n    </tr>\n    <tr>\n      <th>...</th>\n      <td>...</td>\n      <td>...</td>\n      <td>...</td>\n      <td>...</td>\n      <td>...</td>\n      <td>...</td>\n      <td>...</td>\n      <td>...</td>\n      <td>...</td>\n      <td>...</td>\n      <td>...</td>\n      <td>...</td>\n      <td>...</td>\n      <td>...</td>\n      <td>...</td>\n      <td>...</td>\n      <td>...</td>\n      <td>...</td>\n      <td>...</td>\n      <td>...</td>\n      <td>...</td>\n    </tr>\n    <tr>\n      <th>288038357.jpg#0r1e</th>\n      <td>17683</td>\n      <td>-7.839800</td>\n      <td>11.05370</td>\n      <td>-14.1201</td>\n      <td>2.65060</td>\n      <td>11.102960</td>\n      <td>-8.84410</td>\n      <td>3.16150</td>\n      <td>13.92840</td>\n      <td>7.88531</td>\n      <td>...</td>\n      <td>-2.25214</td>\n      <td>7.7774</td>\n      <td>5.45630</td>\n      <td>-1.58120</td>\n      <td>-3.72620</td>\n      <td>6.5097</td>\n      <td>5.216500</td>\n      <td>3.872900</td>\n      <td>-3.9956</td>\n      <td>-2.33127</td>\n    </tr>\n    <tr>\n      <th>288038357.jpg#0r1c</th>\n      <td>17684</td>\n      <td>-7.839800</td>\n      <td>11.05370</td>\n      <td>-14.1201</td>\n      <td>2.65060</td>\n      <td>11.102960</td>\n      <td>-8.84410</td>\n      <td>3.16150</td>\n      <td>13.92840</td>\n      <td>7.88531</td>\n      <td>...</td>\n      <td>-4.28624</td>\n      <td>7.1887</td>\n      <td>6.68720</td>\n      <td>1.27860</td>\n      <td>-3.60959</td>\n      <td>9.5267</td>\n      <td>1.511278</td>\n      <td>3.005200</td>\n      <td>-2.2091</td>\n      <td>-1.84089</td>\n    </tr>\n    <tr>\n      <th>288038357.jpg#0r1n</th>\n      <td>17685</td>\n      <td>-7.839800</td>\n      <td>11.05370</td>\n      <td>-14.1201</td>\n      <td>2.65060</td>\n      <td>11.102960</td>\n      <td>-8.84410</td>\n      <td>3.16150</td>\n      <td>13.92840</td>\n      <td>7.88531</td>\n      <td>...</td>\n      <td>-2.25214</td>\n      <td>7.7774</td>\n      <td>5.45630</td>\n      <td>-1.58120</td>\n      <td>-3.72620</td>\n      <td>6.5097</td>\n      <td>5.216500</td>\n      <td>3.872900</td>\n      <td>-3.9956</td>\n      <td>-2.33127</td>\n    </tr>\n    <tr>\n      <th>3263215700.jpg#1r1c</th>\n      <td>17686</td>\n      <td>-20.040802</td>\n      <td>-2.11321</td>\n      <td>-8.3279</td>\n      <td>3.96890</td>\n      <td>6.972100</td>\n      <td>1.92761</td>\n      <td>-5.63960</td>\n      <td>8.24361</td>\n      <td>0.84895</td>\n      <td>...</td>\n      <td>NaN</td>\n      <td>NaN</td>\n      <td>NaN</td>\n      <td>NaN</td>\n      <td>NaN</td>\n      <td>NaN</td>\n      <td>NaN</td>\n      <td>NaN</td>\n      <td>NaN</td>\n      <td>NaN</td>\n    </tr>\n    <tr>\n      <th>3263215700.jpg#1r1n</th>\n      <td>17687</td>\n      <td>-20.040802</td>\n      <td>-2.11321</td>\n      <td>-8.3279</td>\n      <td>3.96890</td>\n      <td>6.972100</td>\n      <td>1.92761</td>\n      <td>-5.63960</td>\n      <td>8.24361</td>\n      <td>0.84895</td>\n      <td>...</td>\n      <td>NaN</td>\n      <td>NaN</td>\n      <td>NaN</td>\n      <td>NaN</td>\n      <td>NaN</td>\n      <td>NaN</td>\n      <td>NaN</td>\n      <td>NaN</td>\n      <td>NaN</td>\n      <td>NaN</td>\n    </tr>\n  </tbody>\n</table>\n<p>17688 rows × 3001 columns</p>\n</div>"
     },
     "execution_count": 21,
     "metadata": {},
     "output_type": "execute_result"
    }
   ],
   "source": [
    "temp.set_index(\"0\")"
   ],
   "metadata": {
    "collapsed": false,
    "pycharm": {
     "name": "#%%\n"
    }
   }
  },
  {
   "cell_type": "code",
   "execution_count": 164,
   "outputs": [
    {
     "data": {
      "text/plain": "'entailment'"
     },
     "execution_count": 164,
     "metadata": {},
     "output_type": "execute_result"
    }
   ],
   "source": [
    "predict_y_from_z(pd.Series([np.nan, ] * 25))"
   ],
   "metadata": {
    "collapsed": false,
    "pycharm": {
     "name": "#%%\n"
    }
   }
  },
  {
   "cell_type": "code",
   "execution_count": 179,
   "outputs": [
    {
     "data": {
      "text/plain": "True"
     },
     "execution_count": 179,
     "metadata": {},
     "output_type": "execute_result"
    }
   ],
   "source": [
    "pd.isnull(pd.Series([np.nan, ] * 24 + [\"entailment\",])[23])"
   ],
   "metadata": {
    "collapsed": false,
    "pycharm": {
     "name": "#%%\n"
    }
   }
  },
  {
   "cell_type": "code",
   "execution_count": 171,
   "outputs": [
    {
     "data": {
      "text/plain": "'nan'"
     },
     "execution_count": 171,
     "metadata": {},
     "output_type": "execute_result"
    }
   ],
   "source": [
    "np.array([np.nan, ] * 24 + [\"entailment\",])[0]"
   ],
   "metadata": {
    "collapsed": false,
    "pycharm": {
     "name": "#%%\n"
    }
   }
  },
  {
   "cell_type": "code",
   "execution_count": 195,
   "outputs": [
    {
     "name": "stdout",
     "output_type": "stream",
     "text": [
      "[['lasjfölakfjlsafj' 'nan' 'nan' ... 'nan' 'nan' 'nan']\n",
      " ['nan' 'nan' 'nan' ... 'nan' 'nan' 'nan']\n",
      " ['nan' 'nan' 'nan' ... 'nan' 'nan' 'nan']\n",
      " ...\n",
      " ['nan' 'nan' 'nan' ... 'nan' 'nan' 'nan']\n",
      " ['nan' 'nan' 'nan' ... 'nan' 'nan' 'nan']\n",
      " ['nan' 'nan' 'nan' ... 'nan' 'nan' 'nan']]\n"
     ]
    }
   ],
   "source": [
    "temp = np.empty((y_hat.shape[0], 25), dtype=np.dtype('U100'))\n",
    "temp[:,:] = np.nan\n",
    "temp[0,0] = 'lasjfölakfjlsafj'\n",
    "print(temp)"
   ],
   "metadata": {
    "collapsed": false,
    "pycharm": {
     "name": "#%%\n"
    }
   }
  }
 ],
 "metadata": {
  "kernelspec": {
   "display_name": "Python 3",
   "language": "python",
   "name": "python3"
  },
  "language_info": {
   "codemirror_mode": {
    "name": "ipython",
    "version": 2
   },
   "file_extension": ".py",
   "mimetype": "text/x-python",
   "name": "python",
   "nbconvert_exporter": "python",
   "pygments_lexer": "ipython2",
   "version": "2.7.6"
  }
 },
 "nbformat": 4,
 "nbformat_minor": 0
}