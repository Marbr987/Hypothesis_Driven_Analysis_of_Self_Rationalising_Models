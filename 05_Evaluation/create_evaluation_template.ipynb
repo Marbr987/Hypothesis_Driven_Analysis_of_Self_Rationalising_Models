{
 "cells": [
  {
   "cell_type": "code",
   "execution_count": 10,
   "outputs": [],
   "source": [
    "import pandas as pd\n",
    "import numpy as np"
   ],
   "metadata": {
    "collapsed": false,
    "pycharm": {
     "name": "#%%\n"
    }
   }
  },
  {
   "cell_type": "code",
   "execution_count": 1,
   "outputs": [
    {
     "ename": "NameError",
     "evalue": "name 'pd' is not defined",
     "output_type": "error",
     "traceback": [
      "\u001B[0;31m---------------------------------------------------------------------------\u001B[0m",
      "\u001B[0;31mNameError\u001B[0m                                 Traceback (most recent call last)",
      "Cell \u001B[0;32mIn[1], line 1\u001B[0m\n\u001B[0;32m----> 1\u001B[0m train1 \u001B[38;5;241m=\u001B[39m \u001B[43mpd\u001B[49m\u001B[38;5;241m.\u001B[39mread_csv(\u001B[38;5;124m'\u001B[39m\u001B[38;5;124m../Input_Data/e-SNLI/dataset/esnli_train_1.csv\u001B[39m\u001B[38;5;124m'\u001B[39m)\n\u001B[1;32m      2\u001B[0m train2 \u001B[38;5;241m=\u001B[39m pd\u001B[38;5;241m.\u001B[39mread_csv(\u001B[38;5;124m'\u001B[39m\u001B[38;5;124m../Input_Data/e-SNLI/dataset/esnli_train_2.csv\u001B[39m\u001B[38;5;124m'\u001B[39m)\n\u001B[1;32m      3\u001B[0m train \u001B[38;5;241m=\u001B[39m pd\u001B[38;5;241m.\u001B[39mconcat([train1, train2])\n",
      "\u001B[0;31mNameError\u001B[0m: name 'pd' is not defined"
     ]
    }
   ],
   "source": [
    "train1 = pd.read_csv('../Input_Data/e-SNLI/dataset/esnli_train_1.csv')\n",
    "train2 = pd.read_csv('../Input_Data/e-SNLI/dataset/esnli_train_2.csv')\n",
    "train = pd.concat([train1, train2])\n",
    "train = train[train.notnull().apply(all, axis=1)]\n",
    "dev = pd.read_csv('../Input_Data/e-SNLI/dataset/esnli_dev.csv')\n",
    "dev = dev[dev.notnull().apply(all, axis=1)]\n",
    "test = pd.read_csv('../Input_Data/e-SNLI/dataset/esnli_test.csv')\n",
    "test = test[test.notnull().apply(all, axis=1)]\n",
    "\n",
    "dev_prepared = pd.read_csv('../02_Extract_Subphrases/prepared_data/subphrase_vectors_dev.csv', sep=';')\n",
    "dev_prepared = dev_prepared.drop(columns='Unnamed: 0')\n",
    "dev = dev.set_index('pairID')\n",
    "rel_pairIDs = dev_prepared.iloc[:,0]\n",
    "y_hat = dev.loc[rel_pairIDs].gold_label\n",
    "dev_prepared = dev_prepared.iloc[:,1:].to_numpy()"
   ],
   "metadata": {
    "collapsed": false,
    "pycharm": {
     "name": "#%%\n"
    }
   }
  },
  {
   "cell_type": "code",
   "execution_count": 12,
   "outputs": [],
   "source": [
    "BN_dev_small = pd.read_csv(\"../04_BN_Explanations/BN_explanations_small_model.csv\", sep=\";\", index_col=0)\n",
    "BN_dev_large = pd.read_csv(\"../04_BN_Explanations/BN_explanations_large_model.csv\", sep=\";\", index_col=0)"
   ],
   "metadata": {
    "collapsed": false,
    "pycharm": {
     "name": "#%%\n"
    }
   }
  },
  {
   "cell_type": "code",
   "execution_count": 44,
   "outputs": [],
   "source": [
    "dev = dev.loc[rel_pairIDs]\n",
    "dev = dev.iloc[BN_dev_large.i]"
   ],
   "metadata": {
    "collapsed": false,
    "pycharm": {
     "name": "#%%\n"
    }
   }
  },
  {
   "cell_type": "code",
   "execution_count": 13,
   "outputs": [],
   "source": [
    "temp = [None, ] * 10\n",
    "for i in range(1, 11):\n",
    "    temp[i - 1] = pd.read_csv(\"../01_GPT3_Explanations/prepared_data/GPT3_explanations\" + str(i) + \".csv\", sep=\";\")\n",
    "gpt3_dev = pd.concat(temp).set_index(\"pairID\")\n",
    "gpt3_dev = gpt3_dev.loc[rel_pairIDs]\n",
    "gpt3_dev = gpt3_dev.iloc[BN_dev_large.i]"
   ],
   "metadata": {
    "collapsed": false,
    "pycharm": {
     "name": "#%%\n"
    }
   }
  },
  {
   "cell_type": "code",
   "execution_count": 14,
   "outputs": [],
   "source": [
    "dev_subphrases = pd.read_csv('../02_Extract_Subphrases/prepared_data/subphrases_dev.csv', sep=',')\n",
    "dev_subphrases = dev_subphrases.set_index('pairID')\n",
    "dev_subphrases = dev_subphrases.loc[rel_pairIDs]\n",
    "dev_subphrases = dev_subphrases.drop(\"Unnamed: 0\", axis=1)\n",
    "dev_subphrases = dev_subphrases.iloc[BN_dev_large.i]"
   ],
   "metadata": {
    "collapsed": false,
    "pycharm": {
     "name": "#%%\n"
    }
   }
  },
  {
   "cell_type": "code",
   "execution_count": 49,
   "outputs": [
    {
     "data": {
      "text/plain": "                                                             Sentence1  \\\npairID                                                                   \n435054077.jpg#1r1c   A young woman sits crosslegged beside her purs...   \n2320420111.jpg#1r1e  A man in a bicycle is passing through a house ...   \n4687453573.jpg#3r1e  Two Asian women are next to a table that has f...   \n3361630301.jpg#4r1n               A shopper buys cat food at a Walmart   \n264009676.jpg#4r1n              Two men are shopping for orange juice.   \n...                                                                ...   \n2536781293.jpg#3r1n       Six workers are working on the train tracks.   \n2169709244.jpg#1r1e  A little girl in a blue dress is sitting on a ...   \n3487583433.jpg#0r1n  Here is a picture of someone doing diagnostics...   \n4821417441.jpg#2r1n  Two young children cook by sitting on the kitc...   \n3037060954.jpg#0r1e  A couple is a standing together the woman is a...   \n\n                                                             Sentence2  \npairID                                                                  \n435054077.jpg#1r1c            The woman is on the couch with the dogs.  \n2320420111.jpg#1r1e                                A man is on a bike.  \n4687453573.jpg#3r1e               The women are sitting down to lunch.  \n3361630301.jpg#4r1n  A homeless person buys cat food for dinner at ...  \n264009676.jpg#4r1n                       two men are getting breakfast  \n...                                                                ...  \n2536781293.jpg#3r1n  Six workers are completing repair on a train t...  \n2169709244.jpg#1r1e                          A girl sits on a vehicle.  \n3487583433.jpg#0r1n                        They are holding a notepad.  \n4821417441.jpg#2r1n       They are preparing dinner for their parents.  \n3037060954.jpg#0r1e                     People are going to a wedding.  \n\n[3035 rows x 2 columns]",
      "text/html": "<div>\n<style scoped>\n    .dataframe tbody tr th:only-of-type {\n        vertical-align: middle;\n    }\n\n    .dataframe tbody tr th {\n        vertical-align: top;\n    }\n\n    .dataframe thead th {\n        text-align: right;\n    }\n</style>\n<table border=\"1\" class=\"dataframe\">\n  <thead>\n    <tr style=\"text-align: right;\">\n      <th></th>\n      <th>Sentence1</th>\n      <th>Sentence2</th>\n    </tr>\n    <tr>\n      <th>pairID</th>\n      <th></th>\n      <th></th>\n    </tr>\n  </thead>\n  <tbody>\n    <tr>\n      <th>435054077.jpg#1r1c</th>\n      <td>A young woman sits crosslegged beside her purs...</td>\n      <td>The woman is on the couch with the dogs.</td>\n    </tr>\n    <tr>\n      <th>2320420111.jpg#1r1e</th>\n      <td>A man in a bicycle is passing through a house ...</td>\n      <td>A man is on a bike.</td>\n    </tr>\n    <tr>\n      <th>4687453573.jpg#3r1e</th>\n      <td>Two Asian women are next to a table that has f...</td>\n      <td>The women are sitting down to lunch.</td>\n    </tr>\n    <tr>\n      <th>3361630301.jpg#4r1n</th>\n      <td>A shopper buys cat food at a Walmart</td>\n      <td>A homeless person buys cat food for dinner at ...</td>\n    </tr>\n    <tr>\n      <th>264009676.jpg#4r1n</th>\n      <td>Two men are shopping for orange juice.</td>\n      <td>two men are getting breakfast</td>\n    </tr>\n    <tr>\n      <th>...</th>\n      <td>...</td>\n      <td>...</td>\n    </tr>\n    <tr>\n      <th>2536781293.jpg#3r1n</th>\n      <td>Six workers are working on the train tracks.</td>\n      <td>Six workers are completing repair on a train t...</td>\n    </tr>\n    <tr>\n      <th>2169709244.jpg#1r1e</th>\n      <td>A little girl in a blue dress is sitting on a ...</td>\n      <td>A girl sits on a vehicle.</td>\n    </tr>\n    <tr>\n      <th>3487583433.jpg#0r1n</th>\n      <td>Here is a picture of someone doing diagnostics...</td>\n      <td>They are holding a notepad.</td>\n    </tr>\n    <tr>\n      <th>4821417441.jpg#2r1n</th>\n      <td>Two young children cook by sitting on the kitc...</td>\n      <td>They are preparing dinner for their parents.</td>\n    </tr>\n    <tr>\n      <th>3037060954.jpg#0r1e</th>\n      <td>A couple is a standing together the woman is a...</td>\n      <td>People are going to a wedding.</td>\n    </tr>\n  </tbody>\n</table>\n<p>3035 rows × 2 columns</p>\n</div>"
     },
     "execution_count": 49,
     "metadata": {},
     "output_type": "execute_result"
    }
   ],
   "source": [
    "dev[[\"Sentence1\", \"Sentence2\"]]"
   ],
   "metadata": {
    "collapsed": false,
    "pycharm": {
     "name": "#%%\n"
    }
   }
  },
  {
   "cell_type": "code",
   "execution_count": 52,
   "outputs": [],
   "source": [
    "evaluation_template = pd.concat((BN_dev_large.rename({\"y_hat_BN\": \"y_hat_BN_large\", \"BN_expl\": \"BN_expl_large\"}, axis=\"columns\"), BN_dev_small[[\"y_hat_BN\", \"BN_expl\"]].rename({\"y_hat_BN\": \"y_hat_BN_small\", \"BN_expl\": \"BN_expl_small\"}, axis=\"columns\"), dev_subphrases.reset_index(drop=True), dev[[\"Sentence1\", \"Sentence2\"]].reset_index(drop=True)), axis=1)\n",
    "evaluation_template[\"y_hat_gpt3\"] = gpt3_dev.pred_label.to_list()\n",
    "evaluation_template[\"gpt3_expl\"] = gpt3_dev.pred_explanation.to_list()"
   ],
   "metadata": {
    "collapsed": false,
    "pycharm": {
     "name": "#%%\n"
    }
   }
  },
  {
   "cell_type": "code",
   "execution_count": 53,
   "outputs": [
    {
     "data": {
      "text/plain": "         i              y y_hat_BN_large  \\\n0      638  contradiction  contradiction   \n1     2703     entailment     entailment   \n2     1457        neutral        neutral   \n3     1694        neutral        neutral   \n4     1613        neutral        neutral   \n...    ...            ...            ...   \n3030  2817        neutral        neutral   \n3031   546     entailment     entailment   \n3032   382        neutral        neutral   \n3033  2177        neutral        neutral   \n3034   482     entailment     entailment   \n\n                                          BN_expl_large y_hat_BN_small  \\\n0                        grass is not the same as couch  contradiction   \n1     if the subject of sentence 1 is man, then the ...        neutral   \n2     there is no indication that the subject of sen...  contradiction   \n3     there is no indication that the object of sent...     entailment   \n4     there is no indication that the object of sent...        neutral   \n...                                                 ...            ...   \n3030  there is no indication that the verb of senten...        neutral   \n3031  little girl is the same as girl and if the sub...     entailment   \n3032  there is no indication that the subject of sen...        neutral   \n3033  there is no indication that the subject of sen...        neutral   \n3034  a flower is the same as people and if the subj...        neutral   \n\n                                          BN_expl_small      string_subj_s1  \\\n0                        grass is not the same as couch       A young woman   \n1     there is no indication that the subject of sen...                 man   \n2                        has is not the same as sitting             a table   \n3     a shopper is the same as a homeless person and...           A shopper   \n4     there is no indication that the verb of senten...             Two men   \n...                                                 ...                 ...   \n3030  there is no indication that the verb of senten...         Six workers   \n3031  little girl is the same as girl and if the sub...         little girl   \n3032  there is no indication that the subject of sen...          picture of   \n3033  there is no indication that the subject of sen...  Two young children   \n3034  there is no indication that the verb of senten...            a flower   \n\n     string_verb_s1 string_obj_s1    string_loc_s1 string_clo_s1  \\\n0              sits           NaN            grass           NaN   \n1           passing           NaN          bicycle           NaN   \n2               has          food              NaN           NaN   \n3              buys      cat food              NaN           NaN   \n4          shopping           NaN              NaN           NaN   \n...             ...           ...              ...           ...   \n3030        working           NaN     train tracks           NaN   \n3031        sitting           NaN              NaN    blue dress   \n3032          doing   diagnostics          vehicle           NaN   \n3033           cook           NaN  kitchen counter           NaN   \n3034         adjust     the woman        man lapel       dressed   \n\n         string_subj_s2 string_verb_s2             string_obj_s2  \\\n0                 woman             is                       NaN   \n1                   man             is                       NaN   \n2             The women        sitting                       NaN   \n3     A homeless person           buys                  cat food   \n4               two men        getting                 breakfast   \n...                 ...            ...                       ...   \n3030        Six workers     completing                    repair   \n3031               girl           sits                       NaN   \n3032               They        holding                 a notepad   \n3033               They      preparing  dinner for their parents   \n3034             People          going                       NaN   \n\n     string_loc_s2 string_clo_s2  \\\n0            couch           NaN   \n1             bike           NaN   \n2              NaN           NaN   \n3              NaN           NaN   \n4              NaN           NaN   \n...            ...           ...   \n3030   train track           NaN   \n3031       vehicle           NaN   \n3032           NaN           NaN   \n3033           NaN           NaN   \n3034           NaN           NaN   \n\n                                              Sentence1  \\\n0     A young woman sits crosslegged beside her purs...   \n1     A man in a bicycle is passing through a house ...   \n2     Two Asian women are next to a table that has f...   \n3                  A shopper buys cat food at a Walmart   \n4                Two men are shopping for orange juice.   \n...                                                 ...   \n3030       Six workers are working on the train tracks.   \n3031  A little girl in a blue dress is sitting on a ...   \n3032  Here is a picture of someone doing diagnostics...   \n3033  Two young children cook by sitting on the kitc...   \n3034  A couple is a standing together the woman is a...   \n\n                                              Sentence2     y_hat_gpt3  \\\n0              The woman is on the couch with the dogs.  contradiction   \n1                                   A man is on a bike.     entailment   \n2                  The women are sitting down to lunch.     entailment   \n3     A homeless person buys cat food for dinner at ...        neutral   \n4                         two men are getting breakfast        neutral   \n...                                                 ...            ...   \n3030  Six workers are completing repair on a train t...     entailment   \n3031                          A girl sits on a vehicle.     entailment   \n3032                        They are holding a notepad.        neutral   \n3033       They are preparing dinner for their parents.        neutral   \n3034                     People are going to a wedding.     entailment   \n\n                                              gpt3_expl  \n0     The woman is sitting on the grass, not on a co...  \n1     A man is on a bike passing through a house wit...  \n2     The presence of food on the table suggests tha...  \n3     Just because someone is buying cat food at Wal...  \n4     Orange juice does not necessarily mean they ar...  \n...                                                 ...  \n3030        Working on the train tracks implies repair.  \n3031                            A tractor is a vehicle.  \n3032  The picture does not provide enough informatio...  \n3033  It cannot be inferred that the children are co...  \n3034  The couple is dressed in wedding apparel, whic...  \n\n[3035 rows x 20 columns]",
      "text/html": "<div>\n<style scoped>\n    .dataframe tbody tr th:only-of-type {\n        vertical-align: middle;\n    }\n\n    .dataframe tbody tr th {\n        vertical-align: top;\n    }\n\n    .dataframe thead th {\n        text-align: right;\n    }\n</style>\n<table border=\"1\" class=\"dataframe\">\n  <thead>\n    <tr style=\"text-align: right;\">\n      <th></th>\n      <th>i</th>\n      <th>y</th>\n      <th>y_hat_BN_large</th>\n      <th>BN_expl_large</th>\n      <th>y_hat_BN_small</th>\n      <th>BN_expl_small</th>\n      <th>string_subj_s1</th>\n      <th>string_verb_s1</th>\n      <th>string_obj_s1</th>\n      <th>string_loc_s1</th>\n      <th>string_clo_s1</th>\n      <th>string_subj_s2</th>\n      <th>string_verb_s2</th>\n      <th>string_obj_s2</th>\n      <th>string_loc_s2</th>\n      <th>string_clo_s2</th>\n      <th>Sentence1</th>\n      <th>Sentence2</th>\n      <th>y_hat_gpt3</th>\n      <th>gpt3_expl</th>\n    </tr>\n  </thead>\n  <tbody>\n    <tr>\n      <th>0</th>\n      <td>638</td>\n      <td>contradiction</td>\n      <td>contradiction</td>\n      <td>grass is not the same as couch</td>\n      <td>contradiction</td>\n      <td>grass is not the same as couch</td>\n      <td>A young woman</td>\n      <td>sits</td>\n      <td>NaN</td>\n      <td>grass</td>\n      <td>NaN</td>\n      <td>woman</td>\n      <td>is</td>\n      <td>NaN</td>\n      <td>couch</td>\n      <td>NaN</td>\n      <td>A young woman sits crosslegged beside her purs...</td>\n      <td>The woman is on the couch with the dogs.</td>\n      <td>contradiction</td>\n      <td>The woman is sitting on the grass, not on a co...</td>\n    </tr>\n    <tr>\n      <th>1</th>\n      <td>2703</td>\n      <td>entailment</td>\n      <td>entailment</td>\n      <td>if the subject of sentence 1 is man, then the ...</td>\n      <td>neutral</td>\n      <td>there is no indication that the subject of sen...</td>\n      <td>man</td>\n      <td>passing</td>\n      <td>NaN</td>\n      <td>bicycle</td>\n      <td>NaN</td>\n      <td>man</td>\n      <td>is</td>\n      <td>NaN</td>\n      <td>bike</td>\n      <td>NaN</td>\n      <td>A man in a bicycle is passing through a house ...</td>\n      <td>A man is on a bike.</td>\n      <td>entailment</td>\n      <td>A man is on a bike passing through a house wit...</td>\n    </tr>\n    <tr>\n      <th>2</th>\n      <td>1457</td>\n      <td>neutral</td>\n      <td>neutral</td>\n      <td>there is no indication that the subject of sen...</td>\n      <td>contradiction</td>\n      <td>has is not the same as sitting</td>\n      <td>a table</td>\n      <td>has</td>\n      <td>food</td>\n      <td>NaN</td>\n      <td>NaN</td>\n      <td>The women</td>\n      <td>sitting</td>\n      <td>NaN</td>\n      <td>NaN</td>\n      <td>NaN</td>\n      <td>Two Asian women are next to a table that has f...</td>\n      <td>The women are sitting down to lunch.</td>\n      <td>entailment</td>\n      <td>The presence of food on the table suggests tha...</td>\n    </tr>\n    <tr>\n      <th>3</th>\n      <td>1694</td>\n      <td>neutral</td>\n      <td>neutral</td>\n      <td>there is no indication that the object of sent...</td>\n      <td>entailment</td>\n      <td>a shopper is the same as a homeless person and...</td>\n      <td>A shopper</td>\n      <td>buys</td>\n      <td>cat food</td>\n      <td>NaN</td>\n      <td>NaN</td>\n      <td>A homeless person</td>\n      <td>buys</td>\n      <td>cat food</td>\n      <td>NaN</td>\n      <td>NaN</td>\n      <td>A shopper buys cat food at a Walmart</td>\n      <td>A homeless person buys cat food for dinner at ...</td>\n      <td>neutral</td>\n      <td>Just because someone is buying cat food at Wal...</td>\n    </tr>\n    <tr>\n      <th>4</th>\n      <td>1613</td>\n      <td>neutral</td>\n      <td>neutral</td>\n      <td>there is no indication that the object of sent...</td>\n      <td>neutral</td>\n      <td>there is no indication that the verb of senten...</td>\n      <td>Two men</td>\n      <td>shopping</td>\n      <td>NaN</td>\n      <td>NaN</td>\n      <td>NaN</td>\n      <td>two men</td>\n      <td>getting</td>\n      <td>breakfast</td>\n      <td>NaN</td>\n      <td>NaN</td>\n      <td>Two men are shopping for orange juice.</td>\n      <td>two men are getting breakfast</td>\n      <td>neutral</td>\n      <td>Orange juice does not necessarily mean they ar...</td>\n    </tr>\n    <tr>\n      <th>...</th>\n      <td>...</td>\n      <td>...</td>\n      <td>...</td>\n      <td>...</td>\n      <td>...</td>\n      <td>...</td>\n      <td>...</td>\n      <td>...</td>\n      <td>...</td>\n      <td>...</td>\n      <td>...</td>\n      <td>...</td>\n      <td>...</td>\n      <td>...</td>\n      <td>...</td>\n      <td>...</td>\n      <td>...</td>\n      <td>...</td>\n      <td>...</td>\n      <td>...</td>\n    </tr>\n    <tr>\n      <th>3030</th>\n      <td>2817</td>\n      <td>neutral</td>\n      <td>neutral</td>\n      <td>there is no indication that the verb of senten...</td>\n      <td>neutral</td>\n      <td>there is no indication that the verb of senten...</td>\n      <td>Six workers</td>\n      <td>working</td>\n      <td>NaN</td>\n      <td>train tracks</td>\n      <td>NaN</td>\n      <td>Six workers</td>\n      <td>completing</td>\n      <td>repair</td>\n      <td>train track</td>\n      <td>NaN</td>\n      <td>Six workers are working on the train tracks.</td>\n      <td>Six workers are completing repair on a train t...</td>\n      <td>entailment</td>\n      <td>Working on the train tracks implies repair.</td>\n    </tr>\n    <tr>\n      <th>3031</th>\n      <td>546</td>\n      <td>entailment</td>\n      <td>entailment</td>\n      <td>little girl is the same as girl and if the sub...</td>\n      <td>entailment</td>\n      <td>little girl is the same as girl and if the sub...</td>\n      <td>little girl</td>\n      <td>sitting</td>\n      <td>NaN</td>\n      <td>NaN</td>\n      <td>blue dress</td>\n      <td>girl</td>\n      <td>sits</td>\n      <td>NaN</td>\n      <td>vehicle</td>\n      <td>NaN</td>\n      <td>A little girl in a blue dress is sitting on a ...</td>\n      <td>A girl sits on a vehicle.</td>\n      <td>entailment</td>\n      <td>A tractor is a vehicle.</td>\n    </tr>\n    <tr>\n      <th>3032</th>\n      <td>382</td>\n      <td>neutral</td>\n      <td>neutral</td>\n      <td>there is no indication that the subject of sen...</td>\n      <td>neutral</td>\n      <td>there is no indication that the subject of sen...</td>\n      <td>picture of</td>\n      <td>doing</td>\n      <td>diagnostics</td>\n      <td>vehicle</td>\n      <td>NaN</td>\n      <td>They</td>\n      <td>holding</td>\n      <td>a notepad</td>\n      <td>NaN</td>\n      <td>NaN</td>\n      <td>Here is a picture of someone doing diagnostics...</td>\n      <td>They are holding a notepad.</td>\n      <td>neutral</td>\n      <td>The picture does not provide enough informatio...</td>\n    </tr>\n    <tr>\n      <th>3033</th>\n      <td>2177</td>\n      <td>neutral</td>\n      <td>neutral</td>\n      <td>there is no indication that the subject of sen...</td>\n      <td>neutral</td>\n      <td>there is no indication that the subject of sen...</td>\n      <td>Two young children</td>\n      <td>cook</td>\n      <td>NaN</td>\n      <td>kitchen counter</td>\n      <td>NaN</td>\n      <td>They</td>\n      <td>preparing</td>\n      <td>dinner for their parents</td>\n      <td>NaN</td>\n      <td>NaN</td>\n      <td>Two young children cook by sitting on the kitc...</td>\n      <td>They are preparing dinner for their parents.</td>\n      <td>neutral</td>\n      <td>It cannot be inferred that the children are co...</td>\n    </tr>\n    <tr>\n      <th>3034</th>\n      <td>482</td>\n      <td>entailment</td>\n      <td>entailment</td>\n      <td>a flower is the same as people and if the subj...</td>\n      <td>neutral</td>\n      <td>there is no indication that the verb of senten...</td>\n      <td>a flower</td>\n      <td>adjust</td>\n      <td>the woman</td>\n      <td>man lapel</td>\n      <td>dressed</td>\n      <td>People</td>\n      <td>going</td>\n      <td>NaN</td>\n      <td>NaN</td>\n      <td>NaN</td>\n      <td>A couple is a standing together the woman is a...</td>\n      <td>People are going to a wedding.</td>\n      <td>entailment</td>\n      <td>The couple is dressed in wedding apparel, whic...</td>\n    </tr>\n  </tbody>\n</table>\n<p>3035 rows × 20 columns</p>\n</div>"
     },
     "execution_count": 53,
     "metadata": {},
     "output_type": "execute_result"
    }
   ],
   "source": [
    "evaluation_template"
   ],
   "metadata": {
    "collapsed": false,
    "pycharm": {
     "name": "#%%\n"
    }
   }
  },
  {
   "cell_type": "code",
   "execution_count": 54,
   "outputs": [],
   "source": [
    "evaluation_template.to_csv(\"evaluation_template.csv\", sep=\";\")"
   ],
   "metadata": {
    "collapsed": false,
    "pycharm": {
     "name": "#%%\n"
    }
   }
  },
  {
   "cell_type": "code",
   "execution_count": null,
   "outputs": [],
   "source": [],
   "metadata": {
    "collapsed": false,
    "pycharm": {
     "name": "#%%\n"
    }
   }
  }
 ],
 "metadata": {
  "kernelspec": {
   "display_name": "Python 3",
   "language": "python",
   "name": "python3"
  },
  "language_info": {
   "codemirror_mode": {
    "name": "ipython",
    "version": 2
   },
   "file_extension": ".py",
   "mimetype": "text/x-python",
   "name": "python",
   "nbconvert_exporter": "python",
   "pygments_lexer": "ipython2",
   "version": "2.7.6"
  }
 },
 "nbformat": 4,
 "nbformat_minor": 0
}