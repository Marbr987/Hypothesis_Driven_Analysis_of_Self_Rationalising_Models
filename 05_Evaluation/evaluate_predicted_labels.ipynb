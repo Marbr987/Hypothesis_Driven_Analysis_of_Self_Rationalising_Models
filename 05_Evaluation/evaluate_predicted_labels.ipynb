{
 "cells": [
  {
   "cell_type": "code",
   "execution_count": 6,
   "outputs": [],
   "source": [
    "import pandas as pd\n",
    "import numpy as np\n",
    "from sklearn.metrics import cohen_kappa_score, f1_score, accuracy_score"
   ],
   "metadata": {
    "collapsed": false,
    "pycharm": {
     "name": "#%%\n"
    }
   }
  },
  {
   "cell_type": "code",
   "execution_count": 2,
   "outputs": [],
   "source": [
    "train1 = pd.read_csv('../Input_Data/e-SNLI/dataset/esnli_train_1.csv')\n",
    "train2 = pd.read_csv('../Input_Data/e-SNLI/dataset/esnli_train_2.csv')\n",
    "train = pd.concat([train1, train2])\n",
    "train = train[train.notnull().apply(all, axis=1)]\n",
    "dev = pd.read_csv('../Input_Data/e-SNLI/dataset/esnli_dev.csv')\n",
    "dev = dev[dev.notnull().apply(all, axis=1)]\n",
    "test = pd.read_csv('../Input_Data/e-SNLI/dataset/esnli_test.csv')\n",
    "test = test[test.notnull().apply(all, axis=1)]\n",
    "\n",
    "dev_prepared = pd.read_csv('../02_Extract_Subphrases/prepared_data/subphrase_vectors_dev.csv', sep=';')\n",
    "dev_prepared = dev_prepared.drop(columns='Unnamed: 0')\n",
    "dev = dev.set_index('pairID')\n",
    "rel_pairIDs = dev_prepared.iloc[:,0]\n",
    "y_hat = dev.loc[rel_pairIDs].gold_label\n",
    "dev_prepared = dev_prepared.iloc[:,1:].to_numpy()"
   ],
   "metadata": {
    "collapsed": false,
    "pycharm": {
     "name": "#%%\n"
    }
   }
  },
  {
   "cell_type": "code",
   "execution_count": 3,
   "outputs": [],
   "source": [
    "BN_dev_small = pd.read_csv(\"../04_BN_Explanations/BN_explanations_small_model.csv\", sep=\";\", index_col=0)\n",
    "BN_dev_large = pd.read_csv(\"../04_BN_Explanations/BN_explanations_large_model.csv\", sep=\";\", index_col=0)"
   ],
   "metadata": {
    "collapsed": false,
    "pycharm": {
     "name": "#%%\n"
    }
   }
  },
  {
   "cell_type": "code",
   "execution_count": 4,
   "outputs": [],
   "source": [
    "dev = dev.loc[rel_pairIDs]\n",
    "dev = dev.iloc[BN_dev_large.i]"
   ],
   "metadata": {
    "collapsed": false,
    "pycharm": {
     "name": "#%%\n"
    }
   }
  },
  {
   "cell_type": "code",
   "execution_count": 46,
   "outputs": [],
   "source": [
    "temp = [None, ] * 10\n",
    "for i in range(1, 11):\n",
    "    temp[i - 1] = pd.read_csv(\"../01_GPT3_Explanations/prepared_data/GPT3_explanations\" + str(i) + \".csv\", sep=\";\")\n",
    "gpt3_dev = pd.concat(temp).set_index(\"pairID\")\n",
    "gpt3_dev = gpt3_dev.loc[rel_pairIDs]\n",
    "gpt3_dev = gpt3_dev.iloc[BN_dev_large.i].reset_index()"
   ],
   "metadata": {
    "collapsed": false,
    "pycharm": {
     "name": "#%%\n"
    }
   }
  },
  {
   "cell_type": "code",
   "execution_count": 51,
   "outputs": [],
   "source": [
    "index_correct_small_SSM_preds = np.where(BN_dev_small.y_hat_BN == gpt3_dev.gold_standard_label)[0]\n",
    "index_incorrect_small_SSM_preds = np.where(BN_dev_small.y_hat_BN != gpt3_dev.gold_standard_label)[0]\n",
    "index_correct_large_SSM_preds = np.where(BN_dev_large.y_hat_BN == gpt3_dev.gold_standard_label)[0]\n",
    "index_incorrect_large_SSM_preds = np.where(BN_dev_large.y_hat_BN != gpt3_dev.gold_standard_label)[0]"
   ],
   "metadata": {
    "collapsed": false,
    "pycharm": {
     "name": "#%%\n"
    }
   }
  },
  {
   "cell_type": "code",
   "execution_count": 58,
   "outputs": [
    {
     "name": "stdout",
     "output_type": "stream",
     "text": [
      "Accuracy values of GPT-3 labels (when SSM pred. is correct / wrong) with respect to\n",
      "Gold Label: 0.807\n",
      "Small SSM : 0.566 (0.837 / 0.142)\n",
      "Large SSM : 0.468 (0.786 / 0.324)\n",
      "==================================================\n",
      "F1-Score values of GPT-3 labels (when SSM pred. is correct / wrong) with respect to\n",
      "Gold Label: 0.788\n",
      "Small SSM : 0.545 (0.812 / 0.122)\n",
      "Large SSM : 0.449 (0.786 / 0.29)\n",
      "==================================================\n",
      "Accuracy values of GPT-3 labels (when SSM pred. is correct / wrong) with respect to\n",
      "Gold Label: 0.709\n",
      "Small SSM : 0.339 (0.75 / -0.291)\n",
      "Large SSM : 0.219 (0.667 / 0.017)\n"
     ]
    }
   ],
   "source": [
    "print(\"Accuracy values of GPT-3 labels (when SSM pred. is correct / wrong) with respect to\")\n",
    "print(f\"Gold Label: {round(accuracy_score(gpt3_dev.pred_label, gpt3_dev.gold_standard_label), 3)}\")\n",
    "print(f\"Small SSM : {round(accuracy_score(gpt3_dev.pred_label, BN_dev_small.y_hat_BN), 3)} ({round(accuracy_score(gpt3_dev.pred_label[index_correct_small_SSM_preds], BN_dev_small.y_hat_BN[index_correct_small_SSM_preds]), 3)} / {round(accuracy_score(gpt3_dev.pred_label[index_incorrect_small_SSM_preds], BN_dev_small.y_hat_BN[index_incorrect_small_SSM_preds]), 3)})\")\n",
    "print(f\"Large SSM : {round(accuracy_score(gpt3_dev.pred_label, BN_dev_large.y_hat_BN), 3)} ({round(accuracy_score(gpt3_dev.pred_label[index_correct_large_SSM_preds], BN_dev_large.y_hat_BN[index_correct_large_SSM_preds]), 3)} / {round(accuracy_score(gpt3_dev.pred_label[index_incorrect_small_SSM_preds], BN_dev_large.y_hat_BN[index_incorrect_small_SSM_preds]), 3)})\")\n",
    "\n",
    "print(\"==================================================\")\n",
    "print(\"F1-Score values of GPT-3 labels (when SSM pred. is correct / wrong) with respect to\")\n",
    "print(f\"Gold Label: {round(f1_score(gpt3_dev.pred_label, gpt3_dev.gold_standard_label, average='macro'), 3)}\")\n",
    "print(f\"Small SSM : {round(f1_score(gpt3_dev.pred_label, BN_dev_small.y_hat_BN, average='macro'), 3)} ({round(f1_score(gpt3_dev.pred_label[index_correct_small_SSM_preds], BN_dev_small.y_hat_BN[index_correct_small_SSM_preds], average='macro'), 3)} / {round(f1_score(gpt3_dev.pred_label[index_incorrect_small_SSM_preds], BN_dev_small.y_hat_BN[index_incorrect_small_SSM_preds], average='macro'), 3)})\")\n",
    "print(f\"Large SSM : {round(f1_score(gpt3_dev.pred_label, BN_dev_large.y_hat_BN, average='macro'), 3)} ({round(f1_score(gpt3_dev.pred_label[index_correct_large_SSM_preds], BN_dev_large.y_hat_BN[index_correct_large_SSM_preds], average='macro'), 3)} / {round(f1_score(gpt3_dev.pred_label[index_incorrect_small_SSM_preds], BN_dev_large.y_hat_BN[index_incorrect_small_SSM_preds], average='macro'), 3)})\")\n",
    "\n",
    "print(\"==================================================\")\n",
    "print(\"Accuracy values of GPT-3 labels (when SSM pred. is correct / wrong) with respect to\")\n",
    "print(f\"Gold Label: {round(cohen_kappa_score(gpt3_dev.pred_label, gpt3_dev.gold_standard_label), 3)}\")\n",
    "print(f\"Small SSM : {round(cohen_kappa_score(gpt3_dev.pred_label, BN_dev_small.y_hat_BN), 3)} ({round(cohen_kappa_score(gpt3_dev.pred_label[index_correct_small_SSM_preds], BN_dev_small.y_hat_BN[index_correct_small_SSM_preds]), 3)} / {round(cohen_kappa_score(gpt3_dev.pred_label[index_incorrect_small_SSM_preds], BN_dev_small.y_hat_BN[index_incorrect_small_SSM_preds]), 3)})\")\n",
    "print(f\"Large SSM : {round(cohen_kappa_score(gpt3_dev.pred_label, BN_dev_large.y_hat_BN), 3)} ({round(cohen_kappa_score(gpt3_dev.pred_label[index_correct_large_SSM_preds], BN_dev_large.y_hat_BN[index_correct_large_SSM_preds]), 3)} / {round(cohen_kappa_score(gpt3_dev.pred_label[index_incorrect_small_SSM_preds], BN_dev_large.y_hat_BN[index_incorrect_small_SSM_preds]), 3)})\")"
   ],
   "metadata": {
    "collapsed": false,
    "pycharm": {
     "name": "#%%\n"
    }
   }
  }
 ],
 "metadata": {
  "kernelspec": {
   "display_name": "Python 3",
   "language": "python",
   "name": "python3"
  },
  "language_info": {
   "codemirror_mode": {
    "name": "ipython",
    "version": 2
   },
   "file_extension": ".py",
   "mimetype": "text/x-python",
   "name": "python",
   "nbconvert_exporter": "python",
   "pygments_lexer": "ipython2",
   "version": "2.7.6"
  }
 },
 "nbformat": 4,
 "nbformat_minor": 0
}