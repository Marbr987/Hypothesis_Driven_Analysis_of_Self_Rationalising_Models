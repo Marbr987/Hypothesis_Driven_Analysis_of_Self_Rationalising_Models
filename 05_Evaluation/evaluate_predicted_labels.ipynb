{
 "cells": [
  {
   "cell_type": "code",
   "execution_count": 2,
   "outputs": [],
   "source": [
    "import pandas as pd\n",
    "import numpy as np\n",
    "from sklearn.metrics import cohen_kappa_score, f1_score, accuracy_score, precision_score, recall_score, confusion_matrix"
   ],
   "metadata": {
    "collapsed": false,
    "pycharm": {
     "name": "#%%\n"
    }
   }
  },
  {
   "cell_type": "code",
   "execution_count": 3,
   "outputs": [],
   "source": [
    "train1 = pd.read_csv('../Input_Data/e-SNLI/dataset/esnli_train_1.csv')\n",
    "train2 = pd.read_csv('../Input_Data/e-SNLI/dataset/esnli_train_2.csv')\n",
    "train = pd.concat([train1, train2])\n",
    "train = train[train.notnull().apply(all, axis=1)]\n",
    "dev = pd.read_csv('../Input_Data/e-SNLI/dataset/esnli_dev.csv')\n",
    "dev = dev[dev.notnull().apply(all, axis=1)]\n",
    "test = pd.read_csv('../Input_Data/e-SNLI/dataset/esnli_test.csv')\n",
    "test = test[test.notnull().apply(all, axis=1)]\n",
    "\n",
    "dev_prepared = pd.read_csv('../02_Extract_Subphrases/prepared_data/subphrase_vectors_dev.csv', sep=';')\n",
    "dev_prepared = dev_prepared.drop(columns='Unnamed: 0')\n",
    "dev = dev.set_index('pairID')\n",
    "rel_pairIDs = dev_prepared.iloc[:,0]\n",
    "y_hat = dev.loc[rel_pairIDs].gold_label\n",
    "dev_prepared = dev_prepared.iloc[:,1:].to_numpy()"
   ],
   "metadata": {
    "collapsed": false,
    "pycharm": {
     "name": "#%%\n"
    }
   }
  },
  {
   "cell_type": "code",
   "execution_count": 61,
   "outputs": [],
   "source": [
    "BN_dev_small = pd.read_csv(\"../04_BN_Explanations/BN_explanations_small_model.csv\", sep=\";\", index_col=0)\n",
    "BN_dev_large = pd.read_csv(\"../04_BN_Explanations/BN_explanations_large_model.csv\", sep=\";\", index_col=0)"
   ],
   "metadata": {
    "collapsed": false,
    "pycharm": {
     "name": "#%%\n"
    }
   }
  },
  {
   "cell_type": "code",
   "execution_count": 62,
   "outputs": [],
   "source": [
    "dev = dev.loc[rel_pairIDs]\n",
    "dev = dev.iloc[BN_dev_large.i]"
   ],
   "metadata": {
    "collapsed": false,
    "pycharm": {
     "name": "#%%\n"
    }
   }
  },
  {
   "cell_type": "code",
   "execution_count": 63,
   "outputs": [],
   "source": [
    "temp = [None, ] * 10\n",
    "for i in range(1, 11):\n",
    "    temp[i - 1] = pd.read_csv(\"../01_GPT3_Explanations/prepared_data/GPT3_explanations\" + str(i) + \".csv\", sep=\";\")\n",
    "gpt3_dev = pd.concat(temp).set_index(\"pairID\")\n",
    "gpt3_dev = gpt3_dev.loc[rel_pairIDs]\n",
    "gpt3_dev = gpt3_dev.iloc[BN_dev_large.i].reset_index()"
   ],
   "metadata": {
    "collapsed": false,
    "pycharm": {
     "name": "#%%\n"
    }
   }
  },
  {
   "cell_type": "code",
   "execution_count": 64,
   "outputs": [],
   "source": [
    "index_correct_small_SSM_preds = np.where(BN_dev_small.y_hat_BN == gpt3_dev.gold_standard_label)[0]\n",
    "index_incorrect_small_SSM_preds = np.where(BN_dev_small.y_hat_BN != gpt3_dev.gold_standard_label)[0]\n",
    "index_correct_large_SSM_preds = np.where(BN_dev_large.y_hat_BN == gpt3_dev.gold_standard_label)[0]\n",
    "index_incorrect_large_SSM_preds = np.where(BN_dev_large.y_hat_BN != gpt3_dev.gold_standard_label)[0]"
   ],
   "metadata": {
    "collapsed": false,
    "pycharm": {
     "name": "#%%\n"
    }
   }
  },
  {
   "cell_type": "code",
   "execution_count": 70,
   "outputs": [
    {
     "name": "stdout",
     "output_type": "stream",
     "text": [
      "Accuracy values of GPT-3 labels (when SSM pred. is correct / wrong) with respect to\n",
      "Gold Label: 0.807\n",
      "Small SSM : 0.566 (0.837 / 0.142)\n",
      "Large SSM : 0.468 (0.786 / 0.324)\n",
      "==================================================\n",
      "F1-Score values of GPT-3 labels (when SSM pred. is correct / wrong) with respect to\n",
      "Gold Label: 0.788\n",
      "Small SSM : 0.545 (0.812 / 0.122)\n",
      "Large SSM : 0.449 (0.786 / 0.29)\n",
      "==================================================\n",
      "Cohens Kappa values of GPT-3 labels (when SSM pred. is correct / wrong) with respect to\n",
      "Gold Label: 0.709\n",
      "Small SSM : 0.339 (0.75 / -0.291)\n",
      "Large SSM : 0.219 (0.667 / 0.017)\n"
     ]
    }
   ],
   "source": [
    "print(\"Accuracy values of GPT-3 labels (when SSM pred. is correct / wrong) with respect to\")\n",
    "print(f\"Gold Label: {round(accuracy_score(gpt3_dev.pred_label, gpt3_dev.gold_standard_label), 3)}\")\n",
    "print(f\"Small SSM : {round(accuracy_score(gpt3_dev.pred_label, BN_dev_small.y_hat_BN), 3)} ({round(accuracy_score(gpt3_dev.pred_label[index_correct_small_SSM_preds], BN_dev_small.y_hat_BN[index_correct_small_SSM_preds]), 3)} / {round(accuracy_score(gpt3_dev.pred_label[index_incorrect_small_SSM_preds], BN_dev_small.y_hat_BN[index_incorrect_small_SSM_preds]), 3)})\")\n",
    "print(f\"Large SSM : {round(accuracy_score(gpt3_dev.pred_label, BN_dev_large.y_hat_BN), 3)} ({round(accuracy_score(gpt3_dev.pred_label[index_correct_large_SSM_preds], BN_dev_large.y_hat_BN[index_correct_large_SSM_preds]), 3)} / {round(accuracy_score(gpt3_dev.pred_label[index_incorrect_small_SSM_preds], BN_dev_large.y_hat_BN[index_incorrect_small_SSM_preds]), 3)})\")\n",
    "\n",
    "print(\"==================================================\")\n",
    "print(\"F1-Score values of GPT-3 labels (when SSM pred. is correct / wrong) with respect to\")\n",
    "print(f\"Gold Label: {round(f1_score(gpt3_dev.pred_label, gpt3_dev.gold_standard_label, average='macro'), 3)}\")\n",
    "print(f\"Small SSM : {round(f1_score(gpt3_dev.pred_label, BN_dev_small.y_hat_BN, average='macro'), 3)} ({round(f1_score(gpt3_dev.pred_label[index_correct_small_SSM_preds], BN_dev_small.y_hat_BN[index_correct_small_SSM_preds], average='macro'), 3)} / {round(f1_score(gpt3_dev.pred_label[index_incorrect_small_SSM_preds], BN_dev_small.y_hat_BN[index_incorrect_small_SSM_preds], average='macro'), 3)})\")\n",
    "print(f\"Large SSM : {round(f1_score(gpt3_dev.pred_label, BN_dev_large.y_hat_BN, average='macro'), 3)} ({round(f1_score(gpt3_dev.pred_label[index_correct_large_SSM_preds], BN_dev_large.y_hat_BN[index_correct_large_SSM_preds], average='macro'), 3)} / {round(f1_score(gpt3_dev.pred_label[index_incorrect_small_SSM_preds], BN_dev_large.y_hat_BN[index_incorrect_small_SSM_preds], average='macro'), 3)})\")\n",
    "\n",
    "print(\"==================================================\")\n",
    "print(\"Cohens Kappa values of GPT-3 labels (when SSM pred. is correct / wrong) with respect to\")\n",
    "print(f\"Gold Label: {round(cohen_kappa_score(gpt3_dev.pred_label, gpt3_dev.gold_standard_label), 3)}\")\n",
    "print(f\"Small SSM : {round(cohen_kappa_score(gpt3_dev.pred_label, BN_dev_small.y_hat_BN), 3)} ({round(cohen_kappa_score(gpt3_dev.pred_label[index_correct_small_SSM_preds], BN_dev_small.y_hat_BN[index_correct_small_SSM_preds]), 3)} / {round(cohen_kappa_score(gpt3_dev.pred_label[index_incorrect_small_SSM_preds], BN_dev_small.y_hat_BN[index_incorrect_small_SSM_preds]), 3)})\")\n",
    "print(f\"Large SSM : {round(cohen_kappa_score(gpt3_dev.pred_label, BN_dev_large.y_hat_BN), 3)} ({round(cohen_kappa_score(gpt3_dev.pred_label[index_correct_large_SSM_preds], BN_dev_large.y_hat_BN[index_correct_large_SSM_preds]), 3)} / {round(cohen_kappa_score(gpt3_dev.pred_label[index_incorrect_small_SSM_preds], BN_dev_large.y_hat_BN[index_incorrect_small_SSM_preds]), 3)})\")"
   ],
   "metadata": {
    "collapsed": false,
    "pycharm": {
     "name": "#%%\n"
    }
   }
  },
  {
   "cell_type": "code",
   "execution_count": 69,
   "outputs": [
    {
     "name": "stdout",
     "output_type": "stream",
     "text": [
      "=====================================================\n",
      "contradiction\n",
      "Gold\n",
      "precision:  0.9492822966507177\n",
      "recall:  0.899365367180417\n",
      "Large SSM\n",
      "precision:  0.7632850241545893\n",
      "recall:  0.28649138712601996\n",
      "Small SSM\n",
      "precision:  0.712682379349046\n",
      "recall:  0.5757026291931097\n",
      "=====================================================\n",
      "entailment\n",
      "Gold\n",
      "precision:  0.9676470588235294\n",
      "recall:  0.7039942938659058\n",
      "Large SSM\n",
      "precision:  0.6191626409017713\n",
      "recall:  0.5485021398002853\n",
      "Small SSM\n",
      "precision:  0.6666666666666666\n",
      "recall:  0.5734664764621968\n",
      "=====================================================\n",
      "neutral\n",
      "Gold\n",
      "precision:  0.4845360824742268\n",
      "recall:  0.8867924528301887\n",
      "Large SSM\n",
      "precision:  0.2422044960116026\n",
      "recall:  0.630188679245283\n",
      "Small SSM\n",
      "precision:  0.29850746268656714\n",
      "recall:  0.5283018867924528\n"
     ]
    }
   ],
   "source": [
    "for cl in (\"contradiction\", \"entailment\", \"neutral\"):\n",
    "    print(\"=====================================================\")\n",
    "    print(cl)\n",
    "    print(\"Gold\")\n",
    "    print(\"precision: \", precision_score([1 if x == cl else 0 for x in gpt3_dev.pred_label], [1 if x == cl else 0 for x in gpt3_dev.gold_standard_label]))\n",
    "    print(\"recall: \", recall_score([1 if x == cl else 0 for x in gpt3_dev.pred_label], [1 if x == cl else 0 for x in gpt3_dev.gold_standard_label]))\n",
    "    print(\"Large SSM\")\n",
    "    print(\"precision: \", precision_score([1 if x == cl else 0 for x in gpt3_dev.pred_label], [1 if x == cl else 0 for x in BN_dev_large.y_hat_BN]))\n",
    "    print(\"recall: \", recall_score([1 if x == cl else 0 for x in gpt3_dev.pred_label], [1 if x == cl else 0 for x in BN_dev_large.y_hat_BN]))\n",
    "    print(\"Small SSM\")\n",
    "    print(\"precision: \", precision_score([1 if x == cl else 0 for x in gpt3_dev.pred_label], [1 if x == cl else 0 for x in BN_dev_small.y_hat_BN]))\n",
    "    print(\"recall: \", recall_score([1 if x == cl else 0 for x in gpt3_dev.pred_label], [1 if x == cl else 0 for x in BN_dev_small.y_hat_BN]))"
   ],
   "metadata": {
    "collapsed": false,
    "pycharm": {
     "name": "#%%\n"
    }
   }
  },
  {
   "cell_type": "code",
   "execution_count": 74,
   "outputs": [
    {
     "data": {
      "text/plain": "array([[316, 311, 476],\n       [ 64, 769, 569],\n       [ 34, 162, 334]])"
     },
     "execution_count": 74,
     "metadata": {},
     "output_type": "execute_result"
    }
   ],
   "source": [
    "confusion_matrix(gpt3_dev.pred_label, BN_dev_large.y_hat_BN, labels=(\"contradiction\", \"entailment\", \"neutral\"))"
   ],
   "metadata": {
    "collapsed": false,
    "pycharm": {
     "name": "#%%\n"
    }
   }
  },
  {
   "cell_type": "code",
   "execution_count": 75,
   "outputs": [
    {
     "data": {
      "text/plain": "array([[635, 233, 235],\n       [175, 804, 423],\n       [ 81, 169, 280]])"
     },
     "execution_count": 75,
     "metadata": {},
     "output_type": "execute_result"
    }
   ],
   "source": [
    "confusion_matrix(gpt3_dev.pred_label, BN_dev_small.y_hat_BN, labels=(\"contradiction\", \"entailment\", \"neutral\"))"
   ],
   "metadata": {
    "collapsed": false,
    "pycharm": {
     "name": "#%%\n"
    }
   }
  }
 ],
 "metadata": {
  "kernelspec": {
   "display_name": "Python 3",
   "language": "python",
   "name": "python3"
  },
  "language_info": {
   "codemirror_mode": {
    "name": "ipython",
    "version": 2
   },
   "file_extension": ".py",
   "mimetype": "text/x-python",
   "name": "python",
   "nbconvert_exporter": "python",
   "pygments_lexer": "ipython2",
   "version": "2.7.6"
  }
 },
 "nbformat": 4,
 "nbformat_minor": 0
}