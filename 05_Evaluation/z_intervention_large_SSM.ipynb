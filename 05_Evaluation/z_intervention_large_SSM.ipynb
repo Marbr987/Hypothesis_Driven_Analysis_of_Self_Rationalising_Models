{
 "cells": [
  {
   "cell_type": "code",
   "execution_count": 1,
   "outputs": [],
   "source": [
    "import numpy as np\n",
    "import pickle\n",
    "import pandas as pd\n",
    "import spacy\n",
    "import time\n",
    "import datetime\n",
    "import openai\n",
    "import random\n",
    "import os\n",
    "from dotenv import load_dotenv\n",
    "\n",
    "load_dotenv()\n",
    "nlp = spacy.load(\"en_core_web_lg\")"
   ],
   "metadata": {
    "collapsed": false,
    "pycharm": {
     "name": "#%%\n"
    }
   }
  },
  {
   "cell_type": "code",
   "execution_count": 2,
   "outputs": [],
   "source": [
    "directory = 'vers31/MLP_Classifiers_480k_training_15_iter_NN_size_200_50_30'\n",
    "use_z_values = tuple(range(25))\n",
    "#use_z_values = (0,6,12,18,24)\n",
    "#use_z_values = (0,3,4,6,8,9,12,13,14,15,16,17,18,19,20,21,22,23,24)\n",
    "model_names = [\"S1-S2\",\n",
    "               \"S1-V2\",\n",
    "               \"S1-O2\",\n",
    "               \"S1-L2\",\n",
    "               \"S1-C2\",\n",
    "               \"V1-S2\",\n",
    "               \"V1-V2\",\n",
    "               \"V1-O2\",\n",
    "               \"V1-L2\",\n",
    "               \"V1-C2\",\n",
    "               \"O1-S2\",\n",
    "               \"O1-V2\",\n",
    "               \"O1-O2\",\n",
    "               \"O1-L2\",\n",
    "               \"O1-C2\",\n",
    "               \"L1-S2\",\n",
    "               \"L1-V2\",\n",
    "               \"L1-O2\",\n",
    "               \"L1-L2\",\n",
    "               \"L1-C2\",\n",
    "               \"C1-S2\",\n",
    "               \"C1-V2\",\n",
    "               \"C1-O2\",\n",
    "               \"C1-L2\",\n",
    "               \"C1-C2\",]\n",
    "subphrase_indices_x1 = [\"string_subj_s1\", ] * 5 + [\"string_verb_s1\", ] * 5 + [\"string_obj_s1\", ] * 5 + [\"string_loc_s1\", ] * 5 + [\"string_clo_s1\", ] * 5\n",
    "subphrase_indices_x2 = [\"string_subj_s2\", \"string_verb_s2\", \"string_obj_s2\", \"string_loc_s2\", \"string_clo_s2\"] * 5\n",
    "\n",
    "model_names = [name for i,name in enumerate(model_names) if i in use_z_values]\n",
    "subphrase_indices_x1 = [i for j,i in enumerate(subphrase_indices_x1) if j in use_z_values]\n",
    "subphrase_indices_x2 = [i for j,i in enumerate(subphrase_indices_x2) if j in use_z_values]\n",
    "\n",
    "clf = list()\n",
    "for i in range(len(use_z_values)):\n",
    "    with open(\"../03_Bayesian_Network/\" + directory + \"/MLP_Classifier\" + str(i) + \".pkl\", \"rb\") as f:\n",
    "        clf += [pickle.load(f), ]"
   ],
   "metadata": {
    "collapsed": false,
    "pycharm": {
     "name": "#%%\n"
    }
   }
  },
  {
   "cell_type": "code",
   "execution_count": 3,
   "outputs": [],
   "source": [
    "# Indices for all z variables influenced by Subject2 (Verb2, Object2 etc. respectively) (e.g. Subject1-Subject2)\n",
    "Subj2_indices = [i for i in range(len(use_z_values)) if use_z_values[i] in (0, 5, 10, 15, 20)]\n",
    "Verb2_indices = [i for i in range(len(use_z_values)) if use_z_values[i] in (1, 6, 11, 16, 21)]\n",
    "Obj2_indices = [i for i in range(len(use_z_values)) if use_z_values[i] in (2, 7, 12, 17, 22)]\n",
    "Loc2_indices = [i for i in range(len(use_z_values)) if use_z_values[i] in (3, 8, 13, 18, 23)]\n",
    "Clo2_indices = [i for i in range(len(use_z_values)) if use_z_values[i] in (4, 9, 14, 19, 24)]\n",
    "Sentence2_indices = [Subj2_indices, Verb2_indices, Obj2_indices, Loc2_indices, Clo2_indices]"
   ],
   "metadata": {
    "collapsed": false,
    "pycharm": {
     "name": "#%%\n"
    }
   }
  },
  {
   "cell_type": "code",
   "execution_count": 4,
   "outputs": [],
   "source": [
    "train1 = pd.read_csv('../Input_Data/e-SNLI/dataset/esnli_train_1.csv')\n",
    "train2 = pd.read_csv('../Input_Data/e-SNLI/dataset/esnli_train_2.csv')\n",
    "train = pd.concat([train1, train2])\n",
    "train = train[train.notnull().apply(all, axis=1)]\n",
    "dev = pd.read_csv('../Input_Data/e-SNLI/dataset/esnli_dev.csv')\n",
    "dev = dev[dev.notnull().apply(all, axis=1)]\n",
    "test = pd.read_csv('../Input_Data/e-SNLI/dataset/esnli_test.csv')\n",
    "test = test[test.notnull().apply(all, axis=1)]\n",
    "\n",
    "dev_prepared = pd.read_csv('../02_Extract_Subphrases/prepared_data/subphrase_vectors_dev.csv', sep=';')\n",
    "dev_prepared = dev_prepared.drop(columns='Unnamed: 0')\n",
    "dev = dev.set_index('pairID')\n",
    "rel_pairIDs = dev_prepared.iloc[:,0]\n",
    "dev = dev.loc[rel_pairIDs]\n",
    "y_hat = dev.loc[rel_pairIDs].gold_label\n",
    "dev_prepared = dev_prepared.iloc[:,1:].to_numpy()\n",
    "\n",
    "dev_subphrases = pd.read_csv('../02_Extract_Subphrases/prepared_data/subphrases_dev.csv', sep=',')\n",
    "dev_subphrases = dev_subphrases.set_index('pairID')\n",
    "dev_subphrases = dev_subphrases.loc[rel_pairIDs]"
   ],
   "metadata": {
    "collapsed": false,
    "pycharm": {
     "name": "#%%\n"
    }
   }
  },
  {
   "cell_type": "code",
   "execution_count": 5,
   "outputs": [],
   "source": [
    "# Prepare colum indices\n",
    "indices = np.array([[0,1500], [0,1800], [0,2100], [0,2400], [0,2700],\n",
    "                    [300,1500], [300,1800], [300,2100], [300,2400], [300,2700],\n",
    "                    [600,1500], [600,1800], [600,2100], [600,2400], [600,2700],\n",
    "                    [900,1500], [900,1800], [900,2100], [900,2400], [900,2700],\n",
    "                    [1200,1500], [1200,1800], [1200,2100], [1200,2400], [1200,2700]])\n",
    "indices = indices[use_z_values,:].tolist()\n",
    "# Initialise colulmn indices and \"nan\" values if information (e.g. location of sentence) is not detected\n",
    "not_nan = [None, ] * len(use_z_values)\n",
    "cols = [None, ] * len(use_z_values)\n",
    "for i in range(len(use_z_values)):\n",
    "    cols[i] = list(range(indices[i][0], indices[i][0]+300)) + list(range(indices[i][1],indices[i][1]+300))\n",
    "    not_nan[i] = pd.Series([not x for x in pd.DataFrame(np.isnan(dev_prepared[:,cols[i]])).apply(any, axis=1)])\n",
    "not_nan = np.array(not_nan).T"
   ],
   "metadata": {
    "collapsed": false,
    "pycharm": {
     "name": "#%%\n"
    }
   }
  },
  {
   "cell_type": "code",
   "execution_count": 6,
   "outputs": [],
   "source": [
    "def predict_y_from_z(z):\n",
    "\n",
    "    # Iterate through each row if z is a matrix\n",
    "    if len(z.shape) > 1:\n",
    "        z = pd.DataFrame(z)\n",
    "        res = z.apply(predict_y_from_z, axis=1)\n",
    "        return res.to_numpy()\n",
    "\n",
    "    # For each single line perform the following:\n",
    "    else:\n",
    "        # If any z is 'contradiction' -> output class 'contradiction'\n",
    "        if any(z == 'contradiction'):\n",
    "            return 'contradiction'\n",
    "        # Else if all subphrases of sentence 2 are entailed by any subphrase of sentence 1 -> output class 'entailment'\n",
    "        elif all([any([z[i] == 'entailment' for i in subphrase_indices]) or all([z[i] == 'nan' or pd.isnull(z[i]) for i in subphrase_indices]) for subphrase_indices in Sentence2_indices]):\n",
    "            return 'entailment'\n",
    "        # Else output class 'neutral'\n",
    "        else:\n",
    "            return 'neutral'"
   ],
   "metadata": {
    "collapsed": false,
    "pycharm": {
     "name": "#%%\n"
    }
   }
  },
  {
   "cell_type": "code",
   "execution_count": 7,
   "outputs": [],
   "source": [
    "def softmax(x):\n",
    "    \"\"\"\n",
    "    Compute softmax values for each set of scores in x.\n",
    "    \"\"\"\n",
    "    e_x = np.exp(x - np.max(x))\n",
    "    return e_x / e_x.sum()\n",
    "\n",
    "def relu(x):\n",
    "    return np.maximum(x, 0)\n",
    "\n",
    "def custom_sign(x):\n",
    "    if len(x.shape) == 2 and x.shape[1] == 1:\n",
    "        x = x.reshape((-1,))\n",
    "    else:\n",
    "        raise ValueError(f\"x must be of shape (n,1), not {x.shape}\")\n",
    "    return np.diag((np.sign(x) + 1) / 2) # np.sign returns 1 and -1, but we want 1 and 0\n",
    "\n",
    "def get_gradient(x1, x2, net, j):\n",
    "    x = np.vstack((x1, x2))\n",
    "    n_hidden = net.n_layers_ - 2 # number of hidden layers (subtract output and input layer)\n",
    "    n = x.shape[0]\n",
    "\n",
    "    # Get weights and biases from net\n",
    "    W = net.coefs_\n",
    "    W = [w.T for w in W]\n",
    "    b = net.intercepts_\n",
    "    b = [bt.reshape((-1,1)) for bt in b]\n",
    "\n",
    "    # Calculate the partial derivatives of each factor in the chain for the final gradient\n",
    "    # Forward propagation\n",
    "    h = [relu(W[0] @ x + b[0])]\n",
    "    for i in range(1, n_hidden):\n",
    "        h += [relu(W[i] @ h[i-1] + b[i])]\n",
    "    h += [softmax(W[n_hidden] @ h[-1] + b[-1])]\n",
    "\n",
    "    # Backward propagation\n",
    "    delta = np.zeros((net.n_outputs_, 1))\n",
    "    delta[j] = 1\n",
    "    gradients = [custom_sign(W[0] @ x + b[0]) @ W[0][:,int(n/2):], ]\n",
    "    for i in range(1, n_hidden):\n",
    "        gradients += [custom_sign(W[i] @ h[i-1] + b[i]) @ W[i], ]\n",
    "    gradients += [(softmax(W[-1] @ h[-2] + b[-1]) * (delta - softmax(W[-1] @ h[-2] + b[-1]))).T @ W[-1], ]\n",
    "\n",
    "    gradient = gradients[-1]\n",
    "    for i in range(n_hidden-1, -1, -1):\n",
    "        gradient = gradient @ gradients[i]\n",
    "    return gradient.T"
   ],
   "metadata": {
    "collapsed": false,
    "pycharm": {
     "name": "#%%\n"
    }
   }
  },
  {
   "cell_type": "code",
   "execution_count": 8,
   "outputs": [],
   "source": [
    "def perturb_input(x1, x2, net, learning_rate=0.5):\n",
    "    x2_star = x2\n",
    "    z_hat_original = np.argmax(net.predict_proba(np.vstack((x1, x2)).T))\n",
    "    z_hat = z_hat_original\n",
    "    epsilon = 0\n",
    "    iterations = 0\n",
    "    while z_hat == z_hat_original:\n",
    "        iterations += 1\n",
    "        gradient = get_gradient(x1, x2_star, net, z_hat_original)\n",
    "        epsilon += learning_rate * -gradient\n",
    "        x2_star = x2 + epsilon\n",
    "        z_hat = np.argmax(net.predict_proba(np.vstack((x1, x2_star)).T))\n",
    "    return x2_star, epsilon, iterations"
   ],
   "metadata": {
    "collapsed": false,
    "pycharm": {
     "name": "#%%\n"
    }
   }
  },
  {
   "cell_type": "code",
   "execution_count": 9,
   "outputs": [
    {
     "data": {
      "text/plain": "(['frog'],\n [array([ 1.0258  ,  1.4698  ,  1.2748  , -6.01    ,  0.46523 , -0.74243 ,\n         -3.7125  , -0.27701 ,  0.6955  ,  5.2781  ,  2.831   , -2.3511  ,\n          3.7929  ,  3.1249  ,  2.3439  , -4.2838  , -0.10871 ,  1.2361  ,\n          3.8146  , -4.0382  ,  1.7993  ,  1.6935  ,  0.45288 , -3.9446  ,\n          2.7754  , -2.4043  , -0.95622 , -0.63344 ,  4.1845  ,  3.3493  ,\n         -4.9989  , -0.96089 ,  1.8568  ,  0.34936 ,  1.6861  , -2.0498  ,\n          1.3089  , -0.94749 ,  4.2096  , -5.226   ,  1.1977  , -0.062547,\n          1.356   ,  1.4038  ,  2.6408  ,  1.5928  ,  2.6488  ,  0.58255 ,\n         -4.7756  , -0.32723 ,  2.0029  ,  7.6926  , -1.4262  ,  1.3991  ,\n         -0.97878 , -1.1169  ,  0.35985 ,  0.96784 , -2.0557  ,  0.41393 ,\n          1.1737  , -0.90461 ,  3.1241  ,  3.4651  , -2.0677  ,  0.15348 ,\n         -1.4759  ,  1.2573  ,  0.22136 , -0.56222 ,  0.64254 , -0.69267 ,\n          1.5075  ,  0.41354 ,  0.66168 , -3.125   , -3.1246  ,  0.98155 ,\n          1.859   , -1.1314  ,  0.5199  , -1.484   , -2.4532  ,  0.97423 ,\n         -1.2431  , -4.2974  ,  3.9008  ,  2.9374  , -2.3141  , -1.7377  ,\n          0.54506 , -3.196   ,  1.6368  , -2.8755  ,  1.4617  ,  0.73403 ,\n          0.9422  ,  1.9371  ,  0.79541 , -1.1297  , -3.3403  ,  1.4173  ,\n         -0.23634 , -1.2255  , -3.3945  , -0.11389 , -1.3209  ,  5.9457  ,\n         -2.1862  ,  2.7687  , -3.3806  ,  5.5487  ,  0.93794 , -1.8771  ,\n          0.571   , -0.03472 ,  3.6243  , -1.2812  ,  1.5612  , -1.327   ,\n          0.91061 ,  1.3535  , -8.0599  ,  1.9368  , -5.9034  , -1.5217  ,\n          2.94    , -0.8125  ,  4.8892  ,  1.1059  , -2.1237  ,  1.1749  ,\n          1.9236  , -2.3557  ,  2.0838  ,  2.5933  , -1.9402  , -1.5728  ,\n         -4.7646  , -1.9522  , -0.8658  , -1.3728  , -0.50261 , -1.0259  ,\n          0.81643 , -2.8282  , -1.1116  ,  5.0081  , -0.67198 ,  0.35018 ,\n          1.9286  ,  4.721   , -0.11383 , -4.53    ,  0.12605 , -1.0364  ,\n          3.171   ,  4.0633  ,  3.6261  ,  0.8993  ,  0.76241 ,  1.0829  ,\n         -0.35438 ,  0.28183 , -3.6398  , -3.2757  , -0.99004 ,  4.2413  ,\n         -0.34748 ,  2.0119  ,  2.3054  ,  4.3861  , -1.0408  ,  0.054537,\n         -1.139   , -1.5034  , -0.016019, -4.0797  , -1.3716  ,  0.77514 ,\n         -0.19588 , -2.8465  , -1.1246  ,  3.5572  , -1.6223  ,  0.13613 ,\n          5.9867  , -3.7977  ,  0.91754 , -4.9829  ,  2.5571  , -0.078225,\n         -0.98406 , -3.6639  ,  0.17936 , -0.15818 , -5.1231  ,  1.6914  ,\n         -3.215   ,  0.48227 , -1.9324  ,  2.9396  ,  1.9223  ,  6.3014  ,\n         -0.054238, -1.0792  , -0.29715 , -1.9381  , -0.4921  , -2.9649  ,\n          0.21493 ,  2.0822  , -0.049046,  0.61162 ,  1.491   , -0.69453 ,\n          5.3732  ,  1.498   , -2.2108  ,  0.58379 ,  1.469   , -2.7473  ,\n          0.57883 ,  2.2863  , -0.50044 ,  0.302   , -3.8588  , -3.286   ,\n          4.6109  ,  3.7935  , -0.75183 , -0.29856 ,  3.6527  ,  3.748   ,\n         -3.5558  , -1.6502  , -2.3357  ,  1.8031  ,  0.4764  ,  0.47208 ,\n          2.5512  ,  0.035865,  1.2839  ,  1.591   , -0.51568 , -0.35371 ,\n          3.5831  ,  2.086   , -1.4145  , -1.4746  , -4.0637  ,  0.65871 ,\n         -0.66715 ,  3.5743  , -2.7076  , -1.8912  ,  2.1127  ,  5.8136  ,\n          0.55356 , -0.10211 ,  0.87761 ,  1.0928  , -0.28926 ,  0.66295 ,\n         -3.0493  , -1.0279  , -7.6605  , -1.9839  , -0.045374,  3.99    ,\n          3.7543  , -1.2056  ,  2.4245  , -1.1247  ,  0.93888 , -0.18604 ,\n         -0.2691  , -1.668   , -3.3189  ,  3.0297  , -3.5634  , -0.59235 ,\n          2.858   , -1.4954  ,  4.7213  ,  1.5899  , -0.22131 ,  0.05221 ,\n         -0.64339 ,  2.1958  ,  4.8535  ,  0.8496  ,  7.0404  ,  0.12385 ,\n         -1.0745  ,  0.56041 ,  3.444   , -0.91566 , -3.1573  ,  0.2274  ],\n        dtype=float32)])"
     },
     "execution_count": 9,
     "metadata": {},
     "output_type": "execute_result"
    }
   ],
   "source": [
    "# Imports\n",
    "from scipy.spatial import distance\n",
    "\n",
    "# Format the vocabulary for use in the distance function\n",
    "ids = [x for x in nlp.vocab.vectors.keys()]\n",
    "vectors = [nlp.vocab.vectors[x] for x in ids]\n",
    "vectors = np.array(vectors)\n",
    "\n",
    "# *** Find the closest word below ***\n",
    "def find_closest_term(embedding_vector, n=1, distance_fun=\"euclidean\"):\n",
    "    closest_index = distance.cdist(embedding_vector, vectors, metric=distance_fun).argsort()[0][:n]\n",
    "    word_id = [ids[i] for i in closest_index]\n",
    "    output_word = [nlp.vocab[i].text for i in word_id]\n",
    "    output_vec = [nlp.vocab[i].vector for i in word_id]\n",
    "    return output_word, output_vec"
   ],
   "metadata": {
    "collapsed": false,
    "pycharm": {
     "name": "#%%\n"
    }
   }
  },
  {
   "cell_type": "code",
   "execution_count": 10,
   "outputs": [],
   "source": [
    "def generate_perturbed_inputs_cont(n_examples):\n",
    "    pairIDs = list()\n",
    "    original_sentence1 = list()\n",
    "    original_sentence2 = list()\n",
    "    x2_star_string = list()\n",
    "    perturbed_sentence2 = list()\n",
    "    perturbed_x_list = list()\n",
    "    epsilons = list()\n",
    "    sample_indices = list()\n",
    "    for counter in range(n_examples):\n",
    "        print(datetime.datetime.now())\n",
    "        print(counter)\n",
    "        i = np.random.choice([k for k in range(dev_prepared.shape[0]) if k not in sample_indices])\n",
    "        model_index = np.random.choice(np.where(not_nan[i])[0])\n",
    "        original_x2_string = dev_subphrases[subphrase_indices_x2[model_index]].iloc[i]\n",
    "        while len(original_x2_string.split()) > 1:\n",
    "            i = np.random.choice([k for k in range(dev_prepared.shape[0]) if k not in sample_indices])\n",
    "            model_index = np.random.choice(np.where(not_nan[i])[0])\n",
    "            original_x2_string = dev_subphrases[subphrase_indices_x2[model_index]].iloc[i]\n",
    "        cur_x1 = dev_prepared[i,cols[model_index][:300]].reshape((-1,1))\n",
    "        cur_x2 = dev_prepared[i,cols[model_index][300:]].reshape((-1,1))\n",
    "        x2_star, epsilon, iterations = perturb_input(cur_x1, cur_x2, clf[model_index])\n",
    "\n",
    "        ms_x2_star = find_closest_term(x2_star.T, n=1)[0][0]\n",
    "        epsilon = x2_star - cur_x2\n",
    "        sample_indices += [i, ]\n",
    "        perturbed_x = dev_prepared[i,:].tolist()\n",
    "        for counter, k in enumerate(cols[model_index][300:]):\n",
    "            perturbed_x[k] = x2_star[counter,0]\n",
    "\n",
    "        pairIDs += [dev.index[i], ]\n",
    "        original_sentence1 += [dev.iloc[i].Sentence1, ]\n",
    "        original_sentence2 += [dev.iloc[i].Sentence2, ]\n",
    "        perturbed_x_list += [perturbed_x, ]\n",
    "        x2_star_string += [ms_x2_star, ]\n",
    "        perturbed_sentence2 += [dev.Sentence2.iloc[i].replace(original_x2_string, ms_x2_star)]\n",
    "        epsilons += [epsilon, ]\n",
    "\n",
    "    res = pd.DataFrame({\"i\": sample_indices, \"pairID\": pairIDs, \"Sentence1\": original_sentence1, \"Sentence2\": original_sentence2, \"x2_star_string\": x2_star_string, \"perturbed_sentence2\": perturbed_sentence2, \"epsilons\": epsilons, \"perturbed_x\": perturbed_x_list})\n",
    "    return res"
   ],
   "metadata": {
    "collapsed": false,
    "pycharm": {
     "name": "#%%\n"
    }
   }
  },
  {
   "cell_type": "code",
   "execution_count": 11,
   "outputs": [],
   "source": [
    "def generate_perturbed_inputs_discr(n_examples):\n",
    "    pairIDs = list()\n",
    "    original_sentence1 = list()\n",
    "    original_sentence2 = list()\n",
    "    x2_star_string_list = list()\n",
    "    perturbed_sentence2 = list()\n",
    "    perturbed_x_list = list()\n",
    "    epsilons = list()\n",
    "    sample_indices = list()\n",
    "    for counter in range(n_examples):\n",
    "        print(datetime.datetime.now())\n",
    "        print(counter)\n",
    "        i = np.random.choice([k for k in range(dev_prepared.shape[0]) if k not in sample_indices])\n",
    "        model_index = np.random.choice(np.where(not_nan[i])[0])\n",
    "        original_x2_string = dev_subphrases[subphrase_indices_x2[model_index]].iloc[i]\n",
    "        while len(original_x2_string.split()) > 1:\n",
    "            i = np.random.choice([k for k in range(dev_prepared.shape[0]) if k not in sample_indices])\n",
    "            model_index = np.random.choice(np.where(not_nan[i])[0])\n",
    "            original_x2_string = dev_subphrases[subphrase_indices_x2[model_index]].iloc[i]\n",
    "        cur_x1 = dev_prepared[i,cols[model_index][:300]].reshape((-1,1))\n",
    "        cur_x2 = dev_prepared[i,cols[model_index][300:]].reshape((-1,1))\n",
    "        original_pred = clf[model_index].predict(np.vstack((cur_x1, cur_x2)).T)\n",
    "\n",
    "        ms_x2 = find_closest_term(cur_x2.T, n=1)[0][0]\n",
    "        pos_x2 = nlp(ms_x2)[0].pos_\n",
    "        closest_terms, closest_vecs = find_closest_term(cur_x2.T, n=20000)\n",
    "        for term, vec in zip(closest_terms, closest_vecs):\n",
    "            if clf[model_index].predict(np.vstack((cur_x1, vec.reshape((-1,1)))).T) != original_pred and nlp(term)[0].pos_ == pos_x2:\n",
    "                x2_star = vec\n",
    "                x2_star_string = term\n",
    "                break\n",
    "\n",
    "\n",
    "        epsilon = x2_star - cur_x2\n",
    "        sample_indices += [i, ]\n",
    "        perturbed_x = dev_prepared[i,:].tolist()\n",
    "        for counter, k in enumerate(cols[model_index][300:]):\n",
    "            perturbed_x[k] = x2_star[counter]\n",
    "\n",
    "        pairIDs += [dev.index[i], ]\n",
    "        original_sentence1 += [dev.iloc[i].Sentence1, ]\n",
    "        original_sentence2 += [dev.iloc[i].Sentence2, ]\n",
    "        perturbed_x_list += [perturbed_x, ]\n",
    "        x2_star_string_list += [x2_star_string, ]\n",
    "        perturbed_sentence2 += [dev.Sentence2.iloc[i].replace(original_x2_string, x2_star_string)]\n",
    "        epsilons += [epsilon, ]\n",
    "\n",
    "    res = pd.DataFrame({\"i\": sample_indices, \"pairID\": pairIDs, \"Sentence1\": original_sentence1, \"Sentence2\": original_sentence2, \"x2_star_string\": x2_star_string_list, \"perturbed_sentence2\": perturbed_sentence2, \"epsilons\": epsilons, \"perturbed_x\": perturbed_x_list})\n",
    "    return res"
   ],
   "metadata": {
    "collapsed": false,
    "pycharm": {
     "name": "#%%\n"
    }
   }
  },
  {
   "cell_type": "code",
   "execution_count": 12,
   "outputs": [
    {
     "name": "stdout",
     "output_type": "stream",
     "text": [
      "2023-04-25 09:45:18.246759\n",
      "0\n",
      "2023-04-25 09:45:19.723954\n",
      "1\n",
      "2023-04-25 09:45:20.611317\n",
      "2\n",
      "2023-04-25 09:45:22.123186\n",
      "3\n",
      "2023-04-25 09:45:23.276859\n",
      "4\n",
      "2023-04-25 09:45:25.172327\n",
      "5\n",
      "2023-04-25 09:45:27.173485\n",
      "6\n",
      "2023-04-25 09:45:29.027111\n",
      "7\n",
      "2023-04-25 09:45:32.210715\n",
      "8\n",
      "2023-04-25 09:45:33.963651\n",
      "9\n",
      "2023-04-25 09:45:37.566252\n",
      "10\n",
      "2023-04-25 09:45:38.552901\n",
      "11\n",
      "2023-04-25 09:45:39.508924\n",
      "12\n",
      "2023-04-25 09:45:40.873168\n",
      "13\n",
      "2023-04-25 09:45:44.218056\n",
      "14\n",
      "2023-04-25 09:45:45.159248\n",
      "15\n",
      "2023-04-25 09:45:46.239921\n",
      "16\n",
      "2023-04-25 09:45:47.219864\n",
      "17\n",
      "2023-04-25 09:45:48.161692\n",
      "18\n",
      "2023-04-25 09:45:49.315064\n",
      "19\n",
      "2023-04-25 09:45:50.548785\n",
      "20\n",
      "2023-04-25 09:45:51.610544\n",
      "21\n",
      "2023-04-25 09:45:52.528700\n",
      "22\n",
      "2023-04-25 09:45:53.478136\n",
      "23\n",
      "2023-04-25 09:45:54.899068\n",
      "24\n",
      "2023-04-25 09:45:55.799653\n",
      "25\n",
      "2023-04-25 09:45:56.744008\n",
      "26\n",
      "2023-04-25 09:45:57.661247\n",
      "27\n",
      "2023-04-25 09:45:58.625845\n",
      "28\n",
      "2023-04-25 09:46:00.555773\n",
      "29\n",
      "2023-04-25 09:46:01.567465\n",
      "30\n",
      "2023-04-25 09:46:02.528644\n",
      "31\n",
      "2023-04-25 09:46:03.438805\n",
      "32\n",
      "2023-04-25 09:46:04.344438\n",
      "33\n",
      "2023-04-25 09:46:05.423022\n",
      "34\n",
      "2023-04-25 09:46:06.524120\n",
      "35\n",
      "2023-04-25 09:46:07.524534\n",
      "36\n",
      "2023-04-25 09:46:08.592060\n",
      "37\n",
      "2023-04-25 09:46:09.690166\n",
      "38\n",
      "2023-04-25 09:46:10.896689\n",
      "39\n",
      "2023-04-25 09:46:12.467731\n",
      "40\n",
      "2023-04-25 09:46:13.482088\n",
      "41\n",
      "2023-04-25 09:46:14.449840\n",
      "42\n",
      "2023-04-25 09:46:15.531353\n",
      "43\n",
      "2023-04-25 09:46:16.600084\n",
      "44\n",
      "2023-04-25 09:46:17.619446\n",
      "45\n",
      "2023-04-25 09:46:20.096045\n",
      "46\n",
      "2023-04-25 09:46:22.430082\n",
      "47\n",
      "2023-04-25 09:46:23.398282\n",
      "48\n",
      "2023-04-25 09:46:24.383967\n",
      "49\n",
      "2023-04-25 09:46:25.946710\n",
      "50\n",
      "2023-04-25 09:46:27.410206\n",
      "51\n",
      "2023-04-25 09:46:28.651469\n",
      "52\n",
      "2023-04-25 09:46:29.598439\n",
      "53\n",
      "2023-04-25 09:46:33.229510\n",
      "54\n",
      "2023-04-25 09:46:34.152053\n",
      "55\n",
      "2023-04-25 09:46:35.368036\n",
      "56\n",
      "2023-04-25 09:46:36.587266\n",
      "57\n",
      "2023-04-25 09:46:37.506185\n",
      "58\n",
      "2023-04-25 09:46:38.893391\n",
      "59\n",
      "2023-04-25 09:46:39.808495\n",
      "60\n",
      "2023-04-25 09:46:40.761854\n",
      "61\n",
      "2023-04-25 09:46:41.692198\n",
      "62\n",
      "2023-04-25 09:46:42.822019\n",
      "63\n",
      "2023-04-25 09:46:43.743717\n",
      "64\n",
      "2023-04-25 09:46:44.722433\n",
      "65\n",
      "2023-04-25 09:46:45.662398\n",
      "66\n",
      "2023-04-25 09:46:46.854701\n",
      "67\n",
      "2023-04-25 09:46:47.819451\n",
      "68\n",
      "2023-04-25 09:46:48.914597\n",
      "69\n",
      "2023-04-25 09:46:50.391269\n",
      "70\n",
      "2023-04-25 09:46:51.583329\n",
      "71\n",
      "2023-04-25 09:46:52.448771\n",
      "72\n",
      "2023-04-25 09:46:53.395030\n",
      "73\n",
      "2023-04-25 09:46:54.242170\n",
      "74\n",
      "2023-04-25 09:46:55.454780\n",
      "75\n",
      "2023-04-25 09:46:56.495204\n",
      "76\n",
      "2023-04-25 09:46:57.852137\n",
      "77\n",
      "2023-04-25 09:46:59.110270\n",
      "78\n",
      "2023-04-25 09:47:00.251313\n",
      "79\n",
      "2023-04-25 09:47:01.967709\n",
      "80\n",
      "2023-04-25 09:47:03.000977\n",
      "81\n",
      "2023-04-25 09:47:03.979233\n",
      "82\n",
      "2023-04-25 09:47:04.942680\n",
      "83\n",
      "2023-04-25 09:47:05.908124\n",
      "84\n",
      "2023-04-25 09:47:09.255580\n",
      "85\n",
      "2023-04-25 09:47:10.644401\n",
      "86\n",
      "2023-04-25 09:47:11.876406\n",
      "87\n",
      "2023-04-25 09:47:13.122876\n",
      "88\n",
      "2023-04-25 09:47:14.373088\n",
      "89\n",
      "2023-04-25 09:47:15.511643\n",
      "90\n",
      "2023-04-25 09:47:17.419360\n",
      "91\n",
      "2023-04-25 09:47:18.453273\n",
      "92\n",
      "2023-04-25 09:47:19.550354\n",
      "93\n",
      "2023-04-25 09:47:20.599760\n",
      "94\n",
      "2023-04-25 09:47:21.615228\n",
      "95\n",
      "2023-04-25 09:49:06.191777\n",
      "96\n",
      "2023-04-25 09:49:07.391730\n",
      "97\n",
      "2023-04-25 09:49:08.369082\n",
      "98\n",
      "2023-04-25 09:49:09.381042\n",
      "99\n",
      "2023-04-25 09:49:10.340292\n",
      "100\n",
      "2023-04-25 09:49:11.292471\n",
      "101\n",
      "2023-04-25 09:49:13.804411\n",
      "102\n",
      "2023-04-25 09:49:14.729829\n",
      "103\n",
      "2023-04-25 09:49:15.676195\n",
      "104\n",
      "2023-04-25 09:49:16.891957\n",
      "105\n",
      "2023-04-25 09:49:17.845782\n",
      "106\n",
      "2023-04-25 09:49:35.603802\n",
      "107\n",
      "2023-04-25 09:49:36.451248\n",
      "108\n",
      "2023-04-25 09:49:37.487629\n",
      "109\n",
      "2023-04-25 09:49:38.348555\n",
      "110\n",
      "2023-04-25 09:49:39.350045\n",
      "111\n",
      "2023-04-25 09:49:40.333704\n",
      "112\n",
      "2023-04-25 09:49:41.237833\n",
      "113\n",
      "2023-04-25 09:49:44.538659\n",
      "114\n",
      "2023-04-25 09:49:45.881856\n",
      "115\n",
      "2023-04-25 09:49:47.122431\n",
      "116\n",
      "2023-04-25 09:49:48.067493\n",
      "117\n",
      "2023-04-25 09:49:51.105236\n",
      "118\n",
      "2023-04-25 09:49:51.967772\n",
      "119\n",
      "2023-04-25 09:49:52.881826\n",
      "120\n",
      "2023-04-25 09:49:53.835056\n",
      "121\n",
      "2023-04-25 09:49:54.678302\n",
      "122\n",
      "2023-04-25 09:49:55.578289\n",
      "123\n",
      "2023-04-25 09:49:56.693790\n",
      "124\n",
      "2023-04-25 09:49:57.843810\n",
      "125\n",
      "2023-04-25 09:49:59.025912\n",
      "126\n",
      "2023-04-25 09:50:00.109971\n",
      "127\n",
      "2023-04-25 09:50:01.002266\n",
      "128\n",
      "2023-04-25 09:50:01.874070\n",
      "129\n",
      "2023-04-25 09:50:02.737479\n",
      "130\n",
      "2023-04-25 09:50:03.781830\n",
      "131\n",
      "2023-04-25 09:50:04.622288\n",
      "132\n",
      "2023-04-25 09:50:05.437575\n",
      "133\n",
      "2023-04-25 09:50:06.478442\n",
      "134\n",
      "2023-04-25 09:50:07.434488\n",
      "135\n",
      "2023-04-25 09:50:08.329225\n",
      "136\n",
      "2023-04-25 09:50:09.180513\n",
      "137\n",
      "2023-04-25 09:50:10.223270\n",
      "138\n",
      "2023-04-25 09:50:11.336325\n",
      "139\n",
      "2023-04-25 09:50:12.228686\n",
      "140\n",
      "2023-04-25 09:50:13.510311\n",
      "141\n",
      "2023-04-25 09:50:14.876489\n",
      "142\n",
      "2023-04-25 09:50:15.824796\n",
      "143\n",
      "2023-04-25 09:50:16.718990\n",
      "144\n",
      "2023-04-25 09:50:17.571577\n",
      "145\n",
      "2023-04-25 09:50:20.478970\n",
      "146\n",
      "2023-04-25 09:50:21.411325\n",
      "147\n",
      "2023-04-25 09:50:22.254149\n",
      "148\n",
      "2023-04-25 09:50:23.161124\n",
      "149\n"
     ]
    }
   ],
   "source": [
    "np.random.seed(12345)\n",
    "perturbed_inputs_cont = generate_perturbed_inputs_cont(150)"
   ],
   "metadata": {
    "collapsed": false,
    "pycharm": {
     "name": "#%%\n"
    }
   }
  },
  {
   "cell_type": "code",
   "execution_count": 13,
   "outputs": [
    {
     "name": "stdout",
     "output_type": "stream",
     "text": [
      "2023-04-25 09:50:24.041402\n",
      "0\n",
      "2023-04-25 09:50:26.452460\n",
      "1\n",
      "2023-04-25 09:50:28.465677\n",
      "2\n",
      "2023-04-25 09:50:30.269716\n",
      "3\n",
      "2023-04-25 09:50:32.131182\n",
      "4\n",
      "2023-04-25 09:50:34.032687\n",
      "5\n",
      "2023-04-25 09:50:35.899917\n",
      "6\n",
      "2023-04-25 09:50:37.696941\n",
      "7\n",
      "2023-04-25 09:50:39.693418\n",
      "8\n",
      "2023-04-25 09:50:41.699654\n",
      "9\n",
      "2023-04-25 09:50:46.731427\n",
      "10\n",
      "2023-04-25 09:50:48.499971\n",
      "11\n",
      "2023-04-25 09:50:50.249795\n",
      "12\n",
      "2023-04-25 09:50:52.155381\n",
      "13\n",
      "2023-04-25 09:50:53.870267\n",
      "14\n",
      "2023-04-25 09:50:55.646006\n",
      "15\n",
      "2023-04-25 09:50:57.543426\n",
      "16\n",
      "2023-04-25 09:50:59.386896\n",
      "17\n",
      "2023-04-25 09:51:01.106189\n",
      "18\n",
      "2023-04-25 09:51:02.882350\n",
      "19\n",
      "2023-04-25 09:51:04.571901\n",
      "20\n",
      "2023-04-25 09:51:07.995852\n",
      "21\n",
      "2023-04-25 09:51:09.733714\n",
      "22\n",
      "2023-04-25 09:51:11.418441\n",
      "23\n",
      "2023-04-25 09:51:13.257726\n",
      "24\n",
      "2023-04-25 09:51:15.013335\n",
      "25\n",
      "2023-04-25 09:51:16.816243\n",
      "26\n",
      "2023-04-25 09:51:18.588371\n",
      "27\n",
      "2023-04-25 09:51:20.299756\n",
      "28\n",
      "2023-04-25 09:51:22.902235\n",
      "29\n",
      "2023-04-25 09:51:24.572693\n",
      "30\n",
      "2023-04-25 09:51:26.282963\n",
      "31\n",
      "2023-04-25 09:51:28.072958\n",
      "32\n",
      "2023-04-25 09:51:29.901976\n",
      "33\n",
      "2023-04-25 09:51:32.230006\n",
      "34\n",
      "2023-04-25 09:51:36.892392\n",
      "35\n",
      "2023-04-25 09:51:38.648620\n",
      "36\n",
      "2023-04-25 09:51:40.290926\n",
      "37\n",
      "2023-04-25 09:51:42.266931\n",
      "38\n",
      "2023-04-25 09:51:44.126571\n",
      "39\n",
      "2023-04-25 09:51:48.555827\n",
      "40\n",
      "2023-04-25 09:51:50.292384\n",
      "41\n",
      "2023-04-25 09:51:51.987108\n",
      "42\n",
      "2023-04-25 09:51:53.740325\n",
      "43\n",
      "2023-04-25 09:51:55.558899\n",
      "44\n",
      "2023-04-25 09:51:57.334652\n",
      "45\n",
      "2023-04-25 09:51:59.534278\n",
      "46\n",
      "2023-04-25 09:52:01.332673\n",
      "47\n",
      "2023-04-25 09:52:03.195964\n",
      "48\n",
      "2023-04-25 09:52:05.273522\n",
      "49\n",
      "2023-04-25 09:52:08.790797\n",
      "50\n",
      "2023-04-25 09:52:13.433626\n",
      "51\n",
      "2023-04-25 09:52:15.172727\n",
      "52\n",
      "2023-04-25 09:52:17.056006\n",
      "53\n",
      "2023-04-25 09:52:18.881373\n",
      "54\n",
      "2023-04-25 09:52:20.653975\n",
      "55\n",
      "2023-04-25 09:52:25.178111\n",
      "56\n",
      "2023-04-25 09:52:26.996556\n",
      "57\n",
      "2023-04-25 09:52:28.887325\n",
      "58\n",
      "2023-04-25 09:52:30.665039\n",
      "59\n",
      "2023-04-25 09:52:32.439909\n",
      "60\n",
      "2023-04-25 09:52:34.299836\n",
      "61\n",
      "2023-04-25 09:52:36.216063\n",
      "62\n",
      "2023-04-25 09:52:37.998745\n",
      "63\n",
      "2023-04-25 09:52:39.868341\n",
      "64\n",
      "2023-04-25 09:52:41.611299\n",
      "65\n",
      "2023-04-25 09:52:43.453799\n",
      "66\n",
      "2023-04-25 09:52:45.324877\n",
      "67\n",
      "2023-04-25 09:52:47.119436\n",
      "68\n",
      "2023-04-25 09:52:48.908763\n",
      "69\n",
      "2023-04-25 09:52:52.610032\n",
      "70\n",
      "2023-04-25 09:52:54.726735\n",
      "71\n",
      "2023-04-25 09:52:56.556323\n",
      "72\n",
      "2023-04-25 09:52:58.463253\n",
      "73\n",
      "2023-04-25 09:53:00.258564\n",
      "74\n",
      "2023-04-25 09:53:02.303546\n",
      "75\n",
      "2023-04-25 09:53:04.134862\n",
      "76\n",
      "2023-04-25 09:53:05.893903\n",
      "77\n",
      "2023-04-25 09:53:07.730470\n",
      "78\n",
      "2023-04-25 09:53:09.619907\n",
      "79\n",
      "2023-04-25 09:53:11.485542\n",
      "80\n",
      "2023-04-25 09:53:13.287067\n",
      "81\n",
      "2023-04-25 09:53:15.091089\n",
      "82\n",
      "2023-04-25 09:53:16.851933\n",
      "83\n",
      "2023-04-25 09:53:18.636476\n",
      "84\n",
      "2023-04-25 09:53:20.834927\n",
      "85\n",
      "2023-04-25 09:53:22.737894\n",
      "86\n",
      "2023-04-25 09:53:24.520618\n",
      "87\n",
      "2023-04-25 09:53:26.313393\n",
      "88\n",
      "2023-04-25 09:53:28.103496\n",
      "89\n",
      "2023-04-25 09:53:30.374025\n",
      "90\n",
      "2023-04-25 09:53:32.209865\n",
      "91\n",
      "2023-04-25 09:53:34.027114\n",
      "92\n",
      "2023-04-25 09:53:35.819530\n",
      "93\n",
      "2023-04-25 09:53:37.630191\n",
      "94\n",
      "2023-04-25 09:53:39.410431\n",
      "95\n",
      "2023-04-25 09:53:44.346911\n",
      "96\n",
      "2023-04-25 09:53:46.137758\n",
      "97\n",
      "2023-04-25 09:53:47.913688\n",
      "98\n",
      "2023-04-25 09:53:49.775849\n",
      "99\n",
      "2023-04-25 09:53:51.712336\n",
      "100\n",
      "2023-04-25 09:53:53.539943\n",
      "101\n",
      "2023-04-25 09:53:55.426834\n",
      "102\n",
      "2023-04-25 09:53:57.234493\n",
      "103\n",
      "2023-04-25 09:53:59.028257\n",
      "104\n",
      "2023-04-25 09:54:03.804199\n",
      "105\n",
      "2023-04-25 09:54:05.871773\n",
      "106\n",
      "2023-04-25 09:54:07.708426\n",
      "107\n",
      "2023-04-25 09:54:09.511786\n",
      "108\n",
      "2023-04-25 09:54:11.432645\n",
      "109\n",
      "2023-04-25 09:54:13.413921\n",
      "110\n",
      "2023-04-25 09:54:15.285258\n",
      "111\n",
      "2023-04-25 09:54:17.224722\n",
      "112\n",
      "2023-04-25 09:54:19.068802\n",
      "113\n",
      "2023-04-25 09:54:20.908782\n",
      "114\n",
      "2023-04-25 09:54:23.038457\n",
      "115\n",
      "2023-04-25 09:54:28.758231\n",
      "116\n",
      "2023-04-25 09:54:30.650560\n",
      "117\n",
      "2023-04-25 09:54:35.269974\n",
      "118\n",
      "2023-04-25 09:54:37.195252\n",
      "119\n",
      "2023-04-25 09:54:39.129591\n",
      "120\n",
      "2023-04-25 09:54:42.291595\n",
      "121\n",
      "2023-04-25 09:54:44.218455\n",
      "122\n",
      "2023-04-25 09:54:46.092145\n",
      "123\n",
      "2023-04-25 09:54:48.444815\n",
      "124\n",
      "2023-04-25 09:54:50.270386\n",
      "125\n",
      "2023-04-25 09:54:52.050646\n",
      "126\n",
      "2023-04-25 09:54:53.849346\n",
      "127\n",
      "2023-04-25 09:54:55.736531\n",
      "128\n",
      "2023-04-25 09:54:57.654175\n",
      "129\n",
      "2023-04-25 09:54:59.481976\n",
      "130\n",
      "2023-04-25 09:55:01.295660\n",
      "131\n",
      "2023-04-25 09:55:03.096206\n",
      "132\n",
      "2023-04-25 09:55:04.927689\n",
      "133\n",
      "2023-04-25 09:55:06.850651\n",
      "134\n",
      "2023-04-25 09:55:08.697572\n",
      "135\n",
      "2023-04-25 09:55:10.502016\n",
      "136\n",
      "2023-04-25 09:55:12.291965\n",
      "137\n",
      "2023-04-25 09:55:14.092695\n",
      "138\n",
      "2023-04-25 09:55:16.303354\n",
      "139\n",
      "2023-04-25 09:55:18.423508\n",
      "140\n",
      "2023-04-25 09:55:21.835993\n",
      "141\n",
      "2023-04-25 09:55:23.655179\n",
      "142\n",
      "2023-04-25 09:55:25.558651\n",
      "143\n",
      "2023-04-25 09:55:40.810279\n",
      "144\n",
      "2023-04-25 09:55:42.640402\n",
      "145\n",
      "2023-04-25 09:55:44.569408\n",
      "146\n",
      "2023-04-25 09:55:46.552463\n",
      "147\n",
      "2023-04-25 09:55:48.456089\n",
      "148\n",
      "2023-04-25 09:55:50.362097\n",
      "149\n"
     ]
    }
   ],
   "source": [
    "np.random.seed(12345)\n",
    "perturbed_inputs_discr = generate_perturbed_inputs_discr(150)"
   ],
   "metadata": {
    "collapsed": false,
    "pycharm": {
     "name": "#%%\n"
    }
   }
  },
  {
   "cell_type": "code",
   "execution_count": 14,
   "outputs": [],
   "source": [
    "perturbed_inputs_array_discr = np.array([x for x in perturbed_inputs_discr.perturbed_x])\n",
    "perturbed_inputs_array_cont = np.array([x for x in perturbed_inputs_cont.perturbed_x])"
   ],
   "metadata": {
    "collapsed": false,
    "pycharm": {
     "name": "#%%\n"
    }
   }
  },
  {
   "cell_type": "code",
   "execution_count": 15,
   "outputs": [],
   "source": [
    "z = np.empty((perturbed_inputs_discr.shape[0], len(use_z_values)), dtype=np.dtype('U25'))\n",
    "\n",
    "z[:,:] = np.nan\n",
    "\n",
    "for i in range(len(use_z_values)):\n",
    "    z[not_nan[perturbed_inputs_discr[\"i\"],i], i] = clf[i].predict(dev_prepared[perturbed_inputs_discr.i][not_nan[perturbed_inputs_discr[\"i\"],i],:][:, cols[i]])\n",
    "\n",
    "y_hat_pred_original = predict_y_from_z(z)"
   ],
   "metadata": {
    "collapsed": false,
    "pycharm": {
     "name": "#%%\n"
    }
   }
  },
  {
   "cell_type": "code",
   "execution_count": 16,
   "outputs": [],
   "source": [
    "z = np.empty((perturbed_inputs_discr.shape[0], len(use_z_values)), dtype=np.dtype('U25'))\n",
    "\n",
    "z[:,:] = np.nan\n",
    "\n",
    "for i in range(len(use_z_values)):\n",
    "    z[not_nan[perturbed_inputs_discr[\"i\"],i], i] = clf[i].predict(perturbed_inputs_array_discr[not_nan[perturbed_inputs_discr[\"i\"],i],:][:, cols[i]])\n",
    "\n",
    "y_hat_pred_discr = predict_y_from_z(z)"
   ],
   "metadata": {
    "collapsed": false,
    "pycharm": {
     "name": "#%%\n"
    }
   }
  },
  {
   "cell_type": "code",
   "execution_count": 17,
   "outputs": [],
   "source": [
    "z[:,:] = np.nan\n",
    "\n",
    "for i in range(len(use_z_values)):\n",
    "    z[not_nan[perturbed_inputs_cont[\"i\"],i], i] = clf[i].predict(perturbed_inputs_array_cont[not_nan[perturbed_inputs_cont[\"i\"],i],:][:, cols[i]])\n",
    "\n",
    "y_hat_pred_cont = predict_y_from_z(z)"
   ],
   "metadata": {
    "collapsed": false,
    "pycharm": {
     "name": "#%%\n"
    }
   }
  },
  {
   "cell_type": "code",
   "execution_count": 18,
   "outputs": [
    {
     "data": {
      "text/plain": "0.5266666666666666"
     },
     "execution_count": 18,
     "metadata": {},
     "output_type": "execute_result"
    }
   ],
   "source": [
    "np.mean(y_hat_pred_discr == y_hat_pred_original)"
   ],
   "metadata": {
    "collapsed": false,
    "pycharm": {
     "name": "#%%\n"
    }
   }
  },
  {
   "cell_type": "code",
   "execution_count": 19,
   "outputs": [
    {
     "data": {
      "text/plain": "0.6866666666666666"
     },
     "execution_count": 19,
     "metadata": {},
     "output_type": "execute_result"
    }
   ],
   "source": [
    "np.mean(y_hat_pred_cont == y_hat_pred_original)"
   ],
   "metadata": {
    "collapsed": false,
    "pycharm": {
     "name": "#%%\n"
    }
   }
  },
  {
   "cell_type": "code",
   "execution_count": 20,
   "outputs": [
    {
     "data": {
      "text/plain": "        i               pairID  \\\n0     482  3037060954.jpg#0r1e   \n1     547  2169709244.jpg#1r1c   \n2    2704  2320420111.jpg#1r1n   \n3     884  2881441125.jpg#3r1c   \n4    2314  3859014834.jpg#0r1n   \n..    ...                  ...   \n145  1565   468688517.jpg#1r1n   \n146  2029  5806030158.jpg#3r1c   \n147   641  2855910826.jpg#0r1c   \n148   404  3167168073.jpg#1r1c   \n149  2465  2689001252.jpg#3r1e   \n\n                                             Sentence1  \\\n0    A couple is a standing together the woman is a...   \n1    A little girl in a blue dress is sitting on a ...   \n2    A man in a bicycle is passing through a house ...   \n3    Two small children are gathering water from a ...   \n4    Several people with parachutes are overlooking...   \n..                                                 ...   \n145  A man in a brightly colored vest performs on s...   \n146               Children are playing a game outside.   \n147  A football player in a blue and yellow uniform...   \n148  A man in a blue robe walking a herd of camels ...   \n149  Three children in swimsuites are having fun ou...   \n\n                                             Sentence2 x2_star_string  \\\n0                       People are going to a wedding.         crying   \n1                       The girl is riding on a truck.        griding   \n2                             A man is biking to work.        gliding   \n3         Two kids are collecting water from a stream.   reallocating   \n4             Paragliders survey their flight options.         Survey   \n..                                                 ...            ...   \n145                      The singer is at the concert.            Was   \n146                            Children are not a game      Childrens   \n147  The football player is drinking water on the b...    groundwater   \n148               A man just smuggle a herd of camels.      kidnaping   \n149          Three kids playing outside by a building.         playin   \n\n                                   perturbed_sentence2  \\\n0                      People are crying to a wedding.   \n1                      The girl is griding on a truck.   \n2                            A man is gliding to work.   \n3       Two kids are reallocating water from a stream.   \n4             Paragliders Survey their flight options.   \n..                                                 ...   \n145                     The singer Was at the concert.   \n146                           Childrens are not a game   \n147  The football player is drinking groundwater on...   \n148             A man just kidnaping a herd of camels.   \n149           Three kids playin outside by a building.   \n\n                                              epsilons  \\\n0    [[-1.4193000476837159, -2.944400040435791, -6....   \n1    [[-0.4973999744415283, 1.2526050006836653, -1....   \n2    [[-0.9467999955177306, -1.3172199746131896, -4...   \n3    [[1.4034999839782714, 2.7470100156784056, 1.48...   \n4    [[-1.3825599917984008, -3.7612598905181884, 4....   \n..                                                 ...   \n145  [[-4.505699968338012, -1.5487430006265641, -1....   \n146  [[-0.41727997509002684, -0.5193600222206116, -...   \n147  [[0.14056997203826904, -0.26873999631404877, -...   \n148  [[2.9030999542236327, 5.686899960136413, 0.944...   \n149  [[0.44007005683898925, 1.4544700621795654, -0....   \n\n                                           perturbed_x  \n0    [-11.4831, 7.1157002, -12.8034, 5.9567, 13.625...  \n1    [4.5049, 6.245, -7.6763, -10.4062, -4.9654, -2...  \n2    [-1.2867, -0.7992, -2.092, -0.77679, -2.5057, ...  \n3    [-10.267729, -2.4905999, -5.9831, 5.208599, 8....  \n4    [-15.422, -0.6748997, -8.120831, 6.93622, 15.3...  \n..                                                 ...  \n145  [-1.2867, -0.7992, -2.092, -0.77679, -2.5057, ...  \n146  [-0.12984, 0.2113, -3.1924, -1.1077, 1.3806, -...  \n147  [-3.3224, 6.8543997, 2.17405, 3.6950998, 10.00...  \n148  [-1.2867, -0.7992, -2.092, -0.77679, -2.5057, ...  \n149  [-7.86419, -1.6071, -6.3303995, 0.5399997, 7.0...  \n\n[150 rows x 8 columns]",
      "text/html": "<div>\n<style scoped>\n    .dataframe tbody tr th:only-of-type {\n        vertical-align: middle;\n    }\n\n    .dataframe tbody tr th {\n        vertical-align: top;\n    }\n\n    .dataframe thead th {\n        text-align: right;\n    }\n</style>\n<table border=\"1\" class=\"dataframe\">\n  <thead>\n    <tr style=\"text-align: right;\">\n      <th></th>\n      <th>i</th>\n      <th>pairID</th>\n      <th>Sentence1</th>\n      <th>Sentence2</th>\n      <th>x2_star_string</th>\n      <th>perturbed_sentence2</th>\n      <th>epsilons</th>\n      <th>perturbed_x</th>\n    </tr>\n  </thead>\n  <tbody>\n    <tr>\n      <th>0</th>\n      <td>482</td>\n      <td>3037060954.jpg#0r1e</td>\n      <td>A couple is a standing together the woman is a...</td>\n      <td>People are going to a wedding.</td>\n      <td>crying</td>\n      <td>People are crying to a wedding.</td>\n      <td>[[-1.4193000476837159, -2.944400040435791, -6....</td>\n      <td>[-11.4831, 7.1157002, -12.8034, 5.9567, 13.625...</td>\n    </tr>\n    <tr>\n      <th>1</th>\n      <td>547</td>\n      <td>2169709244.jpg#1r1c</td>\n      <td>A little girl in a blue dress is sitting on a ...</td>\n      <td>The girl is riding on a truck.</td>\n      <td>griding</td>\n      <td>The girl is griding on a truck.</td>\n      <td>[[-0.4973999744415283, 1.2526050006836653, -1....</td>\n      <td>[4.5049, 6.245, -7.6763, -10.4062, -4.9654, -2...</td>\n    </tr>\n    <tr>\n      <th>2</th>\n      <td>2704</td>\n      <td>2320420111.jpg#1r1n</td>\n      <td>A man in a bicycle is passing through a house ...</td>\n      <td>A man is biking to work.</td>\n      <td>gliding</td>\n      <td>A man is gliding to work.</td>\n      <td>[[-0.9467999955177306, -1.3172199746131896, -4...</td>\n      <td>[-1.2867, -0.7992, -2.092, -0.77679, -2.5057, ...</td>\n    </tr>\n    <tr>\n      <th>3</th>\n      <td>884</td>\n      <td>2881441125.jpg#3r1c</td>\n      <td>Two small children are gathering water from a ...</td>\n      <td>Two kids are collecting water from a stream.</td>\n      <td>reallocating</td>\n      <td>Two kids are reallocating water from a stream.</td>\n      <td>[[1.4034999839782714, 2.7470100156784056, 1.48...</td>\n      <td>[-10.267729, -2.4905999, -5.9831, 5.208599, 8....</td>\n    </tr>\n    <tr>\n      <th>4</th>\n      <td>2314</td>\n      <td>3859014834.jpg#0r1n</td>\n      <td>Several people with parachutes are overlooking...</td>\n      <td>Paragliders survey their flight options.</td>\n      <td>Survey</td>\n      <td>Paragliders Survey their flight options.</td>\n      <td>[[-1.3825599917984008, -3.7612598905181884, 4....</td>\n      <td>[-15.422, -0.6748997, -8.120831, 6.93622, 15.3...</td>\n    </tr>\n    <tr>\n      <th>...</th>\n      <td>...</td>\n      <td>...</td>\n      <td>...</td>\n      <td>...</td>\n      <td>...</td>\n      <td>...</td>\n      <td>...</td>\n      <td>...</td>\n    </tr>\n    <tr>\n      <th>145</th>\n      <td>1565</td>\n      <td>468688517.jpg#1r1n</td>\n      <td>A man in a brightly colored vest performs on s...</td>\n      <td>The singer is at the concert.</td>\n      <td>Was</td>\n      <td>The singer Was at the concert.</td>\n      <td>[[-4.505699968338012, -1.5487430006265641, -1....</td>\n      <td>[-1.2867, -0.7992, -2.092, -0.77679, -2.5057, ...</td>\n    </tr>\n    <tr>\n      <th>146</th>\n      <td>2029</td>\n      <td>5806030158.jpg#3r1c</td>\n      <td>Children are playing a game outside.</td>\n      <td>Children are not a game</td>\n      <td>Childrens</td>\n      <td>Childrens are not a game</td>\n      <td>[[-0.41727997509002684, -0.5193600222206116, -...</td>\n      <td>[-0.12984, 0.2113, -3.1924, -1.1077, 1.3806, -...</td>\n    </tr>\n    <tr>\n      <th>147</th>\n      <td>641</td>\n      <td>2855910826.jpg#0r1c</td>\n      <td>A football player in a blue and yellow uniform...</td>\n      <td>The football player is drinking water on the b...</td>\n      <td>groundwater</td>\n      <td>The football player is drinking groundwater on...</td>\n      <td>[[0.14056997203826904, -0.26873999631404877, -...</td>\n      <td>[-3.3224, 6.8543997, 2.17405, 3.6950998, 10.00...</td>\n    </tr>\n    <tr>\n      <th>148</th>\n      <td>404</td>\n      <td>3167168073.jpg#1r1c</td>\n      <td>A man in a blue robe walking a herd of camels ...</td>\n      <td>A man just smuggle a herd of camels.</td>\n      <td>kidnaping</td>\n      <td>A man just kidnaping a herd of camels.</td>\n      <td>[[2.9030999542236327, 5.686899960136413, 0.944...</td>\n      <td>[-1.2867, -0.7992, -2.092, -0.77679, -2.5057, ...</td>\n    </tr>\n    <tr>\n      <th>149</th>\n      <td>2465</td>\n      <td>2689001252.jpg#3r1e</td>\n      <td>Three children in swimsuites are having fun ou...</td>\n      <td>Three kids playing outside by a building.</td>\n      <td>playin</td>\n      <td>Three kids playin outside by a building.</td>\n      <td>[[0.44007005683898925, 1.4544700621795654, -0....</td>\n      <td>[-7.86419, -1.6071, -6.3303995, 0.5399997, 7.0...</td>\n    </tr>\n  </tbody>\n</table>\n<p>150 rows × 8 columns</p>\n</div>"
     },
     "execution_count": 20,
     "metadata": {},
     "output_type": "execute_result"
    }
   ],
   "source": [
    "perturbed_inputs_discr"
   ],
   "metadata": {
    "collapsed": false,
    "pycharm": {
     "name": "#%%\n"
    }
   }
  },
  {
   "cell_type": "code",
   "execution_count": 21,
   "outputs": [
    {
     "data": {
      "text/plain": "        i               pairID  \\\n0     482  3037060954.jpg#0r1e   \n1     547  2169709244.jpg#1r1c   \n2    2704  2320420111.jpg#1r1n   \n3     884  2881441125.jpg#3r1c   \n4    2314  3859014834.jpg#0r1n   \n..    ...                  ...   \n145  1565   468688517.jpg#1r1n   \n146  2029  5806030158.jpg#3r1c   \n147   641  2855910826.jpg#0r1c   \n148   404  3167168073.jpg#1r1c   \n149  2465  2689001252.jpg#3r1e   \n\n                                             Sentence1  \\\n0    A couple is a standing together the woman is a...   \n1    A little girl in a blue dress is sitting on a ...   \n2    A man in a bicycle is passing through a house ...   \n3    Two small children are gathering water from a ...   \n4    Several people with parachutes are overlooking...   \n..                                                 ...   \n145  A man in a brightly colored vest performs on s...   \n146               Children are playing a game outside.   \n147  A football player in a blue and yellow uniform...   \n148  A man in a blue robe walking a herd of camels ...   \n149  Three children in swimsuites are having fun ou...   \n\n                                             Sentence2 x2_star_string  \\\n0                       People are going to a wedding.          going   \n1                       The girl is riding on a truck.         riding   \n2                             A man is biking to work.         biking   \n3         Two kids are collecting water from a stream.     collecting   \n4             Paragliders survey their flight options.         survey   \n..                                                 ...            ...   \n145                      The singer is at the concert.             is   \n146                            Children are not a game       Children   \n147  The football player is drinking water on the b...          water   \n148               A man just smuggle a herd of camels.        smuggle   \n149          Three kids playing outside by a building.        playing   \n\n                                   perturbed_sentence2  \\\n0                       People are going to a wedding.   \n1                       The girl is riding on a truck.   \n2                             A man is biking to work.   \n3         Two kids are collecting water from a stream.   \n4             Paragliders survey their flight options.   \n..                                                 ...   \n145                      The singer is at the concert.   \n146                            Children are not a game   \n147  The football player is drinking water on the b...   \n148               A man just smuggle a herd of camels.   \n149          Three kids playing outside by a building.   \n\n                                              epsilons  \\\n0    [[-0.3598499551859904], [-0.05925772112492034]...   \n1    [[0.015719028233404764], [-0.02779284053834163...   \n2    [[-0.5273899911587951], [0.04608260788717358],...   \n3    [[0.13855687178334808], [0.24085338364798137],...   \n4    [[0.6060190406680043], [0.1822634969993011], [...   \n..                                                 ...   \n145  [[1.3397752498563107], [1.506416084146296], [-...   \n146  [[-0.0570142794113766], [0.06489870345457899],...   \n147  [[0.00752735811690447], [0.003784208204943962]...   \n148  [[0.4532723982181177], [0.0324076792813765], [...   \n149  [[0.006836528450348878], [0.05697518770413368]...   \n\n                                           perturbed_x  \n0    [-11.4831, 7.1157002, -12.8034, 5.9567, 13.625...  \n1    [4.5049, 6.245, -7.6763, -10.4062, -4.9654, -2...  \n2    [-1.2867, -0.7992, -2.092, -0.77679, -2.5057, ...  \n3    [-10.267729, -2.4905999, -5.9831, 5.208599, 8....  \n4    [-15.422, -0.6748997, -8.120831, 6.93622, 15.3...  \n..                                                 ...  \n145  [-1.2867, -0.7992, -2.092, -0.77679, -2.5057, ...  \n146  [-0.12984, 0.2113, -3.1924, -1.1077, 1.3806, -...  \n147  [-3.3224, 6.8543997, 2.17405, 3.6950998, 10.00...  \n148  [-1.2867, -0.7992, -2.092, -0.77679, -2.5057, ...  \n149  [-7.86419, -1.6071, -6.3303995, 0.5399997, 7.0...  \n\n[150 rows x 8 columns]",
      "text/html": "<div>\n<style scoped>\n    .dataframe tbody tr th:only-of-type {\n        vertical-align: middle;\n    }\n\n    .dataframe tbody tr th {\n        vertical-align: top;\n    }\n\n    .dataframe thead th {\n        text-align: right;\n    }\n</style>\n<table border=\"1\" class=\"dataframe\">\n  <thead>\n    <tr style=\"text-align: right;\">\n      <th></th>\n      <th>i</th>\n      <th>pairID</th>\n      <th>Sentence1</th>\n      <th>Sentence2</th>\n      <th>x2_star_string</th>\n      <th>perturbed_sentence2</th>\n      <th>epsilons</th>\n      <th>perturbed_x</th>\n    </tr>\n  </thead>\n  <tbody>\n    <tr>\n      <th>0</th>\n      <td>482</td>\n      <td>3037060954.jpg#0r1e</td>\n      <td>A couple is a standing together the woman is a...</td>\n      <td>People are going to a wedding.</td>\n      <td>going</td>\n      <td>People are going to a wedding.</td>\n      <td>[[-0.3598499551859904], [-0.05925772112492034]...</td>\n      <td>[-11.4831, 7.1157002, -12.8034, 5.9567, 13.625...</td>\n    </tr>\n    <tr>\n      <th>1</th>\n      <td>547</td>\n      <td>2169709244.jpg#1r1c</td>\n      <td>A little girl in a blue dress is sitting on a ...</td>\n      <td>The girl is riding on a truck.</td>\n      <td>riding</td>\n      <td>The girl is riding on a truck.</td>\n      <td>[[0.015719028233404764], [-0.02779284053834163...</td>\n      <td>[4.5049, 6.245, -7.6763, -10.4062, -4.9654, -2...</td>\n    </tr>\n    <tr>\n      <th>2</th>\n      <td>2704</td>\n      <td>2320420111.jpg#1r1n</td>\n      <td>A man in a bicycle is passing through a house ...</td>\n      <td>A man is biking to work.</td>\n      <td>biking</td>\n      <td>A man is biking to work.</td>\n      <td>[[-0.5273899911587951], [0.04608260788717358],...</td>\n      <td>[-1.2867, -0.7992, -2.092, -0.77679, -2.5057, ...</td>\n    </tr>\n    <tr>\n      <th>3</th>\n      <td>884</td>\n      <td>2881441125.jpg#3r1c</td>\n      <td>Two small children are gathering water from a ...</td>\n      <td>Two kids are collecting water from a stream.</td>\n      <td>collecting</td>\n      <td>Two kids are collecting water from a stream.</td>\n      <td>[[0.13855687178334808], [0.24085338364798137],...</td>\n      <td>[-10.267729, -2.4905999, -5.9831, 5.208599, 8....</td>\n    </tr>\n    <tr>\n      <th>4</th>\n      <td>2314</td>\n      <td>3859014834.jpg#0r1n</td>\n      <td>Several people with parachutes are overlooking...</td>\n      <td>Paragliders survey their flight options.</td>\n      <td>survey</td>\n      <td>Paragliders survey their flight options.</td>\n      <td>[[0.6060190406680043], [0.1822634969993011], [...</td>\n      <td>[-15.422, -0.6748997, -8.120831, 6.93622, 15.3...</td>\n    </tr>\n    <tr>\n      <th>...</th>\n      <td>...</td>\n      <td>...</td>\n      <td>...</td>\n      <td>...</td>\n      <td>...</td>\n      <td>...</td>\n      <td>...</td>\n      <td>...</td>\n    </tr>\n    <tr>\n      <th>145</th>\n      <td>1565</td>\n      <td>468688517.jpg#1r1n</td>\n      <td>A man in a brightly colored vest performs on s...</td>\n      <td>The singer is at the concert.</td>\n      <td>is</td>\n      <td>The singer is at the concert.</td>\n      <td>[[1.3397752498563107], [1.506416084146296], [-...</td>\n      <td>[-1.2867, -0.7992, -2.092, -0.77679, -2.5057, ...</td>\n    </tr>\n    <tr>\n      <th>146</th>\n      <td>2029</td>\n      <td>5806030158.jpg#3r1c</td>\n      <td>Children are playing a game outside.</td>\n      <td>Children are not a game</td>\n      <td>Children</td>\n      <td>Children are not a game</td>\n      <td>[[-0.0570142794113766], [0.06489870345457899],...</td>\n      <td>[-0.12984, 0.2113, -3.1924, -1.1077, 1.3806, -...</td>\n    </tr>\n    <tr>\n      <th>147</th>\n      <td>641</td>\n      <td>2855910826.jpg#0r1c</td>\n      <td>A football player in a blue and yellow uniform...</td>\n      <td>The football player is drinking water on the b...</td>\n      <td>water</td>\n      <td>The football player is drinking water on the b...</td>\n      <td>[[0.00752735811690447], [0.003784208204943962]...</td>\n      <td>[-3.3224, 6.8543997, 2.17405, 3.6950998, 10.00...</td>\n    </tr>\n    <tr>\n      <th>148</th>\n      <td>404</td>\n      <td>3167168073.jpg#1r1c</td>\n      <td>A man in a blue robe walking a herd of camels ...</td>\n      <td>A man just smuggle a herd of camels.</td>\n      <td>smuggle</td>\n      <td>A man just smuggle a herd of camels.</td>\n      <td>[[0.4532723982181177], [0.0324076792813765], [...</td>\n      <td>[-1.2867, -0.7992, -2.092, -0.77679, -2.5057, ...</td>\n    </tr>\n    <tr>\n      <th>149</th>\n      <td>2465</td>\n      <td>2689001252.jpg#3r1e</td>\n      <td>Three children in swimsuites are having fun ou...</td>\n      <td>Three kids playing outside by a building.</td>\n      <td>playing</td>\n      <td>Three kids playing outside by a building.</td>\n      <td>[[0.006836528450348878], [0.05697518770413368]...</td>\n      <td>[-7.86419, -1.6071, -6.3303995, 0.5399997, 7.0...</td>\n    </tr>\n  </tbody>\n</table>\n<p>150 rows × 8 columns</p>\n</div>"
     },
     "execution_count": 21,
     "metadata": {},
     "output_type": "execute_result"
    }
   ],
   "source": [
    "perturbed_inputs_cont"
   ],
   "metadata": {
    "collapsed": false,
    "pycharm": {
     "name": "#%%\n"
    }
   }
  },
  {
   "cell_type": "code",
   "execution_count": 22,
   "outputs": [],
   "source": [
    "def create_query(s1, s2):\n",
    "    return ('Premise: ' + s1 +\n",
    "            '\\nHypothesis: ' + s2 +\n",
    "            '\\nLabel: ')"
   ],
   "metadata": {
    "collapsed": false,
    "pycharm": {
     "name": "#%%\n"
    }
   }
  },
  {
   "cell_type": "code",
   "execution_count": 23,
   "outputs": [],
   "source": [
    "def single_row_to_string(row):\n",
    "    s1 = row.Sentence1\n",
    "    s2 = row.Sentence2\n",
    "    expl = row.Explanation_1\n",
    "    label= row.gold_label\n",
    "    label_map = {\"entailment\": \"Yes\",\n",
    "                 \"neutral\": \"Maybe\",\n",
    "                 \"contradiction\": \"No\"}\n",
    "    return ('Premise: ' + s1 +\n",
    "            '\\nHypothesis: ' + s2 +\n",
    "            '\\nLabel: ' + label +\n",
    "            '\\nExplanation: ' + expl + '\\n###\\n')"
   ],
   "metadata": {
    "collapsed": false,
    "pycharm": {
     "name": "#%%\n"
    }
   }
  },
  {
   "cell_type": "code",
   "execution_count": 24,
   "outputs": [],
   "source": [
    "def prepare_examples(data, size_per_class=4):\n",
    "    example_indices = list()\n",
    "    for cat in ['neutral', 'contradiction', 'entailment']:\n",
    "        example_indices += list(np.random.choice(data[data.gold_label == cat].index.values, size=size_per_class, replace=False))\n",
    "        random.shuffle(example_indices)\n",
    "    data = data.loc[example_indices]\n",
    "    res = list()\n",
    "    for row in data.itertuples():\n",
    "        res += [single_row_to_string(row)]\n",
    "    return 'Classify into entailment, neutral, or contradiction and justify the decision.\\n\\n' + ''.join(res)"
   ],
   "metadata": {
    "collapsed": false,
    "pycharm": {
     "name": "#%%\n"
    }
   }
  },
  {
   "cell_type": "code",
   "execution_count": 25,
   "outputs": [],
   "source": [
    "labels_discr = list()\n",
    "explanations_discr = list()\n",
    "openai.api_key = os.getenv(\"OPENAI_API_KEY\")\n",
    "openai.organization = \"org-zHIEQdY05F58L0NE73T46O4K\"\n",
    "\n",
    "for i in range(perturbed_inputs_discr.shape[0]):\n",
    "    prompt = prepare_examples(train, size_per_class=2) + create_query(perturbed_inputs_discr.iloc[i].Sentence1, perturbed_inputs_discr.iloc[i].perturbed_sentence2)\n",
    "    response = openai.Completion.create(\n",
    "        engine='text-davinci-003',\n",
    "        prompt = prompt,\n",
    "        temperature=0,\n",
    "        max_tokens=58,\n",
    "        top_p=1,\n",
    "        )\n",
    "    labels_discr += [response.choices[0].text.split(\"\\nExplanation: \")[0].strip(),]\n",
    "    explanations_discr += [response.choices[0].text.split(\"\\nExplanation: \")[1], ]"
   ],
   "metadata": {
    "collapsed": false,
    "pycharm": {
     "name": "#%%\n"
    }
   }
  },
  {
   "cell_type": "code",
   "execution_count": 26,
   "outputs": [],
   "source": [
    "labels_cont = list()\n",
    "explanations_cont = list()\n",
    "openai.api_key = os.getenv(\"OPENAI_API_KEY\")\n",
    "openai.organization = \"org-zHIEQdY05F58L0NE73T46O4K\"\n",
    "\n",
    "for i in range(perturbed_inputs_cont.shape[0]):\n",
    "    prompt = prepare_examples(train, size_per_class=2) + create_query(perturbed_inputs_cont.iloc[i].Sentence1, perturbed_inputs_cont.iloc[i].perturbed_sentence2)\n",
    "    response = openai.Completion.create(\n",
    "        engine='text-davinci-003',\n",
    "        prompt = prompt,\n",
    "        temperature=0,\n",
    "        max_tokens=58,\n",
    "        top_p=1,\n",
    "    )\n",
    "    labels_cont += [response.choices[0].text.split(\"\\nExplanation: \")[0].strip(),]\n",
    "    explanations_cont += [response.choices[0].text.split(\"\\nExplanation: \")[1], ]"
   ],
   "metadata": {
    "collapsed": false,
    "pycharm": {
     "name": "#%%\n"
    }
   }
  },
  {
   "cell_type": "code",
   "execution_count": 28,
   "outputs": [
    {
     "name": "stdout",
     "output_type": "stream",
     "text": [
      "Change in overall predicted label: 0.47333333333333333\n",
      "Portion of same predictions between GPT-3 and SSM: 0.4\n",
      "Portion of same predictions between GPT-3 and SSM when prediction did not change: 0.5316455696202531\n",
      "Portion of same predictions between GPT-3 and SSM when prediction changed: 0.2535211267605634\n"
     ]
    }
   ],
   "source": [
    "labels_discr = np.array(labels_discr)\n",
    "print(f\"Change in overall predicted label: {np.mean(y_hat_pred_discr != y_hat_pred_original)}\")\n",
    "print(f\"Portion of same predictions between GPT-3 and SSM: {np.mean(y_hat_pred_discr == labels_discr)}\")\n",
    "print(f\"Portion of same predictions between GPT-3 and SSM when prediction did not change: {np.mean(y_hat_pred_discr[np.where(y_hat_pred_discr == y_hat_pred_original)] == labels_discr[np.where(y_hat_pred_discr == y_hat_pred_original)])}\")\n",
    "print(f\"Portion of same predictions between GPT-3 and SSM when prediction changed: {np.mean(y_hat_pred_discr[np.where(y_hat_pred_discr != y_hat_pred_original)] == labels_discr[np.where(y_hat_pred_discr != y_hat_pred_original)])}\")"
   ],
   "metadata": {
    "collapsed": false,
    "pycharm": {
     "name": "#%%\n"
    }
   }
  },
  {
   "cell_type": "code",
   "execution_count": 29,
   "outputs": [
    {
     "name": "stdout",
     "output_type": "stream",
     "text": [
      "Change in overall predicted label: 0.31333333333333335\n",
      "Portion of same predictions between GPT-3 and SSM: 0.44\n",
      "Portion of same predictions between GPT-3 and SSM when prediction did not change: 0.5728155339805825\n",
      "Portion of same predictions between GPT-3 and SSM when prediction changed: 0.14893617021276595\n"
     ]
    }
   ],
   "source": [
    "labels_cont = np.array(labels_cont)\n",
    "print(f\"Change in overall predicted label: {np.mean(y_hat_pred_cont != y_hat_pred_original)}\")\n",
    "print(f\"Portion of same predictions between GPT-3 and SSM: {np.mean(y_hat_pred_cont == labels_cont)}\")\n",
    "print(f\"Portion of same predictions between GPT-3 and SSM when prediction did not change: {np.mean(y_hat_pred_cont[np.where(y_hat_pred_cont == y_hat_pred_original)] == labels_cont[np.where(y_hat_pred_cont == y_hat_pred_original)])}\")\n",
    "print(f\"Portion of same predictions between GPT-3 and SSM when prediction changed: {np.mean(y_hat_pred_cont[np.where(y_hat_pred_cont != y_hat_pred_original)] == labels_cont[np.where(y_hat_pred_cont != y_hat_pred_original)])}\")"
   ],
   "metadata": {
    "collapsed": false,
    "pycharm": {
     "name": "#%%\n"
    }
   }
  },
  {
   "cell_type": "code",
   "execution_count": null,
   "outputs": [],
   "source": [],
   "metadata": {
    "collapsed": false,
    "pycharm": {
     "name": "#%%\n"
    }
   }
  }
 ],
 "metadata": {
  "kernelspec": {
   "display_name": "Python 3",
   "language": "python",
   "name": "python3"
  },
  "language_info": {
   "codemirror_mode": {
    "name": "ipython",
    "version": 2
   },
   "file_extension": ".py",
   "mimetype": "text/x-python",
   "name": "python",
   "nbconvert_exporter": "python",
   "pygments_lexer": "ipython2",
   "version": "2.7.6"
  }
 },
 "nbformat": 4,
 "nbformat_minor": 0
}